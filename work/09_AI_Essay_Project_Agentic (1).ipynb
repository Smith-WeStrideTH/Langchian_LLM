{
  "cells": [
    {
      "cell_type": "code",
      "source": [
        "!pip install aiosqlite\n"
      ],
      "metadata": {
        "colab": {
          "base_uri": "https://localhost:8080/"
        },
        "id": "I058h6Sbt0PS",
        "outputId": "25269bd4-e608-487a-e2d8-d610e122c72a"
      },
      "id": "I058h6Sbt0PS",
      "execution_count": 99,
      "outputs": [
        {
          "output_type": "stream",
          "name": "stdout",
          "text": [
            "Requirement already satisfied: aiosqlite in c:\\users\\smith\\anaconda3\\envs\\langenv\\lib\\site-packages (0.20.0)\n",
            "Requirement already satisfied: typing_extensions>=4.0 in c:\\users\\smith\\anaconda3\\envs\\langenv\\lib\\site-packages (from aiosqlite) (4.12.2)\n"
          ]
        },
        {
          "output_type": "stream",
          "name": "stderr",
          "text": [
            "WARNING: Ignoring invalid distribution ~otebook (C:\\Users\\Smith\\anaconda3\\envs\\langenv\\Lib\\site-packages)\n",
            "WARNING: Ignoring invalid distribution ~otebook (C:\\Users\\Smith\\anaconda3\\envs\\langenv\\Lib\\site-packages)\n",
            "WARNING: Ignoring invalid distribution ~otebook (C:\\Users\\Smith\\anaconda3\\envs\\langenv\\Lib\\site-packages)\n"
          ]
        }
      ]
    },
    {
      "cell_type": "code",
      "source": [
        "import warnings\n",
        "from pprint import pprint\n",
        "warnings.filterwarnings('ignore')\n",
        ""
      ],
      "metadata": {
        "id": "zpt9i4inprQo"
      },
      "id": "zpt9i4inprQo",
      "execution_count": 1,
      "outputs": []
    },
    {
      "cell_type": "code",
      "source": [
        "import os\n",
        "from dotenv import load_dotenv\n",
        "\n",
        "# Load environment variables from .env file\n",
        "load_dotenv('./credential/cred.env')\n",
        "\n",
        "# Get the API key from the environment variables\n",
        "api_key = os.environ.get(\"API_KEY\")\n",
        "\n",
        "# Check if the API key was found\n",
        "if api_key:\n",
        "  print(\"API Key loaded successfully.\")\n",
        "else:\n",
        "  print(\"API Key not found in the environment variables.\")\n",
        "os.environ[\"OPENAI_API_KEY\"] = api_key"
      ],
      "metadata": {
        "colab": {
          "base_uri": "https://localhost:8080/"
        },
        "id": "_N8U52iYpv5i",
        "outputId": "05a16d48-570a-4b50-dbcf-8e3469ab8ebe"
      },
      "id": "_N8U52iYpv5i",
      "execution_count": 2,
      "outputs": [
        {
          "output_type": "stream",
          "name": "stdout",
          "text": [
            "API Key loaded successfully.\n"
          ]
        }
      ]
    },
    {
      "cell_type": "markdown",
      "id": "9690ac72-5d95-4cbf-875a-ae0e835593c9",
      "metadata": {
        "id": "9690ac72-5d95-4cbf-875a-ae0e835593c9"
      },
      "source": [
        "# Lesson 1: Simple ReAct Agent from Scratch"
      ]
    },
    {
      "cell_type": "code",
      "execution_count": 3,
      "id": "83588e70-254f-4f83-a510-c8ae81e729b0",
      "metadata": {
        "height": 30,
        "id": "83588e70-254f-4f83-a510-c8ae81e729b0"
      },
      "outputs": [],
      "source": [
        "# based on https://til.simonwillison.net/llms/python-react-pattern"
      ]
    },
    {
      "cell_type": "code",
      "execution_count": 4,
      "id": "6cb3ef4c-58b3-401b-b104-0d51e553d982",
      "metadata": {
        "height": 149,
        "id": "6cb3ef4c-58b3-401b-b104-0d51e553d982"
      },
      "outputs": [],
      "source": [
        "import openai\n",
        "import re\n",
        "import httpx\n",
        "import os\n",
        "from dotenv import load_dotenv\n",
        "\n",
        "_ = load_dotenv()\n",
        "from openai import OpenAI"
      ]
    },
    {
      "cell_type": "code",
      "execution_count": 5,
      "id": "dc3293b7-a50c-43c8-a022-8975e1e444b8",
      "metadata": {
        "height": 30,
        "id": "dc3293b7-a50c-43c8-a022-8975e1e444b8"
      },
      "outputs": [],
      "source": [
        "client = OpenAI()"
      ]
    },
    {
      "cell_type": "code",
      "execution_count": 6,
      "id": "0722c3d4-4cbf-43bf-81b0-50f634c4ce61",
      "metadata": {
        "height": 81,
        "id": "0722c3d4-4cbf-43bf-81b0-50f634c4ce61"
      },
      "outputs": [],
      "source": [
        "chat_completion = client.chat.completions.create(\n",
        "    model=\"gpt-3.5-turbo\",\n",
        "    messages=[{\"role\": \"user\", \"content\": \"Hello world\"}]\n",
        ")"
      ]
    },
    {
      "cell_type": "code",
      "execution_count": 7,
      "id": "6b2f82fe-3ec4-4917-be51-9fb10d1317fa",
      "metadata": {
        "height": 30,
        "colab": {
          "base_uri": "https://localhost:8080/"
        },
        "id": "6b2f82fe-3ec4-4917-be51-9fb10d1317fa",
        "outputId": "3178beff-daf5-4bd0-d73f-d5417c23dab1"
      },
      "outputs": [
        {
          "output_type": "execute_result",
          "data": {
            "text/plain": [
              "'Hello! How can I assist you today?'"
            ]
          },
          "metadata": {},
          "execution_count": 7
        }
      ],
      "source": [
        "chat_completion.choices[0].message.content"
      ]
    },
    {
      "cell_type": "code",
      "execution_count": 8,
      "id": "ee0fe1c7-77e2-499c-a2f9-1f739bb6ddf0",
      "metadata": {
        "height": 387,
        "id": "ee0fe1c7-77e2-499c-a2f9-1f739bb6ddf0"
      },
      "outputs": [],
      "source": [
        "class Agent:\n",
        "    def __init__(self, system=\"\"):\n",
        "        self.system = system\n",
        "        self.messages = []\n",
        "        if self.system:\n",
        "            self.messages.append({\"role\": \"system\", \"content\": system})\n",
        "\n",
        "    def __call__(self, message):\n",
        "        self.messages.append({\"role\": \"user\", \"content\": message})\n",
        "        result = self.execute()\n",
        "        self.messages.append({\"role\": \"assistant\", \"content\": result})\n",
        "        return result\n",
        "\n",
        "    def execute(self):\n",
        "        completion = client.chat.completions.create(\n",
        "                        model=\"gpt-4o\",\n",
        "                        temperature=0,\n",
        "                        messages=self.messages)\n",
        "        return completion.choices[0].message.content\n",
        ""
      ]
    },
    {
      "cell_type": "code",
      "execution_count": 9,
      "id": "98f303b1-a4d0-408c-8cc0-515ff980717f",
      "metadata": {
        "height": 557,
        "id": "98f303b1-a4d0-408c-8cc0-515ff980717f"
      },
      "outputs": [],
      "source": [
        "prompt = \"\"\"\n",
        "You run in a loop of Thought, Action, PAUSE, Observation.\n",
        "At the end of the loop you output an Answer\n",
        "Use Thought to describe your thoughts about the question you have been asked.\n",
        "Use Action to run one of the actions available to you - then return PAUSE.\n",
        "Observation will be the result of running those actions.\n",
        "\n",
        "Your available actions are:\n",
        "\n",
        "calculate:\n",
        "e.g. calculate: 4 * 7 / 3\n",
        "Runs a calculation and returns the number - uses Python so be sure to use floating point syntax if necessary\n",
        "\n",
        "average_dog_weight:\n",
        "e.g. average_dog_weight: Collie\n",
        "returns average weight of a dog when given the breed\n",
        "\n",
        "Example session:\n",
        "\n",
        "Question: How much does a Bulldog weigh?\n",
        "Thought: I should look the dogs weight using average_dog_weight\n",
        "Action: average_dog_weight: Bulldog\n",
        "PAUSE\n",
        "\n",
        "You will be called again with this:\n",
        "\n",
        "Observation: A Bulldog weights 51 lbs\n",
        "\n",
        "You then output:\n",
        "\n",
        "Answer: A bulldog weights 51 lbs\n",
        "\"\"\".strip()"
      ]
    },
    {
      "cell_type": "code",
      "execution_count": 10,
      "id": "bf4dcb93-6298-4cfd-b3ce-61dfac7fb35f",
      "metadata": {
        "height": 302,
        "id": "bf4dcb93-6298-4cfd-b3ce-61dfac7fb35f"
      },
      "outputs": [],
      "source": [
        "def calculate(what):\n",
        "    return eval(what)\n",
        "\n",
        "def average_dog_weight(name):\n",
        "    if name in \"Scottish Terrier\":\n",
        "        return(\"Scottish Terriers average 20 lbs\")\n",
        "    elif name in \"Border Collie\":\n",
        "        return(\"a Border Collies average weight is 37 lbs\")\n",
        "    elif name in \"Toy Poodle\":\n",
        "        return(\"a toy poodles average weight is 7 lbs\")\n",
        "    else:\n",
        "        return(\"An average dog weights 50 lbs\")\n",
        "\n",
        "known_actions = {\n",
        "    \"calculate\": calculate,\n",
        "    \"average_dog_weight\": average_dog_weight\n",
        "}"
      ]
    },
    {
      "cell_type": "code",
      "execution_count": 11,
      "id": "932883a4-c722-42bb-aec0-b4f41c5c81a4",
      "metadata": {
        "height": 30,
        "id": "932883a4-c722-42bb-aec0-b4f41c5c81a4"
      },
      "outputs": [],
      "source": [
        "abot = Agent(prompt)"
      ]
    },
    {
      "cell_type": "code",
      "execution_count": 12,
      "id": "ff362f49-dcf1-4ea1-a86c-e516e9ab897d",
      "metadata": {
        "height": 47,
        "colab": {
          "base_uri": "https://localhost:8080/"
        },
        "id": "ff362f49-dcf1-4ea1-a86c-e516e9ab897d",
        "outputId": "48cb1e8a-fceb-42a2-8168-3dd1225d7dfe"
      },
      "outputs": [
        {
          "output_type": "stream",
          "name": "stdout",
          "text": [
            "Thought: I should look up the average weight of a Toy Poodle using the average_dog_weight action.\n",
            "Action: average_dog_weight: Toy Poodle\n",
            "PAUSE\n"
          ]
        }
      ],
      "source": [
        "result = abot(\"How much does a toy poodle weigh?\")\n",
        "print(result)"
      ]
    },
    {
      "cell_type": "code",
      "execution_count": 13,
      "id": "a7e15a20-83d7-434c-8551-bce8dcc32be0",
      "metadata": {
        "height": 30,
        "id": "a7e15a20-83d7-434c-8551-bce8dcc32be0"
      },
      "outputs": [],
      "source": [
        "result = average_dog_weight(\"Toy Poodle\")"
      ]
    },
    {
      "cell_type": "code",
      "execution_count": 14,
      "id": "54ab2c74-f32e-490c-a85d-932d11444210",
      "metadata": {
        "height": 30,
        "colab": {
          "base_uri": "https://localhost:8080/"
        },
        "id": "54ab2c74-f32e-490c-a85d-932d11444210",
        "outputId": "95930cbd-4647-4ef1-dca3-f40edcebac41"
      },
      "outputs": [
        {
          "output_type": "execute_result",
          "data": {
            "text/plain": [
              "'a toy poodles average weight is 7 lbs'"
            ]
          },
          "metadata": {},
          "execution_count": 14
        }
      ],
      "source": [
        "result"
      ]
    },
    {
      "cell_type": "code",
      "execution_count": 15,
      "id": "a833d3ce-bd31-4319-811d-decff226b970",
      "metadata": {
        "height": 30,
        "id": "a833d3ce-bd31-4319-811d-decff226b970"
      },
      "outputs": [],
      "source": [
        "next_prompt = \"Observation: {}\".format(result)"
      ]
    },
    {
      "cell_type": "code",
      "execution_count": 16,
      "id": "76e93cce-6eab-4c7c-ac64-e9993fdb30d6",
      "metadata": {
        "height": 30,
        "colab": {
          "base_uri": "https://localhost:8080/"
        },
        "id": "76e93cce-6eab-4c7c-ac64-e9993fdb30d6",
        "outputId": "d9fec4e8-2331-4891-a1f8-a543229cfb55"
      },
      "outputs": [
        {
          "output_type": "execute_result",
          "data": {
            "text/plain": [
              "'Answer: A Toy Poodle weighs an average of 7 lbs.'"
            ]
          },
          "metadata": {},
          "execution_count": 16
        }
      ],
      "source": [
        "abot(next_prompt)"
      ]
    },
    {
      "cell_type": "code",
      "execution_count": 17,
      "id": "fd2d0990-a932-423f-9ff3-5cada58c5f32",
      "metadata": {
        "height": 30,
        "colab": {
          "base_uri": "https://localhost:8080/"
        },
        "id": "fd2d0990-a932-423f-9ff3-5cada58c5f32",
        "outputId": "4deaa684-e0e9-4c28-e6e1-207cc7dc8d61"
      },
      "outputs": [
        {
          "output_type": "execute_result",
          "data": {
            "text/plain": [
              "[{'role': 'system',\n",
              "  'content': 'You run in a loop of Thought, Action, PAUSE, Observation.\\nAt the end of the loop you output an Answer\\nUse Thought to describe your thoughts about the question you have been asked.\\nUse Action to run one of the actions available to you - then return PAUSE.\\nObservation will be the result of running those actions.\\n\\nYour available actions are:\\n\\ncalculate:\\ne.g. calculate: 4 * 7 / 3\\nRuns a calculation and returns the number - uses Python so be sure to use floating point syntax if necessary\\n\\naverage_dog_weight:\\ne.g. average_dog_weight: Collie\\nreturns average weight of a dog when given the breed\\n\\nExample session:\\n\\nQuestion: How much does a Bulldog weigh?\\nThought: I should look the dogs weight using average_dog_weight\\nAction: average_dog_weight: Bulldog\\nPAUSE\\n\\nYou will be called again with this:\\n\\nObservation: A Bulldog weights 51 lbs\\n\\nYou then output:\\n\\nAnswer: A bulldog weights 51 lbs'},\n",
              " {'role': 'user', 'content': 'How much does a toy poodle weigh?'},\n",
              " {'role': 'assistant',\n",
              "  'content': 'Thought: I should look up the average weight of a Toy Poodle using the average_dog_weight action.\\nAction: average_dog_weight: Toy Poodle\\nPAUSE'},\n",
              " {'role': 'user',\n",
              "  'content': 'Observation: a toy poodles average weight is 7 lbs'},\n",
              " {'role': 'assistant',\n",
              "  'content': 'Answer: A Toy Poodle weighs an average of 7 lbs.'}]"
            ]
          },
          "metadata": {},
          "execution_count": 17
        }
      ],
      "source": [
        "abot.messages"
      ]
    },
    {
      "cell_type": "code",
      "execution_count": 18,
      "id": "27cde654-64e2-48bc-80a9-0ed668ccb7dc",
      "metadata": {
        "height": 30,
        "id": "27cde654-64e2-48bc-80a9-0ed668ccb7dc"
      },
      "outputs": [],
      "source": [
        "abot = Agent(prompt)"
      ]
    },
    {
      "cell_type": "code",
      "execution_count": 19,
      "id": "4871f644-b131-4065-b7ce-b82c20a41f11",
      "metadata": {
        "height": 64,
        "colab": {
          "base_uri": "https://localhost:8080/"
        },
        "id": "4871f644-b131-4065-b7ce-b82c20a41f11",
        "outputId": "fee97488-ae47-4bf2-fd39-e657b0d228c5"
      },
      "outputs": [
        {
          "output_type": "execute_result",
          "data": {
            "text/plain": [
              "'Thought: I need to find the average weight of both a Border Collie and a Scottish Terrier, then add them together to find the combined weight.\\nAction: average_dog_weight: Border Collie\\nPAUSE'"
            ]
          },
          "metadata": {},
          "execution_count": 19
        }
      ],
      "source": [
        "question = \"\"\"I have 2 dogs, a border collie and a scottish terrier. \\\n",
        "What is their combined weight\"\"\"\n",
        "abot(question)"
      ]
    },
    {
      "cell_type": "code",
      "execution_count": 20,
      "id": "8c3d8070-3f36-4cf0-a677-508e54359c8f",
      "metadata": {
        "height": 47,
        "colab": {
          "base_uri": "https://localhost:8080/"
        },
        "id": "8c3d8070-3f36-4cf0-a677-508e54359c8f",
        "outputId": "23d6a2f4-f6e2-43a3-f962-5db53555101c"
      },
      "outputs": [
        {
          "output_type": "stream",
          "name": "stdout",
          "text": [
            "Observation: a Border Collies average weight is 37 lbs\n"
          ]
        }
      ],
      "source": [
        "next_prompt = \"Observation: {}\".format(average_dog_weight(\"Border Collie\"))\n",
        "print(next_prompt)"
      ]
    },
    {
      "cell_type": "code",
      "execution_count": 21,
      "id": "98f3be1d-cc4c-41fa-9863-3e386e88e305",
      "metadata": {
        "height": 30,
        "colab": {
          "base_uri": "https://localhost:8080/"
        },
        "id": "98f3be1d-cc4c-41fa-9863-3e386e88e305",
        "outputId": "3ddfe72c-3618-4607-c7c9-537bd310349c"
      },
      "outputs": [
        {
          "output_type": "execute_result",
          "data": {
            "text/plain": [
              "'Action: average_dog_weight: Scottish Terrier\\nPAUSE'"
            ]
          },
          "metadata": {},
          "execution_count": 21
        }
      ],
      "source": [
        "abot(next_prompt)"
      ]
    },
    {
      "cell_type": "code",
      "execution_count": 22,
      "id": "0ad8a6cc-65d4-4ce7-87aa-4e67d7c23d7b",
      "metadata": {
        "height": 47,
        "colab": {
          "base_uri": "https://localhost:8080/"
        },
        "id": "0ad8a6cc-65d4-4ce7-87aa-4e67d7c23d7b",
        "outputId": "81d661df-5e45-4bac-9408-616ba7cee681"
      },
      "outputs": [
        {
          "output_type": "stream",
          "name": "stdout",
          "text": [
            "Observation: Scottish Terriers average 20 lbs\n"
          ]
        }
      ],
      "source": [
        "next_prompt = \"Observation: {}\".format(average_dog_weight(\"Scottish Terrier\"))\n",
        "print(next_prompt)"
      ]
    },
    {
      "cell_type": "code",
      "execution_count": 23,
      "id": "592b5e62-a203-433c-92a0-3783f490cde1",
      "metadata": {
        "height": 30,
        "colab": {
          "base_uri": "https://localhost:8080/"
        },
        "id": "592b5e62-a203-433c-92a0-3783f490cde1",
        "outputId": "d7bb3d7c-417a-484f-d029-892f317de21a"
      },
      "outputs": [
        {
          "output_type": "execute_result",
          "data": {
            "text/plain": [
              "'Thought: Now that I have the average weights of both dogs, I can calculate their combined weight by adding them together.\\nAction: calculate: 37 + 20\\nPAUSE'"
            ]
          },
          "metadata": {},
          "execution_count": 23
        }
      ],
      "source": [
        "abot(next_prompt)"
      ]
    },
    {
      "cell_type": "code",
      "execution_count": 24,
      "id": "14fa923c-7e4f-42d1-965f-0f8ccd50fbd7",
      "metadata": {
        "height": 47,
        "colab": {
          "base_uri": "https://localhost:8080/"
        },
        "id": "14fa923c-7e4f-42d1-965f-0f8ccd50fbd7",
        "outputId": "d87f9fbf-a4c7-40d6-ff5b-7e7bd1a73fb0"
      },
      "outputs": [
        {
          "output_type": "stream",
          "name": "stdout",
          "text": [
            "Observation: 57\n"
          ]
        }
      ],
      "source": [
        "next_prompt = \"Observation: {}\".format(eval(\"37 + 20\"))\n",
        "print(next_prompt)"
      ]
    },
    {
      "cell_type": "code",
      "execution_count": 25,
      "id": "570c6245-2837-4ac5-983b-95f61f3ac10d",
      "metadata": {
        "height": 30,
        "colab": {
          "base_uri": "https://localhost:8080/"
        },
        "id": "570c6245-2837-4ac5-983b-95f61f3ac10d",
        "outputId": "6679c418-173c-4400-d315-ba4cde7444ba"
      },
      "outputs": [
        {
          "output_type": "execute_result",
          "data": {
            "text/plain": [
              "'Answer: The combined weight of a Border Collie and a Scottish Terrier is 57 lbs.'"
            ]
          },
          "metadata": {},
          "execution_count": 25
        }
      ],
      "source": [
        "abot(next_prompt)"
      ]
    },
    {
      "cell_type": "markdown",
      "id": "6b46f2ac-f717-4ab9-b548-f34b74071d76",
      "metadata": {
        "id": "6b46f2ac-f717-4ab9-b548-f34b74071d76"
      },
      "source": [
        "### Add loop"
      ]
    },
    {
      "cell_type": "code",
      "execution_count": 26,
      "id": "6b910915-b087-4d35-afff-0ec30a5852f1",
      "metadata": {
        "height": 30,
        "id": "6b910915-b087-4d35-afff-0ec30a5852f1"
      },
      "outputs": [],
      "source": [
        "action_re = re.compile('^Action: (\\w+): (.*)$')   # python regular expression to selection action"
      ]
    },
    {
      "cell_type": "code",
      "execution_count": 27,
      "id": "c4feb6cc-5129-4a99-bb45-851bc07b5709",
      "metadata": {
        "height": 421,
        "id": "c4feb6cc-5129-4a99-bb45-851bc07b5709"
      },
      "outputs": [],
      "source": [
        "def query(question, max_turns=5):\n",
        "    i = 0\n",
        "    bot = Agent(prompt)\n",
        "    next_prompt = question\n",
        "    while i < max_turns:\n",
        "        i += 1\n",
        "        result = bot(next_prompt)\n",
        "        print(result)\n",
        "        actions = [\n",
        "            action_re.match(a)\n",
        "            for a in result.split('\\n')\n",
        "            if action_re.match(a)\n",
        "        ]\n",
        "        if actions:\n",
        "            # There is an action to run\n",
        "            action, action_input = actions[0].groups()\n",
        "            if action not in known_actions:\n",
        "                raise Exception(\"Unknown action: {}: {}\".format(action, action_input))\n",
        "            print(\" -- running {} {}\".format(action, action_input))\n",
        "            observation = known_actions[action](action_input)\n",
        "            print(\"Observation:\", observation)\n",
        "            next_prompt = \"Observation: {}\".format(observation)\n",
        "        else:\n",
        "            return"
      ]
    },
    {
      "cell_type": "code",
      "execution_count": 28,
      "id": "e85a02b4-96cc-4b01-8792-397a774eb499",
      "metadata": {
        "height": 64,
        "colab": {
          "base_uri": "https://localhost:8080/"
        },
        "id": "e85a02b4-96cc-4b01-8792-397a774eb499",
        "outputId": "c28635f8-5e38-4ac1-cf26-4cce5c728d74"
      },
      "outputs": [
        {
          "output_type": "stream",
          "name": "stdout",
          "text": [
            "Thought: I need to find the average weight of both a Border Collie and a Scottish Terrier, then add them together to find the combined weight.\n",
            "Action: average_dog_weight: Border Collie\n",
            "PAUSE\n",
            " -- running average_dog_weight Border Collie\n",
            "Observation: a Border Collies average weight is 37 lbs\n",
            "Action: average_dog_weight: Scottish Terrier\n",
            "PAUSE\n",
            " -- running average_dog_weight Scottish Terrier\n",
            "Observation: Scottish Terriers average 20 lbs\n",
            "Action: calculate: 37 + 20\n",
            "PAUSE\n",
            " -- running calculate 37 + 20\n",
            "Observation: 57\n",
            "Answer: The combined average weight of a Border Collie and a Scottish Terrier is 57 lbs.\n"
          ]
        }
      ],
      "source": [
        "question = \"\"\"I have 2 dogs, a border collie and a scottish terrier. \\\n",
        "What is their combined weight\"\"\"\n",
        "query(question)"
      ]
    },
    {
      "cell_type": "markdown",
      "id": "8bf503c9",
      "metadata": {
        "id": "8bf503c9"
      },
      "source": [
        "# Lesson 2 : LangGraph Components"
      ]
    },
    {
      "cell_type": "code",
      "execution_count": 29,
      "id": "af925917-b746-48c9-ac74-62fefbe5246c",
      "metadata": {
        "height": 30,
        "id": "af925917-b746-48c9-ac74-62fefbe5246c"
      },
      "outputs": [],
      "source": [
        "from langgraph.graph import StateGraph, END\n",
        "from typing import TypedDict, Annotated\n",
        "import operator\n",
        "from langchain_core.messages import AnyMessage, SystemMessage, HumanMessage, ToolMessage\n",
        "from langchain_openai import ChatOpenAI\n",
        "from langchain_community.tools.tavily_search import TavilySearchResults"
      ]
    },
    {
      "cell_type": "code",
      "execution_count": 30,
      "id": "4ca0f550",
      "metadata": {
        "colab": {
          "base_uri": "https://localhost:8080/"
        },
        "id": "4ca0f550",
        "outputId": "cd94587c-f457-4709-abcc-310c2be6ee2f"
      },
      "outputs": [
        {
          "output_type": "stream",
          "name": "stdout",
          "text": [
            "<class 'langchain_community.tools.tavily_search.tool.TavilySearchResults'>\n",
            "tavily_search_results_json\n"
          ]
        }
      ],
      "source": [
        "tool = TavilySearchResults(max_results=4) #increased number of results\n",
        "print(type(tool))\n",
        "print(tool.name)"
      ]
    },
    {
      "cell_type": "code",
      "execution_count": 31,
      "id": "c37abeab",
      "metadata": {
        "id": "c37abeab"
      },
      "outputs": [],
      "source": [
        "class AgentState(TypedDict):\n",
        "    messages: Annotated[list[AnyMessage], operator.add]"
      ]
    },
    {
      "cell_type": "code",
      "execution_count": 32,
      "metadata": {
        "id": "c-TuClaupa8j"
      },
      "outputs": [],
      "source": [
        "class Agent:\n",
        "\n",
        "    def __init__(self, model, tools, system=\"\"):\n",
        "        self.system = system\n",
        "        graph = StateGraph(AgentState)\n",
        "        graph.add_node(\"llm\", self.call_openai)\n",
        "        graph.add_node(\"action\", self.take_action)\n",
        "        graph.add_conditional_edges(\n",
        "            \"llm\",\n",
        "            self.exists_action,\n",
        "            {True: \"action\", False: END}\n",
        "        )\n",
        "        graph.add_edge(\"action\", \"llm\")\n",
        "        graph.set_entry_point(\"llm\")\n",
        "        self.graph = graph.compile()\n",
        "        self.tools = {t.name: t for t in tools}\n",
        "        self.model = model.bind_tools(tools)\n",
        "\n",
        "    def exists_action(self, state: AgentState):\n",
        "        result = state['messages'][-1]\n",
        "        return len(result.tool_calls) > 0\n",
        "\n",
        "    def call_openai(self, state: AgentState):\n",
        "        messages = state['messages']\n",
        "        if self.system:\n",
        "            messages = [SystemMessage(content=self.system)] + messages\n",
        "        message = self.model.invoke(messages)\n",
        "        return {'messages': [message]}\n",
        "\n",
        "    def take_action(self, state: AgentState):\n",
        "        tool_calls = state['messages'][-1].tool_calls\n",
        "        results = []\n",
        "        for t in tool_calls:\n",
        "            print(f\"Calling: {t}\")\n",
        "            if not t['name'] in self.tools:      # check for bad tool name from LLM\n",
        "                print(\"\\n ....bad tool name....\")\n",
        "                result = \"bad tool name, retry\"  # instruct LLM to retry if bad\n",
        "            else:\n",
        "                result = self.tools[t['name']].invoke(t['args'])\n",
        "            results.append(ToolMessage(tool_call_id=t['id'], name=t['name'], content=str(result)))\n",
        "        print(\"Back to the model!\")\n",
        "        return {'messages': results}"
      ],
      "id": "c-TuClaupa8j"
    },
    {
      "cell_type": "code",
      "execution_count": 33,
      "id": "67070e35",
      "metadata": {
        "id": "67070e35"
      },
      "outputs": [],
      "source": [
        "prompt = \"\"\"You are a smart research assistant. Use the search engine to look up information. \\\n",
        "You are allowed to make multiple calls (either together or in sequence). \\\n",
        "Only look up information when you are sure of what you want. \\\n",
        "If you need to look up some information before asking a follow up question, you are allowed to do that!\n",
        "\"\"\"\n",
        "\n",
        "model = ChatOpenAI(model=\"gpt-3.5-turbo\")  #reduce inference cost\n",
        "abot = Agent(model, [tool], system=prompt)"
      ]
    },
    {
      "cell_type": "code",
      "source": [
        "from IPython.display import Image, display\n",
        "from langchain_core.runnables.graph import CurveStyle, MermaidDrawMethod, NodeStyles\n",
        "\n",
        "image_bytes = abot.graph.get_graph().draw_mermaid_png(draw_method=MermaidDrawMethod.API)\n",
        "\n",
        "display(Image(data=image_bytes))"
      ],
      "metadata": {
        "colab": {
          "base_uri": "https://localhost:8080/",
          "height": 290
        },
        "id": "AlFqfvWosVOB",
        "outputId": "fd5724ab-8dab-4b45-928b-ecd25b8fec9d"
      },
      "id": "AlFqfvWosVOB",
      "execution_count": 39,
      "outputs": [
        {
          "output_type": "display_data",
          "data": {
            "image/png": "[encoded data removed]",
            "text/plain": [
              "<IPython.core.display.Image object>"
            ]
          },
          "metadata": {}
        }
      ]
    },
    {
      "cell_type": "code",
      "execution_count": 40,
      "id": "e48373b2",
      "metadata": {
        "colab": {
          "base_uri": "https://localhost:8080/"
        },
        "id": "e48373b2",
        "outputId": "ad2da787-8fee-4a6a-c599-36fc0143c1dd"
      },
      "outputs": [
        {
          "output_type": "stream",
          "name": "stdout",
          "text": [
            "Calling: {'name': 'tavily_search_results_json', 'args': {'query': 'current weather in San Francisco'}, 'id': 'call_qNwQ77EhfKc9QBiuKsToHMwm', 'type': 'tool_call'}\n",
            "Back to the model!\n"
          ]
        }
      ],
      "source": [
        "messages = [HumanMessage(content=\"What is the weather in sf?\")]\n",
        "result = abot.graph.invoke({\"messages\": messages})"
      ]
    },
    {
      "cell_type": "code",
      "execution_count": 41,
      "id": "e3687306",
      "metadata": {
        "colab": {
          "base_uri": "https://localhost:8080/"
        },
        "id": "e3687306",
        "outputId": "af6ba2dd-6896-4807-e304-7bcb1e63d80b"
      },
      "outputs": [
        {
          "output_type": "execute_result",
          "data": {
            "text/plain": [
              "{'messages': [HumanMessage(content='What is the weather in sf?', additional_kwargs={}, response_metadata={}),\n",
              "  AIMessage(content='', additional_kwargs={'tool_calls': [{'id': 'call_qNwQ77EhfKc9QBiuKsToHMwm', 'function': {'arguments': '{\"query\":\"current weather in San Francisco\"}', 'name': 'tavily_search_results_json'}, 'type': 'function'}], 'refusal': None}, response_metadata={'token_usage': {'completion_tokens': 23, 'prompt_tokens': 153, 'total_tokens': 176, 'completion_tokens_details': {'accepted_prediction_tokens': 0, 'audio_tokens': 0, 'reasoning_tokens': 0, 'rejected_prediction_tokens': 0}, 'prompt_tokens_details': {'audio_tokens': 0, 'cached_tokens': 0}}, 'model_name': 'gpt-3.5-turbo-0125', 'system_fingerprint': None, 'finish_reason': 'tool_calls', 'logprobs': None}, id='run-18cde3c8-10f4-43c1-b8cb-9ed84c6d5d39-0', tool_calls=[{'name': 'tavily_search_results_json', 'args': {'query': 'current weather in San Francisco'}, 'id': 'call_qNwQ77EhfKc9QBiuKsToHMwm', 'type': 'tool_call'}], usage_metadata={'input_tokens': 153, 'output_tokens': 23, 'total_tokens': 176, 'input_token_details': {'audio': 0, 'cache_read': 0}, 'output_token_details': {'audio': 0, 'reasoning': 0}}),\n",
              "  ToolMessage(content='[{\\'url\\': \\'https://www.weatherapi.com/\\', \\'content\\': \"{\\'location\\': {\\'name\\': \\'San Francisco\\', \\'region\\': \\'California\\', \\'country\\': \\'United States of America\\', \\'lat\\': 37.775, \\'lon\\': -122.4183, \\'tz_id\\': \\'America/Los_Angeles\\', \\'localtime_epoch\\': 1746939379, \\'localtime\\': \\'2025-05-10 21:56\\'}, \\'current\\': {\\'last_updated_epoch\\': 1746938700, \\'last_updated\\': \\'2025-05-10 21:45\\', \\'temp_c\\': 13.9, \\'temp_f\\': 57.0, \\'is_day\\': 0, \\'condition\\': {\\'text\\': \\'Clear\\', \\'icon\\': \\'//cdn.weatherapi.com/weather/64x64/night/113.png\\', \\'code\\': 1000}, \\'wind_mph\\': 8.7, \\'wind_kph\\': 14.0, \\'wind_degree\\': 265, \\'wind_dir\\': \\'W\\', \\'pressure_mb\\': 1014.0, \\'pressure_in\\': 29.95, \\'precip_mm\\': 0.0, \\'precip_in\\': 0.0, \\'humidity\\': 67, \\'cloud\\': 25, \\'feelslike_c\\': 12.8, \\'feelslike_f\\': 55.1, \\'windchill_c\\': 10.8, \\'windchill_f\\': 51.5, \\'heatindex_c\\': 12.2, \\'heatindex_f\\': 54.0, \\'dewpoint_c\\': 10.0, \\'dewpoint_f\\': 50.1, \\'vis_km\\': 16.0, \\'vis_miles\\': 9.0, \\'uv\\': 0.0, \\'gust_mph\\': 15.1, \\'gust_kph\\': 24.4}}\"}, {\\'url\\': \\'https://world-weather.info/forecast/usa/san_francisco/may-2025/\\', \\'content\\': \"Weather in San Francisco in May 2025\\\\n\\\\nSan Francisco Weather Forecast for May 2025 is based on long term prognosis and previous years\\' statistical data.\\\\n\\\\nMay\\\\n\\\\n+52°\\\\n\\\\n+52°\\\\n\\\\n+52°\\\\n\\\\n+50°\\\\n\\\\n+57°\\\\n\\\\n+55°\\\\n\\\\n+54°\\\\n\\\\n+50°\\\\n\\\\n+52°\\\\n\\\\n+54°\\\\n\\\\n+52°\\\\n\\\\n+54°\\\\n\\\\n+52°\\\\n\\\\n+50°\\\\n\\\\n+50°\\\\n\\\\n+52°\\\\n\\\\n+52°\\\\n\\\\n+50°\\\\n\\\\n+50°\\\\n\\\\n+52°\\\\n\\\\n+54°\\\\n\\\\n+52°\\\\n\\\\n+54°\\\\n\\\\n+57°\\\\n\\\\n+57°\\\\n\\\\n+55°\\\\n\\\\n+55°\\\\n\\\\n+57°\\\\n\\\\n+55°\\\\n\\\\n+55°\\\\n\\\\n+55°\\\\n\\\\nExtended weather forecast in San Francisco\\\\n\\\\nWeather in large and nearby cities\\\\n\\\\nWeather in Washington, D.C.+61°\\\\n\\\\nSacramento+72°\\\\n\\\\nPleasanton+64° [...] Redwood City+61°\\\\n\\\\nSan Leandro+59°\\\\n\\\\nSan Mateo+61°\\\\n\\\\nSan Rafael+61°\\\\n\\\\nSan Ramon+61°\\\\n\\\\nSouth San Francisco+55°\\\\n\\\\nVallejo+63°\\\\n\\\\nPalo Alto+64°\\\\n\\\\nPacifica+52°\\\\n\\\\nBerkeley+59°\\\\n\\\\nCastro Valley+59°\\\\n\\\\nConcord+70°\\\\n\\\\nDaly City+54°\\\\n\\\\nClaremont+59°\\\\n\\\\nSunshine Gardens+55°\"}, {\\'url\\': \\'https://www.weather25.com/north-america/usa/california/san-francisco?page=month&month=May\\', \\'content\\': \\'San Francisco weather in May 2025\\\\n\\\\nThe average weather in San Francisco in May\\\\n\\\\nThe temperatures in San Francisco in May are usually low and can range between 10°C and 20°C.\\\\n\\\\nThe wather in San Francisco in May can vary between cold and nice weather days. Expect a few rainy days but usually not more than 3.\\\\n\\\\nOur weather forecast can give you a great sense of what weather to expect in San Francisco in May 2025. [...] Sun | Mon | Tue | Wed | Thu | Fri | Sat\\\\n |  |  |  | 116°/10° | 217°/10° | 317°/11°\\\\n417°/11° | 517°/10° | 616°/10° | 717°/10° | 818°/10° | 917°/10° | 1014°/9°\\\\n1112°/9° | 1212°/10° | 1314°/9° | 1416°/10° | 1517°/11° | 1615°/11° | 1715°/11°\\\\n1816°/10° | 1917°/11° | 2016°/12° | 2120°/11° | 2216°/11° | 2316°/11° | 2419°/11°\\\\n2519°/11° | 2618°/12° | 2719°/11° | 2818°/11° | 2918°/11° | 3019°/10° | 3120°/12°\\\\nExplore the weather in San Francisco in other months\\\\n\\\\nSan Francisco annual weather\\'}, {\\'url\\': \\'https://en.climate-data.org/north-america/united-states-of-america/california/san-francisco-385/t/may-5/\\', \\'content\\': \\'14.9 °C\\\\n\\\\n(58.7) °F\\\\n\\\\n16.2 °C\\\\n\\\\n(61.2) °F\\\\n\\\\n17.4 °C\\\\n\\\\n(63.3) °F\\\\n\\\\n19.2 °C\\\\n\\\\n(66.5) °F\\\\n\\\\n21.5 °C\\\\n\\\\n(70.8) °F\\\\n\\\\n21.8 °C\\\\n\\\\n(71.2) °F\\\\n\\\\n22.2 °C\\\\n\\\\n(71.9) °F\\\\n\\\\n23.1 °C\\\\n\\\\n(73.6) °F\\\\n\\\\n21.3 °C\\\\n\\\\n(70.3) °F\\\\n\\\\n17.1 °C\\\\n\\\\n(62.8) °F\\\\n\\\\n13.9 °C\\\\n\\\\n(57.1) °F\\\\n\\\\n113\\\\n\\\\n(4)\\\\n\\\\n118\\\\n\\\\n(4)\\\\n\\\\n83\\\\n\\\\n(3)\\\\n\\\\n40\\\\n\\\\n(1)\\\\n\\\\n21\\\\n\\\\n(0)\\\\n\\\\n6\\\\n\\\\n(0)\\\\n\\\\n2\\\\n\\\\n(0)\\\\n\\\\n2\\\\n\\\\n(0)\\\\n\\\\n3\\\\n\\\\n(0)\\\\n\\\\n25\\\\n\\\\n(0)\\\\n\\\\n57\\\\n\\\\n(2)\\\\n\\\\n111\\\\n\\\\n(4) [...] Precipitation / Rainfall mm (in) | 113(4) | 118(4) | 83(3) | 40(1) | 21(0) | 6(0) | 2(0) | 2(0) | 3(0) | 25(0) | 57(2) | 111(4)\\\\nHumidity(%) | 79% | 80% | 78% | 72% | 70% | 69% | 74% | 74% | 71% | 70% | 76% | 78%\\\\nRainy days (d) | 8 | 7 | 6 | 4 | 2 | 1 | 0 | 0 | 0 | 2 | 5 | 7\\\\navg. Sun hours (hours) | 5.9 | 6.5 | 7.8 | 9.1 | 9.1 | 9.3 | 7.4 | 6.8 | 7.6 | 7.3 | 6.8 | 5.8\\\\n9.6 °C [...] Min. Temperature °C (°F) | 6.2 °C(43.2) °F | 7.1 °C(44.8) °F | 8.2 °C(46.8) °F | 8.9 °C(48.1) °F | 10.3 °C(50.6) °F | 11.8 °C(53.3) °F | 12.7 °C(54.9) °F | 13.3 °C(55.9) °F | 13.1 °C(55.6) °F | 11.9 °C(53.4) °F | 9 °C(48.2) °F | 6.8 °C(44.2) °F\\\\nMax. Temperature °C (°F) | 14 °C(57.3) °F | 14.9 °C(58.7) °F | 16.2 °C(61.2) °F | 17.4 °C(63.3) °F | 19.2 °C(66.5) °F | 21.5 °C(70.8) °F | 21.8 °C(71.2) °F | 22.2 °C(71.9) °F | 23.1 °C(73.6) °F | 21.3 °C(70.3) °F | 17.1 °C(62.8) °F | 13.9 °C(57.1) °F\\'}]', name='tavily_search_results_json', tool_call_id='call_qNwQ77EhfKc9QBiuKsToHMwm'),\n",
              "  AIMessage(content='The current weather in San Francisco is clear with a temperature of 57.0°F (13.9°C). The wind speed is 8.7 mph (14.0 km/h) coming from the west. The humidity is at 67% with a visibility of 9.0 miles.', additional_kwargs={'refusal': None}, response_metadata={'token_usage': {'completion_tokens': 63, 'prompt_tokens': 2354, 'total_tokens': 2417, 'completion_tokens_details': {'accepted_prediction_tokens': 0, 'audio_tokens': 0, 'reasoning_tokens': 0, 'rejected_prediction_tokens': 0}, 'prompt_tokens_details': {'audio_tokens': 0, 'cached_tokens': 0}}, 'model_name': 'gpt-3.5-turbo-0125', 'system_fingerprint': None, 'finish_reason': 'stop', 'logprobs': None}, id='run-87fb3ef1-7dfb-4f1a-a8a2-ba7f39f2c88e-0', usage_metadata={'input_tokens': 2354, 'output_tokens': 63, 'total_tokens': 2417, 'input_token_details': {'audio': 0, 'cache_read': 0}, 'output_token_details': {'audio': 0, 'reasoning': 0}})]}"
            ]
          },
          "metadata": {},
          "execution_count": 41
        }
      ],
      "source": [
        "result"
      ]
    },
    {
      "cell_type": "code",
      "execution_count": 42,
      "id": "fd95d156",
      "metadata": {
        "colab": {
          "base_uri": "https://localhost:8080/"
        },
        "id": "fd95d156",
        "outputId": "dfac297a-46b8-4b38-cd54-f919f7f5e594"
      },
      "outputs": [
        {
          "output_type": "execute_result",
          "data": {
            "text/plain": [
              "'The current weather in San Francisco is clear with a temperature of 57.0°F (13.9°C). The wind speed is 8.7 mph (14.0 km/h) coming from the west. The humidity is at 67% with a visibility of 9.0 miles.'"
            ]
          },
          "metadata": {},
          "execution_count": 42
        }
      ],
      "source": [
        "result['messages'][-1].content"
      ]
    },
    {
      "cell_type": "code",
      "execution_count": 43,
      "id": "f8d458ec",
      "metadata": {
        "colab": {
          "base_uri": "https://localhost:8080/"
        },
        "id": "f8d458ec",
        "outputId": "46273a9f-fa9b-43a6-915c-305ce6fbc8ba"
      },
      "outputs": [
        {
          "output_type": "stream",
          "name": "stdout",
          "text": [
            "Calling: {'name': 'tavily_search_results_json', 'args': {'query': 'weather in San Francisco'}, 'id': 'call_jwWFczbLiqfcrEeDHMY3bizH', 'type': 'tool_call'}\n",
            "Calling: {'name': 'tavily_search_results_json', 'args': {'query': 'weather in Los Angeles'}, 'id': 'call_DjDRIGV5V1Vk2PuH9BDtRywF', 'type': 'tool_call'}\n",
            "Back to the model!\n"
          ]
        }
      ],
      "source": [
        "messages = [HumanMessage(content=\"What is the weather in SF and LA?\")]\n",
        "result = abot.graph.invoke({\"messages\": messages})"
      ]
    },
    {
      "cell_type": "code",
      "execution_count": 44,
      "metadata": {
        "colab": {
          "base_uri": "https://localhost:8080/"
        },
        "id": "-_WnOPu0pa9L",
        "outputId": "e51e4310-b73f-4161-94d5-a78a946905f9"
      },
      "outputs": [
        {
          "output_type": "stream",
          "name": "stdout",
          "text": [
            "Calling: {'name': 'tavily_search_results_json', 'args': {'query': 'Super Bowl 2024 winner'}, 'id': 'call_LsLy8TziL4cshxbg3KcHLg74', 'type': 'tool_call'}\n",
            "Calling: {'name': 'tavily_search_results_json', 'args': {'query': 'GDP of the state where 2024 Super Bowl winning team is based'}, 'id': 'call_7jCZC7XJ3C1hJG0zAiNFWtq7', 'type': 'tool_call'}\n",
            "Back to the model!\n"
          ]
        }
      ],
      "source": [
        "# Note, the query was modified to produce more consistent results.\n",
        "# Results may vary per run and over time as search information and models change.\n",
        "\n",
        "query = \"Who won the super bowl in 2024? In what state is the winning team headquarters located? \\\n",
        "What is the GDP of that state? Answer each question.\"\n",
        "messages = [HumanMessage(content=query)]\n",
        "\n",
        "model = ChatOpenAI(model=\"gpt-4o\")  # requires more advanced model\n",
        "abot = Agent(model, [tool], system=prompt)\n",
        "result = abot.graph.invoke({\"messages\": messages})"
      ],
      "id": "-_WnOPu0pa9L"
    },
    {
      "cell_type": "code",
      "execution_count": 45,
      "id": "8cd2b708",
      "metadata": {
        "colab": {
          "base_uri": "https://localhost:8080/"
        },
        "id": "8cd2b708",
        "outputId": "67cc9da6-4c55-4647-dd4d-36e7486826a3"
      },
      "outputs": [
        {
          "output_type": "stream",
          "name": "stdout",
          "text": [
            "1. **Who won the Super Bowl in 2024?**\n",
            "\n",
            "   The Kansas City Chiefs won the Super Bowl in 2024, defeating the San Francisco 49ers 25-22 in overtime.\n",
            "\n",
            "2. **In what state is the winning team's headquarters located?**\n",
            "\n",
            "   The Kansas City Chiefs are headquartered in Missouri.\n",
            "\n",
            "3. **What is the GDP of that state?**\n",
            "\n",
            "   I currently do not have the specific GDP figure for Missouri from the search. Would you like me to search again for the most recent GDP figure for Missouri?\n"
          ]
        }
      ],
      "source": [
        "print(result['messages'][-1].content)"
      ]
    },
    {
      "cell_type": "markdown",
      "id": "ff7134b3",
      "metadata": {
        "id": "ff7134b3"
      },
      "source": [
        "# Lesson 3: Agentic Search"
      ]
    },
    {
      "cell_type": "code",
      "execution_count": 46,
      "id": "3f4924af",
      "metadata": {
        "id": "3f4924af"
      },
      "outputs": [],
      "source": [
        "# libraries\n",
        "from dotenv import load_dotenv\n",
        "import os\n",
        "from tavily import TavilyClient\n",
        "\n",
        "# connect\n",
        "client = TavilyClient(api_key=os.environ.get(\"TAVILY_API_KEY\"))"
      ]
    },
    {
      "cell_type": "code",
      "execution_count": 47,
      "id": "c0b72b40",
      "metadata": {
        "colab": {
          "base_uri": "https://localhost:8080/"
        },
        "id": "c0b72b40",
        "outputId": "89ef5c6b-1da4-4d77-fbf0-9d3ef11381e4"
      },
      "outputs": [
        {
          "output_type": "execute_result",
          "data": {
            "text/plain": [
              "'The Blackwell GPU features fifth-generation NVLink, a second-generation Transformer Engine, and supports up to 576 GPUs. It offers up to 20 petaflops of compute performance and is designed for generative AI.'"
            ]
          },
          "metadata": {},
          "execution_count": 47
        }
      ],
      "source": [
        "# run search\n",
        "result = client.search(\"What is in Nvidia's new Blackwell GPU?\",\n",
        "                       include_answer=True)\n",
        "\n",
        "# print the answer\n",
        "result[\"answer\"]\n"
      ]
    },
    {
      "cell_type": "markdown",
      "id": "7121353b",
      "metadata": {
        "id": "7121353b"
      },
      "source": [
        "## Regular search"
      ]
    },
    {
      "cell_type": "code",
      "execution_count": 49,
      "id": "6603e5c4",
      "metadata": {
        "id": "6603e5c4"
      },
      "outputs": [],
      "source": [
        "# choose location (try to change to your own city!)\n",
        "\n",
        "city = \"San Francisco\"\n",
        "\n",
        "query = f\"\"\"\n",
        "    what is the current weather in {city}?\n",
        "    Should I travel there today?\n",
        "    \"weather.com\"\n",
        "\"\"\""
      ]
    },
    {
      "cell_type": "code",
      "execution_count": 50,
      "id": "016043a0",
      "metadata": {
        "colab": {
          "base_uri": "https://localhost:8080/"
        },
        "id": "016043a0",
        "outputId": "cb62220b-9e33-4e78-e279-64cfc933c2a8"
      },
      "outputs": [
        {
          "output_type": "stream",
          "name": "stdout",
          "text": [
            "https://weather.com/weather/today/l/San+Francisco+CA+USCA0987\n",
            "https://weather.com/weather/tenday/l/San+Francisco+CA+USCA0987:1:US\n",
            "https://weather.com/weather/tenday/l/San+Diego+CA?canonicalCityId=3b2b39ed755b459b725bf2a29c71d678\n",
            "https://weather.com/weather/tenday/l/San+Francisco+CA+USCA0987:1:US\n",
            "https://weather.com/weather/today/l/Seattle+WA?canonicalCityId=1138ce33fd1be51ab7db675c0da0a27c\n",
            "https://weather.com/weather/hourbyhour/l/South+San+Francisco+CA?canonicalCityId=65b48c0711b50d6a3bc98e64e000e2b23391bb4f0a911573aede03494b9e7fa9\n"
          ]
        }
      ],
      "source": [
        "import requests\n",
        "from bs4 import BeautifulSoup\n",
        "from duckduckgo_search import DDGS\n",
        "import re\n",
        "\n",
        "ddg = DDGS()\n",
        "\n",
        "def search(query, max_results=6):\n",
        "    try:\n",
        "        results = ddg.text(query, max_results=max_results)\n",
        "        return [i[\"href\"] for i in results]\n",
        "    except Exception as e:\n",
        "        print(f\"returning previous results due to exception reaching ddg.\")\n",
        "        results = [ # cover case where DDG rate limits due to high deeplearning.ai volume\n",
        "            \"https://weather.com/weather/today/l/USCA0987:1:US\",\n",
        "            \"https://weather.com/weather/hourbyhour/l/54f9d8baac32496f6b5497b4bf7a277c3e2e6cc5625de69680e6169e7e38e9a8\",\n",
        "        ]\n",
        "        return results\n",
        "\n",
        "\n",
        "for i in search(query):\n",
        "    print(i)"
      ]
    },
    {
      "cell_type": "code",
      "execution_count": 51,
      "metadata": {
        "id": "yHCiDeCgpa9T"
      },
      "outputs": [],
      "source": [
        "def scrape_weather_info(url):\n",
        "    \"\"\"Scrape content from the given URL\"\"\"\n",
        "    if not url:\n",
        "        return \"Weather information could not be found.\"\n",
        "\n",
        "    # fetch data\n",
        "    headers = {'User-Agent': 'Mozilla/5.0'}\n",
        "    response = requests.get(url, headers=headers)\n",
        "    if response.status_code != 200:\n",
        "        return \"Failed to retrieve the webpage.\"\n",
        "\n",
        "    # parse result\n",
        "    soup = BeautifulSoup(response.text, 'html.parser')\n",
        "    return soup\n"
      ],
      "id": "yHCiDeCgpa9T"
    },
    {
      "cell_type": "code",
      "execution_count": 52,
      "id": "2799f689",
      "metadata": {
        "colab": {
          "base_uri": "https://localhost:8080/"
        },
        "id": "2799f689",
        "outputId": "7ca4e918-3817-4c10-9dd6-78fd24d460aa"
      },
      "outputs": [
        {
          "output_type": "stream",
          "name": "stdout",
          "text": [
            "returning previous results due to exception reaching ddg.\n",
            "Website: https://weather.com/weather/today/l/USCA0987:1:US\n",
            "\n",
            "\n",
            "<body><div class=\"appWrapper DaybreakLargeScreen LargeScreen lightTheme twcTheme DaybreakLargeScreen--appWrapper--ZkDop gradients--clearNight--cs6t9 gradients--clearNight-top--SVtBt\" id=\"appWrapper\"><div class=\"region-meta\"><div class=\"removeIfEmpty\" id=\"WxuHtmlHead-meta-\"></div><div class=\"removeIfEmpty\" id=\"WxuNewsroom-meta-bc9f40d5-d941-4fd8-bae2-2d8d63a38bb3\"></div></div><div class=\"region-topAds regionTopAds DaybreakLargeScreen--regionTopAds--sDajQ\"><div class=\"removeIfEmpty\" id=\"WxuAd-topAds-53dce052-5465-4609-a555-c3a20ab64ab0\"><div class=\"adWrapper BaseAd--adWrapper--ANZ1O BaseAd--card--cqv7t BaseAd--hide--hCG8L\"><div class=\"adLabel BaseAd--adLabel--JGSp6\">Advertisement</div><div class=\"ad_module BaseAd--ad_module--ajh9S subs-undefined BaseAd--placeholder--ofteC\" id=\"WX_Hidden\"></div></div></div><div class=\"removeIfEmpty\" id=\"WxuAd-topAds-fe926b10-58bc-448a-ab09-47e692334250\"><div class=\"adWrapper BaseAd--adWrapper--ANZ1O BaseAd--card--cqv7t BaseAd--hide--hCG8L\"><div class=\"adLabel BaseAd--adLabel--JGSp6\">Advertisement</div><div class=\"ad_module BaseAd--ad_module--ajh9S subs-undefined BaseAd--placeholder--ofteC\" id=\"MW_Interstitial\"></div></div></div></div><div class=\"region-header regionHeader gradients--clearNight-top--SVtBt\" id=\"regionHeader\"><div class=\"removeIfEmpty\" id=\"WxuHeaderLargeScreen-header-9944ec87-e4d4-4f18-b23e-ce4a3fd8a3ba\"><header aria-label=\"Menu\" class=\"MainMenuHeader--MainMenuHeader--RBoq7 HeaderLargeScreen--HeaderLargeScreen--HPtiq gradients--clearNight-top--SVtBt\" role=\"banner\"><div class=\"MainMenuHeader--wrapper--TVg8M\"><div class=\"MainMenuHeader--wrapperLeft--frN1-\"><a class=\"MainMenuHeader--accessibilityLink--bQU4R Button--secondary--dT8G-\" href=\"#MainContent\" target=\"_self\">Skip to Main Content</a><a class=\"MainMenuHeader--accessibilityLink--bQU4R Button--secondary--dT8G-\" href=\"https://www.essentialaccessibility.com/the-weather-channel?utm_source=theweatherchannelhomepage&amp;utm_medium=iconlarge&amp;utm_term=eachannelpage&amp;utm_content=header&amp;utm_campaign=theweatherchannel\" target=\"_self\">Accessibility Help</a><a class=\"Button--default--osTe5 Button--iconOnly--U4gWX\" href=\"/\" target=\"_self\"><span aria-label=\"The Weather Company - Home\" class=\"Icon--iconWrapper--vSeDL\"><svg aria-label=\"The Weather Company - Home\" class=\"MainMenuHeader--twcLogo--MHMAp Icon--icon--ySD-o Icon--lightTheme--Mqfrs\" fill=\"currentColor\" name=\"twc-logo-tm\" viewbox=\"0 0 432.96 399.36\" xmlns=\"http://www.w3.org/2000/svg\">\n",
            "<title>The Weather Channel</title>\n",
            "<path d=\"M152.48 347.3c0 4.02 2.48 6.71 5.9 6.71 2.51 0 5.01-1.3 7.01-3.52l.21-11.03h-.62c-9.31 0-12.5 1.74-12.5 7.84zM165.2 144c0-3.81-.4-5.81-1.61-7.72-1.3-1.99-3.2-3.01-5.9-3.01-5.12 0-8.04 4.02-8.04 11.13v.19h15.54V144h.01zm7.82 109.49c0 4.01 2.52 6.72 5.94 6.72 2.5 0 5.01-1.32 7.01-3.52l.21-11.03h-.6c-9.34.01-12.56 1.73-12.56 7.83zm-34.34-17.25c0-3.81-.41-5.8-1.6-7.7-1.32-2.02-3.22-3.03-5.94-3.03-5.11 0-8 4.03-8 11.14v.19h15.53v-.6h.01zM316 319.32c-5.1 0-8.01 4.02-8.01 11.15v.19h15.54v-.59c0-3.82-.39-5.83-1.59-7.72-1.32-2.02-3.22-3.03-5.94-3.03z\" fill=\"currentColor\"></path>\n",
            "<path d=\"M372.65 228.54c-1.33-.7-2.41-1.01-3.91-1.01-3.02 0-5.74 1.4-8.21 4.3v36.3h-13.46v-34.3c0-6.9-.8-12.13-1.9-15.02l12.02-3.24c1.21 2.11 1.9 4.44 2.12 7.32 1.92-2.59 5.09-5.4 7.63-6.51 1.1-.49 2.9-.81 4.38-.81 2.02 0 2.92.2 5.03 1.11l-3.7 11.86zM360.2 363.13c-5.73 0-10.32-2.69-11.94-7.03-1.01-2.59-1.21-4.18-1.21-11.5v-38.29c0-6.72-.19-10.82-.69-15.45l13.73-3.11c.5 2.81.71 6.14.71 13.33v40c0 8.82.1 10.02.88 11.42.5.89 1.62 1.39 2.72 1.39.5 0 .79 0 1.49-.18l2.3 8.02c-2.29.9-5.08 1.4-7.99 1.4zm-22.42-116.48h-29.67v.44c0 7.91 3.91 12.41 10.83 12.41 4.61 0 8.92-1.71 13.03-5.11l5.21 8.04c-5.91 4.8-12.12 7.1-19.34 7.1-14.73 0-24.25-10.43-24.25-26.55 0-9.24 1.89-15.35 6.4-20.35 4.22-4.72 9.33-6.92 16.14-6.92 5.92 0 11.53 1.99 14.85 5.4 4.7 4.83 6.81 11.76 6.81 22.47v3.07h-.01zm-.32 93.83H307.8v.41c0 7.9 3.92 12.42 10.83 12.42 4.62 0 8.91-1.72 13.02-5.12l5.23 8.04c-5.92 4.8-12.13 7.1-19.35 7.1-14.74 0-24.26-10.43-24.26-26.55 0-9.23 1.9-15.35 6.4-20.35 4.22-4.73 9.33-6.92 16.14-6.92 5.9 0 11.53 2.01 14.84 5.42 4.71 4.8 6.81 11.73 6.81 22.43v3.12zm-50.78-72.34h-13.13v-34.5c0-5.09-1.4-7.01-5.21-7.01-3.31 0-7.63 2.01-10.62 4.73v36.78h-13.63v-59.35c0-4.82-.4-9.61-1-11.73l13.73-3.21c.59 2.81.9 7.61.9 12.52v10.22c0 1.61-.2 3.72-.2 4.32 3.51-3.31 9.31-5.52 14.54-5.52 6.51 0 11.72 2.81 13.33 7.31.99 2.94 1.3 4.63 1.3 9.54v35.9h-.01zm-2.73 93.8h-13.23v-33.38c0-5.81-1.01-7.52-4.51-7.52-2.7 0-6.22 1.82-9.31 4.62v36.28h-13.45v-37.19c0-4.41-.6-8.61-1.79-12.04l11.95-3.4c1.18 2.1 1.88 4.31 1.88 6.41 2.01-1.38 3.72-2.6 5.91-3.81 2.73-1.39 6.23-2.19 9.22-2.19 5.71 0 10.73 2.99 12.32 7.42.74 1.9 1.02 4.11 1.02 7.31v37.49h-.01zm-57.3-92.61c-6.81 0-12.23-2.99-13.83-7.52-.8-2.23-.9-3.23-.9-7.92v-27.88h-5.11v-9.21h5.11c0-5 0-8.34.5-12.13l13.64-3.4c-.5 4.69-.8 10.32-.8 15.54h12.04l-3.42 9.21h-8.61v25.78c0 6.51 1.19 8.22 5.81 8.22 1.2 0 2.41-.32 4.81-1.01l1.7 8.01c-3.94 1.61-7.43 2.31-10.94 2.31zm4.99 92.61H218.4v-33.38c0-5.81-1.01-7.52-4.51-7.52-2.7 0-6.19 1.82-9.32 4.62v36.28h-13.44v-37.19c0-4.41-.58-8.61-1.77-12.04l11.92-3.4c1.2 2.1 1.91 4.31 1.91 6.41 1.99-1.38 3.69-2.6 5.9-3.81 2.7-1.39 6.21-2.19 9.21-2.19 5.72 0 10.74 2.99 12.33 7.42.71 1.9 1.02 4.11 1.02 7.31v37.49h-.01zm-55.28-91.9c-11.45 0-17.65-5.83-17.65-16.06 0-12.03 8.31-17.63 24.63-17.63 1.01 0 1.92 0 3.01.09v-2.11c0-5.69-1.09-7.61-6-7.61-4.3 0-9.32 2.13-14.83 5.85l-5.72-9.65c2.72-1.71 4.71-2.71 8.34-4.19 5-2.12 9.32-3.01 14.02-3.01 8.61 0 14.54 3.21 16.55 8.91.69 2.1.99 3.7.89 9.22l-.29 17.26v.9c0 5.5.89 7.58 4.8 10.51l-7.11 8.22c-3.11-1.31-5.92-3.59-7.22-6.22-1 .98-2.11 2.01-3.11 2.71-2.51 1.8-6.11 2.81-10.31 2.81zm.06 94.51c-3.1-1.31-5.92-3.61-7.21-6.23-1.01 1.02-2.11 2.01-3.11 2.72-2.51 1.81-6.11 2.8-10.33 2.8-11.43 0-17.65-5.82-17.65-16.02 0-12.04 8.33-17.67 24.67-17.67 1 0 1.91 0 3.01.1v-2.08c0-5.74-1.1-7.63-6.03-7.63-4.32 0-9.34 2.11-14.83 5.82l-5.73-9.64c2.72-1.7 4.73-2.69 8.34-4.19 5.02-2.12 9.32-3.01 14.05-3.01 8.59 0 14.52 3.19 16.51 8.93.72 2.1 1.03 3.72.92 9.21l-.29 17.26v.89c0 5.52.9 7.6 4.82 10.52l-7.14 8.22zM108.4 242.98c0-9.24 1.9-15.35 6.41-20.35 4.22-4.72 9.33-6.92 16.15-6.92 5.91 0 11.54 1.99 14.84 5.4 4.72 4.83 6.83 11.76 6.83 22.47v3.08h-29.68v.44c0 7.91 3.92 12.41 10.82 12.41 4.62 0 8.91-1.71 13.03-5.11l5.22 8.04c-5.92 4.8-12.14 7.1-19.36 7.1-14.73-.01-24.26-10.44-24.26-26.56zm20.64 118.96H115.9v-34.5c0-5.1-1.4-7-5.2-7-3.31 0-7.63 1.99-10.63 4.71v36.79H86.44V302.6c0-4.83-.41-9.62-1.01-11.74l13.75-3.2c.58 2.82.89 7.62.89 12.56v10.19c0 1.6-.2 3.72-.2 4.33 3.5-3.32 9.32-5.53 14.53-5.53 6.52 0 11.71 2.81 13.32 7.33 1.01 2.92 1.32 4.61 1.32 9.54v35.86zm-69.54 1.19c-9.63 0-17.05-3.09-22.76-9.61-5.62-6.31-8.43-14.73-8.43-24.96 0-8.72 1.52-15.64 4.7-21.65 5.44-10.12 15.46-16.14 26.69-16.14 6.91 0 13.82 2.21 17.64 5.52l-6.32 9.51c-3.51-2.6-7.22-3.9-11.12-3.9-4.72 0-9.33 2.29-11.83 6.01-2.7 4-3.91 9.83-3.91 17.94 0 9.52.79 14.83 2.89 18.65 2.81 5.12 7.42 7.81 13.44 7.81 4.1 0 7.82-1.19 11.93-4.49l6.42 8.81c-5.52 4.49-11.41 6.5-19.34 6.5zM40.56 198.45l6 27.48c2.81 13.04 3.72 22.95 3.72 22.95.29-2.7 1.5-12.64 3.59-22.25l6.21-28.18h15.35l6.44 31.19c1.3 6.51 3 18.45 3 18.45.19-2.22 2.39-16.36 3.8-23.18l5.72-26.47h14.73l-16.83 70.27H76.94l-6.23-28.36c-2.1-9.32-3.11-18.34-3.29-20.24 0 0-1.2 9.82-3.34 20.05l-5.8 28.55H42.36l-16.65-70.27h14.85v.01zm-14.34-92.24h50.22l-2.3 11.64H57.5v58.04H43.25v-58.04H26.22v-11.64zm69.95-4.61c.59 2.81.9 7.62.9 12.53v10.23c0 1.58-.21 3.71-.21 4.31 3.51-3.31 9.32-5.53 14.53-5.53 6.52 0 11.73 2.8 13.35 7.32 1 2.9 1.3 4.61 1.3 9.53v35.89H112.9V141.4c0-5.11-1.4-7.01-5.23-7.01-3.31 0-7.61 1.99-10.61 4.71v36.79H83.44v-59.35c0-4.82-.41-9.61-1.02-11.73l13.75-3.21zm45.17 28.78c4.21-4.72 9.32-6.94 16.14-6.94 5.9 0 11.52 2.03 14.84 5.44 4.71 4.82 6.81 11.71 6.81 22.45v3.11h-29.66v.41c0 7.92 3.9 12.42 10.81 12.42 4.6 0 8.92-1.69 13.03-5.12l5.23 8.04c-5.93 4.79-12.15 7.1-19.35 7.1-14.75 0-24.27-10.43-24.27-26.54.01-9.26 1.9-15.37 6.42-20.37zM.82.04v399.28h399.26V.04H.82z\" fill=\"currentColor\"></path>\n",
            "<path d=\"M316.33 225.51c-5.11 0-8.03 4.03-8.03 11.14v.19h15.55v-.6c0-3.81-.41-5.8-1.61-7.7-1.3-2.02-3.21-3.03-5.91-3.03zm101.57-211h2.16c1.87 0 3.69-.1 3.69-2.32 0-1.91-1.65-2.13-3.08-2.13h-2.77v4.45zm-2.09-6.16h5.21c3.27 0 4.83 1.3 4.83 3.94 0 2.51-1.59 3.56-3.65 3.78l3.97 6.1h-2.25l-3.75-5.94h-2.26v5.94h-2.09V8.35h-.01zm4.51 17.03c5.4 0 9.72-4.38 9.72-10.11 0-5.72-4.32-10.11-9.72-10.11-5.43 0-9.72 4.39-9.72 10.11 0 5.73 4.28 10.11 9.72 10.11m0-21.93c6.42 0 11.82 5.08 11.82 11.82s-5.4 11.82-11.82 11.82c-6.45 0-11.82-5.08-11.82-11.82 0-6.73 5.37-11.82 11.82-11.82\" fill=\"currentColor\"></path>\n",
            "</svg>\n",
            "</span></a></div><div class=\"MainMenuHeader--wrapperRight--hvYkI\"><div class=\"Search--Search--WZQcy searchWrapper\" data-testid=\"Search\" role=\"search\"><form autocomplete=\"off\"><div class=\"SearchCombobox--Combobox--V10dt\" tabindex=\"-1\"><div class=\"SearchInput--SearchInput--sGYsi SearchInput--enableSearchIcon--fhKmm SearchInput--MainMenu--JHcxY\"><fieldset class=\"SearchInput--fieldset--GKZYD Fieldset--fieldset--HG-gW\"><legend class=\"Fieldset--legend--gAkkC Accessibility--visuallyHidden--n+vd9\">Type at least three characters to start auto complete. Recently searched locations will be displayed if there is no search query. The first option will be automatically selected. Use up and down arrows to change selection. Use escape to clear.</legend><label class=\"Accessibility--visuallyHidden--n+vd9\" for=\"headerSearch_LocationSearch_input\">Search City or Zip Code</label><input aria-autocomplete=\"list\" aria-controls=\"\" aria-expanded=\"false\" autocapitalize=\"off\" autocomplete=\"off\" class=\"SearchInput--InputField--KQ3i+ Search--inputClass--XYtnA HeaderLargeScreen--searchInputClass--wjW3e\" data-testid=\"searchModalInputBox\" disabled=\"\" id=\"headerSearch_LocationSearch_input\" placeholder=\"Search City or Zip Code\" role=\"combobox\" type=\"text\" value=\"\"/></fieldset><span class=\"Icon--iconWrapper--vSeDL\"><svg class=\"SearchInput--searchIcon--KGKb2 Icon--icon--ySD-o Icon--lightTheme--Mqfrs\" fill=\"none\" name=\"location-2\" viewbox=\"0 0 21 20\" xmlns=\"http://www.w3.org/2000/svg\">\n",
            "<path clip-rule=\"evenodd\" d=\"M8.757 3.54c2.284 0 4.142 1.866 4.142 4.16 0 2.293-1.858 4.16-4.142 4.16-2.283 0-4.141-1.867-4.141-4.16 0-2.294 1.858-4.16 4.141-4.16Zm4.467 8.18a6.016 6.016 0 0 0 1.54-4.02c0-3.327-2.694-6.034-6.007-6.034-3.312 0-6.007 2.707-6.007 6.034s2.695 6.033 6.007 6.033a5.943 5.943 0 0 0 3.023-.828l4.327 5.1a.93.93 0 0 0 1.316.104.94.94 0 0 0 .104-1.32l-4.303-5.07Z\" fill=\"currentColor\" fill-rule=\"evenodd\"></path>\n",
            "</svg>\n",
            "</span></div><div class=\"RecentLocations--container--Vn06V\" role=\"alert\"><div class=\"SearchTitle--container--+V-ia\"><h2 class=\"SearchTitle--text--Us3Z3\" data-testid=\"searchedLocTitle\">recents</h2><button class=\"Button--default--osTe5 RecentLocations--clearButton--Kia-a\" data-testid=\"clearAll\" type=\"button\">Clear All</button></div><div class=\"RecentLocations--NoResults--XJupj\">You have no recent locations</div></div></div></form></div><div class=\"LanguageSelector--LanguageSelector--+88Kw\" data-testid=\"languageSelectorSection\"><button aria-expanded=\"false\" aria-haspopup=\"menu\" aria-label=\"[object Object]\" class=\"Button--default--osTe5\" data-testid=\"ctaButton\" type=\"button\"><div class=\"LanguageSelector--menuButtonInner--CYH92\"><span class=\"Icon--iconWrapper--vSeDL\"><svg class=\"LanguageSelector--globeIcon--NnLru Icon--icon--ySD-o Icon--lightTheme--Mqfrs\" name=\"globe\" viewbox=\"0 0 24 24\"><title>Globe</title><path d=\"M14.227 8.016h-.141c-.047-.023-.352.305-.352.305s-.234.094-.258.141c0 .047-.07 0-.023.07.023.07.164.023.234-.07.094-.07.258-.117.328-.164.07-.07.094-.047.234-.117.141-.047.234-.07.188-.141-.023-.023-.07-.023-.117-.023h-.117zm-1.243-.375c-.117 0-.258.047-.328.164-.047.117 0 .305-.023.398s-.047.305.07.328c.141.023.141-.188.117-.234s-.023-.281.047-.328c.047-.047.117-.164.258-.164.141-.023.258.094.234.211s.023.234.07.234.211-.094.164-.164.047-.352.047-.258.117.164.188.141-.07-.258-.164-.258c-.094-.023-.281-.023-.328 0-.023 0-.094 0-.164-.023s-.141-.023-.188-.023h-.023zm-.679-.305c-.164.07-.234.047-.234.141 0 .07.141.07.211.047a.708.708 0 01.258-.07c.047-.023.023.07.141.07s.281.047.305.023.164-.164.047-.188c-.094-.023-.234-.117-.328-.188-.023-.023-.023-.023-.047-.023-.094 0-.234.141-.398.188zM6.68 7.242c.07.047.211.047.211.117s.047.234.117.211.07-.164.023-.211-.258-.211-.305-.211-.117-.07-.164-.094h-.023c-.07 0 .07.164.117.211zM2.953 5.555c-.141.094-.211.047-.281.117s-.281.141-.211-.023.07-.188-.047-.141-.141.141-.141.211-.188.164-.188.164.164.023.234 0 .023.141-.047.188-.164.141-.281.117-.117-.117-.188-.141c-.047 0-.094.023-.188.07A11.924 11.924 0 00.045 12c0 6.563 5.344 11.93 11.93 11.906.984 0 1.945-.141 2.859-.375a.174.174 0 01-.117-.211c.047-.141-.07-.141-.141-.211-.07-.094.094-.141.07-.188s-.141-.023-.164-.117.094-.258.117-.281c0-.047-.094-.141-.117-.188 0-.047.047-.117.164-.234.094-.094.164-.234.164-.281s-.07-.164-.07-.281c0-.094.07-.141.094-.305 0-.141-.094-.117-.094-.211 0-.117.141-.07.117-.211-.023-.117.07-.211.117-.281s.07-.211.141-.305c.047-.094-.047-.305-.047-.352s.164-.094.094-.188c-.094-.07.023-.141.117-.211.07-.07-.023-.258.047-.516.047-.234.07-.656.07-.703s0-.211-.047-.305c-.07-.117-.141-.188-.234-.234s-.211-.164-.281-.188c-.07 0-.398-.117-.398-.328 0-.188-.234-.328-.258-.469s-.211-.422-.234-.563c0-.117-.305-.164-.328-.328-.047-.164.141-.258.164-.352s-.094-.305-.117-.375c0-.047.211-.258.281-.305s.141-.211.188-.211.047-.141.094-.305c.047-.141-.023-.352-.07-.375s-.094-.188-.141-.258c-.07-.047-.188-.023-.188-.023s.023.141-.094.188c-.141.047-.164-.023-.188-.047-.047-.047-.188-.047-.258-.117s-.164-.164-.258-.188c-.07-.047-.211-.07-.188-.234 0-.164-.164-.258-.234-.281-.047-.023-.164-.094-.234-.047-.047.023-.094 0-.141-.023s-.094-.047-.141-.047c-.094 0-.281-.164-.352-.234s-.117-.164-.234-.164-.141.047-.211.141c-.094.094-.211-.07-.234-.117-.047-.047-.141-.047-.281-.047-.164 0-.258-.211-.305-.234l-.516-.258c-.094-.047-.188-.258-.141-.305s-.07-.234-.07-.234-.188-.211-.258-.211-.281-.375-.398-.492-.398-.352-.445-.469-.07-.305-.188-.211c-.141.094-.023.188.117.305s.117.211.305.352.117.305.188.352c.07.07.352.234.234.328-.117.117-.234-.141-.305-.141-.047-.023-.164-.047-.164-.117.023-.07-.094-.141-.188-.258s-.141-.047-.258-.047 0-.141.047-.211c.07-.07-.07-.164-.141-.188s-.188-.328-.305-.516-.188-.281-.305-.258-.164-.141-.258-.188c-.07-.047-.211-.305-.328-.445-.141-.141-.258-.398-.234-.539s.047-.516.047-.609-.07-.328-.07-.352c0-.047-.07-.117-.117-.117-.047-.023-.211-.211-.328-.211s-.188-.141-.164-.234c.047-.094-.117-.258-.164-.258-.07 0-.164-.164-.211-.258s-.141-.094-.117-.047 0 .141.047.164c.07.023.117.234.07.281-.047.023-.188-.094-.305-.141-.141-.07-.07-.328-.07-.398s-.188-.141-.281-.141c-.07 0-.164.023-.164-.164 0-.164-.258-.258-.328-.258-.094 0-.516-.164-.656-.164s-.375-.117-.445-.07-.234-.094-.305-.094-.07.047-.234.141zm11.203 6.703c.117-.023.211.188.047.211h-.023c-.117 0-.141-.211-.023-.234zm1.782-.141c.117-.023.211.164.047.211h-.023c-.117 0-.141-.211-.023-.234zm-.774.164c-.07-.047-.117-.094-.234-.094-.07 0-.234-.023-.234-.023s.234-.211.328-.211c.094-.023.211-.047.305-.023.117.023.281.094.281.281-.023.164-.094.023-.141.023-.023 0-.141.07-.234.07h-.047zm-2.062-.773s.328-.094.398-.094.281 0 .398.094.305.211.398.188.258.141.234.188-.234.047-.305-.023c-.07-.047-.305-.164-.375-.234-.047-.07-.352-.047-.492-.047h-.164c-.07 0-.141-.023-.117-.094zm1.007-.375c.117-.023.211.117.047.141h-.023c-.117 0-.141-.117-.023-.141zm-.375-5.86c.117-.047.164.07.094.117h-.047c-.094 0-.164-.07-.047-.117zm-.515-.093c.094-.094.234 0 .188.047 0 .023-.023.023-.07.023-.07 0-.164-.047-.141-.07zm-2.578-1.711c.07-.023.305-.047.352 0 .07.047.117.234.07.258-.047 0-.023.07-.188.164-.164.07-.211-.164-.234-.211 0-.023-.07-.023-.141 0-.047 0-.094.023-.141.023-.094 0-.141-.141-.07-.188.047-.047.141-.023.211-.023h.141zm.656.094c-.023-.07.258-.188.328-.211s.141.047.234.07c.094 0 .07.141 0 .164-.07 0-.258.023-.375.047h-.047c-.094 0-.141-.047-.141-.047zm-.024-.375c.047-.117.281-.07.305.047.023.047-.047.07-.094.07-.094 0-.234-.047-.211-.094zm-.539-.211c.164-.023.234.07.234.117s-.117.188-.234.164h-.07c-.047 0-.047 0-.094-.07-.047-.094-.328-.047-.375-.047s-.094.164-.164.188-.117-.07-.07-.07c.023-.023-.047-.211.023-.258.047-.047.281-.047.469-.023h.281zm-3.468-.071c.047 0 .398-.117.586-.141s.258.07.281.117.445.07.445.07.211.117.234.141c.047.023.141 0 .188-.047s.07-.117.211-.141.141.117.234.141c.07.023.117 0 .188-.047.094-.047.141.047.141.047s-.047.164-.047.234c0 .047-.094.07-.117.117s-.305 0-.422-.023c-.094-.023-.328-.023-.398 0s-.258.023-.328 0-.07-.141-.141-.188c-.047-.047-.188.07-.258.094s-.188-.117-.164-.188c0-.07-.258-.023-.305 0s-.234.023-.352.023-.211 0-.188-.047c.023-.07.117-.07.188-.07s-.047-.117 0-.117zm4.922.399s-.258-.07-.305-.164c-.07-.094-.305-.094-.422-.141s-.281-.117-.375-.164-.047-.188-.047-.164.188.07.305.094c.234.047.211.047.305.07s.281.164.375.211c.07.047.164.117.258.117h1.102c.07 0 .422.07.398.094s-.047.094-.211.094-.469-.023-.68-.047-.398.023-.398.023l-.281-.023zm-3.61-.586c.164-.047.305-.164.422-.164s.047.188.047.234c.023.047-.117.07-.188.047-.047-.047-.234.023-.305.023s-.094-.094 0-.141zm1.195-.117c.023-.117.141-.094.258-.117.117 0 .281 0 .422.047.164.047.141.047.211.117s.094.188.023.188-.117-.023-.258-.047c-.117-.023-.094-.047-.117-.094s-.258 0-.352 0-.188-.047-.188-.117zM3.234 3.961c.188.023.469.023.516.023s.328.094.492.047.258.023.305.047.07.023.141.094.141.023.234-.047c.094-.047.07-.117.07-.117l.094-.023c.07-.023.141.023.352.047.234.023.164-.047.328-.094a.474.474 0 01.258.023c.047.023.094.047.117.023.047-.023.117-.117.164-.07s.117.164.117.164.164-.141.211-.141.211.047.305.047c.094-.023.445-.023.539.047.07.07.281.047.398.117s.211-.047.164-.07-.188-.141-.188-.141-.211-.234-.234-.281-.07-.047-.117.07-.258.117-.492.117-.07-.117-.328-.117c-.258-.023-.164-.117-.07-.117.07 0 .141-.164.164-.258s.117-.07.305-.07h.422c.094.023.141 0 .188-.023s.094-.047.188-.023c.188.023.094.047.188.117.117.07.164.047.328.117.141.07.094.07.164.07.07.023.281-.023.422-.047s.234-.023.305.047.047.164.141.234-.047-.234-.047-.352.188-.023.305-.023.258-.047.281.023c.023.047-.188.141-.07.258s.211.164.305.164.352.023.234.164-.398.141-.492.141-.258.047-.211.141c.047.07.258.047.398.047s.609.047.727 0 .094-.188-.047-.234-.023-.117.117-.094c.07.023.117 0 .164 0s.094-.023.07 0c-.023.047.023.141.023.234 0 .117.047.164.141.141s.117-.047.211-.047c.094-.023.047-.234-.023-.352-.047-.117-.094-.188-.07-.258 0-.07.164-.07.234-.023.07.07.188.211.188.211s.164.094.211.211.07.07.188.023c.117-.07.141-.047.234.023s.023.211.023.234c0 .047.117 0 .141-.07 0-.094.141-.094.188-.117.07-.023.07-.188.07-.188s-.164-.047-.352-.023c-.164.023-.234-.023-.375-.117s-.047-.164-.117-.258.211-.141.398-.234c.164-.07.328-.023.305.164-.023.211-.047.164.141.141.164-.047-.047-.211.07-.234a2.67 2.67 0 01.398-.047c.094.023.516-.047.633-.047s.281.094.398.164c.141.07.469.164.539.211.094.047.633.117.703.141.047.023.047.188.117.328.047.141.188.047.258.047.047 0 .234.094.281.164s.445.117.445.117-.117.117-.141.164c-.047.047-.164.07-.211.117-.094.047-.164-.023-.281-.07-.094-.07-.281-.117-.328-.094s0 .07.023.117c.047.047.211.094.328.188.141.07.094.164.117.258 0 .117-.094-.047-.234-.07s-.141.117-.141.117-.164-.023-.234-.023c-.094 0 0 0-.164-.117-.07-.07-.117-.023-.141 0s-.023.047-.07.023c-.094-.047-.164-.141-.188-.117s-.07-.023-.117-.047-.094-.07-.141-.047h-.211c-.117 0-.234-.023-.281 0-.07.023-.141.023-.211.047-.094.023-.094-.188-.07-.258.047-.07.141-.07.328-.047.164.047.188 0 .234-.07s.07-.141.258-.188 0-.094-.07-.117c-.047-.023-.117-.07-.164 0s-.141.164-.141.164-.094 0-.258-.023-.047-.07.023-.094c.047-.023.141-.188.07-.234s-.094-.07-.211-.047-.047-.094-.117-.141c-.094-.047-.047.023-.047.07s-.117.047-.117.047-.188-.023-.258 0-.188.07-.141.117.164.047.211.164-.164.141-.211.164c-.047 0-.188.07-.188.07s-.164-.047-.305-.047-.164.023-.141.07.094.023.141.023.047.07.141.047c.117-.023.094-.07.211.047s.211.094.398.188-.023.211-.117.211-.094-.07-.141-.164c-.07-.07-.281.023-.281.023s-.188.094-.281.094-.164-.023-.047-.117-.141-.094-.141-.234-.047.141-.047.211c0 .047-.047.047-.117.023h-.211c-.234.023-.188.117-.492.305-.281.188-.352.234-.328.398s.094.117.211.164c.117.023.07.234.188.211.094-.023.164-.07.352.023s.281.117.516.164.375.117.492.07c.141-.023.188 0 .188.117 0 .094.094.117.07.234 0 .117.141-.117.141-.117s.07.211.023.234c-.07.023.023.141.07.141h.07c.047 0 .117.023.164-.023.07-.07-.047-.258-.047-.352 0-.07-.07-.117-.117-.211-.047-.07.094-.094.164-.023.047.07.141.023.234-.047s.094-.188.094-.188-.164-.211-.281-.258-.047-.07.07-.094 0-.07.023-.211c.047-.141.047-.234.117-.234.047 0 .305-.047.492-.023s.305.164.422.164c.141 0 .352.047.398.117s-.164.07-.047.188c.094.117.094.094.188.141s.211.023.328-.141c.094-.164.164-.164.211-.117.047.023.305.328.375.398s.188.211.211.281.188.07.258.07c.047 0 .258.141.281.234 0 .094.047.117.234.141.188.047 0 .188-.023.281-.047.07-.047.117-.117.211-.023.047-.023.047 0 .047s.047-.023.07 0c.07.047.094.094.188.07s.141 0 .188.094c.047.07.117.141.141.211s0 .164-.07.117c-.07-.07-.234-.023-.234-.023s-.094.07-.117.047c-.023-.047-.07-.094-.188-.07a.204.204 0 01-.164 0h-.117c-.094.023-.141-.047-.07-.117.07-.047.07-.258.211-.328s.094-.211 0-.211-.141.117-.188.141c-.07.023-.141.023-.258.094-.094.07-.352.047-.234.07.094.023-.164.141-.211.141-.094 0-.07-.164-.07-.234s-.117.047-.117.047-.211-.117-.281-.047-.188.117-.305.211c-.094.07-.328.211-.328.211s.094-.047.234-.07c.164-.047.141-.023.281-.094s.258-.094.375.023c.094.117-.023.188-.023.188s.047.094.117.117c.047.023.047-.023.141-.07s.047.117.07.164c.047.047.117.047.188 0 .07-.07.094-.117.141-.07s.07.141.117.234-.258.117-.328.141c-.07 0-.305.07-.352.07-.047.023-.164.141-.281.141s-.094-.164-.117-.258c0-.094-.117.023-.141.047-.023.047-.141.023-.234.047-.094 0-.258.094-.258.211s.094.164.07.211-.258.094-.352.07-.234.047-.188.094.047.141-.07.117c-.094 0-.094.094-.07.164.047.07-.117.211-.141.141-.047-.047-.117-.07-.117 0s.023.141.117.258c.07.117-.164.164-.281.258-.094.07-.398.352-.539.398s-.141.234-.07.305c.094.07.141.352.188.445s-.023.352-.141.352c-.117-.023-.07-.164-.188-.211s-.188-.281-.211-.445c-.047-.164-.07-.07-.141-.023-.094.047-.164-.117-.188-.141s-.117 0-.211 0c-.07 0-.164.023-.234.023-.164-.023-.211.07-.211.094 0 .047-.023.164-.188.07-.141-.07-.164-.07-.328-.07-.141 0-.281 0-.305.047s-.164.164-.258.188-.281.164-.188.188c.07.023.07.211.023.328s-.047.305-.023.492.188.305.328.422.211.164.352.047.211-.047.234-.023c.047.023.141-.07.117-.188-.047-.117.047-.234.188-.211.047 0 .117 0 .188-.023.07 0 .141-.023.188-.023.117 0 .141.258 0 .375-.164.117-.07.281-.094.398s-.141.141 0 .141.094.023.188.047.164-.07.281-.094c.094 0 .328.211.281.305a.983.983 0 00-.07.469c.047.164.07.164.117.234.023.047.141.164.258.117s.234-.094.281-.141.305.094.281.141c-.023.023.094.07.164.023.094-.023.117-.094.188-.211a.672.672 0 01.281-.211c.047 0 .211-.164.328-.141.094.023-.047.164-.047.234 0 .094 0 .305.047.328.07 0 .047-.164.117-.281.07-.141.211-.188.281-.188s.117.258.211.211c.094-.07.281-.047.328.023.023.07.07.117.07.117s.07-.047.07-.117c0-.094.211-.141.352-.07s.094.094.164.117c.07 0 .141-.164.164-.188.047-.023 0 .211-.094.328-.117.094.07.07.094.117.023.023.047.023.094 0 .047 0 .117 0 .141.023.047.047.164.094.234.258.094.117.211.094.375.07s.375.07.539.258c.164.164.117.305.234.305s.141.141.141.188-.234.164-.352.188c-.141 0-.141.141.07.117.211-.047.117-.117.258-.141.141-.047.258.047.164.211-.141.164-.375.164-.164.188s.094-.047.211-.188c.117-.164.117-.117.188-.117.094 0 .258.047.328.094s.234.141.352.188c.117.07.258.047.328.023s.328.07.398.188c.07.094.258.117.375.164.094.047.234.188.234.328.023.141-.141.422-.141.492-.023.047-.234.305-.422.469s-.07.352-.07.422c.023.07-.141.375-.094.445s-.047.211-.141.328c-.094.094-.141.258-.188.352-.07.094-.234.07-.398.117-.164.023-.234.07-.234.07s-.305.117-.445.234c-.164.117.047.305-.023.445s-.164.141-.234.305c-.047.117-.094.094-.117.07-.023 0-.047-.023-.07 0-.07.047-.117.141-.117.258-.023.094-.141.211-.328.375-.164.164-.281.141-.469.07-.188-.047-.164-.516-.188-.445s-.023.305.023.352c.023.047.117.211.164.234.07.047.047.117 0 .164-.047.07-.211.305-.258.328s-.469.07-.563.023c-.07-.047-.117.094-.117.188.023.094.094.164-.07.141s-.352-.117-.352-.047.047.211.117.211.164-.047.117.047-.141.164-.211.211c-.047.047-.117.164-.258.258s-.141.141-.117.188.234.023.281.047-.047.211-.094.258-.281.234-.375.281-.094.211-.047.328c4.453-1.406 7.781-5.344 8.273-10.125-.117-.094-.047-.211-.07-.328-.023-.141-.164-.188-.094-.211s.047-.094.234-.281c0-.141.023-.281.023-.422v-.094c-.047-.094-.117-.258-.023-.422a11.765 11.765 0 00-2.766-7.125 5.65 5.65 0 01-.398.047c-.094 0-.234.211-.258.258s-.328 0-.422 0-.188.117-.375.141c-.164.023-.094.141-.07.234 0 .094-.047.141-.141.117-.117-.023-.094.047-.117.117s.023.188-.094.281c-.094.07-.141.117-.258.094-.117 0-.117-.211-.141-.188-.047 0-.234.141-.281.07s-.281-.234-.375-.258c-.094-.047-.164-.188-.188-.258-.047-.07.117-.07.07-.07-.047-.023-.211-.047-.258-.094s-.141-.258-.164-.328c0-.07.141-.164.141-.211 0-.023-.141-.023-.188-.023s-.117-.141-.047-.281.211-.094.211-.094h.117c.07 0 .047.164.023.234s.047.07.094.094.07-.07.07-.117c0-.07-.117-.211-.188-.281-.047-.07-.234-.094-.258-.047s-.164.234-.211.188-.047-.445-.117-.563-.328-.141-.445-.211c-.094-.047-.492-.117-.563-.117-.023 0-.094 0-.141.023a.482.482 0 01-.258 0c-.094-.023-.094-.211-.094-.211s-.07.188-.094.234c-.047.047-.141.07-.188.047s-.164-.234-.281-.258h-.117c-.047 0-.094 0-.164-.047-.141-.117.258-.094.281-.094s.328-.07.352-.141c0-.094.094-.188.234-.141.141.023.211-.094.188-.211s.258-.234.305-.164c.047.047.281 0 .211-.117s.281-.211.609-.234.422.023.492.07.281.047.398-.023A11.889 11.889 0 0011.992.304c-3.469 0-6.586 1.5-8.766 3.867z\"></path></svg>\n",
            "</span><span class=\"LanguageSelector--LanguageSelectorStatus--bxy1o\" data-testid=\"languageSelectorStatus\">US</span><span class=\"LanguageSelector--unitDisplay--8FGMs\">°F</span><span class=\"Icon--iconWrapper--vSeDL\"><svg class=\"LanguageSelector--arrowIcon--3yZiR Icon--icon--ySD-o Icon--lightTheme--Mqfrs\" name=\"triangle-down\" style=\"width:17px\" viewbox=\"0 0 24 24\"><title>Arrow down</title><path d=\"M23.765 5.167h-23.53l11.75 13.666 11.779-13.666z\"></path></svg>\n",
            "</span></div></button><nav aria-hidden=\"true\" class=\"ExpandableMenu--ExpandableMenu--DLqTu ExpandableMenu--fullWidth--IQ-7i LanguageSelector--LanguageSelectorMenu--zgBne\" hidden=\"\" tabindex=\"-1\"><div class=\"ExpandableMenu--inner--d7mmL ExpandableMenu--bottomRoundBorder--jWs31 ExpandableMenu--outline--U4tFj ExpandableMenu--fullWidthInner--f9K1d\"><div class=\"ExpandableMenu--innerPadding--t-XyG\"><section class=\"UnitSelector--UnitSelector--P+TRg LanguageSelector--unitSelectorContainer--rEQQ3\" data-testid=\"unitSelectorSection\"><ul aria-labelledby=\"UnitSelectorTabsLabel\" class=\"TabList--tabList--9QUOW UnitSelector--UnitSelectorTabList--pVhsa TabList--center--iDXfC\" data-testid=\"unitSelectorBar\" id=\"UnitSelectorTabs\" role=\"tablist\"><li aria-controls=\"UnitSelectorTabs-tabpanel_0\" aria-selected=\"true\" class=\"UnitSelector--UnitSelectorInactiveTab--wj0Uj TabList--tab--2mk3x TabList--default--IQyjF UnitSelector--UnitSelectorActiveTab--UrPsj undefined TabList--tabSelected--T4YuL\" data-testid=\"degreesFbutton\" id=\"UnitSelectorTabs-tab_0\" role=\"tab\" selected=\"\" tabindex=\"0\">°F</li><li aria-controls=\"UnitSelectorTabs-tabpanel_1\" aria-selected=\"false\" class=\"UnitSelector--UnitSelectorInactiveTab--wj0Uj TabList--tab--2mk3x TabList--default--IQyjF UnitSelector--UnitSelectorInactiveTab--wj0Uj\" data-testid=\"degreesCbutton\" id=\"UnitSelectorTabs-tab_1\" role=\"tab\" tabindex=\"0\">°C</li><li aria-controls=\"UnitSelectorTabs-tabpanel_2\" aria-selected=\"false\" class=\"UnitSelector--UnitSelectorInactiveTab--wj0Uj TabList--tab--2mk3x TabList--default--IQyjF UnitSelector--UnitSelectorInactiveTab--wj0Uj\" data-testid=\"hybridButton\" id=\"UnitSelectorTabs-tab_2\" role=\"tab\" tabindex=\"0\">Hybrid</li></ul><div aria-hidden=\"false\" aria-labelledby=\"UnitSelectorTabs-tab_0\" id=\"UnitSelectorTabs-tabpanel_0\" role=\"tabpanel\" theme=\"default\"><div class=\"UnitSelector--UnitSelectorPanel--GB-wb\" data-testid=\"imperialUnits\">Imperial - F / mph / miles / inches</div></div><div aria-hidden=\"true\" aria-labelledby=\"UnitSelectorTabs-tab_1\" hidden=\"\" id=\"UnitSelectorTabs-tabpanel_1\" role=\"tabpanel\" theme=\"default\"></div><div aria-hidden=\"true\" aria-labelledby=\"UnitSelectorTabs-tab_2\" hidden=\"\" id=\"UnitSelectorTabs-tabpanel_2\" role=\"tabpanel\" theme=\"default\"></div></section><div class=\"CountryList--languageSection--dx-S7\" data-testid=\"LanguageSection\"><details class=\"LanguageSelector--LanguageSection--wi4vW Disclosure--themeList--vEbAF\"><summary class=\"Disclosure--Summary--kMIqY CountryList--Summary--ZaOpZ LanguageSelector--Summary--PpuWo\"><div class=\"Disclosure--SummaryDefault--h4p1H\">Americas<span class=\"Icon--iconWrapper--vSeDL\"><svg class=\"Disclosure--SummaryIcon--ldYIx Icon--icon--ySD-o\" fill=\"none\" name=\"add\" viewbox=\"0 0 20 21\" xmlns=\"http://www.w3.org/2000/svg\">\n",
            "<title>Add</title>\n",
            "<path d=\"M10.625 9.875V5.5h-1.25v4.375H5v1.25h4.375V15.5h1.25v-4.375H15v-1.25h-4.375Z\" fill=\"currentColor\"></path>\n",
            "</svg>\n",
            "</span></div></summary><div class=\"LanguageSelector--Content--IY8mH\"><div class=\"CountryList--listContainer--CGSwd LanguageSelector--RegionBlock--xZ5YM\"><a class=\"ListItem--listItem--UuEqg ListItem--disableBorder--mVHYd CountryList--DisclosureLink--mHV3q LanguageSelector--RegionLink--DISY0 Button--default--osTe5\" href=\"/en-AG/weather/today/l/368425437d3d0f1d19146f31746760b223149ec51b637bb4cd8cda0832eb63cf\" target=\"_self\">Antigua and Barbuda | English</a><a class=\"ListItem--listItem--UuEqg ListItem--disableBorder--mVHYd CountryList--DisclosureLink--mHV3q LanguageSelector--RegionLink--DISY0 Button--default--osTe5\" href=\"/es-AR/weather/today/l/368425437d3d0f1d19146f31746760b223149ec51b637bb4cd8cda0832eb63cf\" target=\"_self\">Argentina | Español</a><a class=\"ListItem--listItem--UuEqg ListItem--disableBorder--mVHYd CountryList--DisclosureLink--mHV3q LanguageSelector--RegionLink--DISY0 Button--default--osTe5\" href=\"/en-BS/weather/today/l/368425437d3d0f1d19146f31746760b223149ec51b637bb4cd8cda0832eb63cf\" target=\"_self\">Bahamas | English</a><a class=\"ListItem--listItem--UuEqg ListItem--disableBorder--mVHYd CountryList--DisclosureLink--mHV3q LanguageSelector--RegionLink--DISY0 Button--default--osTe5\" href=\"/en-BB/weather/today/l/368425437d3d0f1d19146f31746760b223149ec51b637bb4cd8cda0832eb63cf\" target=\"_self\">Barbados | English</a><a class=\"ListItem--listItem--UuEqg ListItem--disableBorder--mVHYd CountryList--DisclosureLink--mHV3q LanguageSelector--RegionLink--DISY0 Button--default--osTe5\" href=\"/en-BZ/weather/today/l/368425437d3d0f1d19146f31746760b223149ec51b637bb4cd8cda0832eb63cf\" target=\"_self\">Belize | English</a><a class=\"ListItem--listItem--UuEqg ListItem--disableBorder--mVHYd CountryList--DisclosureLink--mHV3q LanguageSelector--RegionLink--DISY0 Button--default--osTe5\" href=\"/es-BO/weather/today/l/368425437d3d0f1d19146f31746760b223149ec51b637bb4cd8cda0832eb63cf\" target=\"_self\">Bolivia | Español</a><a class=\"ListItem--listItem--UuEqg ListItem--disableBorder--mVHYd CountryList--DisclosureLink--mHV3q LanguageSelector--RegionLink--DISY0 Button--default--osTe5\" href=\"/pt-BR/weather/today/l/368425437d3d0f1d19146f31746760b223149ec51b637bb4cd8cda0832eb63cf\" target=\"_self\">Brazil | Português</a><a class=\"ListItem--listItem--UuEqg ListItem--disableBorder--mVHYd CountryList--DisclosureLink--mHV3q LanguageSelector--RegionLink--DISY0 Button--default--osTe5\" href=\"/en-CA/weather/today/l/368425437d3d0f1d19146f31746760b223149ec51b637bb4cd8cda0832eb63cf\" target=\"_self\">Canada | English</a><a class=\"ListItem--listItem--UuEqg ListItem--disableBorder--mVHYd CountryList--DisclosureLink--mHV3q LanguageSelector--RegionLink--DISY0 Button--default--osTe5\" href=\"/fr-CA/weather/today/l/368425437d3d0f1d19146f31746760b223149ec51b637bb4cd8cda0832eb63cf\" target=\"_self\">Canada | Français</a><a class=\"ListItem--listItem--UuEqg ListItem--disableBorder--mVHYd CountryList--DisclosureLink--mHV3q LanguageSelector--RegionLink--DISY0 Button--default--osTe5\" href=\"/es-CL/weather/today/l/368425437d3d0f1d19146f31746760b223149ec51b637bb4cd8cda0832eb63cf\" target=\"_self\">Chile | Español</a><a class=\"ListItem--listItem--UuEqg ListItem--disableBorder--mVHYd CountryList--DisclosureLink--mHV3q LanguageSelector--RegionLink--DISY0 Button--default--osTe5\" href=\"/es-CO/weather/today/l/368425437d3d0f1d19146f31746760b223149ec51b637bb4cd8cda0832eb63cf\" target=\"_self\">Colombia | Español</a><a class=\"ListItem--listItem--UuEqg ListItem--disableBorder--mVHYd CountryList--DisclosureLink--mHV3q LanguageSelector--RegionLink--DISY0 Button--default--osTe5\" href=\"/es-CR/weather/today/l/368425437d3d0f1d19146f31746760b223149ec51b637bb4cd8cda0832eb63cf\" target=\"_self\">Costa Rica | Español</a><a class=\"ListItem--listItem--UuEqg ListItem--disableBorder--mVHYd CountryList--DisclosureLink--mHV3q LanguageSelector--RegionLink--DISY0 Button--default--osTe5\" href=\"/en-DM/weather/today/l/368425437d3d0f1d19146f31746760b223149ec51b637bb4cd8cda0832eb63cf\" target=\"_self\">Dominica | English</a><a class=\"ListItem--listItem--UuEqg ListItem--disableBorder--mVHYd CountryList--DisclosureLink--mHV3q LanguageSelector--RegionLink--DISY0 Button--default--osTe5\" href=\"/es-DO/weather/today/l/368425437d3d0f1d19146f31746760b223149ec51b637bb4cd8cda0832eb63cf\" target=\"_self\">Dominican Republic | Español</a><a class=\"ListItem--listItem--UuEqg ListItem--disableBorder--mVHYd CountryList--DisclosureLink--mHV3q LanguageSelector--RegionLink--DISY0 Button--default--osTe5\" href=\"/es-EC/weather/today/l/368425437d3d0f1d19146f31746760b223149ec51b637bb4cd8cda0832eb63cf\" target=\"_self\">Ecuador | Español</a><a class=\"ListItem--listItem--UuEqg ListItem--disableBorder--mVHYd CountryList--DisclosureLink--mHV3q LanguageSelector--RegionLink--DISY0 Button--default--osTe5\" href=\"/es-SV/weather/today/l/368425437d3d0f1d19146f31746760b223149ec51b637bb4cd8cda0832eb63cf\" target=\"_self\">El Salvador | Español</a><a class=\"ListItem--listItem--UuEqg ListItem--disableBorder--mVHYd CountryList--DisclosureLink--mHV3q LanguageSelector--RegionLink--DISY0 Button--default--osTe5\" href=\"/en-GD/weather/today/l/368425437d3d0f1d19146f31746760b223149ec51b637bb4cd8cda0832eb63cf\" target=\"_self\">Grenada | English</a><a class=\"ListItem--listItem--UuEqg ListItem--disableBorder--mVHYd CountryList--DisclosureLink--mHV3q LanguageSelector--RegionLink--DISY0 Button--default--osTe5\" href=\"/es-GT/weather/today/l/368425437d3d0f1d19146f31746760b223149ec51b637bb4cd8cda0832eb63cf\" target=\"_self\">Guatemala | Español</a><a class=\"ListItem--listItem--UuEqg ListItem--disableBorder--mVHYd CountryList--DisclosureLink--mHV3q LanguageSelector--RegionLink--DISY0 Button--default--osTe5\" href=\"/en-GY/weather/today/l/368425437d3d0f1d19146f31746760b223149ec51b637bb4cd8cda0832eb63cf\" target=\"_self\">Guyana | English</a><a class=\"ListItem--listItem--UuEqg ListItem--disableBorder--mVHYd CountryList--DisclosureLink--mHV3q LanguageSelector--RegionLink--DISY0 Button--default--osTe5\" href=\"/fr-HT/weather/today/l/368425437d3d0f1d19146f31746760b223149ec51b637bb4cd8cda0832eb63cf\" target=\"_self\">Haiti | Français</a><a class=\"ListItem--listItem--UuEqg ListItem--disableBorder--mVHYd CountryList--DisclosureLink--mHV3q LanguageSelector--RegionLink--DISY0 Button--default--osTe5\" href=\"/es-HN/weather/today/l/368425437d3d0f1d19146f31746760b223149ec51b637bb4cd8cda0832eb63cf\" target=\"_self\">Honduras | Español</a><a class=\"ListItem--listItem--UuEqg ListItem--disableBorder--mVHYd CountryList--DisclosureLink--mHV3q LanguageSelector--RegionLink--DISY0 Button--default--osTe5\" href=\"/en-JM/weather/today/l/368425437d3d0f1d19146f31746760b223149ec51b637bb4cd8cda0832eb63cf\" target=\"_self\">Jamaica | English</a><a class=\"ListItem--listItem--UuEqg ListItem--disableBorder--mVHYd CountryList--DisclosureLink--mHV3q LanguageSelector--RegionLink--DISY0 Button--default--osTe5\" href=\"/es-MX/weather/today/l/368425437d3d0f1d19146f31746760b223149ec51b637bb4cd8cda0832eb63cf\" target=\"_self\">Mexico | Español</a><a class=\"ListItem--listItem--UuEqg ListItem--disableBorder--mVHYd CountryList--DisclosureLink--mHV3q LanguageSelector--RegionLink--DISY0 Button--default--osTe5\" href=\"/es-NI/weather/today/l/368425437d3d0f1d19146f31746760b223149ec51b637bb4cd8cda0832eb63cf\" target=\"_self\">Nicaragua | Español</a><a class=\"ListItem--listItem--UuEqg ListItem--disableBorder--mVHYd CountryList--DisclosureLink--mHV3q LanguageSelector--RegionLink--DISY0 Button--default--osTe5\" href=\"/es-PA/weather/today/l/368425437d3d0f1d19146f31746760b223149ec51b637bb4cd8cda0832eb63cf\" target=\"_self\">Panama | Español</a><a class=\"ListItem--listItem--UuEqg ListItem--disableBorder--mVHYd CountryList--DisclosureLink--mHV3q LanguageSelector--RegionLink--DISY0 Button--default--osTe5\" href=\"/en-PA/weather/today/l/368425437d3d0f1d19146f31746760b223149ec51b637bb4cd8cda0832eb63cf\" target=\"_self\">Panama | English</a><a class=\"ListItem--listItem--UuEqg ListItem--disableBorder--mVHYd CountryList--DisclosureLink--mHV3q LanguageSelector--RegionLink--DISY0 Button--default--osTe5\" href=\"/es-PY/weather/today/l/368425437d3d0f1d19146f31746760b223149ec51b637bb4cd8cda0832eb63cf\" target=\"_self\">Paraguay | Español</a><a class=\"ListItem--listItem--UuEqg ListItem--disableBorder--mVHYd CountryList--DisclosureLink--mHV3q LanguageSelector--RegionLink--DISY0 Button--default--osTe5\" href=\"/es-PE/weather/today/l/368425437d3d0f1d19146f31746760b223149ec51b637bb4cd8cda0832eb63cf\" target=\"_self\">Peru | Español</a><a class=\"ListItem--listItem--UuEqg ListItem--disableBorder--mVHYd CountryList--DisclosureLink--mHV3q LanguageSelector--RegionLink--DISY0 Button--default--osTe5\" href=\"/en-KN/weather/today/l/368425437d3d0f1d19146f31746760b223149ec51b637bb4cd8cda0832eb63cf\" target=\"_self\">St. Kitts and Nevis | English</a><a class=\"ListItem--listItem--UuEqg ListItem--disableBorder--mVHYd CountryList--DisclosureLink--mHV3q LanguageSelector--RegionLink--DISY0 Button--default--osTe5\" href=\"/en-LC/weather/today/l/368425437d3d0f1d19146f31746760b223149ec51b637bb4cd8cda0832eb63cf\" target=\"_self\">St. Lucia | English</a><a class=\"ListItem--listItem--UuEqg ListItem--disableBorder--mVHYd CountryList--DisclosureLink--mHV3q LanguageSelector--RegionLink--DISY0 Button--default--osTe5\" href=\"/en-VC/weather/today/l/368425437d3d0f1d19146f31746760b223149ec51b637bb4cd8cda0832eb63cf\" target=\"_self\">St. Vincent and the Grenadines | English</a><a class=\"ListItem--listItem--UuEqg ListItem--disableBorder--mVHYd CountryList--DisclosureLink--mHV3q LanguageSelector--RegionLink--DISY0 Button--default--osTe5\" href=\"/nl-SR/weather/today/l/368425437d3d0f1d19146f31746760b223149ec51b637bb4cd8cda0832eb63cf\" target=\"_self\">Suriname | Nederlands</a><a class=\"ListItem--listItem--UuEqg ListItem--disableBorder--mVHYd CountryList--DisclosureLink--mHV3q LanguageSelector--RegionLink--DISY0 Button--default--osTe5\" href=\"/en-TT/weather/today/l/368425437d3d0f1d19146f31746760b223149ec51b637bb4cd8cda0832eb63cf\" target=\"_self\">Trinidad and Tobago | English</a><a class=\"ListItem--listItem--UuEqg ListItem--disableBorder--mVHYd CountryList--DisclosureLink--mHV3q LanguageSelector--RegionLink--DISY0 Button--default--osTe5\" href=\"/es-UY/weather/today/l/368425437d3d0f1d19146f31746760b223149ec51b637bb4cd8cda0832eb63cf\" target=\"_self\">Uruguay | Español</a><a class=\"ListItem--listItem--UuEqg ListItem--disableBorder--mVHYd CountryList--DisclosureLink--mHV3q LanguageSelector--RegionLink--DISY0 Button--default--osTe5\" href=\"/weather/today/l/368425437d3d0f1d19146f31746760b223149ec51b637bb4cd8cda0832eb63cf\" target=\"_self\">United States | English</a><a class=\"ListItem--listItem--UuEqg ListItem--disableBorder--mVHYd CountryList--DisclosureLink--mHV3q LanguageSelector--RegionLink--DISY0 Button--default--osTe5\" href=\"/es-US/weather/today/l/368425437d3d0f1d19146f31746760b223149ec51b637bb4cd8cda0832eb63cf\" target=\"_self\">United States | Español</a><a class=\"ListItem--listItem--UuEqg ListItem--disableBorder--mVHYd CountryList--DisclosureLink--mHV3q LanguageSelector--RegionLink--DISY0 Button--default--osTe5\" href=\"/es-VE/weather/today/l/368425437d3d0f1d19146f31746760b223149ec51b637bb4cd8cda0832eb63cf\" target=\"_self\">Venezuela | Español</a></div></div></details><details class=\"LanguageSelector--LanguageSection--wi4vW Disclosure--themeList--vEbAF\"><summary class=\"Disclosure--Summary--kMIqY CountryList--Summary--ZaOpZ LanguageSelector--Summary--PpuWo\"><div class=\"Disclosure--SummaryDefault--h4p1H\">Africa<span class=\"Icon--iconWrapper--vSeDL\"><svg class=\"Disclosure--SummaryIcon--ldYIx Icon--icon--ySD-o\" fill=\"none\" name=\"add\" viewbox=\"0 0 20 21\" xmlns=\"http://www.w3.org/2000/svg\">\n",
            "<title>Add</title>\n",
            "<path d=\"M10.625 9.875V5.5h-1.25v4.375H5v1.25h4.375V15.5h1.25v-4.375H15v-1.25h-4.375Z\" fill=\"currentColor\"></path>\n",
            "</svg>\n",
            "</span></div></summary><div class=\"LanguageSelector--Content--IY8mH\"><div class=\"CountryList--listContainer--CGSwd LanguageSelector--RegionBlock--xZ5YM\"><a class=\"ListItem--listItem--UuEqg ListItem--disableBorder--mVHYd CountryList--DisclosureLink--mHV3q LanguageSelector--RegionLink--DISY0 Button--default--osTe5\" href=\"/ar-DZ/weather/today/l/368425437d3d0f1d19146f31746760b223149ec51b637bb4cd8cda0832eb63cf\" target=\"_self\">Algeria | العربية</a><a class=\"ListItem--listItem--UuEqg ListItem--disableBorder--mVHYd CountryList--DisclosureLink--mHV3q LanguageSelector--RegionLink--DISY0 Button--default--osTe5\" href=\"/fr-DZ/weather/today/l/368425437d3d0f1d19146f31746760b223149ec51b637bb4cd8cda0832eb63cf\" target=\"_self\">Algeria | Français</a><a class=\"ListItem--listItem--UuEqg ListItem--disableBorder--mVHYd CountryList--DisclosureLink--mHV3q LanguageSelector--RegionLink--DISY0 Button--default--osTe5\" href=\"/pt-AO/weather/today/l/368425437d3d0f1d19146f31746760b223149ec51b637bb4cd8cda0832eb63cf\" target=\"_self\">Angola | Português</a><a class=\"ListItem--listItem--UuEqg ListItem--disableBorder--mVHYd CountryList--DisclosureLink--mHV3q LanguageSelector--RegionLink--DISY0 Button--default--osTe5\" href=\"/fr-BJ/weather/today/l/368425437d3d0f1d19146f31746760b223149ec51b637bb4cd8cda0832eb63cf\" target=\"_self\">Benin | Français</a><a class=\"ListItem--listItem--UuEqg ListItem--disableBorder--mVHYd CountryList--DisclosureLink--mHV3q LanguageSelector--RegionLink--DISY0 Button--default--osTe5\" href=\"/fr-BF/weather/today/l/368425437d3d0f1d19146f31746760b223149ec51b637bb4cd8cda0832eb63cf\" target=\"_self\">Burkina Faso | Français</a><a class=\"ListItem--listItem--UuEqg ListItem--disableBorder--mVHYd CountryList--DisclosureLink--mHV3q LanguageSelector--RegionLink--DISY0 Button--default--osTe5\" href=\"/fr-BI/weather/today/l/368425437d3d0f1d19146f31746760b223149ec51b637bb4cd8cda0832eb63cf\" target=\"_self\">Burundi | Français</a><a class=\"ListItem--listItem--UuEqg ListItem--disableBorder--mVHYd CountryList--DisclosureLink--mHV3q LanguageSelector--RegionLink--DISY0 Button--default--osTe5\" href=\"/fr-CM/weather/today/l/368425437d3d0f1d19146f31746760b223149ec51b637bb4cd8cda0832eb63cf\" target=\"_self\">Cameroon | Français</a><a class=\"ListItem--listItem--UuEqg ListItem--disableBorder--mVHYd CountryList--DisclosureLink--mHV3q LanguageSelector--RegionLink--DISY0 Button--default--osTe5\" href=\"/en-CM/weather/today/l/368425437d3d0f1d19146f31746760b223149ec51b637bb4cd8cda0832eb63cf\" target=\"_self\">Cameroon | English</a><a class=\"ListItem--listItem--UuEqg ListItem--disableBorder--mVHYd CountryList--DisclosureLink--mHV3q LanguageSelector--RegionLink--DISY0 Button--default--osTe5\" href=\"/pt-CV/weather/today/l/368425437d3d0f1d19146f31746760b223149ec51b637bb4cd8cda0832eb63cf\" target=\"_self\">Cape Verde | Português</a><a class=\"ListItem--listItem--UuEqg ListItem--disableBorder--mVHYd CountryList--DisclosureLink--mHV3q LanguageSelector--RegionLink--DISY0 Button--default--osTe5\" href=\"/fr-CF/weather/today/l/368425437d3d0f1d19146f31746760b223149ec51b637bb4cd8cda0832eb63cf\" target=\"_self\">Central African Republic | Français</a><a class=\"ListItem--listItem--UuEqg ListItem--disableBorder--mVHYd CountryList--DisclosureLink--mHV3q LanguageSelector--RegionLink--DISY0 Button--default--osTe5\" href=\"/fr-TD/weather/today/l/368425437d3d0f1d19146f31746760b223149ec51b637bb4cd8cda0832eb63cf\" target=\"_self\">Chad | Français</a><a class=\"ListItem--listItem--UuEqg ListItem--disableBorder--mVHYd CountryList--DisclosureLink--mHV3q LanguageSelector--RegionLink--DISY0 Button--default--osTe5\" href=\"/ar-TD/weather/today/l/368425437d3d0f1d19146f31746760b223149ec51b637bb4cd8cda0832eb63cf\" target=\"_self\">Chad | العربية</a><a class=\"ListItem--listItem--UuEqg ListItem--disableBorder--mVHYd CountryList--DisclosureLink--mHV3q LanguageSelector--RegionLink--DISY0 Button--default--osTe5\" href=\"/fr-KM/weather/today/l/368425437d3d0f1d19146f31746760b223149ec51b637bb4cd8cda0832eb63cf\" target=\"_self\">Comoros | Français</a><a class=\"ListItem--listItem--UuEqg ListItem--disableBorder--mVHYd CountryList--DisclosureLink--mHV3q LanguageSelector--RegionLink--DISY0 Button--default--osTe5\" href=\"/ar-KM/weather/today/l/368425437d3d0f1d19146f31746760b223149ec51b637bb4cd8cda0832eb63cf\" target=\"_self\">Comoros | العربية</a><a class=\"ListItem--listItem--UuEqg ListItem--disableBorder--mVHYd CountryList--DisclosureLink--mHV3q LanguageSelector--RegionLink--DISY0 Button--default--osTe5\" href=\"/fr-CD/weather/today/l/368425437d3d0f1d19146f31746760b223149ec51b637bb4cd8cda0832eb63cf\" target=\"_self\">Democratic Republic of the Congo | Français</a><a class=\"ListItem--listItem--UuEqg ListItem--disableBorder--mVHYd CountryList--DisclosureLink--mHV3q LanguageSelector--RegionLink--DISY0 Button--default--osTe5\" href=\"/fr-CG/weather/today/l/368425437d3d0f1d19146f31746760b223149ec51b637bb4cd8cda0832eb63cf\" target=\"_self\">Republic of Congo | Français</a><a class=\"ListItem--listItem--UuEqg ListItem--disableBorder--mVHYd CountryList--DisclosureLink--mHV3q LanguageSelector--RegionLink--DISY0 Button--default--osTe5\" href=\"/fr-CI/weather/today/l/368425437d3d0f1d19146f31746760b223149ec51b637bb4cd8cda0832eb63cf\" target=\"_self\">Côte d'Ivoire | Français</a><a class=\"ListItem--listItem--UuEqg ListItem--disableBorder--mVHYd CountryList--DisclosureLink--mHV3q LanguageSelector--RegionLink--DISY0 Button--default--osTe5\" href=\"/fr-DJ/weather/today/l/368425437d3d0f1d19146f31746760b223149ec51b637bb4cd8cda0832eb63cf\" target=\"_self\">Djibouti | Français</a><a class=\"ListItem--listItem--UuEqg ListItem--disableBorder--mVHYd CountryList--DisclosureLink--mHV3q LanguageSelector--RegionLink--DISY0 Button--default--osTe5\" href=\"/ar-DJ/weather/today/l/368425437d3d0f1d19146f31746760b223149ec51b637bb4cd8cda0832eb63cf\" target=\"_self\">Djibouti | العربية</a><a class=\"ListItem--listItem--UuEqg ListItem--disableBorder--mVHYd CountryList--DisclosureLink--mHV3q LanguageSelector--RegionLink--DISY0 Button--default--osTe5\" href=\"/ar-EG/weather/today/l/368425437d3d0f1d19146f31746760b223149ec51b637bb4cd8cda0832eb63cf\" target=\"_self\">Egypt | العربية</a><a class=\"ListItem--listItem--UuEqg ListItem--disableBorder--mVHYd CountryList--DisclosureLink--mHV3q LanguageSelector--RegionLink--DISY0 Button--default--osTe5\" href=\"/es-GQ/weather/today/l/368425437d3d0f1d19146f31746760b223149ec51b637bb4cd8cda0832eb63cf\" target=\"_self\">Equatorial Guinea | Español</a><a class=\"ListItem--listItem--UuEqg ListItem--disableBorder--mVHYd CountryList--DisclosureLink--mHV3q LanguageSelector--RegionLink--DISY0 Button--default--osTe5\" href=\"/ar-ER/weather/today/l/368425437d3d0f1d19146f31746760b223149ec51b637bb4cd8cda0832eb63cf\" target=\"_self\">Eritrea | العربية</a><a class=\"ListItem--listItem--UuEqg ListItem--disableBorder--mVHYd CountryList--DisclosureLink--mHV3q LanguageSelector--RegionLink--DISY0 Button--default--osTe5\" href=\"/fr-GA/weather/today/l/368425437d3d0f1d19146f31746760b223149ec51b637bb4cd8cda0832eb63cf\" target=\"_self\">Gabon | Français</a><a class=\"ListItem--listItem--UuEqg ListItem--disableBorder--mVHYd CountryList--DisclosureLink--mHV3q LanguageSelector--RegionLink--DISY0 Button--default--osTe5\" href=\"/en-GM/weather/today/l/368425437d3d0f1d19146f31746760b223149ec51b637bb4cd8cda0832eb63cf\" target=\"_self\">Gambia | English</a><a class=\"ListItem--listItem--UuEqg ListItem--disableBorder--mVHYd CountryList--DisclosureLink--mHV3q LanguageSelector--RegionLink--DISY0 Button--default--osTe5\" href=\"/en-GH/weather/today/l/368425437d3d0f1d19146f31746760b223149ec51b637bb4cd8cda0832eb63cf\" target=\"_self\">Ghana | English</a><a class=\"ListItem--listItem--UuEqg ListItem--disableBorder--mVHYd CountryList--DisclosureLink--mHV3q LanguageSelector--RegionLink--DISY0 Button--default--osTe5\" href=\"/fr-GN/weather/today/l/368425437d3d0f1d19146f31746760b223149ec51b637bb4cd8cda0832eb63cf\" target=\"_self\">Guinea | Français</a><a class=\"ListItem--listItem--UuEqg ListItem--disableBorder--mVHYd CountryList--DisclosureLink--mHV3q LanguageSelector--RegionLink--DISY0 Button--default--osTe5\" href=\"/pt-GW/weather/today/l/368425437d3d0f1d19146f31746760b223149ec51b637bb4cd8cda0832eb63cf\" target=\"_self\">Guinea-Bissau | Português</a><a class=\"ListItem--listItem--UuEqg ListItem--disableBorder--mVHYd CountryList--DisclosureLink--mHV3q LanguageSelector--RegionLink--DISY0 Button--default--osTe5\" href=\"/en-KE/weather/today/l/368425437d3d0f1d19146f31746760b223149ec51b637bb4cd8cda0832eb63cf\" target=\"_self\">Kenya | English</a><a class=\"ListItem--listItem--UuEqg ListItem--disableBorder--mVHYd CountryList--DisclosureLink--mHV3q LanguageSelector--RegionLink--DISY0 Button--default--osTe5\" href=\"/en-LS/weather/today/l/368425437d3d0f1d19146f31746760b223149ec51b637bb4cd8cda0832eb63cf\" target=\"_self\">Lesotho | English</a><a class=\"ListItem--listItem--UuEqg ListItem--disableBorder--mVHYd CountryList--DisclosureLink--mHV3q LanguageSelector--RegionLink--DISY0 Button--default--osTe5\" href=\"/en-LR/weather/today/l/368425437d3d0f1d19146f31746760b223149ec51b637bb4cd8cda0832eb63cf\" target=\"_self\">Liberia | English</a><a class=\"ListItem--listItem--UuEqg ListItem--disableBorder--mVHYd CountryList--DisclosureLink--mHV3q LanguageSelector--RegionLink--DISY0 Button--default--osTe5\" href=\"/ar-LY/weather/today/l/368425437d3d0f1d191\n"
          ]
        }
      ],
      "source": [
        "# use DuckDuckGo to find websites and take the first result\n",
        "url = search(query)[0]\n",
        "\n",
        "# scrape first wesbsite\n",
        "soup = scrape_weather_info(url)\n",
        "\n",
        "print(f\"Website: {url}\\n\\n\")\n",
        "print(str(soup.body)[:50000]) # limit long outputs"
      ]
    },
    {
      "cell_type": "code",
      "execution_count": 53,
      "id": "a8c2a8be",
      "metadata": {
        "colab": {
          "base_uri": "https://localhost:8080/"
        },
        "id": "a8c2a8be",
        "outputId": "5d0d8f93-696d-4330-8bde-6851646d0231"
      },
      "outputs": [
        {
          "output_type": "stream",
          "name": "stdout",
          "text": [
            "Website: https://weather.com/weather/today/l/USCA0987:1:US\n",
            "\n",
            "\n",
            "recents Weather Forecasts Radar & Maps News & Media Products Health & Wellness Account Lifestyle Privacy Specialty Forecasts San Francisco, CA Small Craft Advisory Weather Today in San Francisco, CA 6:04 am 8:08 pm Morning Afternoon Evening Overnight Don't Miss Hourly Forecast Now 10 pm 11 pm 12 am 1 am Seasonal Hub Trending Now Daily Forecast Today Sun 11 Mon 12 Tue 13 Wed 14 Radar We Love Our Critters Fighting Allergies Home, Garage & Garden Disney In The Desert Keeping You Healthy Product Reviews & Deals Everything You Need To Know About Portable Air Conditioners 39 Unique Mother’s Day Gift Ideas Best Mother’s Day Flower Delivery Services Bad Allergies? Help Control Symptoms With These Air Purifiers Happening Near San Francisco, CA Popular Nextdoor posts Stay Safe Reminder For Drinking Water Air Quality Index Air quality is considered satisfactory, and air pollution poses little or no risk. Health & Activities Seasonal Allergies and Pollen Count Forecast Grass pollen is moderate in your area Cold & Flu Forecast Flu risk is very low in your area We recognize our responsibility to use data and technology for good. We may use or share your data with our data vendors. Take control of your data. The Weather Channel is the world's most accurate forecaster according to ForecastWatch, Global and Regional Weather Forecast Accuracy Overview , 2017-2022, commissioned by The Weather Company. Weather Channel © The Weather Company, LLC 2025\n"
          ]
        }
      ],
      "source": [
        "# extract text\n",
        "weather_data = []\n",
        "for tag in soup.find_all(['h1', 'h2', 'h3', 'p']):\n",
        "    text = tag.get_text(\" \", strip=True)\n",
        "    weather_data.append(text)\n",
        "\n",
        "# combine all elements into a single string\n",
        "weather_data = \"\\n\".join(weather_data)\n",
        "\n",
        "# remove all spaces from the combined text\n",
        "weather_data = re.sub(r'\\s+', ' ', weather_data)\n",
        "\n",
        "print(f\"Website: {url}\\n\\n\")\n",
        "print(weather_data)"
      ]
    },
    {
      "cell_type": "markdown",
      "id": "3f4c0c72",
      "metadata": {
        "id": "3f4c0c72"
      },
      "source": [
        "## Agentic Search"
      ]
    },
    {
      "cell_type": "code",
      "execution_count": 54,
      "id": "1b35e63b",
      "metadata": {
        "colab": {
          "base_uri": "https://localhost:8080/"
        },
        "id": "1b35e63b",
        "outputId": "fab6752b-1717-48c8-843d-7b863d174ce1"
      },
      "outputs": [
        {
          "output_type": "stream",
          "name": "stdout",
          "text": [
            "{'location': {'name': 'San Francisco', 'region': 'California', 'country': 'United States of America', 'lat': 37.775, 'lon': -122.4183, 'tz_id': 'America/Los_Angeles', 'localtime_epoch': 1746939379, 'localtime': '2025-05-10 21:56'}, 'current': {'last_updated_epoch': 1746938700, 'last_updated': '2025-05-10 21:45', 'temp_c': 13.9, 'temp_f': 57.0, 'is_day': 0, 'condition': {'text': 'Clear', 'icon': '//cdn.weatherapi.com/weather/64x64/night/113.png', 'code': 1000}, 'wind_mph': 8.7, 'wind_kph': 14.0, 'wind_degree': 265, 'wind_dir': 'W', 'pressure_mb': 1014.0, 'pressure_in': 29.95, 'precip_mm': 0.0, 'precip_in': 0.0, 'humidity': 67, 'cloud': 25, 'feelslike_c': 12.8, 'feelslike_f': 55.1, 'windchill_c': 10.8, 'windchill_f': 51.5, 'heatindex_c': 12.2, 'heatindex_f': 54.0, 'dewpoint_c': 10.0, 'dewpoint_f': 50.1, 'vis_km': 16.0, 'vis_miles': 9.0, 'uv': 0.0, 'gust_mph': 15.1, 'gust_kph': 24.4}}\n"
          ]
        }
      ],
      "source": [
        "# run search\n",
        "result = client.search(query, max_results=1)\n",
        "\n",
        "# print first result\n",
        "data = result[\"results\"][0][\"content\"]\n",
        "\n",
        "print(data)"
      ]
    },
    {
      "cell_type": "code",
      "execution_count": 55,
      "id": "393e3be1",
      "metadata": {
        "colab": {
          "base_uri": "https://localhost:8080/"
        },
        "id": "393e3be1",
        "outputId": "d4b72714-a6b9-44e2-cd42-f37d2c3a0cdb"
      },
      "outputs": [
        {
          "output_type": "stream",
          "name": "stdout",
          "text": [
            "{\u001b[37m\u001b[39;49;00m\n",
            "\u001b[37m    \u001b[39;49;00m\u001b[94m\"location\"\u001b[39;49;00m:\u001b[37m \u001b[39;49;00m{\u001b[37m\u001b[39;49;00m\n",
            "\u001b[37m        \u001b[39;49;00m\u001b[94m\"name\"\u001b[39;49;00m:\u001b[37m \u001b[39;49;00m\u001b[33m\"San Francisco\"\u001b[39;49;00m,\u001b[37m\u001b[39;49;00m\n",
            "\u001b[37m        \u001b[39;49;00m\u001b[94m\"region\"\u001b[39;49;00m:\u001b[37m \u001b[39;49;00m\u001b[33m\"California\"\u001b[39;49;00m,\u001b[37m\u001b[39;49;00m\n",
            "\u001b[37m        \u001b[39;49;00m\u001b[94m\"country\"\u001b[39;49;00m:\u001b[37m \u001b[39;49;00m\u001b[33m\"United States of America\"\u001b[39;49;00m,\u001b[37m\u001b[39;49;00m\n",
            "\u001b[37m        \u001b[39;49;00m\u001b[94m\"lat\"\u001b[39;49;00m:\u001b[37m \u001b[39;49;00m\u001b[34m37.775\u001b[39;49;00m,\u001b[37m\u001b[39;49;00m\n",
            "\u001b[37m        \u001b[39;49;00m\u001b[94m\"lon\"\u001b[39;49;00m:\u001b[37m \u001b[39;49;00m\u001b[34m-122.4183\u001b[39;49;00m,\u001b[37m\u001b[39;49;00m\n",
            "\u001b[37m        \u001b[39;49;00m\u001b[94m\"tz_id\"\u001b[39;49;00m:\u001b[37m \u001b[39;49;00m\u001b[33m\"America/Los_Angeles\"\u001b[39;49;00m,\u001b[37m\u001b[39;49;00m\n",
            "\u001b[37m        \u001b[39;49;00m\u001b[94m\"localtime_epoch\"\u001b[39;49;00m:\u001b[37m \u001b[39;49;00m\u001b[34m1746939379\u001b[39;49;00m,\u001b[37m\u001b[39;49;00m\n",
            "\u001b[37m        \u001b[39;49;00m\u001b[94m\"localtime\"\u001b[39;49;00m:\u001b[37m \u001b[39;49;00m\u001b[33m\"2025-05-10 21:56\"\u001b[39;49;00m\u001b[37m\u001b[39;49;00m\n",
            "\u001b[37m    \u001b[39;49;00m},\u001b[37m\u001b[39;49;00m\n",
            "\u001b[37m    \u001b[39;49;00m\u001b[94m\"current\"\u001b[39;49;00m:\u001b[37m \u001b[39;49;00m{\u001b[37m\u001b[39;49;00m\n",
            "\u001b[37m        \u001b[39;49;00m\u001b[94m\"last_updated_epoch\"\u001b[39;49;00m:\u001b[37m \u001b[39;49;00m\u001b[34m1746938700\u001b[39;49;00m,\u001b[37m\u001b[39;49;00m\n",
            "\u001b[37m        \u001b[39;49;00m\u001b[94m\"last_updated\"\u001b[39;49;00m:\u001b[37m \u001b[39;49;00m\u001b[33m\"2025-05-10 21:45\"\u001b[39;49;00m,\u001b[37m\u001b[39;49;00m\n",
            "\u001b[37m        \u001b[39;49;00m\u001b[94m\"temp_c\"\u001b[39;49;00m:\u001b[37m \u001b[39;49;00m\u001b[34m13.9\u001b[39;49;00m,\u001b[37m\u001b[39;49;00m\n",
            "\u001b[37m        \u001b[39;49;00m\u001b[94m\"temp_f\"\u001b[39;49;00m:\u001b[37m \u001b[39;49;00m\u001b[34m57.0\u001b[39;49;00m,\u001b[37m\u001b[39;49;00m\n",
            "\u001b[37m        \u001b[39;49;00m\u001b[94m\"is_day\"\u001b[39;49;00m:\u001b[37m \u001b[39;49;00m\u001b[34m0\u001b[39;49;00m,\u001b[37m\u001b[39;49;00m\n",
            "\u001b[37m        \u001b[39;49;00m\u001b[94m\"condition\"\u001b[39;49;00m:\u001b[37m \u001b[39;49;00m{\u001b[37m\u001b[39;49;00m\n",
            "\u001b[37m            \u001b[39;49;00m\u001b[94m\"text\"\u001b[39;49;00m:\u001b[37m \u001b[39;49;00m\u001b[33m\"Clear\"\u001b[39;49;00m,\u001b[37m\u001b[39;49;00m\n",
            "\u001b[37m            \u001b[39;49;00m\u001b[94m\"icon\"\u001b[39;49;00m:\u001b[37m \u001b[39;49;00m\u001b[33m\"//cdn.weatherapi.com/weather/64x64/night/113.png\"\u001b[39;49;00m,\u001b[37m\u001b[39;49;00m\n",
            "\u001b[37m            \u001b[39;49;00m\u001b[94m\"code\"\u001b[39;49;00m:\u001b[37m \u001b[39;49;00m\u001b[34m1000\u001b[39;49;00m\u001b[37m\u001b[39;49;00m\n",
            "\u001b[37m        \u001b[39;49;00m},\u001b[37m\u001b[39;49;00m\n",
            "\u001b[37m        \u001b[39;49;00m\u001b[94m\"wind_mph\"\u001b[39;49;00m:\u001b[37m \u001b[39;49;00m\u001b[34m8.7\u001b[39;49;00m,\u001b[37m\u001b[39;49;00m\n",
            "\u001b[37m        \u001b[39;49;00m\u001b[94m\"wind_kph\"\u001b[39;49;00m:\u001b[37m \u001b[39;49;00m\u001b[34m14.0\u001b[39;49;00m,\u001b[37m\u001b[39;49;00m\n",
            "\u001b[37m        \u001b[39;49;00m\u001b[94m\"wind_degree\"\u001b[39;49;00m:\u001b[37m \u001b[39;49;00m\u001b[34m265\u001b[39;49;00m,\u001b[37m\u001b[39;49;00m\n",
            "\u001b[37m        \u001b[39;49;00m\u001b[94m\"wind_dir\"\u001b[39;49;00m:\u001b[37m \u001b[39;49;00m\u001b[33m\"W\"\u001b[39;49;00m,\u001b[37m\u001b[39;49;00m\n",
            "\u001b[37m        \u001b[39;49;00m\u001b[94m\"pressure_mb\"\u001b[39;49;00m:\u001b[37m \u001b[39;49;00m\u001b[34m1014.0\u001b[39;49;00m,\u001b[37m\u001b[39;49;00m\n",
            "\u001b[37m        \u001b[39;49;00m\u001b[94m\"pressure_in\"\u001b[39;49;00m:\u001b[37m \u001b[39;49;00m\u001b[34m29.95\u001b[39;49;00m,\u001b[37m\u001b[39;49;00m\n",
            "\u001b[37m        \u001b[39;49;00m\u001b[94m\"precip_mm\"\u001b[39;49;00m:\u001b[37m \u001b[39;49;00m\u001b[34m0.0\u001b[39;49;00m,\u001b[37m\u001b[39;49;00m\n",
            "\u001b[37m        \u001b[39;49;00m\u001b[94m\"precip_in\"\u001b[39;49;00m:\u001b[37m \u001b[39;49;00m\u001b[34m0.0\u001b[39;49;00m,\u001b[37m\u001b[39;49;00m\n",
            "\u001b[37m        \u001b[39;49;00m\u001b[94m\"humidity\"\u001b[39;49;00m:\u001b[37m \u001b[39;49;00m\u001b[34m67\u001b[39;49;00m,\u001b[37m\u001b[39;49;00m\n",
            "\u001b[37m        \u001b[39;49;00m\u001b[94m\"cloud\"\u001b[39;49;00m:\u001b[37m \u001b[39;49;00m\u001b[34m25\u001b[39;49;00m,\u001b[37m\u001b[39;49;00m\n",
            "\u001b[37m        \u001b[39;49;00m\u001b[94m\"feelslike_c\"\u001b[39;49;00m:\u001b[37m \u001b[39;49;00m\u001b[34m12.8\u001b[39;49;00m,\u001b[37m\u001b[39;49;00m\n",
            "\u001b[37m        \u001b[39;49;00m\u001b[94m\"feelslike_f\"\u001b[39;49;00m:\u001b[37m \u001b[39;49;00m\u001b[34m55.1\u001b[39;49;00m,\u001b[37m\u001b[39;49;00m\n",
            "\u001b[37m        \u001b[39;49;00m\u001b[94m\"windchill_c\"\u001b[39;49;00m:\u001b[37m \u001b[39;49;00m\u001b[34m10.8\u001b[39;49;00m,\u001b[37m\u001b[39;49;00m\n",
            "\u001b[37m        \u001b[39;49;00m\u001b[94m\"windchill_f\"\u001b[39;49;00m:\u001b[37m \u001b[39;49;00m\u001b[34m51.5\u001b[39;49;00m,\u001b[37m\u001b[39;49;00m\n",
            "\u001b[37m        \u001b[39;49;00m\u001b[94m\"heatindex_c\"\u001b[39;49;00m:\u001b[37m \u001b[39;49;00m\u001b[34m12.2\u001b[39;49;00m,\u001b[37m\u001b[39;49;00m\n",
            "\u001b[37m        \u001b[39;49;00m\u001b[94m\"heatindex_f\"\u001b[39;49;00m:\u001b[37m \u001b[39;49;00m\u001b[34m54.0\u001b[39;49;00m,\u001b[37m\u001b[39;49;00m\n",
            "\u001b[37m        \u001b[39;49;00m\u001b[94m\"dewpoint_c\"\u001b[39;49;00m:\u001b[37m \u001b[39;49;00m\u001b[34m10.0\u001b[39;49;00m,\u001b[37m\u001b[39;49;00m\n",
            "\u001b[37m        \u001b[39;49;00m\u001b[94m\"dewpoint_f\"\u001b[39;49;00m:\u001b[37m \u001b[39;49;00m\u001b[34m50.1\u001b[39;49;00m,\u001b[37m\u001b[39;49;00m\n",
            "\u001b[37m        \u001b[39;49;00m\u001b[94m\"vis_km\"\u001b[39;49;00m:\u001b[37m \u001b[39;49;00m\u001b[34m16.0\u001b[39;49;00m,\u001b[37m\u001b[39;49;00m\n",
            "\u001b[37m        \u001b[39;49;00m\u001b[94m\"vis_miles\"\u001b[39;49;00m:\u001b[37m \u001b[39;49;00m\u001b[34m9.0\u001b[39;49;00m,\u001b[37m\u001b[39;49;00m\n",
            "\u001b[37m        \u001b[39;49;00m\u001b[94m\"uv\"\u001b[39;49;00m:\u001b[37m \u001b[39;49;00m\u001b[34m0.0\u001b[39;49;00m,\u001b[37m\u001b[39;49;00m\n",
            "\u001b[37m        \u001b[39;49;00m\u001b[94m\"gust_mph\"\u001b[39;49;00m:\u001b[37m \u001b[39;49;00m\u001b[34m15.1\u001b[39;49;00m,\u001b[37m\u001b[39;49;00m\n",
            "\u001b[37m        \u001b[39;49;00m\u001b[94m\"gust_kph\"\u001b[39;49;00m:\u001b[37m \u001b[39;49;00m\u001b[34m24.4\u001b[39;49;00m\u001b[37m\u001b[39;49;00m\n",
            "\u001b[37m    \u001b[39;49;00m}\u001b[37m\u001b[39;49;00m\n",
            "}\u001b[37m\u001b[39;49;00m\n",
            "\n"
          ]
        }
      ],
      "source": [
        "import json\n",
        "from pygments import highlight, lexers, formatters\n",
        "\n",
        "# parse JSON\n",
        "parsed_json = json.loads(data.replace(\"'\", '\"'))\n",
        "\n",
        "# pretty print JSON with syntax highlighting\n",
        "formatted_json = json.dumps(parsed_json, indent=4)\n",
        "colorful_json = highlight(formatted_json,\n",
        "                          lexers.JsonLexer(),\n",
        "                          formatters.TerminalFormatter())\n",
        "\n",
        "print(colorful_json)\n"
      ]
    },
    {
      "cell_type": "markdown",
      "id": "a0361db1",
      "metadata": {
        "id": "a0361db1"
      },
      "source": [
        "# Lesson 4: Persistence and Streaming"
      ]
    },
    {
      "cell_type": "code",
      "execution_count": 3,
      "id": "4a2bb51b",
      "metadata": {
        "id": "4a2bb51b"
      },
      "outputs": [],
      "source": [
        "from langgraph.graph import StateGraph, END\n",
        "from typing import TypedDict, Annotated\n",
        "import operator\n",
        "from langchain_core.messages import AnyMessage, SystemMessage, HumanMessage, ToolMessage\n",
        "from langchain_openai import ChatOpenAI\n",
        "from langchain_community.tools.tavily_search import TavilySearchResults"
      ]
    },
    {
      "cell_type": "code",
      "execution_count": 4,
      "id": "5dbfd0a1",
      "metadata": {
        "id": "5dbfd0a1"
      },
      "outputs": [],
      "source": [
        "tool = TavilySearchResults(max_results=2)"
      ]
    },
    {
      "cell_type": "code",
      "execution_count": 5,
      "metadata": {
        "id": "PL9A9JK8pa9e"
      },
      "outputs": [],
      "source": [
        "class AgentState(TypedDict):\n",
        "    messages: Annotated[list[AnyMessage], operator.add]"
      ],
      "id": "PL9A9JK8pa9e"
    },
    {
      "cell_type": "code",
      "execution_count": 6,
      "id": "92a75d45",
      "metadata": {
        "id": "92a75d45"
      },
      "outputs": [],
      "source": [
        "from langgraph.checkpoint.sqlite import SqliteSaver\n",
        "import sqlite3\n",
        "\n",
        "conn = sqlite3.connect(\":memory:\", check_same_thread=False)\n",
        "memory  = SqliteSaver(conn=conn) # Pass connection to saver\n"
      ]
    },
    {
      "cell_type": "code",
      "execution_count": 7,
      "metadata": {
        "id": "lmXElhNDpa9g"
      },
      "outputs": [],
      "source": [
        "class Agent:\n",
        "    def __init__(self, model, tools, checkpointer, system=\"\"):\n",
        "        self.system = system\n",
        "        # Create a StateGraph instance and assign it to the builder variable.\n",
        "        builder = StateGraph(AgentState)\n",
        "        builder.add_node(\"llm\", self.call_openai)\n",
        "        builder.add_node(\"action\", self.take_action)\n",
        "        builder.add_conditional_edges(\"llm\", self.exists_action, {True: \"action\", False: END})\n",
        "        builder.add_edge(\"action\", \"llm\")\n",
        "        builder.set_entry_point(\"llm\")\n",
        "        self.graph = builder.compile(checkpointer=checkpointer,)\n",
        "        self.tools = {t.name: t for t in tools}\n",
        "        self.model = model.bind_tools(tools)\n",
        "\n",
        "\n",
        "    def call_openai(self, state: AgentState):\n",
        "        messages = state['messages']\n",
        "        if self.system:\n",
        "            messages = [SystemMessage(content=self.system)] + messages\n",
        "        message = self.model.invoke(messages)\n",
        "        return {'messages': [message]}\n",
        "\n",
        "    def exists_action(self, state: AgentState):\n",
        "        result = state['messages'][-1]\n",
        "        return len(result.tool_calls) > 0\n",
        "\n",
        "    def take_action(self, state: AgentState):\n",
        "        tool_calls = state['messages'][-1].tool_calls\n",
        "        results = []\n",
        "        for t in tool_calls:\n",
        "            print(f\"Calling: {t}\")\n",
        "            result = self.tools[t['name']].invoke(t['args'])\n",
        "            results.append(ToolMessage(tool_call_id=t['id'], name=t['name'], content=str(result)))\n",
        "        print(\"Back to the model!\")\n",
        "        return {'messages': results}"
      ],
      "id": "lmXElhNDpa9g"
    },
    {
      "cell_type": "code",
      "execution_count": 8,
      "metadata": {
        "id": "m1g4XEeppa9i"
      },
      "outputs": [],
      "source": [
        "prompt = \"\"\"You are a smart research assistant. Use the search engine to look up information. \\\n",
        "You are allowed to make multiple calls (either together or in sequence). \\\n",
        "Only look up information when you are sure of what you want. \\\n",
        "If you need to look up some information before asking a follow up question, you are allowed to do that!\n",
        "\"\"\"\n",
        "model = ChatOpenAI(model=\"gpt-4o\")\n",
        "abot = Agent(model, [tool], system=prompt, checkpointer=memory)"
      ],
      "id": "m1g4XEeppa9i"
    },
    {
      "cell_type": "code",
      "execution_count": 9,
      "metadata": {
        "id": "FmCAM4n6pa9j"
      },
      "outputs": [],
      "source": [
        "messages = [HumanMessage(content=\"What is the weather in sf?\")]"
      ],
      "id": "FmCAM4n6pa9j"
    },
    {
      "cell_type": "code",
      "execution_count": 10,
      "id": "244e3e64",
      "metadata": {
        "id": "244e3e64"
      },
      "outputs": [],
      "source": [
        "thread = {\"configurable\": {\"thread_id\": \"1\"}}"
      ]
    },
    {
      "cell_type": "code",
      "execution_count": 11,
      "metadata": {
        "colab": {
          "base_uri": "https://localhost:8080/"
        },
        "id": "H2j-XRfwpa9m",
        "outputId": "c03dbfbe-8644-435e-f77e-5a3488f8a149"
      },
      "outputs": [
        {
          "output_type": "stream",
          "name": "stdout",
          "text": [
            "[AIMessage(content='', additional_kwargs={'tool_calls': [{'id': 'call_1soG9tVDbPnY8sP5RUy17AB1', 'function': {'arguments': '{\"query\":\"current weather in San Francisco\"}', 'name': 'tavily_search_results_json'}, 'type': 'function'}], 'refusal': None}, response_metadata={'token_usage': {'completion_tokens': 23, 'prompt_tokens': 151, 'total_tokens': 174, 'completion_tokens_details': {'accepted_prediction_tokens': 0, 'audio_tokens': 0, 'reasoning_tokens': 0, 'rejected_prediction_tokens': 0}, 'prompt_tokens_details': {'audio_tokens': 0, 'cached_tokens': 0}}, 'model_name': 'gpt-4o-2024-08-06', 'system_fingerprint': 'fp_90122d973c', 'finish_reason': 'tool_calls', 'logprobs': None}, id='run-7bba28c8-9cc8-4e9b-ba64-34e3b4643b2a-0', tool_calls=[{'name': 'tavily_search_results_json', 'args': {'query': 'current weather in San Francisco'}, 'id': 'call_1soG9tVDbPnY8sP5RUy17AB1', 'type': 'tool_call'}], usage_metadata={'input_tokens': 151, 'output_tokens': 23, 'total_tokens': 174, 'input_token_details': {'audio': 0, 'cache_read': 0}, 'output_token_details': {'audio': 0, 'reasoning': 0}})]\n",
            "Calling: {'name': 'tavily_search_results_json', 'args': {'query': 'current weather in San Francisco'}, 'id': 'call_1soG9tVDbPnY8sP5RUy17AB1', 'type': 'tool_call'}\n",
            "Back to the model!\n",
            "[ToolMessage(content='[{\\'url\\': \\'https://www.weatherapi.com/\\', \\'content\\': \"{\\'location\\': {\\'name\\': \\'San Francisco\\', \\'region\\': \\'California\\', \\'country\\': \\'United States of America\\', \\'lat\\': 37.775, \\'lon\\': -122.4183, \\'tz_id\\': \\'America/Los_Angeles\\', \\'localtime_epoch\\': 1746940056, \\'localtime\\': \\'2025-05-10 22:07\\'}, \\'current\\': {\\'last_updated_epoch\\': 1746939600, \\'last_updated\\': \\'2025-05-10 22:00\\', \\'temp_c\\': 13.9, \\'temp_f\\': 57.0, \\'is_day\\': 0, \\'condition\\': {\\'text\\': \\'Partly Cloudy\\', \\'icon\\': \\'//cdn.weatherapi.com/weather/64x64/night/116.png\\', \\'code\\': 1003}, \\'wind_mph\\': 9.2, \\'wind_kph\\': 14.8, \\'wind_degree\\': 264, \\'wind_dir\\': \\'W\\', \\'pressure_mb\\': 1014.0, \\'pressure_in\\': 29.95, \\'precip_mm\\': 0.0, \\'precip_in\\': 0.0, \\'humidity\\': 67, \\'cloud\\': 25, \\'feelslike_c\\': 12.8, \\'feelslike_f\\': 55.0, \\'windchill_c\\': 9.8, \\'windchill_f\\': 49.6, \\'heatindex_c\\': 11.4, \\'heatindex_f\\': 52.5, \\'dewpoint_c\\': 9.7, \\'dewpoint_f\\': 49.5, \\'vis_km\\': 16.0, \\'vis_miles\\': 9.0, \\'uv\\': 0.0, \\'gust_mph\\': 15.6, \\'gust_kph\\': 25.1}}\"}, {\\'url\\': \\'https://world-weather.info/forecast/usa/san_francisco/may-2025/\\', \\'content\\': \"Weather in San Francisco in May 2025\\\\n\\\\nSan Francisco Weather Forecast for May 2025 is based on long term prognosis and previous years\\' statistical data.\\\\n\\\\nMay\\\\n\\\\n+52°\\\\n\\\\n+52°\\\\n\\\\n+52°\\\\n\\\\n+50°\\\\n\\\\n+57°\\\\n\\\\n+55°\\\\n\\\\n+54°\\\\n\\\\n+50°\\\\n\\\\n+52°\\\\n\\\\n+54°\\\\n\\\\n+52°\\\\n\\\\n+54°\\\\n\\\\n+52°\\\\n\\\\n+50°\\\\n\\\\n+50°\\\\n\\\\n+52°\\\\n\\\\n+52°\\\\n\\\\n+50°\\\\n\\\\n+50°\\\\n\\\\n+52°\\\\n\\\\n+54°\\\\n\\\\n+52°\\\\n\\\\n+54°\\\\n\\\\n+57°\\\\n\\\\n+57°\\\\n\\\\n+55°\\\\n\\\\n+55°\\\\n\\\\n+57°\\\\n\\\\n+55°\\\\n\\\\n+55°\\\\n\\\\n+55°\\\\n\\\\nExtended weather forecast in San Francisco\\\\n\\\\nWeather in large and nearby cities\\\\n\\\\nWeather in Washington, D.C.+59°\\\\n\\\\nSacramento+72°\\\\n\\\\nPleasanton+61° [...] Redwood City+59°\\\\n\\\\nSan Leandro+57°\\\\n\\\\nSan Mateo+59°\\\\n\\\\nSan Rafael+59°\\\\n\\\\nSan Ramon+57°\\\\n\\\\nSouth San Francisco+55°\\\\n\\\\nVallejo+61°\\\\n\\\\nPalo Alto+63°\\\\n\\\\nPacifica+52°\\\\n\\\\nBerkeley+57°\\\\n\\\\nCastro Valley+57°\\\\n\\\\nConcord+68°\\\\n\\\\nDaly City+54°\\\\n\\\\nEmbarcadero+61°\\\\n\\\\nRedwood Heights+57°\"}]', name='tavily_search_results_json', tool_call_id='call_1soG9tVDbPnY8sP5RUy17AB1')]\n",
            "[AIMessage(content='The current weather in San Francisco is partly cloudy with a temperature of 57°F (13.9°C). The wind is coming from the west at 9.2 mph (14.8 kph), with a humidity level of 67%. It feels like 55°F (12.8°C) outside. The visibility is 16 km (9 miles), and there is no precipitation.', additional_kwargs={'refusal': None}, response_metadata={'token_usage': {'completion_tokens': 82, 'prompt_tokens': 1014, 'total_tokens': 1096, 'completion_tokens_details': {'accepted_prediction_tokens': 0, 'audio_tokens': 0, 'reasoning_tokens': 0, 'rejected_prediction_tokens': 0}, 'prompt_tokens_details': {'audio_tokens': 0, 'cached_tokens': 0}}, 'model_name': 'gpt-4o-2024-08-06', 'system_fingerprint': 'fp_90122d973c', 'finish_reason': 'stop', 'logprobs': None}, id='run-3163d7e6-8120-4c8c-8830-cf30c46bab5b-0', usage_metadata={'input_tokens': 1014, 'output_tokens': 82, 'total_tokens': 1096, 'input_token_details': {'audio': 0, 'cache_read': 0}, 'output_token_details': {'audio': 0, 'reasoning': 0}})]\n"
          ]
        }
      ],
      "source": [
        "for event in abot.graph.stream({\"messages\": messages}, thread):\n",
        "    for v in event.values():\n",
        "        print(v['messages'])"
      ],
      "id": "H2j-XRfwpa9m"
    },
    {
      "cell_type": "code",
      "execution_count": 12,
      "id": "fef86c21",
      "metadata": {
        "colab": {
          "base_uri": "https://localhost:8080/"
        },
        "id": "fef86c21",
        "outputId": "6cb68933-db79-4b30-c518-e3fa1035819f"
      },
      "outputs": [
        {
          "output_type": "stream",
          "name": "stdout",
          "text": [
            "{'messages': [AIMessage(content='', additional_kwargs={'tool_calls': [{'id': 'call_7M2HuPXXJ16XtoTMyBQo5cyo', 'function': {'arguments': '{\"query\":\"current weather in Los Angeles\"}', 'name': 'tavily_search_results_json'}, 'type': 'function'}], 'refusal': None}, response_metadata={'token_usage': {'completion_tokens': 23, 'prompt_tokens': 1107, 'total_tokens': 1130, 'completion_tokens_details': {'accepted_prediction_tokens': 0, 'audio_tokens': 0, 'reasoning_tokens': 0, 'rejected_prediction_tokens': 0}, 'prompt_tokens_details': {'audio_tokens': 0, 'cached_tokens': 1024}}, 'model_name': 'gpt-4o-2024-08-06', 'system_fingerprint': 'fp_90122d973c', 'finish_reason': 'tool_calls', 'logprobs': None}, id='run-fc4d509c-6244-46f7-88af-809f6d7ffa15-0', tool_calls=[{'name': 'tavily_search_results_json', 'args': {'query': 'current weather in Los Angeles'}, 'id': 'call_7M2HuPXXJ16XtoTMyBQo5cyo', 'type': 'tool_call'}], usage_metadata={'input_tokens': 1107, 'output_tokens': 23, 'total_tokens': 1130, 'input_token_details': {'audio': 0, 'cache_read': 1024}, 'output_token_details': {'audio': 0, 'reasoning': 0}})]}\n",
            "Calling: {'name': 'tavily_search_results_json', 'args': {'query': 'current weather in Los Angeles'}, 'id': 'call_7M2HuPXXJ16XtoTMyBQo5cyo', 'type': 'tool_call'}\n",
            "Back to the model!\n",
            "{'messages': [ToolMessage(content=\"[{'url': 'https://weathershogun.com/weather/usa/ca/los-angeles/451/may/2025-05-11', 'content': 'Los Angeles, California Weather: Sunday, May 11, 2025. Cloudy weather, overcast skies with clouds. Day 77°. Night 59°. Precipitation 0 %.'}, {'url': 'https://world-weather.info/forecast/usa/los_angeles/may-2025/', 'content': 'Detailed ⚡ Los Angeles Weather Forecast for May 2025 – day/night 🌡️ ... Sunday, 11 May. +66°. Day. +82°. Broken clouds. Monday, 12 May. +63°. Day. +70'}]\", name='tavily_search_results_json', tool_call_id='call_7M2HuPXXJ16XtoTMyBQo5cyo')]}\n",
            "{'messages': [AIMessage(content=\"The current weather in Los Angeles is cloudy with overcast skies. The daytime temperature is around 77°F, while at night it's around 59°F. There is no precipitation expected.\", additional_kwargs={'refusal': None}, response_metadata={'token_usage': {'completion_tokens': 39, 'prompt_tokens': 1298, 'total_tokens': 1337, 'completion_tokens_details': {'accepted_prediction_tokens': 0, 'audio_tokens': 0, 'reasoning_tokens': 0, 'rejected_prediction_tokens': 0}, 'prompt_tokens_details': {'audio_tokens': 0, 'cached_tokens': 1024}}, 'model_name': 'gpt-4o-2024-08-06', 'system_fingerprint': 'fp_90122d973c', 'finish_reason': 'stop', 'logprobs': None}, id='run-6e243d1e-9d16-4204-bf72-c7b81283d1e9-0', usage_metadata={'input_tokens': 1298, 'output_tokens': 39, 'total_tokens': 1337, 'input_token_details': {'audio': 0, 'cache_read': 1024}, 'output_token_details': {'audio': 0, 'reasoning': 0}})]}\n"
          ]
        }
      ],
      "source": [
        "messages = [HumanMessage(content=\"What about in la?\")]\n",
        "thread = {\"configurable\": {\"thread_id\": \"1\"}}\n",
        "for event in abot.graph.stream({\"messages\": messages}, thread):\n",
        "    for v in event.values():\n",
        "        print(v)"
      ]
    },
    {
      "cell_type": "code",
      "execution_count": 13,
      "id": "17a989e8",
      "metadata": {
        "colab": {
          "base_uri": "https://localhost:8080/"
        },
        "id": "17a989e8",
        "outputId": "5ba6e13b-4d28-4e02-d9f7-011f49ea3259"
      },
      "outputs": [
        {
          "output_type": "stream",
          "name": "stdout",
          "text": [
            "{'messages': [AIMessage(content='Currently, Los Angeles is warmer than San Francisco. Los Angeles has a daytime temperature of approximately 77°F, while San Francisco has a temperature of 57°F.', additional_kwargs={'refusal': None}, response_metadata={'token_usage': {'completion_tokens': 35, 'prompt_tokens': 1348, 'total_tokens': 1383, 'completion_tokens_details': {'accepted_prediction_tokens': 0, 'audio_tokens': 0, 'reasoning_tokens': 0, 'rejected_prediction_tokens': 0}, 'prompt_tokens_details': {'audio_tokens': 0, 'cached_tokens': 1280}}, 'model_name': 'gpt-4o-2024-08-06', 'system_fingerprint': 'fp_90122d973c', 'finish_reason': 'stop', 'logprobs': None}, id='run-a59e71ac-5185-4d9c-9a8d-e6168b064379-0', usage_metadata={'input_tokens': 1348, 'output_tokens': 35, 'total_tokens': 1383, 'input_token_details': {'audio': 0, 'cache_read': 1280}, 'output_token_details': {'audio': 0, 'reasoning': 0}})]}\n"
          ]
        }
      ],
      "source": [
        "messages = [HumanMessage(content=\"Which one is warmer?\")]\n",
        "thread = {\"configurable\": {\"thread_id\": \"1\"}}\n",
        "for event in abot.graph.stream({\"messages\": messages}, thread):\n",
        "    for v in event.values():\n",
        "        print(v)"
      ]
    },
    {
      "cell_type": "code",
      "execution_count": 14,
      "metadata": {
        "colab": {
          "base_uri": "https://localhost:8080/"
        },
        "id": "VfUCUI7Jpa9o",
        "outputId": "40d98aa9-4524-410a-e9ad-a55f453b48b6"
      },
      "outputs": [
        {
          "output_type": "stream",
          "name": "stdout",
          "text": [
            "{'messages': [AIMessage(content=\"Could you please clarify what you're asking about? Are you comparing the temperatures of two specific places, times, or items? Additional details will help me assist you better.\", additional_kwargs={'refusal': None}, response_metadata={'token_usage': {'completion_tokens': 35, 'prompt_tokens': 149, 'total_tokens': 184, 'completion_tokens_details': {'accepted_prediction_tokens': 0, 'audio_tokens': 0, 'reasoning_tokens': 0, 'rejected_prediction_tokens': 0}, 'prompt_tokens_details': {'audio_tokens': 0, 'cached_tokens': 0}}, 'model_name': 'gpt-4o-2024-08-06', 'system_fingerprint': 'fp_90122d973c', 'finish_reason': 'stop', 'logprobs': None}, id='run-df666ffb-ebd5-4691-b0aa-080f4149a80d-0', usage_metadata={'input_tokens': 149, 'output_tokens': 35, 'total_tokens': 184, 'input_token_details': {'audio': 0, 'cache_read': 0}, 'output_token_details': {'audio': 0, 'reasoning': 0}})]}\n"
          ]
        }
      ],
      "source": [
        "messages = [HumanMessage(content=\"Which one is warmer?\")]\n",
        "thread = {\"configurable\": {\"thread_id\": \"2\"}}\n",
        "for event in abot.graph.stream({\"messages\": messages}, thread):\n",
        "    for v in event.values():\n",
        "        print(v)"
      ],
      "id": "VfUCUI7Jpa9o"
    },
    {
      "cell_type": "markdown",
      "id": "e2aaf8b2",
      "metadata": {
        "id": "e2aaf8b2"
      },
      "source": [
        "# Lesson 5: Human in the Loop"
      ]
    },
    {
      "cell_type": "code",
      "execution_count": 11,
      "metadata": {
        "id": "mkVEIuykpa9x"
      },
      "outputs": [],
      "source": [
        "from langgraph.graph import StateGraph, END\n",
        "from typing import TypedDict, Annotated\n",
        "import operator\n",
        "from langchain_core.messages import AnyMessage, SystemMessage, HumanMessage, ToolMessage\n",
        "from langchain_openai import ChatOpenAI\n",
        "from langchain_community.tools.tavily_search import TavilySearchResults\n",
        "from langgraph.checkpoint.sqlite import SqliteSaver\n",
        "import sqlite3\n",
        "\n",
        "conn = sqlite3.connect(\":memory:\", check_same_thread=False)\n",
        "memory  = SqliteSaver(conn=conn) # Pass connection to saver\n"
      ],
      "id": "mkVEIuykpa9x"
    },
    {
      "cell_type": "code",
      "execution_count": 12,
      "id": "be8948ae",
      "metadata": {
        "id": "be8948ae"
      },
      "outputs": [],
      "source": [
        "from uuid import uuid4\n",
        "from langchain_core.messages import AnyMessage, SystemMessage, HumanMessage, AIMessage\n",
        "\n",
        "\"\"\"\n",
        "In previous examples we've annotated the `messages` state key\n",
        "with the default `operator.add` or `+` reducer, which always\n",
        "appends new messages to the end of the existing messages array.\n",
        "\n",
        "Now, to support replacing existing messages, we annotate the\n",
        "`messages` key with a customer reducer function, which replaces\n",
        "messages with the same `id`, and appends them otherwise.\n",
        "\"\"\"\n",
        "def reduce_messages(left: list[AnyMessage], right: list[AnyMessage]) -> list[AnyMessage]:\n",
        "    # assign ids to messages that don't have them\n",
        "    for message in right:\n",
        "        if not message.id:\n",
        "            message.id = str(uuid4())\n",
        "    # merge the new messages with the existing messages\n",
        "    merged = left.copy()\n",
        "    for message in right:\n",
        "        for i, existing in enumerate(merged):\n",
        "            # replace any existing messages with the same id\n",
        "            if existing.id == message.id:\n",
        "                merged[i] = message\n",
        "                break\n",
        "        else:\n",
        "            # append any new messages to the end\n",
        "            merged.append(message)\n",
        "    return merged\n",
        "\n",
        "class AgentState(TypedDict):\n",
        "    messages: Annotated[list[AnyMessage], reduce_messages]"
      ]
    },
    {
      "cell_type": "code",
      "execution_count": 13,
      "metadata": {
        "id": "8jHUIS6jpa9z"
      },
      "outputs": [],
      "source": [
        "tool = TavilySearchResults(max_results=2)"
      ],
      "id": "8jHUIS6jpa9z"
    },
    {
      "cell_type": "markdown",
      "id": "3a9dcde1",
      "metadata": {
        "id": "3a9dcde1"
      },
      "source": [
        "## Manual human approval"
      ]
    },
    {
      "cell_type": "code",
      "execution_count": 14,
      "id": "d75102d8",
      "metadata": {
        "id": "d75102d8"
      },
      "outputs": [],
      "source": [
        "class Agent:\n",
        "    def __init__(self, model, tools, system=\"\", checkpointer=None):\n",
        "        self.system = system\n",
        "        graph = StateGraph(AgentState)\n",
        "        graph.add_node(\"llm\", self.call_openai)\n",
        "        graph.add_node(\"action\", self.take_action)\n",
        "        graph.add_conditional_edges(\"llm\", self.exists_action, {True: \"action\", False: END})\n",
        "        graph.add_edge(\"action\", \"llm\")\n",
        "        graph.set_entry_point(\"llm\")\n",
        "        self.graph = graph.compile(\n",
        "            checkpointer=checkpointer,\n",
        "            interrupt_before=[\"action\"]\n",
        "        )\n",
        "        self.tools = {t.name: t for t in tools}\n",
        "        self.model = model.bind_tools(tools)\n",
        "\n",
        "    def call_openai(self, state: AgentState):\n",
        "        messages = state['messages']\n",
        "        if self.system:\n",
        "            messages = [SystemMessage(content=self.system)] + messages\n",
        "        message = self.model.invoke(messages)\n",
        "        return {'messages': [message]}\n",
        "\n",
        "    def exists_action(self, state: AgentState):\n",
        "        print(state)\n",
        "        result = state['messages'][-1]\n",
        "        return len(result.tool_calls) > 0\n",
        "\n",
        "    def take_action(self, state: AgentState):\n",
        "        tool_calls = state['messages'][-1].tool_calls\n",
        "        results = []\n",
        "        for t in tool_calls:\n",
        "            print(f\"Calling: {t}\")\n",
        "            result = self.tools[t['name']].invoke(t['args'])\n",
        "            results.append(ToolMessage(tool_call_id=t['id'], name=t['name'], content=str(result)))\n",
        "        print(\"Back to the model!\")\n",
        "        return {'messages': results}"
      ]
    },
    {
      "cell_type": "code",
      "execution_count": 15,
      "id": "347dc6c5",
      "metadata": {
        "id": "347dc6c5"
      },
      "outputs": [],
      "source": [
        "prompt = \"\"\"You are a smart research assistant. Use the search engine to look up information. \\\n",
        "You are allowed to make multiple calls (either together or in sequence). \\\n",
        "Only look up information when you are sure of what you want. \\\n",
        "If you need to look up some information before asking a follow up question, you are allowed to do that!\n",
        "\"\"\"\n",
        "model = ChatOpenAI(model=\"gpt-3.5-turbo\")\n",
        "abot = Agent(model, [tool], system=prompt, checkpointer=memory)"
      ]
    },
    {
      "cell_type": "code",
      "execution_count": 16,
      "metadata": {
        "colab": {
          "base_uri": "https://localhost:8080/"
        },
        "id": "LHT4eiHepa98",
        "outputId": "02d235d9-be13-466f-fed4-dd42ef4c4647"
      },
      "outputs": [
        {
          "output_type": "stream",
          "name": "stdout",
          "text": [
            "{'messages': [HumanMessage(content='Whats the weather in SF?', additional_kwargs={}, response_metadata={}, id='b00d3b4e-dcc5-4ab0-b830-3fd980490a63'), AIMessage(content='', additional_kwargs={'tool_calls': [{'id': 'call_OtUJChDDhTdaZNupJSoebBcz', 'function': {'arguments': '{\"query\":\"current weather in San Francisco\"}', 'name': 'tavily_search_results_json'}, 'type': 'function'}], 'refusal': None}, response_metadata={'token_usage': {'completion_tokens': 23, 'prompt_tokens': 152, 'total_tokens': 175, 'completion_tokens_details': {'accepted_prediction_tokens': 0, 'audio_tokens': 0, 'reasoning_tokens': 0, 'rejected_prediction_tokens': 0}, 'prompt_tokens_details': {'audio_tokens': 0, 'cached_tokens': 0}}, 'model_name': 'gpt-3.5-turbo-0125', 'system_fingerprint': None, 'finish_reason': 'tool_calls', 'logprobs': None}, id='run-f0cce6cf-6b50-4cfc-adfc-0c86e82710ae-0', tool_calls=[{'name': 'tavily_search_results_json', 'args': {'query': 'current weather in San Francisco'}, 'id': 'call_OtUJChDDhTdaZNupJSoebBcz', 'type': 'tool_call'}], usage_metadata={'input_tokens': 152, 'output_tokens': 23, 'total_tokens': 175, 'input_token_details': {'audio': 0, 'cache_read': 0}, 'output_token_details': {'audio': 0, 'reasoning': 0}})]}\n",
            "{'messages': [AIMessage(content='', additional_kwargs={'tool_calls': [{'id': 'call_OtUJChDDhTdaZNupJSoebBcz', 'function': {'arguments': '{\"query\":\"current weather in San Francisco\"}', 'name': 'tavily_search_results_json'}, 'type': 'function'}], 'refusal': None}, response_metadata={'token_usage': {'completion_tokens': 23, 'prompt_tokens': 152, 'total_tokens': 175, 'completion_tokens_details': {'accepted_prediction_tokens': 0, 'audio_tokens': 0, 'reasoning_tokens': 0, 'rejected_prediction_tokens': 0}, 'prompt_tokens_details': {'audio_tokens': 0, 'cached_tokens': 0}}, 'model_name': 'gpt-3.5-turbo-0125', 'system_fingerprint': None, 'finish_reason': 'tool_calls', 'logprobs': None}, id='run-f0cce6cf-6b50-4cfc-adfc-0c86e82710ae-0', tool_calls=[{'name': 'tavily_search_results_json', 'args': {'query': 'current weather in San Francisco'}, 'id': 'call_OtUJChDDhTdaZNupJSoebBcz', 'type': 'tool_call'}], usage_metadata={'input_tokens': 152, 'output_tokens': 23, 'total_tokens': 175, 'input_token_details': {'audio': 0, 'cache_read': 0}, 'output_token_details': {'audio': 0, 'reasoning': 0}})]}\n",
            "()\n"
          ]
        }
      ],
      "source": [
        "messages = [HumanMessage(content=\"Whats the weather in SF?\")]\n",
        "thread = {\"configurable\": {\"thread_id\": \"1\"}}\n",
        "for event in abot.graph.stream({\"messages\": messages}, thread):\n",
        "    for v in event.values():\n",
        "        print(v)"
      ],
      "id": "LHT4eiHepa98"
    },
    {
      "cell_type": "code",
      "execution_count": 17,
      "metadata": {
        "colab": {
          "base_uri": "https://localhost:8080/"
        },
        "id": "lAWRmH4jpa98",
        "outputId": "d805a30e-9872-43f7-bba0-f6fbc3872c3a"
      },
      "outputs": [
        {
          "output_type": "execute_result",
          "data": {
            "text/plain": [
              "StateSnapshot(values={'messages': [HumanMessage(content='Whats the weather in SF?', additional_kwargs={}, response_metadata={}, id='b00d3b4e-dcc5-4ab0-b830-3fd980490a63'), AIMessage(content='', additional_kwargs={'tool_calls': [{'id': 'call_OtUJChDDhTdaZNupJSoebBcz', 'function': {'arguments': '{\"query\":\"current weather in San Francisco\"}', 'name': 'tavily_search_results_json'}, 'type': 'function'}], 'refusal': None}, response_metadata={'token_usage': {'completion_tokens': 23, 'prompt_tokens': 152, 'total_tokens': 175, 'completion_tokens_details': {'accepted_prediction_tokens': 0, 'audio_tokens': 0, 'reasoning_tokens': 0, 'rejected_prediction_tokens': 0}, 'prompt_tokens_details': {'audio_tokens': 0, 'cached_tokens': 0}}, 'model_name': 'gpt-3.5-turbo-0125', 'system_fingerprint': None, 'finish_reason': 'tool_calls', 'logprobs': None}, id='run-f0cce6cf-6b50-4cfc-adfc-0c86e82710ae-0', tool_calls=[{'name': 'tavily_search_results_json', 'args': {'query': 'current weather in San Francisco'}, 'id': 'call_OtUJChDDhTdaZNupJSoebBcz', 'type': 'tool_call'}], usage_metadata={'input_tokens': 152, 'output_tokens': 23, 'total_tokens': 175, 'input_token_details': {'audio': 0, 'cache_read': 0}, 'output_token_details': {'audio': 0, 'reasoning': 0}})]}, next=('action',), config={'configurable': {'thread_id': '1', 'checkpoint_ns': '', 'checkpoint_id': '1f02e276-8808-63bd-8001-2967f4702b9e'}}, metadata={'source': 'loop', 'writes': {'llm': {'messages': [AIMessage(content='', additional_kwargs={'tool_calls': [{'id': 'call_OtUJChDDhTdaZNupJSoebBcz', 'function': {'arguments': '{\"query\":\"current weather in San Francisco\"}', 'name': 'tavily_search_results_json'}, 'type': 'function'}], 'refusal': None}, response_metadata={'token_usage': {'completion_tokens': 23, 'prompt_tokens': 152, 'total_tokens': 175, 'completion_tokens_details': {'accepted_prediction_tokens': 0, 'audio_tokens': 0, 'reasoning_tokens': 0, 'rejected_prediction_tokens': 0}, 'prompt_tokens_details': {'audio_tokens': 0, 'cached_tokens': 0}}, 'model_name': 'gpt-3.5-turbo-0125', 'system_fingerprint': None, 'finish_reason': 'tool_calls', 'logprobs': None}, id='run-f0cce6cf-6b50-4cfc-adfc-0c86e82710ae-0', tool_calls=[{'name': 'tavily_search_results_json', 'args': {'query': 'current weather in San Francisco'}, 'id': 'call_OtUJChDDhTdaZNupJSoebBcz', 'type': 'tool_call'}], usage_metadata={'input_tokens': 152, 'output_tokens': 23, 'total_tokens': 175, 'input_token_details': {'audio': 0, 'cache_read': 0}, 'output_token_details': {'audio': 0, 'reasoning': 0}})]}}, 'thread_id': '1', 'step': 1, 'parents': {}}, created_at='2025-05-11T05:18:44.034041+00:00', parent_config={'configurable': {'thread_id': '1', 'checkpoint_ns': '', 'checkpoint_id': '1f02e276-7805-66fc-8000-a17a4461b4a4'}}, tasks=(PregelTask(id='b5cc6101-4281-a610-0155-562b5c7ee779', name='action', path=('__pregel_pull', 'action'), error=None, interrupts=(), state=None, result=None),))"
            ]
          },
          "metadata": {},
          "execution_count": 17
        }
      ],
      "source": [
        "abot.graph.get_state(thread)"
      ],
      "id": "lAWRmH4jpa98"
    },
    {
      "cell_type": "code",
      "execution_count": 18,
      "metadata": {
        "colab": {
          "base_uri": "https://localhost:8080/"
        },
        "id": "W6xbPoyMpa9-",
        "outputId": "523fcec7-e5b3-405b-9574-02c9721d8495"
      },
      "outputs": [
        {
          "output_type": "execute_result",
          "data": {
            "text/plain": [
              "('action',)"
            ]
          },
          "metadata": {},
          "execution_count": 18
        }
      ],
      "source": [
        "abot.graph.get_state(thread).next"
      ],
      "id": "W6xbPoyMpa9-"
    },
    {
      "cell_type": "markdown",
      "id": "23d8cefc",
      "metadata": {
        "id": "23d8cefc"
      },
      "source": [
        "### continue after interrupt"
      ]
    },
    {
      "cell_type": "code",
      "execution_count": 19,
      "id": "c2c82369",
      "metadata": {
        "colab": {
          "base_uri": "https://localhost:8080/"
        },
        "id": "c2c82369",
        "outputId": "f8f362fc-fcc5-4423-c587-814241111d30"
      },
      "outputs": [
        {
          "output_type": "stream",
          "name": "stdout",
          "text": [
            "Calling: {'name': 'tavily_search_results_json', 'args': {'query': 'current weather in San Francisco'}, 'id': 'call_OtUJChDDhTdaZNupJSoebBcz', 'type': 'tool_call'}\n",
            "Back to the model!\n",
            "{'messages': [ToolMessage(content='[{\\'url\\': \\'https://world-weather.info/forecast/usa/san_francisco/may-2025/\\', \\'content\\': \"Weather in San Francisco in May 2025\\\\n\\\\nSan Francisco Weather Forecast for May 2025 is based on long term prognosis and previous years\\' statistical data.\\\\n\\\\nMay\\\\n\\\\n+52°\\\\n\\\\n+52°\\\\n\\\\n+52°\\\\n\\\\n+50°\\\\n\\\\n+57°\\\\n\\\\n+55°\\\\n\\\\n+54°\\\\n\\\\n+50°\\\\n\\\\n+52°\\\\n\\\\n+54°\\\\n\\\\n+52°\\\\n\\\\n+54°\\\\n\\\\n+52°\\\\n\\\\n+50°\\\\n\\\\n+50°\\\\n\\\\n+52°\\\\n\\\\n+52°\\\\n\\\\n+50°\\\\n\\\\n+50°\\\\n\\\\n+52°\\\\n\\\\n+54°\\\\n\\\\n+55°\\\\n\\\\n+54°\\\\n\\\\n+54°\\\\n\\\\n+57°\\\\n\\\\n+55°\\\\n\\\\n+55°\\\\n\\\\n+57°\\\\n\\\\n+55°\\\\n\\\\n+55°\\\\n\\\\n+55°\\\\n\\\\nExtended weather forecast in San Francisco\\\\n\\\\nWeather in large and nearby cities\\\\n\\\\nWeather in Washington, D.C.+59°\\\\n\\\\nSacramento+72°\\\\n\\\\nPleasanton+61° [...] Redwood City+59°\\\\n\\\\nSan Leandro+57°\\\\n\\\\nSan Mateo+59°\\\\n\\\\nSan Rafael+59°\\\\n\\\\nSan Ramon+57°\\\\n\\\\nSouth San Francisco+55°\\\\n\\\\nVallejo+61°\\\\n\\\\nPalo Alto+63°\\\\n\\\\nPacifica+52°\\\\n\\\\nBerkeley+57°\\\\n\\\\nCastro Valley+57°\\\\n\\\\nConcord+68°\\\\n\\\\nDaly City+54°\\\\n\\\\nEscalle+59°\\\\n\\\\nSunshine Gardens+55°\"}, {\\'url\\': \\'https://www.weatherapi.com/\\', \\'content\\': \"{\\'location\\': {\\'name\\': \\'San Francisco\\', \\'region\\': \\'California\\', \\'country\\': \\'United States of America\\', \\'lat\\': 37.775, \\'lon\\': -122.4183, \\'tz_id\\': \\'America/Los_Angeles\\', \\'localtime_epoch\\': 1746940726, \\'localtime\\': \\'2025-05-10 22:18\\'}, \\'current\\': {\\'last_updated_epoch\\': 1746940500, \\'last_updated\\': \\'2025-05-10 22:15\\', \\'temp_c\\': 13.9, \\'temp_f\\': 57.0, \\'is_day\\': 0, \\'condition\\': {\\'text\\': \\'Partly Cloudy\\', \\'icon\\': \\'//cdn.weatherapi.com/weather/64x64/night/116.png\\', \\'code\\': 1003}, \\'wind_mph\\': 9.2, \\'wind_kph\\': 14.8, \\'wind_degree\\': 264, \\'wind_dir\\': \\'W\\', \\'pressure_mb\\': 1015.0, \\'pressure_in\\': 29.97, \\'precip_mm\\': 0.0, \\'precip_in\\': 0.0, \\'humidity\\': 67, \\'cloud\\': 25, \\'feelslike_c\\': 12.8, \\'feelslike_f\\': 55.0, \\'windchill_c\\': 9.8, \\'windchill_f\\': 49.6, \\'heatindex_c\\': 11.4, \\'heatindex_f\\': 52.5, \\'dewpoint_c\\': 9.7, \\'dewpoint_f\\': 49.5, \\'vis_km\\': 16.0, \\'vis_miles\\': 9.0, \\'uv\\': 0.0, \\'gust_mph\\': 15.6, \\'gust_kph\\': 25.1}}\"}]', name='tavily_search_results_json', id='e168004b-3f8f-4d47-9313-8915f09f9f85', tool_call_id='call_OtUJChDDhTdaZNupJSoebBcz')]}\n",
            "{'messages': [HumanMessage(content='Whats the weather in SF?', additional_kwargs={}, response_metadata={}, id='b00d3b4e-dcc5-4ab0-b830-3fd980490a63'), AIMessage(content='', additional_kwargs={'tool_calls': [{'id': 'call_OtUJChDDhTdaZNupJSoebBcz', 'function': {'arguments': '{\"query\":\"current weather in San Francisco\"}', 'name': 'tavily_search_results_json'}, 'type': 'function'}], 'refusal': None}, response_metadata={'token_usage': {'completion_tokens': 23, 'prompt_tokens': 152, 'total_tokens': 175, 'completion_tokens_details': {'accepted_prediction_tokens': 0, 'audio_tokens': 0, 'reasoning_tokens': 0, 'rejected_prediction_tokens': 0}, 'prompt_tokens_details': {'audio_tokens': 0, 'cached_tokens': 0}}, 'model_name': 'gpt-3.5-turbo-0125', 'system_fingerprint': None, 'finish_reason': 'tool_calls', 'logprobs': None}, id='run-f0cce6cf-6b50-4cfc-adfc-0c86e82710ae-0', tool_calls=[{'name': 'tavily_search_results_json', 'args': {'query': 'current weather in San Francisco'}, 'id': 'call_OtUJChDDhTdaZNupJSoebBcz', 'type': 'tool_call'}], usage_metadata={'input_tokens': 152, 'output_tokens': 23, 'total_tokens': 175, 'input_token_details': {'audio': 0, 'cache_read': 0}, 'output_token_details': {'audio': 0, 'reasoning': 0}}), ToolMessage(content='[{\\'url\\': \\'https://world-weather.info/forecast/usa/san_francisco/may-2025/\\', \\'content\\': \"Weather in San Francisco in May 2025\\\\n\\\\nSan Francisco Weather Forecast for May 2025 is based on long term prognosis and previous years\\' statistical data.\\\\n\\\\nMay\\\\n\\\\n+52°\\\\n\\\\n+52°\\\\n\\\\n+52°\\\\n\\\\n+50°\\\\n\\\\n+57°\\\\n\\\\n+55°\\\\n\\\\n+54°\\\\n\\\\n+50°\\\\n\\\\n+52°\\\\n\\\\n+54°\\\\n\\\\n+52°\\\\n\\\\n+54°\\\\n\\\\n+52°\\\\n\\\\n+50°\\\\n\\\\n+50°\\\\n\\\\n+52°\\\\n\\\\n+52°\\\\n\\\\n+50°\\\\n\\\\n+50°\\\\n\\\\n+52°\\\\n\\\\n+54°\\\\n\\\\n+55°\\\\n\\\\n+54°\\\\n\\\\n+54°\\\\n\\\\n+57°\\\\n\\\\n+55°\\\\n\\\\n+55°\\\\n\\\\n+57°\\\\n\\\\n+55°\\\\n\\\\n+55°\\\\n\\\\n+55°\\\\n\\\\nExtended weather forecast in San Francisco\\\\n\\\\nWeather in large and nearby cities\\\\n\\\\nWeather in Washington, D.C.+59°\\\\n\\\\nSacramento+72°\\\\n\\\\nPleasanton+61° [...] Redwood City+59°\\\\n\\\\nSan Leandro+57°\\\\n\\\\nSan Mateo+59°\\\\n\\\\nSan Rafael+59°\\\\n\\\\nSan Ramon+57°\\\\n\\\\nSouth San Francisco+55°\\\\n\\\\nVallejo+61°\\\\n\\\\nPalo Alto+63°\\\\n\\\\nPacifica+52°\\\\n\\\\nBerkeley+57°\\\\n\\\\nCastro Valley+57°\\\\n\\\\nConcord+68°\\\\n\\\\nDaly City+54°\\\\n\\\\nEscalle+59°\\\\n\\\\nSunshine Gardens+55°\"}, {\\'url\\': \\'https://www.weatherapi.com/\\', \\'content\\': \"{\\'location\\': {\\'name\\': \\'San Francisco\\', \\'region\\': \\'California\\', \\'country\\': \\'United States of America\\', \\'lat\\': 37.775, \\'lon\\': -122.4183, \\'tz_id\\': \\'America/Los_Angeles\\', \\'localtime_epoch\\': 1746940726, \\'localtime\\': \\'2025-05-10 22:18\\'}, \\'current\\': {\\'last_updated_epoch\\': 1746940500, \\'last_updated\\': \\'2025-05-10 22:15\\', \\'temp_c\\': 13.9, \\'temp_f\\': 57.0, \\'is_day\\': 0, \\'condition\\': {\\'text\\': \\'Partly Cloudy\\', \\'icon\\': \\'//cdn.weatherapi.com/weather/64x64/night/116.png\\', \\'code\\': 1003}, \\'wind_mph\\': 9.2, \\'wind_kph\\': 14.8, \\'wind_degree\\': 264, \\'wind_dir\\': \\'W\\', \\'pressure_mb\\': 1015.0, \\'pressure_in\\': 29.97, \\'precip_mm\\': 0.0, \\'precip_in\\': 0.0, \\'humidity\\': 67, \\'cloud\\': 25, \\'feelslike_c\\': 12.8, \\'feelslike_f\\': 55.0, \\'windchill_c\\': 9.8, \\'windchill_f\\': 49.6, \\'heatindex_c\\': 11.4, \\'heatindex_f\\': 52.5, \\'dewpoint_c\\': 9.7, \\'dewpoint_f\\': 49.5, \\'vis_km\\': 16.0, \\'vis_miles\\': 9.0, \\'uv\\': 0.0, \\'gust_mph\\': 15.6, \\'gust_kph\\': 25.1}}\"}]', name='tavily_search_results_json', id='e168004b-3f8f-4d47-9313-8915f09f9f85', tool_call_id='call_OtUJChDDhTdaZNupJSoebBcz'), AIMessage(content='The current weather in San Francisco is partly cloudy with a temperature of 57.0°F. The wind speed is 14.8 km/h coming from the west. The humidity is at 67% with a visibility of 9.0 miles.', additional_kwargs={'refusal': None}, response_metadata={'token_usage': {'completion_tokens': 53, 'prompt_tokens': 1024, 'total_tokens': 1077, 'completion_tokens_details': {'accepted_prediction_tokens': 0, 'audio_tokens': 0, 'reasoning_tokens': 0, 'rejected_prediction_tokens': 0}, 'prompt_tokens_details': {'audio_tokens': 0, 'cached_tokens': 0}}, 'model_name': 'gpt-3.5-turbo-0125', 'system_fingerprint': None, 'finish_reason': 'stop', 'logprobs': None}, id='run-56ca98a5-70a9-4236-b234-c6dbe4fe9f4c-0', usage_metadata={'input_tokens': 1024, 'output_tokens': 53, 'total_tokens': 1077, 'input_token_details': {'audio': 0, 'cache_read': 0}, 'output_token_details': {'audio': 0, 'reasoning': 0}})]}\n",
            "{'messages': [AIMessage(content='The current weather in San Francisco is partly cloudy with a temperature of 57.0°F. The wind speed is 14.8 km/h coming from the west. The humidity is at 67% with a visibility of 9.0 miles.', additional_kwargs={'refusal': None}, response_metadata={'token_usage': {'completion_tokens': 53, 'prompt_tokens': 1024, 'total_tokens': 1077, 'completion_tokens_details': {'accepted_prediction_tokens': 0, 'audio_tokens': 0, 'reasoning_tokens': 0, 'rejected_prediction_tokens': 0}, 'prompt_tokens_details': {'audio_tokens': 0, 'cached_tokens': 0}}, 'model_name': 'gpt-3.5-turbo-0125', 'system_fingerprint': None, 'finish_reason': 'stop', 'logprobs': None}, id='run-56ca98a5-70a9-4236-b234-c6dbe4fe9f4c-0', usage_metadata={'input_tokens': 1024, 'output_tokens': 53, 'total_tokens': 1077, 'input_token_details': {'audio': 0, 'cache_read': 0}, 'output_token_details': {'audio': 0, 'reasoning': 0}})]}\n"
          ]
        }
      ],
      "source": [
        "for event in abot.graph.stream(None, thread):\n",
        "    for v in event.values():\n",
        "        print(v)"
      ]
    },
    {
      "cell_type": "code",
      "execution_count": 20,
      "id": "1476d652",
      "metadata": {
        "colab": {
          "base_uri": "https://localhost:8080/"
        },
        "id": "1476d652",
        "outputId": "897c3cc3-024b-41ee-bc78-d9bce798cd21"
      },
      "outputs": [
        {
          "output_type": "execute_result",
          "data": {
            "text/plain": [
              "StateSnapshot(values={'messages': [HumanMessage(content='Whats the weather in SF?', additional_kwargs={}, response_metadata={}, id='b00d3b4e-dcc5-4ab0-b830-3fd980490a63'), AIMessage(content='', additional_kwargs={'tool_calls': [{'id': 'call_OtUJChDDhTdaZNupJSoebBcz', 'function': {'arguments': '{\"query\":\"current weather in San Francisco\"}', 'name': 'tavily_search_results_json'}, 'type': 'function'}], 'refusal': None}, response_metadata={'token_usage': {'completion_tokens': 23, 'prompt_tokens': 152, 'total_tokens': 175, 'completion_tokens_details': {'accepted_prediction_tokens': 0, 'audio_tokens': 0, 'reasoning_tokens': 0, 'rejected_prediction_tokens': 0}, 'prompt_tokens_details': {'audio_tokens': 0, 'cached_tokens': 0}}, 'model_name': 'gpt-3.5-turbo-0125', 'system_fingerprint': None, 'finish_reason': 'tool_calls', 'logprobs': None}, id='run-f0cce6cf-6b50-4cfc-adfc-0c86e82710ae-0', tool_calls=[{'name': 'tavily_search_results_json', 'args': {'query': 'current weather in San Francisco'}, 'id': 'call_OtUJChDDhTdaZNupJSoebBcz', 'type': 'tool_call'}], usage_metadata={'input_tokens': 152, 'output_tokens': 23, 'total_tokens': 175, 'input_token_details': {'audio': 0, 'cache_read': 0}, 'output_token_details': {'audio': 0, 'reasoning': 0}}), ToolMessage(content='[{\\'url\\': \\'https://world-weather.info/forecast/usa/san_francisco/may-2025/\\', \\'content\\': \"Weather in San Francisco in May 2025\\\\n\\\\nSan Francisco Weather Forecast for May 2025 is based on long term prognosis and previous years\\' statistical data.\\\\n\\\\nMay\\\\n\\\\n+52°\\\\n\\\\n+52°\\\\n\\\\n+52°\\\\n\\\\n+50°\\\\n\\\\n+57°\\\\n\\\\n+55°\\\\n\\\\n+54°\\\\n\\\\n+50°\\\\n\\\\n+52°\\\\n\\\\n+54°\\\\n\\\\n+52°\\\\n\\\\n+54°\\\\n\\\\n+52°\\\\n\\\\n+50°\\\\n\\\\n+50°\\\\n\\\\n+52°\\\\n\\\\n+52°\\\\n\\\\n+50°\\\\n\\\\n+50°\\\\n\\\\n+52°\\\\n\\\\n+54°\\\\n\\\\n+55°\\\\n\\\\n+54°\\\\n\\\\n+54°\\\\n\\\\n+57°\\\\n\\\\n+55°\\\\n\\\\n+55°\\\\n\\\\n+57°\\\\n\\\\n+55°\\\\n\\\\n+55°\\\\n\\\\n+55°\\\\n\\\\nExtended weather forecast in San Francisco\\\\n\\\\nWeather in large and nearby cities\\\\n\\\\nWeather in Washington, D.C.+59°\\\\n\\\\nSacramento+72°\\\\n\\\\nPleasanton+61° [...] Redwood City+59°\\\\n\\\\nSan Leandro+57°\\\\n\\\\nSan Mateo+59°\\\\n\\\\nSan Rafael+59°\\\\n\\\\nSan Ramon+57°\\\\n\\\\nSouth San Francisco+55°\\\\n\\\\nVallejo+61°\\\\n\\\\nPalo Alto+63°\\\\n\\\\nPacifica+52°\\\\n\\\\nBerkeley+57°\\\\n\\\\nCastro Valley+57°\\\\n\\\\nConcord+68°\\\\n\\\\nDaly City+54°\\\\n\\\\nEscalle+59°\\\\n\\\\nSunshine Gardens+55°\"}, {\\'url\\': \\'https://www.weatherapi.com/\\', \\'content\\': \"{\\'location\\': {\\'name\\': \\'San Francisco\\', \\'region\\': \\'California\\', \\'country\\': \\'United States of America\\', \\'lat\\': 37.775, \\'lon\\': -122.4183, \\'tz_id\\': \\'America/Los_Angeles\\', \\'localtime_epoch\\': 1746940726, \\'localtime\\': \\'2025-05-10 22:18\\'}, \\'current\\': {\\'last_updated_epoch\\': 1746940500, \\'last_updated\\': \\'2025-05-10 22:15\\', \\'temp_c\\': 13.9, \\'temp_f\\': 57.0, \\'is_day\\': 0, \\'condition\\': {\\'text\\': \\'Partly Cloudy\\', \\'icon\\': \\'//cdn.weatherapi.com/weather/64x64/night/116.png\\', \\'code\\': 1003}, \\'wind_mph\\': 9.2, \\'wind_kph\\': 14.8, \\'wind_degree\\': 264, \\'wind_dir\\': \\'W\\', \\'pressure_mb\\': 1015.0, \\'pressure_in\\': 29.97, \\'precip_mm\\': 0.0, \\'precip_in\\': 0.0, \\'humidity\\': 67, \\'cloud\\': 25, \\'feelslike_c\\': 12.8, \\'feelslike_f\\': 55.0, \\'windchill_c\\': 9.8, \\'windchill_f\\': 49.6, \\'heatindex_c\\': 11.4, \\'heatindex_f\\': 52.5, \\'dewpoint_c\\': 9.7, \\'dewpoint_f\\': 49.5, \\'vis_km\\': 16.0, \\'vis_miles\\': 9.0, \\'uv\\': 0.0, \\'gust_mph\\': 15.6, \\'gust_kph\\': 25.1}}\"}]', name='tavily_search_results_json', id='e168004b-3f8f-4d47-9313-8915f09f9f85', tool_call_id='call_OtUJChDDhTdaZNupJSoebBcz'), AIMessage(content='The current weather in San Francisco is partly cloudy with a temperature of 57.0°F. The wind speed is 14.8 km/h coming from the west. The humidity is at 67% with a visibility of 9.0 miles.', additional_kwargs={'refusal': None}, response_metadata={'token_usage': {'completion_tokens': 53, 'prompt_tokens': 1024, 'total_tokens': 1077, 'completion_tokens_details': {'accepted_prediction_tokens': 0, 'audio_tokens': 0, 'reasoning_tokens': 0, 'rejected_prediction_tokens': 0}, 'prompt_tokens_details': {'audio_tokens': 0, 'cached_tokens': 0}}, 'model_name': 'gpt-3.5-turbo-0125', 'system_fingerprint': None, 'finish_reason': 'stop', 'logprobs': None}, id='run-56ca98a5-70a9-4236-b234-c6dbe4fe9f4c-0', usage_metadata={'input_tokens': 1024, 'output_tokens': 53, 'total_tokens': 1077, 'input_token_details': {'audio': 0, 'cache_read': 0}, 'output_token_details': {'audio': 0, 'reasoning': 0}})]}, next=(), config={'configurable': {'thread_id': '1', 'checkpoint_ns': '', 'checkpoint_id': '1f02e276-e68a-619e-8003-d0e955d0842d'}}, metadata={'source': 'loop', 'writes': {'llm': {'messages': [AIMessage(content='The current weather in San Francisco is partly cloudy with a temperature of 57.0°F. The wind speed is 14.8 km/h coming from the west. The humidity is at 67% with a visibility of 9.0 miles.', additional_kwargs={'refusal': None}, response_metadata={'token_usage': {'completion_tokens': 53, 'prompt_tokens': 1024, 'total_tokens': 1077, 'completion_tokens_details': {'accepted_prediction_tokens': 0, 'audio_tokens': 0, 'reasoning_tokens': 0, 'rejected_prediction_tokens': 0}, 'prompt_tokens_details': {'audio_tokens': 0, 'cached_tokens': 0}}, 'model_name': 'gpt-3.5-turbo-0125', 'system_fingerprint': None, 'finish_reason': 'stop', 'logprobs': None}, id='run-56ca98a5-70a9-4236-b234-c6dbe4fe9f4c-0', usage_metadata={'input_tokens': 1024, 'output_tokens': 53, 'total_tokens': 1077, 'input_token_details': {'audio': 0, 'cache_read': 0}, 'output_token_details': {'audio': 0, 'reasoning': 0}})]}}, 'thread_id': '1', 'step': 3, 'parents': {}}, created_at='2025-05-11T05:18:53.943849+00:00', parent_config={'configurable': {'thread_id': '1', 'checkpoint_ns': '', 'checkpoint_id': '1f02e276-d608-6e0e-8002-9901352c2d56'}}, tasks=())"
            ]
          },
          "metadata": {},
          "execution_count": 20
        }
      ],
      "source": [
        "abot.graph.get_state(thread)"
      ]
    },
    {
      "cell_type": "code",
      "execution_count": 21,
      "metadata": {
        "colab": {
          "base_uri": "https://localhost:8080/"
        },
        "id": "QtBk_D7jpa-D",
        "outputId": "651d81aa-f792-4efb-cddd-1abba3c08dd2"
      },
      "outputs": [
        {
          "output_type": "execute_result",
          "data": {
            "text/plain": [
              "()"
            ]
          },
          "metadata": {},
          "execution_count": 21
        }
      ],
      "source": [
        "abot.graph.get_state(thread).next"
      ],
      "id": "QtBk_D7jpa-D"
    },
    {
      "cell_type": "code",
      "execution_count": 22,
      "metadata": {
        "colab": {
          "base_uri": "https://localhost:8080/"
        },
        "id": "QoKIrSPppa-D",
        "outputId": "f16f44f8-a9d5-4f0e-b590-f8d0e8d8d9e1"
      },
      "outputs": [
        {
          "output_type": "stream",
          "name": "stdout",
          "text": [
            "{'messages': [HumanMessage(content='Whats the weather in LA?', additional_kwargs={}, response_metadata={}, id='424bdcfc-9639-4e62-a53a-851d7194d8d4'), AIMessage(content='', additional_kwargs={'tool_calls': [{'id': 'call_KWpTSFBOqT4mH0UCLmn2TeyO', 'function': {'arguments': '{\"query\":\"weather in Los Angeles\"}', 'name': 'tavily_search_results_json'}, 'type': 'function'}], 'refusal': None}, response_metadata={'token_usage': {'completion_tokens': 22, 'prompt_tokens': 152, 'total_tokens': 174, 'completion_tokens_details': {'accepted_prediction_tokens': 0, 'audio_tokens': 0, 'reasoning_tokens': 0, 'rejected_prediction_tokens': 0}, 'prompt_tokens_details': {'audio_tokens': 0, 'cached_tokens': 0}}, 'model_name': 'gpt-3.5-turbo-0125', 'system_fingerprint': None, 'finish_reason': 'tool_calls', 'logprobs': None}, id='run-5ed7edad-1b87-4f7c-9fbc-1cbbe26f06be-0', tool_calls=[{'name': 'tavily_search_results_json', 'args': {'query': 'weather in Los Angeles'}, 'id': 'call_KWpTSFBOqT4mH0UCLmn2TeyO', 'type': 'tool_call'}], usage_metadata={'input_tokens': 152, 'output_tokens': 22, 'total_tokens': 174, 'input_token_details': {'audio': 0, 'cache_read': 0}, 'output_token_details': {'audio': 0, 'reasoning': 0}})]}\n",
            "{'messages': [AIMessage(content='', additional_kwargs={'tool_calls': [{'id': 'call_KWpTSFBOqT4mH0UCLmn2TeyO', 'function': {'arguments': '{\"query\":\"weather in Los Angeles\"}', 'name': 'tavily_search_results_json'}, 'type': 'function'}], 'refusal': None}, response_metadata={'token_usage': {'completion_tokens': 22, 'prompt_tokens': 152, 'total_tokens': 174, 'completion_tokens_details': {'accepted_prediction_tokens': 0, 'audio_tokens': 0, 'reasoning_tokens': 0, 'rejected_prediction_tokens': 0}, 'prompt_tokens_details': {'audio_tokens': 0, 'cached_tokens': 0}}, 'model_name': 'gpt-3.5-turbo-0125', 'system_fingerprint': None, 'finish_reason': 'tool_calls', 'logprobs': None}, id='run-5ed7edad-1b87-4f7c-9fbc-1cbbe26f06be-0', tool_calls=[{'name': 'tavily_search_results_json', 'args': {'query': 'weather in Los Angeles'}, 'id': 'call_KWpTSFBOqT4mH0UCLmn2TeyO', 'type': 'tool_call'}], usage_metadata={'input_tokens': 152, 'output_tokens': 22, 'total_tokens': 174, 'input_token_details': {'audio': 0, 'cache_read': 0}, 'output_token_details': {'audio': 0, 'reasoning': 0}})]}\n",
            "()\n",
            "\n",
            " StateSnapshot(values={'messages': [HumanMessage(content='Whats the weather in LA?', additional_kwargs={}, response_metadata={}, id='424bdcfc-9639-4e62-a53a-851d7194d8d4'), AIMessage(content='', additional_kwargs={'tool_calls': [{'id': 'call_KWpTSFBOqT4mH0UCLmn2TeyO', 'function': {'arguments': '{\"query\":\"weather in Los Angeles\"}', 'name': 'tavily_search_results_json'}, 'type': 'function'}], 'refusal': None}, response_metadata={'token_usage': {'completion_tokens': 22, 'prompt_tokens': 152, 'total_tokens': 174, 'completion_tokens_details': {'accepted_prediction_tokens': 0, 'audio_tokens': 0, 'reasoning_tokens': 0, 'rejected_prediction_tokens': 0}, 'prompt_tokens_details': {'audio_tokens': 0, 'cached_tokens': 0}}, 'model_name': 'gpt-3.5-turbo-0125', 'system_fingerprint': None, 'finish_reason': 'tool_calls', 'logprobs': None}, id='run-5ed7edad-1b87-4f7c-9fbc-1cbbe26f06be-0', tool_calls=[{'name': 'tavily_search_results_json', 'args': {'query': 'weather in Los Angeles'}, 'id': 'call_KWpTSFBOqT4mH0UCLmn2TeyO', 'type': 'tool_call'}], usage_metadata={'input_tokens': 152, 'output_tokens': 22, 'total_tokens': 174, 'input_token_details': {'audio': 0, 'cache_read': 0}, 'output_token_details': {'audio': 0, 'reasoning': 0}})]}, next=('action',), config={'configurable': {'thread_id': '2', 'checkpoint_ns': '', 'checkpoint_id': '1f02e276-ee69-6618-8001-207dedc38fc1'}}, metadata={'source': 'loop', 'writes': {'llm': {'messages': [AIMessage(content='', additional_kwargs={'tool_calls': [{'id': 'call_KWpTSFBOqT4mH0UCLmn2TeyO', 'function': {'arguments': '{\"query\":\"weather in Los Angeles\"}', 'name': 'tavily_search_results_json'}, 'type': 'function'}], 'refusal': None}, response_metadata={'token_usage': {'completion_tokens': 22, 'prompt_tokens': 152, 'total_tokens': 174, 'completion_tokens_details': {'accepted_prediction_tokens': 0, 'audio_tokens': 0, 'reasoning_tokens': 0, 'rejected_prediction_tokens': 0}, 'prompt_tokens_details': {'audio_tokens': 0, 'cached_tokens': 0}}, 'model_name': 'gpt-3.5-turbo-0125', 'system_fingerprint': None, 'finish_reason': 'tool_calls', 'logprobs': None}, id='run-5ed7edad-1b87-4f7c-9fbc-1cbbe26f06be-0', tool_calls=[{'name': 'tavily_search_results_json', 'args': {'query': 'weather in Los Angeles'}, 'id': 'call_KWpTSFBOqT4mH0UCLmn2TeyO', 'type': 'tool_call'}], usage_metadata={'input_tokens': 152, 'output_tokens': 22, 'total_tokens': 174, 'input_token_details': {'audio': 0, 'cache_read': 0}, 'output_token_details': {'audio': 0, 'reasoning': 0}})]}}, 'thread_id': '2', 'step': 1, 'parents': {}}, created_at='2025-05-11T05:18:54.769308+00:00', parent_config={'configurable': {'thread_id': '2', 'checkpoint_ns': '', 'checkpoint_id': '1f02e276-e731-653a-8000-d812462375f3'}}, tasks=(PregelTask(id='67ed0873-ea17-72a6-7812-1e23744104db', name='action', path=('__pregel_pull', 'action'), error=None, interrupts=(), state=None, result=None),)) \n",
            "\n",
            "proceed?y\n",
            "Calling: {'name': 'tavily_search_results_json', 'args': {'query': 'weather in Los Angeles'}, 'id': 'call_KWpTSFBOqT4mH0UCLmn2TeyO', 'type': 'tool_call'}\n",
            "Back to the model!\n",
            "{'messages': [ToolMessage(content='[{\\'url\\': \\'https://weathershogun.com/weather/usa/ca/los-angeles/451/may/2025-05-11\\', \\'content\\': \\'Los Angeles, California Weather: Sunday, May 11, 2025. Cloudy weather, overcast skies with clouds. Day 77°. Night 59°. Precipitation 0 %.\\'}, {\\'url\\': \\'https://www.weatherapi.com/\\', \\'content\\': \"{\\'location\\': {\\'name\\': \\'Los Angeles\\', \\'region\\': \\'California\\', \\'country\\': \\'United States of America\\', \\'lat\\': 34.0522, \\'lon\\': -118.2428, \\'tz_id\\': \\'America/Los_Angeles\\', \\'localtime_epoch\\': 1746940311, \\'localtime\\': \\'2025-05-10 22:11\\'}, \\'current\\': {\\'last_updated_epoch\\': 1746939600, \\'last_updated\\': \\'2025-05-10 22:00\\', \\'temp_c\\': 28.9, \\'temp_f\\': 84.0, \\'is_day\\': 0, \\'condition\\': {\\'text\\': \\'Clear\\', \\'icon\\': \\'//cdn.weatherapi.com/weather/64x64/night/113.png\\', \\'code\\': 1000}, \\'wind_mph\\': 3.4, \\'wind_kph\\': 5.4, \\'wind_degree\\': 158, \\'wind_dir\\': \\'SSE\\', \\'pressure_mb\\': 1011.0, \\'pressure_in\\': 29.86, \\'precip_mm\\': 0.0, \\'precip_in\\': 0.0, \\'humidity\\': 23, \\'cloud\\': 0, \\'feelslike_c\\': 29.4, \\'feelslike_f\\': 85.0, \\'windchill_c\\': 26.6, \\'windchill_f\\': 80.0, \\'heatindex_c\\': 27.1, \\'heatindex_f\\': 80.7, \\'dewpoint_c\\': 13.9, \\'dewpoint_f\\': 56.9, \\'vis_km\\': 16.0, \\'vis_miles\\': 9.0, \\'uv\\': 0.0, \\'gust_mph\\': 6.6, \\'gust_kph\\': 10.5}}\"}]', name='tavily_search_results_json', id='773eb98e-fe7f-4971-aeb9-d75f87aba33c', tool_call_id='call_KWpTSFBOqT4mH0UCLmn2TeyO')]}\n",
            "{'messages': [HumanMessage(content='Whats the weather in LA?', additional_kwargs={}, response_metadata={}, id='424bdcfc-9639-4e62-a53a-851d7194d8d4'), AIMessage(content='', additional_kwargs={'tool_calls': [{'id': 'call_KWpTSFBOqT4mH0UCLmn2TeyO', 'function': {'arguments': '{\"query\":\"weather in Los Angeles\"}', 'name': 'tavily_search_results_json'}, 'type': 'function'}], 'refusal': None}, response_metadata={'token_usage': {'completion_tokens': 22, 'prompt_tokens': 152, 'total_tokens': 174, 'completion_tokens_details': {'accepted_prediction_tokens': 0, 'audio_tokens': 0, 'reasoning_tokens': 0, 'rejected_prediction_tokens': 0}, 'prompt_tokens_details': {'audio_tokens': 0, 'cached_tokens': 0}}, 'model_name': 'gpt-3.5-turbo-0125', 'system_fingerprint': None, 'finish_reason': 'tool_calls', 'logprobs': None}, id='run-5ed7edad-1b87-4f7c-9fbc-1cbbe26f06be-0', tool_calls=[{'name': 'tavily_search_results_json', 'args': {'query': 'weather in Los Angeles'}, 'id': 'call_KWpTSFBOqT4mH0UCLmn2TeyO', 'type': 'tool_call'}], usage_metadata={'input_tokens': 152, 'output_tokens': 22, 'total_tokens': 174, 'input_token_details': {'audio': 0, 'cache_read': 0}, 'output_token_details': {'audio': 0, 'reasoning': 0}}), ToolMessage(content='[{\\'url\\': \\'https://weathershogun.com/weather/usa/ca/los-angeles/451/may/2025-05-11\\', \\'content\\': \\'Los Angeles, California Weather: Sunday, May 11, 2025. Cloudy weather, overcast skies with clouds. Day 77°. Night 59°. Precipitation 0 %.\\'}, {\\'url\\': \\'https://www.weatherapi.com/\\', \\'content\\': \"{\\'location\\': {\\'name\\': \\'Los Angeles\\', \\'region\\': \\'California\\', \\'country\\': \\'United States of America\\', \\'lat\\': 34.0522, \\'lon\\': -118.2428, \\'tz_id\\': \\'America/Los_Angeles\\', \\'localtime_epoch\\': 1746940311, \\'localtime\\': \\'2025-05-10 22:11\\'}, \\'current\\': {\\'last_updated_epoch\\': 1746939600, \\'last_updated\\': \\'2025-05-10 22:00\\', \\'temp_c\\': 28.9, \\'temp_f\\': 84.0, \\'is_day\\': 0, \\'condition\\': {\\'text\\': \\'Clear\\', \\'icon\\': \\'//cdn.weatherapi.com/weather/64x64/night/113.png\\', \\'code\\': 1000}, \\'wind_mph\\': 3.4, \\'wind_kph\\': 5.4, \\'wind_degree\\': 158, \\'wind_dir\\': \\'SSE\\', \\'pressure_mb\\': 1011.0, \\'pressure_in\\': 29.86, \\'precip_mm\\': 0.0, \\'precip_in\\': 0.0, \\'humidity\\': 23, \\'cloud\\': 0, \\'feelslike_c\\': 29.4, \\'feelslike_f\\': 85.0, \\'windchill_c\\': 26.6, \\'windchill_f\\': 80.0, \\'heatindex_c\\': 27.1, \\'heatindex_f\\': 80.7, \\'dewpoint_c\\': 13.9, \\'dewpoint_f\\': 56.9, \\'vis_km\\': 16.0, \\'vis_miles\\': 9.0, \\'uv\\': 0.0, \\'gust_mph\\': 6.6, \\'gust_kph\\': 10.5}}\"}]', name='tavily_search_results_json', id='773eb98e-fe7f-4971-aeb9-d75f87aba33c', tool_call_id='call_KWpTSFBOqT4mH0UCLmn2TeyO'), AIMessage(content='The current weather in Los Angeles is clear with a temperature of 84.0°F (29°C). The wind is blowing at 5.4 km/h from SSE direction. The humidity is 23% and there is no precipitation. If you want more detailed information, you can visit [here](https://www.weatherapi.com/).', additional_kwargs={'refusal': None}, response_metadata={'token_usage': {'completion_tokens': 71, 'prompt_tokens': 676, 'total_tokens': 747, 'completion_tokens_details': {'accepted_prediction_tokens': 0, 'audio_tokens': 0, 'reasoning_tokens': 0, 'rejected_prediction_tokens': 0}, 'prompt_tokens_details': {'audio_tokens': 0, 'cached_tokens': 0}}, 'model_name': 'gpt-3.5-turbo-0125', 'system_fingerprint': None, 'finish_reason': 'stop', 'logprobs': None}, id='run-785a3bb5-13d8-44bb-9dd9-9cbfff9220d1-0', usage_metadata={'input_tokens': 676, 'output_tokens': 71, 'total_tokens': 747, 'input_token_details': {'audio': 0, 'cache_read': 0}, 'output_token_details': {'audio': 0, 'reasoning': 0}})]}\n",
            "{'messages': [AIMessage(content='The current weather in Los Angeles is clear with a temperature of 84.0°F (29°C). The wind is blowing at 5.4 km/h from SSE direction. The humidity is 23% and there is no precipitation. If you want more detailed information, you can visit [here](https://www.weatherapi.com/).', additional_kwargs={'refusal': None}, response_metadata={'token_usage': {'completion_tokens': 71, 'prompt_tokens': 676, 'total_tokens': 747, 'completion_tokens_details': {'accepted_prediction_tokens': 0, 'audio_tokens': 0, 'reasoning_tokens': 0, 'rejected_prediction_tokens': 0}, 'prompt_tokens_details': {'audio_tokens': 0, 'cached_tokens': 0}}, 'model_name': 'gpt-3.5-turbo-0125', 'system_fingerprint': None, 'finish_reason': 'stop', 'logprobs': None}, id='run-785a3bb5-13d8-44bb-9dd9-9cbfff9220d1-0', usage_metadata={'input_tokens': 676, 'output_tokens': 71, 'total_tokens': 747, 'input_token_details': {'audio': 0, 'cache_read': 0}, 'output_token_details': {'audio': 0, 'reasoning': 0}})]}\n"
          ]
        }
      ],
      "source": [
        "messages = [HumanMessage(\"Whats the weather in LA?\")]\n",
        "thread = {\"configurable\": {\"thread_id\": \"2\"}}\n",
        "for event in abot.graph.stream({\"messages\": messages}, thread):\n",
        "    for v in event.values():\n",
        "        print(v)\n",
        "while abot.graph.get_state(thread).next:\n",
        "    print(\"\\n\", abot.graph.get_state(thread),\"\\n\")\n",
        "    _input = input(\"proceed?\")\n",
        "    if _input != \"y\":\n",
        "        print(\"aborting\")\n",
        "        break\n",
        "    for event in abot.graph.stream(None, thread):\n",
        "        for v in event.values():\n",
        "            print(v)"
      ],
      "id": "QoKIrSPppa-D"
    },
    {
      "cell_type": "markdown",
      "id": "905f1ad8",
      "metadata": {
        "id": "905f1ad8"
      },
      "source": [
        "## Modify State\n",
        "Run until the interrupt and then modify the state."
      ]
    },
    {
      "cell_type": "code",
      "execution_count": 23,
      "id": "d91b2f77",
      "metadata": {
        "colab": {
          "base_uri": "https://localhost:8080/"
        },
        "id": "d91b2f77",
        "outputId": "248935fe-906a-4359-c058-6d5df782f850"
      },
      "outputs": [
        {
          "output_type": "stream",
          "name": "stdout",
          "text": [
            "{'messages': [HumanMessage(content='Whats the weather in LA?', additional_kwargs={}, response_metadata={}, id='c5e06892-6c69-4bb6-b4a4-0b16199dbb23'), AIMessage(content='', additional_kwargs={'tool_calls': [{'id': 'call_b9LkuBuQYbv72W0ziZ4EgNOi', 'function': {'arguments': '{\"query\":\"weather in Los Angeles\"}', 'name': 'tavily_search_results_json'}, 'type': 'function'}], 'refusal': None}, response_metadata={'token_usage': {'completion_tokens': 22, 'prompt_tokens': 152, 'total_tokens': 174, 'completion_tokens_details': {'accepted_prediction_tokens': 0, 'audio_tokens': 0, 'reasoning_tokens': 0, 'rejected_prediction_tokens': 0}, 'prompt_tokens_details': {'audio_tokens': 0, 'cached_tokens': 0}}, 'model_name': 'gpt-3.5-turbo-0125', 'system_fingerprint': None, 'finish_reason': 'tool_calls', 'logprobs': None}, id='run-b9e7ca4b-d426-4af3-b04d-daa3a397da0e-0', tool_calls=[{'name': 'tavily_search_results_json', 'args': {'query': 'weather in Los Angeles'}, 'id': 'call_b9LkuBuQYbv72W0ziZ4EgNOi', 'type': 'tool_call'}], usage_metadata={'input_tokens': 152, 'output_tokens': 22, 'total_tokens': 174, 'input_token_details': {'audio': 0, 'cache_read': 0}, 'output_token_details': {'audio': 0, 'reasoning': 0}})]}\n",
            "{'messages': [AIMessage(content='', additional_kwargs={'tool_calls': [{'id': 'call_b9LkuBuQYbv72W0ziZ4EgNOi', 'function': {'arguments': '{\"query\":\"weather in Los Angeles\"}', 'name': 'tavily_search_results_json'}, 'type': 'function'}], 'refusal': None}, response_metadata={'token_usage': {'completion_tokens': 22, 'prompt_tokens': 152, 'total_tokens': 174, 'completion_tokens_details': {'accepted_prediction_tokens': 0, 'audio_tokens': 0, 'reasoning_tokens': 0, 'rejected_prediction_tokens': 0}, 'prompt_tokens_details': {'audio_tokens': 0, 'cached_tokens': 0}}, 'model_name': 'gpt-3.5-turbo-0125', 'system_fingerprint': None, 'finish_reason': 'tool_calls', 'logprobs': None}, id='run-b9e7ca4b-d426-4af3-b04d-daa3a397da0e-0', tool_calls=[{'name': 'tavily_search_results_json', 'args': {'query': 'weather in Los Angeles'}, 'id': 'call_b9LkuBuQYbv72W0ziZ4EgNOi', 'type': 'tool_call'}], usage_metadata={'input_tokens': 152, 'output_tokens': 22, 'total_tokens': 174, 'input_token_details': {'audio': 0, 'cache_read': 0}, 'output_token_details': {'audio': 0, 'reasoning': 0}})]}\n",
            "()\n"
          ]
        }
      ],
      "source": [
        "messages = [HumanMessage(\"Whats the weather in LA?\")]\n",
        "thread = {\"configurable\": {\"thread_id\": \"3\"}}\n",
        "for event in abot.graph.stream({\"messages\": messages}, thread):\n",
        "    for v in event.values():\n",
        "        print(v)"
      ]
    },
    {
      "cell_type": "code",
      "execution_count": 24,
      "metadata": {
        "colab": {
          "base_uri": "https://localhost:8080/"
        },
        "id": "meB2Y1oZpa-I",
        "outputId": "054cfd01-e700-4274-d479-05239774b63f"
      },
      "outputs": [
        {
          "output_type": "execute_result",
          "data": {
            "text/plain": [
              "StateSnapshot(values={'messages': [HumanMessage(content='Whats the weather in LA?', additional_kwargs={}, response_metadata={}, id='c5e06892-6c69-4bb6-b4a4-0b16199dbb23'), AIMessage(content='', additional_kwargs={'tool_calls': [{'id': 'call_b9LkuBuQYbv72W0ziZ4EgNOi', 'function': {'arguments': '{\"query\":\"weather in Los Angeles\"}', 'name': 'tavily_search_results_json'}, 'type': 'function'}], 'refusal': None}, response_metadata={'token_usage': {'completion_tokens': 22, 'prompt_tokens': 152, 'total_tokens': 174, 'completion_tokens_details': {'accepted_prediction_tokens': 0, 'audio_tokens': 0, 'reasoning_tokens': 0, 'rejected_prediction_tokens': 0}, 'prompt_tokens_details': {'audio_tokens': 0, 'cached_tokens': 0}}, 'model_name': 'gpt-3.5-turbo-0125', 'system_fingerprint': None, 'finish_reason': 'tool_calls', 'logprobs': None}, id='run-b9e7ca4b-d426-4af3-b04d-daa3a397da0e-0', tool_calls=[{'name': 'tavily_search_results_json', 'args': {'query': 'weather in Los Angeles'}, 'id': 'call_b9LkuBuQYbv72W0ziZ4EgNOi', 'type': 'tool_call'}], usage_metadata={'input_tokens': 152, 'output_tokens': 22, 'total_tokens': 174, 'input_token_details': {'audio': 0, 'cache_read': 0}, 'output_token_details': {'audio': 0, 'reasoning': 0}})]}, next=('action',), config={'configurable': {'thread_id': '3', 'checkpoint_ns': '', 'checkpoint_id': '1f02e277-38a7-61f4-8001-fa13a99caf96'}}, metadata={'source': 'loop', 'writes': {'llm': {'messages': [AIMessage(content='', additional_kwargs={'tool_calls': [{'id': 'call_b9LkuBuQYbv72W0ziZ4EgNOi', 'function': {'arguments': '{\"query\":\"weather in Los Angeles\"}', 'name': 'tavily_search_results_json'}, 'type': 'function'}], 'refusal': None}, response_metadata={'token_usage': {'completion_tokens': 22, 'prompt_tokens': 152, 'total_tokens': 174, 'completion_tokens_details': {'accepted_prediction_tokens': 0, 'audio_tokens': 0, 'reasoning_tokens': 0, 'rejected_prediction_tokens': 0}, 'prompt_tokens_details': {'audio_tokens': 0, 'cached_tokens': 0}}, 'model_name': 'gpt-3.5-turbo-0125', 'system_fingerprint': None, 'finish_reason': 'tool_calls', 'logprobs': None}, id='run-b9e7ca4b-d426-4af3-b04d-daa3a397da0e-0', tool_calls=[{'name': 'tavily_search_results_json', 'args': {'query': 'weather in Los Angeles'}, 'id': 'call_b9LkuBuQYbv72W0ziZ4EgNOi', 'type': 'tool_call'}], usage_metadata={'input_tokens': 152, 'output_tokens': 22, 'total_tokens': 174, 'input_token_details': {'audio': 0, 'cache_read': 0}, 'output_token_details': {'audio': 0, 'reasoning': 0}})]}}, 'thread_id': '3', 'step': 1, 'parents': {}}, created_at='2025-05-11T05:19:02.554059+00:00', parent_config={'configurable': {'thread_id': '3', 'checkpoint_ns': '', 'checkpoint_id': '1f02e277-31c1-6100-8000-ac1fd30a1509'}}, tasks=(PregelTask(id='02b60dbe-e262-0c4c-9232-b259acf00aaa', name='action', path=('__pregel_pull', 'action'), error=None, interrupts=(), state=None, result=None),))"
            ]
          },
          "metadata": {},
          "execution_count": 24
        }
      ],
      "source": [
        "abot.graph.get_state(thread)"
      ],
      "id": "meB2Y1oZpa-I"
    },
    {
      "cell_type": "code",
      "execution_count": 25,
      "id": "d3e38fe8",
      "metadata": {
        "id": "d3e38fe8"
      },
      "outputs": [],
      "source": [
        "current_values = abot.graph.get_state(thread)"
      ]
    },
    {
      "cell_type": "code",
      "execution_count": 26,
      "metadata": {
        "colab": {
          "base_uri": "https://localhost:8080/"
        },
        "id": "Wma1aDX9pa-K",
        "outputId": "fded55c6-c492-475c-bce2-6ad0888fc040"
      },
      "outputs": [
        {
          "output_type": "execute_result",
          "data": {
            "text/plain": [
              "AIMessage(content='', additional_kwargs={'tool_calls': [{'id': 'call_b9LkuBuQYbv72W0ziZ4EgNOi', 'function': {'arguments': '{\"query\":\"weather in Los Angeles\"}', 'name': 'tavily_search_results_json'}, 'type': 'function'}], 'refusal': None}, response_metadata={'token_usage': {'completion_tokens': 22, 'prompt_tokens': 152, 'total_tokens': 174, 'completion_tokens_details': {'accepted_prediction_tokens': 0, 'audio_tokens': 0, 'reasoning_tokens': 0, 'rejected_prediction_tokens': 0}, 'prompt_tokens_details': {'audio_tokens': 0, 'cached_tokens': 0}}, 'model_name': 'gpt-3.5-turbo-0125', 'system_fingerprint': None, 'finish_reason': 'tool_calls', 'logprobs': None}, id='run-b9e7ca4b-d426-4af3-b04d-daa3a397da0e-0', tool_calls=[{'name': 'tavily_search_results_json', 'args': {'query': 'weather in Los Angeles'}, 'id': 'call_b9LkuBuQYbv72W0ziZ4EgNOi', 'type': 'tool_call'}], usage_metadata={'input_tokens': 152, 'output_tokens': 22, 'total_tokens': 174, 'input_token_details': {'audio': 0, 'cache_read': 0}, 'output_token_details': {'audio': 0, 'reasoning': 0}})"
            ]
          },
          "metadata": {},
          "execution_count": 26
        }
      ],
      "source": [
        "current_values.values['messages'][-1]"
      ],
      "id": "Wma1aDX9pa-K"
    },
    {
      "cell_type": "code",
      "execution_count": 27,
      "metadata": {
        "colab": {
          "base_uri": "https://localhost:8080/"
        },
        "id": "yJv1nlNmpa-L",
        "outputId": "4fefd2e5-8252-410d-85c6-bf1cb594ca04"
      },
      "outputs": [
        {
          "output_type": "execute_result",
          "data": {
            "text/plain": [
              "[{'name': 'tavily_search_results_json',\n",
              "  'args': {'query': 'weather in Los Angeles'},\n",
              "  'id': 'call_b9LkuBuQYbv72W0ziZ4EgNOi',\n",
              "  'type': 'tool_call'}]"
            ]
          },
          "metadata": {},
          "execution_count": 27
        }
      ],
      "source": [
        "current_values.values['messages'][-1].tool_calls"
      ],
      "id": "yJv1nlNmpa-L"
    },
    {
      "cell_type": "code",
      "execution_count": 28,
      "metadata": {
        "id": "x9r3vPq7pa-N"
      },
      "outputs": [],
      "source": [
        "_id = current_values.values['messages'][-1].tool_calls[0]['id']\n",
        "current_values.values['messages'][-1].tool_calls = [\n",
        "    {'name': 'tavily_search_results_json',\n",
        "  'args': {'query': 'current weather in Louisiana'},\n",
        "  'id': _id}\n",
        "]"
      ],
      "id": "x9r3vPq7pa-N"
    },
    {
      "cell_type": "code",
      "execution_count": 29,
      "metadata": {
        "colab": {
          "base_uri": "https://localhost:8080/"
        },
        "id": "vH0WthPJpa-O",
        "outputId": "e346e1e9-c1a4-4efd-e474-f7723835678f"
      },
      "outputs": [
        {
          "output_type": "stream",
          "name": "stdout",
          "text": [
            "{'messages': [HumanMessage(content='Whats the weather in LA?', additional_kwargs={}, response_metadata={}, id='c5e06892-6c69-4bb6-b4a4-0b16199dbb23'), AIMessage(content='', additional_kwargs={'tool_calls': [{'id': 'call_b9LkuBuQYbv72W0ziZ4EgNOi', 'function': {'arguments': '{\"query\":\"weather in Los Angeles\"}', 'name': 'tavily_search_results_json'}, 'type': 'function'}], 'refusal': None}, response_metadata={'token_usage': {'completion_tokens': 22, 'prompt_tokens': 152, 'total_tokens': 174, 'completion_tokens_details': {'accepted_prediction_tokens': 0, 'audio_tokens': 0, 'reasoning_tokens': 0, 'rejected_prediction_tokens': 0}, 'prompt_tokens_details': {'audio_tokens': 0, 'cached_tokens': 0}}, 'model_name': 'gpt-3.5-turbo-0125', 'system_fingerprint': None, 'finish_reason': 'tool_calls', 'logprobs': None}, id='run-b9e7ca4b-d426-4af3-b04d-daa3a397da0e-0', tool_calls=[{'name': 'tavily_search_results_json', 'args': {'query': 'current weather in Louisiana'}, 'id': 'call_b9LkuBuQYbv72W0ziZ4EgNOi'}], usage_metadata={'input_tokens': 152, 'output_tokens': 22, 'total_tokens': 174, 'input_token_details': {'audio': 0, 'cache_read': 0}, 'output_token_details': {'audio': 0, 'reasoning': 0}})]}\n"
          ]
        },
        {
          "output_type": "execute_result",
          "data": {
            "text/plain": [
              "{'configurable': {'thread_id': '3',\n",
              "  'checkpoint_ns': '',\n",
              "  'checkpoint_id': '1f02e277-39fc-6ce2-8002-0bdc60250812'}}"
            ]
          },
          "metadata": {},
          "execution_count": 29
        }
      ],
      "source": [
        "abot.graph.update_state(thread, current_values.values)"
      ],
      "id": "vH0WthPJpa-O"
    },
    {
      "cell_type": "code",
      "execution_count": 30,
      "id": "05f993ce",
      "metadata": {
        "colab": {
          "base_uri": "https://localhost:8080/"
        },
        "id": "05f993ce",
        "outputId": "6f2a680c-4944-4b9d-b6f0-7fb76a962c0c"
      },
      "outputs": [
        {
          "output_type": "execute_result",
          "data": {
            "text/plain": [
              "StateSnapshot(values={'messages': [HumanMessage(content='Whats the weather in LA?', additional_kwargs={}, response_metadata={}, id='c5e06892-6c69-4bb6-b4a4-0b16199dbb23'), AIMessage(content='', additional_kwargs={'tool_calls': [{'id': 'call_b9LkuBuQYbv72W0ziZ4EgNOi', 'function': {'arguments': '{\"query\":\"weather in Los Angeles\"}', 'name': 'tavily_search_results_json'}, 'type': 'function'}], 'refusal': None}, response_metadata={'token_usage': {'completion_tokens': 22, 'prompt_tokens': 152, 'total_tokens': 174, 'completion_tokens_details': {'accepted_prediction_tokens': 0, 'audio_tokens': 0, 'reasoning_tokens': 0, 'rejected_prediction_tokens': 0}, 'prompt_tokens_details': {'audio_tokens': 0, 'cached_tokens': 0}}, 'model_name': 'gpt-3.5-turbo-0125', 'system_fingerprint': None, 'finish_reason': 'tool_calls', 'logprobs': None}, id='run-b9e7ca4b-d426-4af3-b04d-daa3a397da0e-0', tool_calls=[{'name': 'tavily_search_results_json', 'args': {'query': 'current weather in Louisiana'}, 'id': 'call_b9LkuBuQYbv72W0ziZ4EgNOi', 'type': 'tool_call'}], usage_metadata={'input_tokens': 152, 'output_tokens': 22, 'total_tokens': 174, 'input_token_details': {'audio': 0, 'cache_read': 0}, 'output_token_details': {'audio': 0, 'reasoning': 0}})]}, next=('action',), config={'configurable': {'thread_id': '3', 'checkpoint_ns': '', 'checkpoint_id': '1f02e277-39fc-6ce2-8002-0bdc60250812'}}, metadata={'source': 'update', 'writes': {'llm': {'messages': [HumanMessage(content='Whats the weather in LA?', additional_kwargs={}, response_metadata={}, id='c5e06892-6c69-4bb6-b4a4-0b16199dbb23'), AIMessage(content='', additional_kwargs={'tool_calls': [{'id': 'call_b9LkuBuQYbv72W0ziZ4EgNOi', 'function': {'arguments': '{\"query\":\"weather in Los Angeles\"}', 'name': 'tavily_search_results_json'}, 'type': 'function'}], 'refusal': None}, response_metadata={'token_usage': {'completion_tokens': 22, 'prompt_tokens': 152, 'total_tokens': 174, 'completion_tokens_details': {'accepted_prediction_tokens': 0, 'audio_tokens': 0, 'reasoning_tokens': 0, 'rejected_prediction_tokens': 0}, 'prompt_tokens_details': {'audio_tokens': 0, 'cached_tokens': 0}}, 'model_name': 'gpt-3.5-turbo-0125', 'system_fingerprint': None, 'finish_reason': 'tool_calls', 'logprobs': None}, id='run-b9e7ca4b-d426-4af3-b04d-daa3a397da0e-0', tool_calls=[{'name': 'tavily_search_results_json', 'args': {'query': 'current weather in Louisiana'}, 'id': 'call_b9LkuBuQYbv72W0ziZ4EgNOi', 'type': 'tool_call'}], usage_metadata={'input_tokens': 152, 'output_tokens': 22, 'total_tokens': 174, 'input_token_details': {'audio': 0, 'cache_read': 0}, 'output_token_details': {'audio': 0, 'reasoning': 0}})]}}, 'thread_id': '3', 'step': 2, 'parents': {}}, created_at='2025-05-11T05:19:02.694013+00:00', parent_config={'configurable': {'thread_id': '3', 'checkpoint_ns': '', 'checkpoint_id': '1f02e277-38a7-61f4-8001-fa13a99caf96'}}, tasks=(PregelTask(id='71222dbd-85e5-5730-4ad3-a889926df716', name='action', path=('__pregel_pull', 'action'), error=None, interrupts=(), state=None, result=None),))"
            ]
          },
          "metadata": {},
          "execution_count": 30
        }
      ],
      "source": [
        "abot.graph.get_state(thread)"
      ]
    },
    {
      "cell_type": "code",
      "execution_count": 31,
      "metadata": {
        "colab": {
          "base_uri": "https://localhost:8080/"
        },
        "id": "KW3VdQjFpa-Q",
        "outputId": "e8687af4-a61a-427b-f6c3-1d289407c2a3"
      },
      "outputs": [
        {
          "output_type": "stream",
          "name": "stdout",
          "text": [
            "Calling: {'name': 'tavily_search_results_json', 'args': {'query': 'current weather in Louisiana'}, 'id': 'call_b9LkuBuQYbv72W0ziZ4EgNOi', 'type': 'tool_call'}\n",
            "Back to the model!\n",
            "{'messages': [ToolMessage(content='[{\\'url\\': \\'https://www.weatherapi.com/\\', \\'content\\': \"{\\'location\\': {\\'name\\': \\'Louisiana\\', \\'region\\': \\'Missouri\\', \\'country\\': \\'USA United States of America\\', \\'lat\\': 39.4411, \\'lon\\': -91.0551, \\'tz_id\\': \\'America/Chicago\\', \\'localtime_epoch\\': 1746940743, \\'localtime\\': \\'2025-05-11 00:19\\'}, \\'current\\': {\\'last_updated_epoch\\': 1746940500, \\'last_updated\\': \\'2025-05-11 00:15\\', \\'temp_c\\': 18.4, \\'temp_f\\': 65.1, \\'is_day\\': 0, \\'condition\\': {\\'text\\': \\'Clear\\', \\'icon\\': \\'//cdn.weatherapi.com/weather/64x64/night/113.png\\', \\'code\\': 1000}, \\'wind_mph\\': 11.9, \\'wind_kph\\': 19.1, \\'wind_degree\\': 67, \\'wind_dir\\': \\'ENE\\', \\'pressure_mb\\': 1023.0, \\'pressure_in\\': 30.22, \\'precip_mm\\': 0.0, \\'precip_in\\': 0.0, \\'humidity\\': 48, \\'cloud\\': 0, \\'feelslike_c\\': 18.4, \\'feelslike_f\\': 65.1, \\'windchill_c\\': 13.1, \\'windchill_f\\': 55.6, \\'heatindex_c\\': 14.5, \\'heatindex_f\\': 58.1, \\'dewpoint_c\\': 10.4, \\'dewpoint_f\\': 50.7, \\'vis_km\\': 16.0, \\'vis_miles\\': 9.0, \\'uv\\': 0.0, \\'gust_mph\\': 22.3, \\'gust_kph\\': 35.8}}\"}, {\\'url\\': \\'https://en.climate-data.org/north-america/united-states-of-america/louisiana-943/r/may-5/\\', \\'content\\': \\'Min. Temperature °C (°F) | 7.4 °C(45.4) °F | 9.5 °C(49.2) °F | 12.5 °C(54.6) °F | 16.3 °C(61.3) °F | 20.4 °C(68.6) °F | 23.5 °C(74.4) °F | 24.5 °C(76) °F | 24.6 °C(76.3) °F | 22 °C(71.7) °F | 17.1 °C(62.8) °F | 12.1 °C(53.8) °F | 8.6 °C(47.5) °F\\\\nMax. Temperature °C (°F) | 16.4 °C(61.4) °F | 18.4 °C(65.1) °F | 21.7 °C(71.1) °F | 25.3 °C(77.5) °F | 28.9 °C(84) °F | 31.2 °C(88.2) °F | 31.8 °C(89.2) °F | 32.5 °C(90.6) °F | 30.4 °C(86.6) °F | 26.6 °C(80) °F | 21.4 °C(70.5) °F | 17.4 °C(63.3) °F [...] 18.4 °C\\\\n\\\\n(65.1) °F\\\\n\\\\n21.7 °C\\\\n\\\\n(71.1) °F\\\\n\\\\n25.3 °C\\\\n\\\\n(77.5) °F\\\\n\\\\n28.9 °C\\\\n\\\\n(84) °F\\\\n\\\\n31.2 °C\\\\n\\\\n(88.2) °F\\\\n\\\\n31.8 °C\\\\n\\\\n(89.2) °F\\\\n\\\\n32.5 °C\\\\n\\\\n(90.6) °F\\\\n\\\\n30.4 °C\\\\n\\\\n(86.6) °F\\\\n\\\\n26.6 °C\\\\n\\\\n(80) °F\\\\n\\\\n21.4 °C\\\\n\\\\n(70.5) °F\\\\n\\\\n17.4 °C\\\\n\\\\n(63.3) °F\\\\n\\\\n134\\\\n\\\\n(5)\\\\n\\\\n100\\\\n\\\\n(3)\\\\n\\\\n109\\\\n\\\\n(4)\\\\n\\\\n120\\\\n\\\\n(4)\\\\n\\\\n108\\\\n\\\\n(4)\\\\n\\\\n136\\\\n\\\\n(5)\\\\n\\\\n119\\\\n\\\\n(4)\\\\n\\\\n119\\\\n\\\\n(4)\\\\n\\\\n124\\\\n\\\\n(4)\\\\n\\\\n94\\\\n\\\\n(3)\\\\n\\\\n110\\\\n\\\\n(4)\\\\n\\\\n123\\\\n\\\\n(4) [...] Min. Temperature °C (°F) | 7.5 °C(45.6) °F | 9.6 °C(49.3) °F | 12.5 °C(54.5) °F | 16.2 °C(61.2) °F | 20.2 °C(68.3) °F | 23.4 °C(74.1) °F | 24.3 °C(75.8) °F | 24.4 °C(76) °F | 22.1 °C(71.8) °F | 17.4 °C(63.3) °F | 12.2 °C(54) °F | 8.9 °C(48) °F\\\\nMax. Temperature °C (°F) | 16.6 °C(61.8) °F | 18.7 °C(65.6) °F | 21.9 °C(71.4) °F | 25.6 °C(78) °F | 29.3 °C(84.7) °F | 31.6 °C(88.9) °F | 32 °C(89.5) °F | 32.3 °C(90.1) °F | 30.4 °C(86.7) °F | 26.8 °C(80.3) °F | 21.6 °C(70.9) °F | 17.7 °C(63.8) °F\\'}]', name='tavily_search_results_json', id='0f19dd4e-fd1c-4022-95ba-e1371f63d1cd', tool_call_id='call_b9LkuBuQYbv72W0ziZ4EgNOi')]}\n",
            "{'messages': [HumanMessage(content='Whats the weather in LA?', additional_kwargs={}, response_metadata={}, id='c5e06892-6c69-4bb6-b4a4-0b16199dbb23'), AIMessage(content='', additional_kwargs={'tool_calls': [{'id': 'call_b9LkuBuQYbv72W0ziZ4EgNOi', 'function': {'arguments': '{\"query\":\"weather in Los Angeles\"}', 'name': 'tavily_search_results_json'}, 'type': 'function'}], 'refusal': None}, response_metadata={'token_usage': {'completion_tokens': 22, 'prompt_tokens': 152, 'total_tokens': 174, 'completion_tokens_details': {'accepted_prediction_tokens': 0, 'audio_tokens': 0, 'reasoning_tokens': 0, 'rejected_prediction_tokens': 0}, 'prompt_tokens_details': {'audio_tokens': 0, 'cached_tokens': 0}}, 'model_name': 'gpt-3.5-turbo-0125', 'system_fingerprint': None, 'finish_reason': 'tool_calls', 'logprobs': None}, id='run-b9e7ca4b-d426-4af3-b04d-daa3a397da0e-0', tool_calls=[{'name': 'tavily_search_results_json', 'args': {'query': 'current weather in Louisiana'}, 'id': 'call_b9LkuBuQYbv72W0ziZ4EgNOi', 'type': 'tool_call'}], usage_metadata={'input_tokens': 152, 'output_tokens': 22, 'total_tokens': 174, 'input_token_details': {'audio': 0, 'cache_read': 0}, 'output_token_details': {'audio': 0, 'reasoning': 0}}), ToolMessage(content='[{\\'url\\': \\'https://www.weatherapi.com/\\', \\'content\\': \"{\\'location\\': {\\'name\\': \\'Louisiana\\', \\'region\\': \\'Missouri\\', \\'country\\': \\'USA United States of America\\', \\'lat\\': 39.4411, \\'lon\\': -91.0551, \\'tz_id\\': \\'America/Chicago\\', \\'localtime_epoch\\': 1746940743, \\'localtime\\': \\'2025-05-11 00:19\\'}, \\'current\\': {\\'last_updated_epoch\\': 1746940500, \\'last_updated\\': \\'2025-05-11 00:15\\', \\'temp_c\\': 18.4, \\'temp_f\\': 65.1, \\'is_day\\': 0, \\'condition\\': {\\'text\\': \\'Clear\\', \\'icon\\': \\'//cdn.weatherapi.com/weather/64x64/night/113.png\\', \\'code\\': 1000}, \\'wind_mph\\': 11.9, \\'wind_kph\\': 19.1, \\'wind_degree\\': 67, \\'wind_dir\\': \\'ENE\\', \\'pressure_mb\\': 1023.0, \\'pressure_in\\': 30.22, \\'precip_mm\\': 0.0, \\'precip_in\\': 0.0, \\'humidity\\': 48, \\'cloud\\': 0, \\'feelslike_c\\': 18.4, \\'feelslike_f\\': 65.1, \\'windchill_c\\': 13.1, \\'windchill_f\\': 55.6, \\'heatindex_c\\': 14.5, \\'heatindex_f\\': 58.1, \\'dewpoint_c\\': 10.4, \\'dewpoint_f\\': 50.7, \\'vis_km\\': 16.0, \\'vis_miles\\': 9.0, \\'uv\\': 0.0, \\'gust_mph\\': 22.3, \\'gust_kph\\': 35.8}}\"}, {\\'url\\': \\'https://en.climate-data.org/north-america/united-states-of-america/louisiana-943/r/may-5/\\', \\'content\\': \\'Min. Temperature °C (°F) | 7.4 °C(45.4) °F | 9.5 °C(49.2) °F | 12.5 °C(54.6) °F | 16.3 °C(61.3) °F | 20.4 °C(68.6) °F | 23.5 °C(74.4) °F | 24.5 °C(76) °F | 24.6 °C(76.3) °F | 22 °C(71.7) °F | 17.1 °C(62.8) °F | 12.1 °C(53.8) °F | 8.6 °C(47.5) °F\\\\nMax. Temperature °C (°F) | 16.4 °C(61.4) °F | 18.4 °C(65.1) °F | 21.7 °C(71.1) °F | 25.3 °C(77.5) °F | 28.9 °C(84) °F | 31.2 °C(88.2) °F | 31.8 °C(89.2) °F | 32.5 °C(90.6) °F | 30.4 °C(86.6) °F | 26.6 °C(80) °F | 21.4 °C(70.5) °F | 17.4 °C(63.3) °F [...] 18.4 °C\\\\n\\\\n(65.1) °F\\\\n\\\\n21.7 °C\\\\n\\\\n(71.1) °F\\\\n\\\\n25.3 °C\\\\n\\\\n(77.5) °F\\\\n\\\\n28.9 °C\\\\n\\\\n(84) °F\\\\n\\\\n31.2 °C\\\\n\\\\n(88.2) °F\\\\n\\\\n31.8 °C\\\\n\\\\n(89.2) °F\\\\n\\\\n32.5 °C\\\\n\\\\n(90.6) °F\\\\n\\\\n30.4 °C\\\\n\\\\n(86.6) °F\\\\n\\\\n26.6 °C\\\\n\\\\n(80) °F\\\\n\\\\n21.4 °C\\\\n\\\\n(70.5) °F\\\\n\\\\n17.4 °C\\\\n\\\\n(63.3) °F\\\\n\\\\n134\\\\n\\\\n(5)\\\\n\\\\n100\\\\n\\\\n(3)\\\\n\\\\n109\\\\n\\\\n(4)\\\\n\\\\n120\\\\n\\\\n(4)\\\\n\\\\n108\\\\n\\\\n(4)\\\\n\\\\n136\\\\n\\\\n(5)\\\\n\\\\n119\\\\n\\\\n(4)\\\\n\\\\n119\\\\n\\\\n(4)\\\\n\\\\n124\\\\n\\\\n(4)\\\\n\\\\n94\\\\n\\\\n(3)\\\\n\\\\n110\\\\n\\\\n(4)\\\\n\\\\n123\\\\n\\\\n(4) [...] Min. Temperature °C (°F) | 7.5 °C(45.6) °F | 9.6 °C(49.3) °F | 12.5 °C(54.5) °F | 16.2 °C(61.2) °F | 20.2 °C(68.3) °F | 23.4 °C(74.1) °F | 24.3 °C(75.8) °F | 24.4 °C(76) °F | 22.1 °C(71.8) °F | 17.4 °C(63.3) °F | 12.2 °C(54) °F | 8.9 °C(48) °F\\\\nMax. Temperature °C (°F) | 16.6 °C(61.8) °F | 18.7 °C(65.6) °F | 21.9 °C(71.4) °F | 25.6 °C(78) °F | 29.3 °C(84.7) °F | 31.6 °C(88.9) °F | 32 °C(89.5) °F | 32.3 °C(90.1) °F | 30.4 °C(86.7) °F | 26.8 °C(80.3) °F | 21.6 °C(70.9) °F | 17.7 °C(63.8) °F\\'}]', name='tavily_search_results_json', id='0f19dd4e-fd1c-4022-95ba-e1371f63d1cd', tool_call_id='call_b9LkuBuQYbv72W0ziZ4EgNOi'), AIMessage(content='The current weather in Louisiana shows a temperature of 18.4°C (65.1°F) with clear skies. The wind speed is 11.9 mph coming from the ENE direction. The humidity is at 48% and there is no precipitation at the moment.', additional_kwargs={'refusal': None}, response_metadata={'token_usage': {'completion_tokens': 58, 'prompt_tokens': 1594, 'total_tokens': 1652, 'completion_tokens_details': {'accepted_prediction_tokens': 0, 'audio_tokens': 0, 'reasoning_tokens': 0, 'rejected_prediction_tokens': 0}, 'prompt_tokens_details': {'audio_tokens': 0, 'cached_tokens': 0}}, 'model_name': 'gpt-3.5-turbo-0125', 'system_fingerprint': None, 'finish_reason': 'stop', 'logprobs': None}, id='run-b4095411-8258-4955-a97e-f5cc280fbaa4-0', usage_metadata={'input_tokens': 1594, 'output_tokens': 58, 'total_tokens': 1652, 'input_token_details': {'audio': 0, 'cache_read': 0}, 'output_token_details': {'audio': 0, 'reasoning': 0}})]}\n",
            "{'messages': [AIMessage(content='The current weather in Louisiana shows a temperature of 18.4°C (65.1°F) with clear skies. The wind speed is 11.9 mph coming from the ENE direction. The humidity is at 48% and there is no precipitation at the moment.', additional_kwargs={'refusal': None}, response_metadata={'token_usage': {'completion_tokens': 58, 'prompt_tokens': 1594, 'total_tokens': 1652, 'completion_tokens_details': {'accepted_prediction_tokens': 0, 'audio_tokens': 0, 'reasoning_tokens': 0, 'rejected_prediction_tokens': 0}, 'prompt_tokens_details': {'audio_tokens': 0, 'cached_tokens': 0}}, 'model_name': 'gpt-3.5-turbo-0125', 'system_fingerprint': None, 'finish_reason': 'stop', 'logprobs': None}, id='run-b4095411-8258-4955-a97e-f5cc280fbaa4-0', usage_metadata={'input_tokens': 1594, 'output_tokens': 58, 'total_tokens': 1652, 'input_token_details': {'audio': 0, 'cache_read': 0}, 'output_token_details': {'audio': 0, 'reasoning': 0}})]}\n"
          ]
        }
      ],
      "source": [
        "for event in abot.graph.stream(None, thread):\n",
        "    for v in event.values():\n",
        "        print(v)"
      ],
      "id": "KW3VdQjFpa-Q"
    },
    {
      "cell_type": "markdown",
      "id": "72585e5a",
      "metadata": {
        "id": "72585e5a"
      },
      "source": [
        "## Time Travel"
      ]
    },
    {
      "cell_type": "code",
      "execution_count": 32,
      "metadata": {
        "colab": {
          "base_uri": "https://localhost:8080/"
        },
        "id": "4-7ckAwXpa-R",
        "outputId": "cc62a241-929d-4424-9367-ddc3624f44c1"
      },
      "outputs": [
        {
          "output_type": "stream",
          "name": "stdout",
          "text": [
            "StateSnapshot(values={'messages': [HumanMessage(content='Whats the weather in LA?', additional_kwargs={}, response_metadata={}, id='c5e06892-6c69-4bb6-b4a4-0b16199dbb23'), AIMessage(content='', additional_kwargs={'tool_calls': [{'id': 'call_b9LkuBuQYbv72W0ziZ4EgNOi', 'function': {'arguments': '{\"query\":\"weather in Los Angeles\"}', 'name': 'tavily_search_results_json'}, 'type': 'function'}], 'refusal': None}, response_metadata={'token_usage': {'completion_tokens': 22, 'prompt_tokens': 152, 'total_tokens': 174, 'completion_tokens_details': {'accepted_prediction_tokens': 0, 'audio_tokens': 0, 'reasoning_tokens': 0, 'rejected_prediction_tokens': 0}, 'prompt_tokens_details': {'audio_tokens': 0, 'cached_tokens': 0}}, 'model_name': 'gpt-3.5-turbo-0125', 'system_fingerprint': None, 'finish_reason': 'tool_calls', 'logprobs': None}, id='run-b9e7ca4b-d426-4af3-b04d-daa3a397da0e-0', tool_calls=[{'name': 'tavily_search_results_json', 'args': {'query': 'current weather in Louisiana'}, 'id': 'call_b9LkuBuQYbv72W0ziZ4EgNOi', 'type': 'tool_call'}], usage_metadata={'input_tokens': 152, 'output_tokens': 22, 'total_tokens': 174, 'input_token_details': {'audio': 0, 'cache_read': 0}, 'output_token_details': {'audio': 0, 'reasoning': 0}}), ToolMessage(content='[{\\'url\\': \\'https://www.weatherapi.com/\\', \\'content\\': \"{\\'location\\': {\\'name\\': \\'Louisiana\\', \\'region\\': \\'Missouri\\', \\'country\\': \\'USA United States of America\\', \\'lat\\': 39.4411, \\'lon\\': -91.0551, \\'tz_id\\': \\'America/Chicago\\', \\'localtime_epoch\\': 1746940743, \\'localtime\\': \\'2025-05-11 00:19\\'}, \\'current\\': {\\'last_updated_epoch\\': 1746940500, \\'last_updated\\': \\'2025-05-11 00:15\\', \\'temp_c\\': 18.4, \\'temp_f\\': 65.1, \\'is_day\\': 0, \\'condition\\': {\\'text\\': \\'Clear\\', \\'icon\\': \\'//cdn.weatherapi.com/weather/64x64/night/113.png\\', \\'code\\': 1000}, \\'wind_mph\\': 11.9, \\'wind_kph\\': 19.1, \\'wind_degree\\': 67, \\'wind_dir\\': \\'ENE\\', \\'pressure_mb\\': 1023.0, \\'pressure_in\\': 30.22, \\'precip_mm\\': 0.0, \\'precip_in\\': 0.0, \\'humidity\\': 48, \\'cloud\\': 0, \\'feelslike_c\\': 18.4, \\'feelslike_f\\': 65.1, \\'windchill_c\\': 13.1, \\'windchill_f\\': 55.6, \\'heatindex_c\\': 14.5, \\'heatindex_f\\': 58.1, \\'dewpoint_c\\': 10.4, \\'dewpoint_f\\': 50.7, \\'vis_km\\': 16.0, \\'vis_miles\\': 9.0, \\'uv\\': 0.0, \\'gust_mph\\': 22.3, \\'gust_kph\\': 35.8}}\"}, {\\'url\\': \\'https://en.climate-data.org/north-america/united-states-of-america/louisiana-943/r/may-5/\\', \\'content\\': \\'Min. Temperature °C (°F) | 7.4 °C(45.4) °F | 9.5 °C(49.2) °F | 12.5 °C(54.6) °F | 16.3 °C(61.3) °F | 20.4 °C(68.6) °F | 23.5 °C(74.4) °F | 24.5 °C(76) °F | 24.6 °C(76.3) °F | 22 °C(71.7) °F | 17.1 °C(62.8) °F | 12.1 °C(53.8) °F | 8.6 °C(47.5) °F\\\\nMax. Temperature °C (°F) | 16.4 °C(61.4) °F | 18.4 °C(65.1) °F | 21.7 °C(71.1) °F | 25.3 °C(77.5) °F | 28.9 °C(84) °F | 31.2 °C(88.2) °F | 31.8 °C(89.2) °F | 32.5 °C(90.6) °F | 30.4 °C(86.6) °F | 26.6 °C(80) °F | 21.4 °C(70.5) °F | 17.4 °C(63.3) °F [...] 18.4 °C\\\\n\\\\n(65.1) °F\\\\n\\\\n21.7 °C\\\\n\\\\n(71.1) °F\\\\n\\\\n25.3 °C\\\\n\\\\n(77.5) °F\\\\n\\\\n28.9 °C\\\\n\\\\n(84) °F\\\\n\\\\n31.2 °C\\\\n\\\\n(88.2) °F\\\\n\\\\n31.8 °C\\\\n\\\\n(89.2) °F\\\\n\\\\n32.5 °C\\\\n\\\\n(90.6) °F\\\\n\\\\n30.4 °C\\\\n\\\\n(86.6) °F\\\\n\\\\n26.6 °C\\\\n\\\\n(80) °F\\\\n\\\\n21.4 °C\\\\n\\\\n(70.5) °F\\\\n\\\\n17.4 °C\\\\n\\\\n(63.3) °F\\\\n\\\\n134\\\\n\\\\n(5)\\\\n\\\\n100\\\\n\\\\n(3)\\\\n\\\\n109\\\\n\\\\n(4)\\\\n\\\\n120\\\\n\\\\n(4)\\\\n\\\\n108\\\\n\\\\n(4)\\\\n\\\\n136\\\\n\\\\n(5)\\\\n\\\\n119\\\\n\\\\n(4)\\\\n\\\\n119\\\\n\\\\n(4)\\\\n\\\\n124\\\\n\\\\n(4)\\\\n\\\\n94\\\\n\\\\n(3)\\\\n\\\\n110\\\\n\\\\n(4)\\\\n\\\\n123\\\\n\\\\n(4) [...] Min. Temperature °C (°F) | 7.5 °C(45.6) °F | 9.6 °C(49.3) °F | 12.5 °C(54.5) °F | 16.2 °C(61.2) °F | 20.2 °C(68.3) °F | 23.4 °C(74.1) °F | 24.3 °C(75.8) °F | 24.4 °C(76) °F | 22.1 °C(71.8) °F | 17.4 °C(63.3) °F | 12.2 °C(54) °F | 8.9 °C(48) °F\\\\nMax. Temperature °C (°F) | 16.6 °C(61.8) °F | 18.7 °C(65.6) °F | 21.9 °C(71.4) °F | 25.6 °C(78) °F | 29.3 °C(84.7) °F | 31.6 °C(88.9) °F | 32 °C(89.5) °F | 32.3 °C(90.1) °F | 30.4 °C(86.7) °F | 26.8 °C(80.3) °F | 21.6 °C(70.9) °F | 17.7 °C(63.8) °F\\'}]', name='tavily_search_results_json', id='0f19dd4e-fd1c-4022-95ba-e1371f63d1cd', tool_call_id='call_b9LkuBuQYbv72W0ziZ4EgNOi'), AIMessage(content='The current weather in Louisiana shows a temperature of 18.4°C (65.1°F) with clear skies. The wind speed is 11.9 mph coming from the ENE direction. The humidity is at 48% and there is no precipitation at the moment.', additional_kwargs={'refusal': None}, response_metadata={'token_usage': {'completion_tokens': 58, 'prompt_tokens': 1594, 'total_tokens': 1652, 'completion_tokens_details': {'accepted_prediction_tokens': 0, 'audio_tokens': 0, 'reasoning_tokens': 0, 'rejected_prediction_tokens': 0}, 'prompt_tokens_details': {'audio_tokens': 0, 'cached_tokens': 0}}, 'model_name': 'gpt-3.5-turbo-0125', 'system_fingerprint': None, 'finish_reason': 'stop', 'logprobs': None}, id='run-b4095411-8258-4955-a97e-f5cc280fbaa4-0', usage_metadata={'input_tokens': 1594, 'output_tokens': 58, 'total_tokens': 1652, 'input_token_details': {'audio': 0, 'cache_read': 0}, 'output_token_details': {'audio': 0, 'reasoning': 0}})]}, next=(), config={'configurable': {'thread_id': '3', 'checkpoint_ns': '', 'checkpoint_id': '1f02e277-72e7-6a6b-8004-5118b5938bca'}}, metadata={'source': 'loop', 'writes': {'llm': {'messages': [AIMessage(content='The current weather in Louisiana shows a temperature of 18.4°C (65.1°F) with clear skies. The wind speed is 11.9 mph coming from the ENE direction. The humidity is at 48% and there is no precipitation at the moment.', additional_kwargs={'refusal': None}, response_metadata={'token_usage': {'completion_tokens': 58, 'prompt_tokens': 1594, 'total_tokens': 1652, 'completion_tokens_details': {'accepted_prediction_tokens': 0, 'audio_tokens': 0, 'reasoning_tokens': 0, 'rejected_prediction_tokens': 0}, 'prompt_tokens_details': {'audio_tokens': 0, 'cached_tokens': 0}}, 'model_name': 'gpt-3.5-turbo-0125', 'system_fingerprint': None, 'finish_reason': 'stop', 'logprobs': None}, id='run-b4095411-8258-4955-a97e-f5cc280fbaa4-0', usage_metadata={'input_tokens': 1594, 'output_tokens': 58, 'total_tokens': 1652, 'input_token_details': {'audio': 0, 'cache_read': 0}, 'output_token_details': {'audio': 0, 'reasoning': 0}})]}}, 'thread_id': '3', 'step': 4, 'parents': {}}, created_at='2025-05-11T05:19:08.662231+00:00', parent_config={'configurable': {'thread_id': '3', 'checkpoint_ns': '', 'checkpoint_id': '1f02e277-6953-6eac-8003-5517e414cbd9'}}, tasks=())\n",
            "--\n",
            "StateSnapshot(values={'messages': [HumanMessage(content='Whats the weather in LA?', additional_kwargs={}, response_metadata={}, id='c5e06892-6c69-4bb6-b4a4-0b16199dbb23'), AIMessage(content='', additional_kwargs={'tool_calls': [{'id': 'call_b9LkuBuQYbv72W0ziZ4EgNOi', 'function': {'arguments': '{\"query\":\"weather in Los Angeles\"}', 'name': 'tavily_search_results_json'}, 'type': 'function'}], 'refusal': None}, response_metadata={'token_usage': {'completion_tokens': 22, 'prompt_tokens': 152, 'total_tokens': 174, 'completion_tokens_details': {'accepted_prediction_tokens': 0, 'audio_tokens': 0, 'reasoning_tokens': 0, 'rejected_prediction_tokens': 0}, 'prompt_tokens_details': {'audio_tokens': 0, 'cached_tokens': 0}}, 'model_name': 'gpt-3.5-turbo-0125', 'system_fingerprint': None, 'finish_reason': 'tool_calls', 'logprobs': None}, id='run-b9e7ca4b-d426-4af3-b04d-daa3a397da0e-0', tool_calls=[{'name': 'tavily_search_results_json', 'args': {'query': 'current weather in Louisiana'}, 'id': 'call_b9LkuBuQYbv72W0ziZ4EgNOi', 'type': 'tool_call'}], usage_metadata={'input_tokens': 152, 'output_tokens': 22, 'total_tokens': 174, 'input_token_details': {'audio': 0, 'cache_read': 0}, 'output_token_details': {'audio': 0, 'reasoning': 0}}), ToolMessage(content='[{\\'url\\': \\'https://www.weatherapi.com/\\', \\'content\\': \"{\\'location\\': {\\'name\\': \\'Louisiana\\', \\'region\\': \\'Missouri\\', \\'country\\': \\'USA United States of America\\', \\'lat\\': 39.4411, \\'lon\\': -91.0551, \\'tz_id\\': \\'America/Chicago\\', \\'localtime_epoch\\': 1746940743, \\'localtime\\': \\'2025-05-11 00:19\\'}, \\'current\\': {\\'last_updated_epoch\\': 1746940500, \\'last_updated\\': \\'2025-05-11 00:15\\', \\'temp_c\\': 18.4, \\'temp_f\\': 65.1, \\'is_day\\': 0, \\'condition\\': {\\'text\\': \\'Clear\\', \\'icon\\': \\'//cdn.weatherapi.com/weather/64x64/night/113.png\\', \\'code\\': 1000}, \\'wind_mph\\': 11.9, \\'wind_kph\\': 19.1, \\'wind_degree\\': 67, \\'wind_dir\\': \\'ENE\\', \\'pressure_mb\\': 1023.0, \\'pressure_in\\': 30.22, \\'precip_mm\\': 0.0, \\'precip_in\\': 0.0, \\'humidity\\': 48, \\'cloud\\': 0, \\'feelslike_c\\': 18.4, \\'feelslike_f\\': 65.1, \\'windchill_c\\': 13.1, \\'windchill_f\\': 55.6, \\'heatindex_c\\': 14.5, \\'heatindex_f\\': 58.1, \\'dewpoint_c\\': 10.4, \\'dewpoint_f\\': 50.7, \\'vis_km\\': 16.0, \\'vis_miles\\': 9.0, \\'uv\\': 0.0, \\'gust_mph\\': 22.3, \\'gust_kph\\': 35.8}}\"}, {\\'url\\': \\'https://en.climate-data.org/north-america/united-states-of-america/louisiana-943/r/may-5/\\', \\'content\\': \\'Min. Temperature °C (°F) | 7.4 °C(45.4) °F | 9.5 °C(49.2) °F | 12.5 °C(54.6) °F | 16.3 °C(61.3) °F | 20.4 °C(68.6) °F | 23.5 °C(74.4) °F | 24.5 °C(76) °F | 24.6 °C(76.3) °F | 22 °C(71.7) °F | 17.1 °C(62.8) °F | 12.1 °C(53.8) °F | 8.6 °C(47.5) °F\\\\nMax. Temperature °C (°F) | 16.4 °C(61.4) °F | 18.4 °C(65.1) °F | 21.7 °C(71.1) °F | 25.3 °C(77.5) °F | 28.9 °C(84) °F | 31.2 °C(88.2) °F | 31.8 °C(89.2) °F | 32.5 °C(90.6) °F | 30.4 °C(86.6) °F | 26.6 °C(80) °F | 21.4 °C(70.5) °F | 17.4 °C(63.3) °F [...] 18.4 °C\\\\n\\\\n(65.1) °F\\\\n\\\\n21.7 °C\\\\n\\\\n(71.1) °F\\\\n\\\\n25.3 °C\\\\n\\\\n(77.5) °F\\\\n\\\\n28.9 °C\\\\n\\\\n(84) °F\\\\n\\\\n31.2 °C\\\\n\\\\n(88.2) °F\\\\n\\\\n31.8 °C\\\\n\\\\n(89.2) °F\\\\n\\\\n32.5 °C\\\\n\\\\n(90.6) °F\\\\n\\\\n30.4 °C\\\\n\\\\n(86.6) °F\\\\n\\\\n26.6 °C\\\\n\\\\n(80) °F\\\\n\\\\n21.4 °C\\\\n\\\\n(70.5) °F\\\\n\\\\n17.4 °C\\\\n\\\\n(63.3) °F\\\\n\\\\n134\\\\n\\\\n(5)\\\\n\\\\n100\\\\n\\\\n(3)\\\\n\\\\n109\\\\n\\\\n(4)\\\\n\\\\n120\\\\n\\\\n(4)\\\\n\\\\n108\\\\n\\\\n(4)\\\\n\\\\n136\\\\n\\\\n(5)\\\\n\\\\n119\\\\n\\\\n(4)\\\\n\\\\n119\\\\n\\\\n(4)\\\\n\\\\n124\\\\n\\\\n(4)\\\\n\\\\n94\\\\n\\\\n(3)\\\\n\\\\n110\\\\n\\\\n(4)\\\\n\\\\n123\\\\n\\\\n(4) [...] Min. Temperature °C (°F) | 7.5 °C(45.6) °F | 9.6 °C(49.3) °F | 12.5 °C(54.5) °F | 16.2 °C(61.2) °F | 20.2 °C(68.3) °F | 23.4 °C(74.1) °F | 24.3 °C(75.8) °F | 24.4 °C(76) °F | 22.1 °C(71.8) °F | 17.4 °C(63.3) °F | 12.2 °C(54) °F | 8.9 °C(48) °F\\\\nMax. Temperature °C (°F) | 16.6 °C(61.8) °F | 18.7 °C(65.6) °F | 21.9 °C(71.4) °F | 25.6 °C(78) °F | 29.3 °C(84.7) °F | 31.6 °C(88.9) °F | 32 °C(89.5) °F | 32.3 °C(90.1) °F | 30.4 °C(86.7) °F | 26.8 °C(80.3) °F | 21.6 °C(70.9) °F | 17.7 °C(63.8) °F\\'}]', name='tavily_search_results_json', id='0f19dd4e-fd1c-4022-95ba-e1371f63d1cd', tool_call_id='call_b9LkuBuQYbv72W0ziZ4EgNOi')]}, next=('llm',), config={'configurable': {'thread_id': '3', 'checkpoint_ns': '', 'checkpoint_id': '1f02e277-6953-6eac-8003-5517e414cbd9'}}, metadata={'source': 'loop', 'writes': {'action': {'messages': [ToolMessage(content='[{\\'url\\': \\'https://www.weatherapi.com/\\', \\'content\\': \"{\\'location\\': {\\'name\\': \\'Louisiana\\', \\'region\\': \\'Missouri\\', \\'country\\': \\'USA United States of America\\', \\'lat\\': 39.4411, \\'lon\\': -91.0551, \\'tz_id\\': \\'America/Chicago\\', \\'localtime_epoch\\': 1746940743, \\'localtime\\': \\'2025-05-11 00:19\\'}, \\'current\\': {\\'last_updated_epoch\\': 1746940500, \\'last_updated\\': \\'2025-05-11 00:15\\', \\'temp_c\\': 18.4, \\'temp_f\\': 65.1, \\'is_day\\': 0, \\'condition\\': {\\'text\\': \\'Clear\\', \\'icon\\': \\'//cdn.weatherapi.com/weather/64x64/night/113.png\\', \\'code\\': 1000}, \\'wind_mph\\': 11.9, \\'wind_kph\\': 19.1, \\'wind_degree\\': 67, \\'wind_dir\\': \\'ENE\\', \\'pressure_mb\\': 1023.0, \\'pressure_in\\': 30.22, \\'precip_mm\\': 0.0, \\'precip_in\\': 0.0, \\'humidity\\': 48, \\'cloud\\': 0, \\'feelslike_c\\': 18.4, \\'feelslike_f\\': 65.1, \\'windchill_c\\': 13.1, \\'windchill_f\\': 55.6, \\'heatindex_c\\': 14.5, \\'heatindex_f\\': 58.1, \\'dewpoint_c\\': 10.4, \\'dewpoint_f\\': 50.7, \\'vis_km\\': 16.0, \\'vis_miles\\': 9.0, \\'uv\\': 0.0, \\'gust_mph\\': 22.3, \\'gust_kph\\': 35.8}}\"}, {\\'url\\': \\'https://en.climate-data.org/north-america/united-states-of-america/louisiana-943/r/may-5/\\', \\'content\\': \\'Min. Temperature °C (°F) | 7.4 °C(45.4) °F | 9.5 °C(49.2) °F | 12.5 °C(54.6) °F | 16.3 °C(61.3) °F | 20.4 °C(68.6) °F | 23.5 °C(74.4) °F | 24.5 °C(76) °F | 24.6 °C(76.3) °F | 22 °C(71.7) °F | 17.1 °C(62.8) °F | 12.1 °C(53.8) °F | 8.6 °C(47.5) °F\\\\nMax. Temperature °C (°F) | 16.4 °C(61.4) °F | 18.4 °C(65.1) °F | 21.7 °C(71.1) °F | 25.3 °C(77.5) °F | 28.9 °C(84) °F | 31.2 °C(88.2) °F | 31.8 °C(89.2) °F | 32.5 °C(90.6) °F | 30.4 °C(86.6) °F | 26.6 °C(80) °F | 21.4 °C(70.5) °F | 17.4 °C(63.3) °F [...] 18.4 °C\\\\n\\\\n(65.1) °F\\\\n\\\\n21.7 °C\\\\n\\\\n(71.1) °F\\\\n\\\\n25.3 °C\\\\n\\\\n(77.5) °F\\\\n\\\\n28.9 °C\\\\n\\\\n(84) °F\\\\n\\\\n31.2 °C\\\\n\\\\n(88.2) °F\\\\n\\\\n31.8 °C\\\\n\\\\n(89.2) °F\\\\n\\\\n32.5 °C\\\\n\\\\n(90.6) °F\\\\n\\\\n30.4 °C\\\\n\\\\n(86.6) °F\\\\n\\\\n26.6 °C\\\\n\\\\n(80) °F\\\\n\\\\n21.4 °C\\\\n\\\\n(70.5) °F\\\\n\\\\n17.4 °C\\\\n\\\\n(63.3) °F\\\\n\\\\n134\\\\n\\\\n(5)\\\\n\\\\n100\\\\n\\\\n(3)\\\\n\\\\n109\\\\n\\\\n(4)\\\\n\\\\n120\\\\n\\\\n(4)\\\\n\\\\n108\\\\n\\\\n(4)\\\\n\\\\n136\\\\n\\\\n(5)\\\\n\\\\n119\\\\n\\\\n(4)\\\\n\\\\n119\\\\n\\\\n(4)\\\\n\\\\n124\\\\n\\\\n(4)\\\\n\\\\n94\\\\n\\\\n(3)\\\\n\\\\n110\\\\n\\\\n(4)\\\\n\\\\n123\\\\n\\\\n(4) [...] Min. Temperature °C (°F) | 7.5 °C(45.6) °F | 9.6 °C(49.3) °F | 12.5 °C(54.5) °F | 16.2 °C(61.2) °F | 20.2 °C(68.3) °F | 23.4 °C(74.1) °F | 24.3 °C(75.8) °F | 24.4 °C(76) °F | 22.1 °C(71.8) °F | 17.4 °C(63.3) °F | 12.2 °C(54) °F | 8.9 °C(48) °F\\\\nMax. Temperature °C (°F) | 16.6 °C(61.8) °F | 18.7 °C(65.6) °F | 21.9 °C(71.4) °F | 25.6 °C(78) °F | 29.3 °C(84.7) °F | 31.6 °C(88.9) °F | 32 °C(89.5) °F | 32.3 °C(90.1) °F | 30.4 °C(86.7) °F | 26.8 °C(80.3) °F | 21.6 °C(70.9) °F | 17.7 °C(63.8) °F\\'}]', name='tavily_search_results_json', id='0f19dd4e-fd1c-4022-95ba-e1371f63d1cd', tool_call_id='call_b9LkuBuQYbv72W0ziZ4EgNOi')]}}, 'thread_id': '3', 'step': 3, 'parents': {}}, created_at='2025-05-11T05:19:07.658001+00:00', parent_config={'configurable': {'thread_id': '3', 'checkpoint_ns': '', 'checkpoint_id': '1f02e277-39fc-6ce2-8002-0bdc60250812'}}, tasks=(PregelTask(id='33a03f76-a3bf-7dea-3d18-237140a047ac', name='llm', path=('__pregel_pull', 'llm'), error=None, interrupts=(), state=None, result={'messages': [AIMessage(content='The current weather in Louisiana shows a temperature of 18.4°C (65.1°F) with clear skies. The wind speed is 11.9 mph coming from the ENE direction. The humidity is at 48% and there is no precipitation at the moment.', additional_kwargs={'refusal': None}, response_metadata={'token_usage': {'completion_tokens': 58, 'prompt_tokens': 1594, 'total_tokens': 1652, 'completion_tokens_details': {'accepted_prediction_tokens': 0, 'audio_tokens': 0, 'reasoning_tokens': 0, 'rejected_prediction_tokens': 0}, 'prompt_tokens_details': {'audio_tokens': 0, 'cached_tokens': 0}}, 'model_name': 'gpt-3.5-turbo-0125', 'system_fingerprint': None, 'finish_reason': 'stop', 'logprobs': None}, id='run-b4095411-8258-4955-a97e-f5cc280fbaa4-0', usage_metadata={'input_tokens': 1594, 'output_tokens': 58, 'total_tokens': 1652, 'input_token_details': {'audio': 0, 'cache_read': 0}, 'output_token_details': {'audio': 0, 'reasoning': 0}})]}),))\n",
            "--\n",
            "StateSnapshot(values={'messages': [HumanMessage(content='Whats the weather in LA?', additional_kwargs={}, response_metadata={}, id='c5e06892-6c69-4bb6-b4a4-0b16199dbb23'), AIMessage(content='', additional_kwargs={'tool_calls': [{'id': 'call_b9LkuBuQYbv72W0ziZ4EgNOi', 'function': {'arguments': '{\"query\":\"weather in Los Angeles\"}', 'name': 'tavily_search_results_json'}, 'type': 'function'}], 'refusal': None}, response_metadata={'token_usage': {'completion_tokens': 22, 'prompt_tokens': 152, 'total_tokens': 174, 'completion_tokens_details': {'accepted_prediction_tokens': 0, 'audio_tokens': 0, 'reasoning_tokens': 0, 'rejected_prediction_tokens': 0}, 'prompt_tokens_details': {'audio_tokens': 0, 'cached_tokens': 0}}, 'model_name': 'gpt-3.5-turbo-0125', 'system_fingerprint': None, 'finish_reason': 'tool_calls', 'logprobs': None}, id='run-b9e7ca4b-d426-4af3-b04d-daa3a397da0e-0', tool_calls=[{'name': 'tavily_search_results_json', 'args': {'query': 'current weather in Louisiana'}, 'id': 'call_b9LkuBuQYbv72W0ziZ4EgNOi', 'type': 'tool_call'}], usage_metadata={'input_tokens': 152, 'output_tokens': 22, 'total_tokens': 174, 'input_token_details': {'audio': 0, 'cache_read': 0}, 'output_token_details': {'audio': 0, 'reasoning': 0}})]}, next=('action',), config={'configurable': {'thread_id': '3', 'checkpoint_ns': '', 'checkpoint_id': '1f02e277-39fc-6ce2-8002-0bdc60250812'}}, metadata={'source': 'update', 'writes': {'llm': {'messages': [HumanMessage(content='Whats the weather in LA?', additional_kwargs={}, response_metadata={}, id='c5e06892-6c69-4bb6-b4a4-0b16199dbb23'), AIMessage(content='', additional_kwargs={'tool_calls': [{'id': 'call_b9LkuBuQYbv72W0ziZ4EgNOi', 'function': {'arguments': '{\"query\":\"weather in Los Angeles\"}', 'name': 'tavily_search_results_json'}, 'type': 'function'}], 'refusal': None}, response_metadata={'token_usage': {'completion_tokens': 22, 'prompt_tokens': 152, 'total_tokens': 174, 'completion_tokens_details': {'accepted_prediction_tokens': 0, 'audio_tokens': 0, 'reasoning_tokens': 0, 'rejected_prediction_tokens': 0}, 'prompt_tokens_details': {'audio_tokens': 0, 'cached_tokens': 0}}, 'model_name': 'gpt-3.5-turbo-0125', 'system_fingerprint': None, 'finish_reason': 'tool_calls', 'logprobs': None}, id='run-b9e7ca4b-d426-4af3-b04d-daa3a397da0e-0', tool_calls=[{'name': 'tavily_search_results_json', 'args': {'query': 'current weather in Louisiana'}, 'id': 'call_b9LkuBuQYbv72W0ziZ4EgNOi', 'type': 'tool_call'}], usage_metadata={'input_tokens': 152, 'output_tokens': 22, 'total_tokens': 174, 'input_token_details': {'audio': 0, 'cache_read': 0}, 'output_token_details': {'audio': 0, 'reasoning': 0}})]}}, 'thread_id': '3', 'step': 2, 'parents': {}}, created_at='2025-05-11T05:19:02.694013+00:00', parent_config={'configurable': {'thread_id': '3', 'checkpoint_ns': '', 'checkpoint_id': '1f02e277-38a7-61f4-8001-fa13a99caf96'}}, tasks=(PregelTask(id='71222dbd-85e5-5730-4ad3-a889926df716', name='action', path=('__pregel_pull', 'action'), error=None, interrupts=(), state=None, result={'messages': [ToolMessage(content='[{\\'url\\': \\'https://www.weatherapi.com/\\', \\'content\\': \"{\\'location\\': {\\'name\\': \\'Louisiana\\', \\'region\\': \\'Missouri\\', \\'country\\': \\'USA United States of America\\', \\'lat\\': 39.4411, \\'lon\\': -91.0551, \\'tz_id\\': \\'America/Chicago\\', \\'localtime_epoch\\': 1746940743, \\'localtime\\': \\'2025-05-11 00:19\\'}, \\'current\\': {\\'last_updated_epoch\\': 1746940500, \\'last_updated\\': \\'2025-05-11 00:15\\', \\'temp_c\\': 18.4, \\'temp_f\\': 65.1, \\'is_day\\': 0, \\'condition\\': {\\'text\\': \\'Clear\\', \\'icon\\': \\'//cdn.weatherapi.com/weather/64x64/night/113.png\\', \\'code\\': 1000}, \\'wind_mph\\': 11.9, \\'wind_kph\\': 19.1, \\'wind_degree\\': 67, \\'wind_dir\\': \\'ENE\\', \\'pressure_mb\\': 1023.0, \\'pressure_in\\': 30.22, \\'precip_mm\\': 0.0, \\'precip_in\\': 0.0, \\'humidity\\': 48, \\'cloud\\': 0, \\'feelslike_c\\': 18.4, \\'feelslike_f\\': 65.1, \\'windchill_c\\': 13.1, \\'windchill_f\\': 55.6, \\'heatindex_c\\': 14.5, \\'heatindex_f\\': 58.1, \\'dewpoint_c\\': 10.4, \\'dewpoint_f\\': 50.7, \\'vis_km\\': 16.0, \\'vis_miles\\': 9.0, \\'uv\\': 0.0, \\'gust_mph\\': 22.3, \\'gust_kph\\': 35.8}}\"}, {\\'url\\': \\'https://en.climate-data.org/north-america/united-states-of-america/louisiana-943/r/may-5/\\', \\'content\\': \\'Min. Temperature °C (°F) | 7.4 °C(45.4) °F | 9.5 °C(49.2) °F | 12.5 °C(54.6) °F | 16.3 °C(61.3) °F | 20.4 °C(68.6) °F | 23.5 °C(74.4) °F | 24.5 °C(76) °F | 24.6 °C(76.3) °F | 22 °C(71.7) °F | 17.1 °C(62.8) °F | 12.1 °C(53.8) °F | 8.6 °C(47.5) °F\\\\nMax. Temperature °C (°F) | 16.4 °C(61.4) °F | 18.4 °C(65.1) °F | 21.7 °C(71.1) °F | 25.3 °C(77.5) °F | 28.9 °C(84) °F | 31.2 °C(88.2) °F | 31.8 °C(89.2) °F | 32.5 °C(90.6) °F | 30.4 °C(86.6) °F | 26.6 °C(80) °F | 21.4 °C(70.5) °F | 17.4 °C(63.3) °F [...] 18.4 °C\\\\n\\\\n(65.1) °F\\\\n\\\\n21.7 °C\\\\n\\\\n(71.1) °F\\\\n\\\\n25.3 °C\\\\n\\\\n(77.5) °F\\\\n\\\\n28.9 °C\\\\n\\\\n(84) °F\\\\n\\\\n31.2 °C\\\\n\\\\n(88.2) °F\\\\n\\\\n31.8 °C\\\\n\\\\n(89.2) °F\\\\n\\\\n32.5 °C\\\\n\\\\n(90.6) °F\\\\n\\\\n30.4 °C\\\\n\\\\n(86.6) °F\\\\n\\\\n26.6 °C\\\\n\\\\n(80) °F\\\\n\\\\n21.4 °C\\\\n\\\\n(70.5) °F\\\\n\\\\n17.4 °C\\\\n\\\\n(63.3) °F\\\\n\\\\n134\\\\n\\\\n(5)\\\\n\\\\n100\\\\n\\\\n(3)\\\\n\\\\n109\\\\n\\\\n(4)\\\\n\\\\n120\\\\n\\\\n(4)\\\\n\\\\n108\\\\n\\\\n(4)\\\\n\\\\n136\\\\n\\\\n(5)\\\\n\\\\n119\\\\n\\\\n(4)\\\\n\\\\n119\\\\n\\\\n(4)\\\\n\\\\n124\\\\n\\\\n(4)\\\\n\\\\n94\\\\n\\\\n(3)\\\\n\\\\n110\\\\n\\\\n(4)\\\\n\\\\n123\\\\n\\\\n(4) [...] Min. Temperature °C (°F) | 7.5 °C(45.6) °F | 9.6 °C(49.3) °F | 12.5 °C(54.5) °F | 16.2 °C(61.2) °F | 20.2 °C(68.3) °F | 23.4 °C(74.1) °F | 24.3 °C(75.8) °F | 24.4 °C(76) °F | 22.1 °C(71.8) °F | 17.4 °C(63.3) °F | 12.2 °C(54) °F | 8.9 °C(48) °F\\\\nMax. Temperature °C (°F) | 16.6 °C(61.8) °F | 18.7 °C(65.6) °F | 21.9 °C(71.4) °F | 25.6 °C(78) °F | 29.3 °C(84.7) °F | 31.6 °C(88.9) °F | 32 °C(89.5) °F | 32.3 °C(90.1) °F | 30.4 °C(86.7) °F | 26.8 °C(80.3) °F | 21.6 °C(70.9) °F | 17.7 °C(63.8) °F\\'}]', name='tavily_search_results_json', tool_call_id='call_b9LkuBuQYbv72W0ziZ4EgNOi')]}),))\n",
            "--\n",
            "StateSnapshot(values={'messages': [HumanMessage(content='Whats the weather in LA?', additional_kwargs={}, response_metadata={}, id='c5e06892-6c69-4bb6-b4a4-0b16199dbb23'), AIMessage(content='', additional_kwargs={'tool_calls': [{'id': 'call_b9LkuBuQYbv72W0ziZ4EgNOi', 'function': {'arguments': '{\"query\":\"weather in Los Angeles\"}', 'name': 'tavily_search_results_json'}, 'type': 'function'}], 'refusal': None}, response_metadata={'token_usage': {'completion_tokens': 22, 'prompt_tokens': 152, 'total_tokens': 174, 'completion_tokens_details': {'accepted_prediction_tokens': 0, 'audio_tokens': 0, 'reasoning_tokens': 0, 'rejected_prediction_tokens': 0}, 'prompt_tokens_details': {'audio_tokens': 0, 'cached_tokens': 0}}, 'model_name': 'gpt-3.5-turbo-0125', 'system_fingerprint': None, 'finish_reason': 'tool_calls', 'logprobs': None}, id='run-b9e7ca4b-d426-4af3-b04d-daa3a397da0e-0', tool_calls=[{'name': 'tavily_search_results_json', 'args': {'query': 'weather in Los Angeles'}, 'id': 'call_b9LkuBuQYbv72W0ziZ4EgNOi', 'type': 'tool_call'}], usage_metadata={'input_tokens': 152, 'output_tokens': 22, 'total_tokens': 174, 'input_token_details': {'audio': 0, 'cache_read': 0}, 'output_token_details': {'audio': 0, 'reasoning': 0}})]}, next=('action',), config={'configurable': {'thread_id': '3', 'checkpoint_ns': '', 'checkpoint_id': '1f02e277-38a7-61f4-8001-fa13a99caf96'}}, metadata={'source': 'loop', 'writes': {'llm': {'messages': [AIMessage(content='', additional_kwargs={'tool_calls': [{'id': 'call_b9LkuBuQYbv72W0ziZ4EgNOi', 'function': {'arguments': '{\"query\":\"weather in Los Angeles\"}', 'name': 'tavily_search_results_json'}, 'type': 'function'}], 'refusal': None}, response_metadata={'token_usage': {'completion_tokens': 22, 'prompt_tokens': 152, 'total_tokens': 174, 'completion_tokens_details': {'accepted_prediction_tokens': 0, 'audio_tokens': 0, 'reasoning_tokens': 0, 'rejected_prediction_tokens': 0}, 'prompt_tokens_details': {'audio_tokens': 0, 'cached_tokens': 0}}, 'model_name': 'gpt-3.5-turbo-0125', 'system_fingerprint': None, 'finish_reason': 'tool_calls', 'logprobs': None}, id='run-b9e7ca4b-d426-4af3-b04d-daa3a397da0e-0', tool_calls=[{'name': 'tavily_search_results_json', 'args': {'query': 'weather in Los Angeles'}, 'id': 'call_b9LkuBuQYbv72W0ziZ4EgNOi', 'type': 'tool_call'}], usage_metadata={'input_tokens': 152, 'output_tokens': 22, 'total_tokens': 174, 'input_token_details': {'audio': 0, 'cache_read': 0}, 'output_token_details': {'audio': 0, 'reasoning': 0}})]}}, 'thread_id': '3', 'step': 1, 'parents': {}}, created_at='2025-05-11T05:19:02.554059+00:00', parent_config={'configurable': {'thread_id': '3', 'checkpoint_ns': '', 'checkpoint_id': '1f02e277-31c1-6100-8000-ac1fd30a1509'}}, tasks=(PregelTask(id='02b60dbe-e262-0c4c-9232-b259acf00aaa', name='action', path=('__pregel_pull', 'action'), error=None, interrupts=(), state=None, result=None),))\n",
            "--\n",
            "StateSnapshot(values={'messages': [HumanMessage(content='Whats the weather in LA?', additional_kwargs={}, response_metadata={}, id='c5e06892-6c69-4bb6-b4a4-0b16199dbb23')]}, next=('llm',), config={'configurable': {'thread_id': '3', 'checkpoint_ns': '', 'checkpoint_id': '1f02e277-31c1-6100-8000-ac1fd30a1509'}}, metadata={'source': 'loop', 'writes': None, 'thread_id': '3', 'step': 0, 'parents': {}}, created_at='2025-05-11T05:19:01.830681+00:00', parent_config={'configurable': {'thread_id': '3', 'checkpoint_ns': '', 'checkpoint_id': '1f02e277-31a9-6f6d-bfff-37a1ce570a12'}}, tasks=(PregelTask(id='89c48a58-1f40-d218-5b22-8c9dd32be43e', name='llm', path=('__pregel_pull', 'llm'), error=None, interrupts=(), state=None, result={'messages': [AIMessage(content='', additional_kwargs={'tool_calls': [{'id': 'call_b9LkuBuQYbv72W0ziZ4EgNOi', 'function': {'arguments': '{\"query\":\"weather in Los Angeles\"}', 'name': 'tavily_search_results_json'}, 'type': 'function'}], 'refusal': None}, response_metadata={'token_usage': {'completion_tokens': 22, 'prompt_tokens': 152, 'total_tokens': 174, 'completion_tokens_details': {'accepted_prediction_tokens': 0, 'audio_tokens': 0, 'reasoning_tokens': 0, 'rejected_prediction_tokens': 0}, 'prompt_tokens_details': {'audio_tokens': 0, 'cached_tokens': 0}}, 'model_name': 'gpt-3.5-turbo-0125', 'system_fingerprint': None, 'finish_reason': 'tool_calls', 'logprobs': None}, id='run-b9e7ca4b-d426-4af3-b04d-daa3a397da0e-0', tool_calls=[{'name': 'tavily_search_results_json', 'args': {'query': 'weather in Los Angeles'}, 'id': 'call_b9LkuBuQYbv72W0ziZ4EgNOi', 'type': 'tool_call'}], usage_metadata={'input_tokens': 152, 'output_tokens': 22, 'total_tokens': 174, 'input_token_details': {'audio': 0, 'cache_read': 0}, 'output_token_details': {'audio': 0, 'reasoning': 0}})]}),))\n",
            "--\n",
            "StateSnapshot(values={'messages': []}, next=('__start__',), config={'configurable': {'thread_id': '3', 'checkpoint_ns': '', 'checkpoint_id': '1f02e277-31a9-6f6d-bfff-37a1ce570a12'}}, metadata={'source': 'input', 'writes': {'__start__': {'messages': [HumanMessage(content='Whats the weather in LA?', additional_kwargs={}, response_metadata={})]}}, 'thread_id': '3', 'step': -1, 'parents': {}}, created_at='2025-05-11T05:19:01.821220+00:00', parent_config=None, tasks=(PregelTask(id='64554e1a-fb29-29d6-a0ed-48cd71425149', name='__start__', path=('__pregel_pull', '__start__'), error=None, interrupts=(), state=None, result={'messages': [HumanMessage(content='Whats the weather in LA?', additional_kwargs={}, response_metadata={}, id='c5e06892-6c69-4bb6-b4a4-0b16199dbb23')]}),))\n",
            "--\n"
          ]
        }
      ],
      "source": [
        "states = []\n",
        "for state in abot.graph.get_state_history(thread):\n",
        "    print(state)\n",
        "    print('--')\n",
        "    states.append(state)"
      ],
      "id": "4-7ckAwXpa-R"
    },
    {
      "cell_type": "code",
      "execution_count": 33,
      "id": "c92ed77c",
      "metadata": {
        "id": "c92ed77c"
      },
      "outputs": [],
      "source": [
        "to_replay = states[-3]"
      ]
    },
    {
      "cell_type": "code",
      "execution_count": 34,
      "id": "f13e1b70",
      "metadata": {
        "colab": {
          "base_uri": "https://localhost:8080/"
        },
        "id": "f13e1b70",
        "outputId": "06f411a2-e182-4e84-8c29-89ffd28a3ed7"
      },
      "outputs": [
        {
          "output_type": "execute_result",
          "data": {
            "text/plain": [
              "StateSnapshot(values={'messages': [HumanMessage(content='Whats the weather in LA?', additional_kwargs={}, response_metadata={}, id='c5e06892-6c69-4bb6-b4a4-0b16199dbb23'), AIMessage(content='', additional_kwargs={'tool_calls': [{'id': 'call_b9LkuBuQYbv72W0ziZ4EgNOi', 'function': {'arguments': '{\"query\":\"weather in Los Angeles\"}', 'name': 'tavily_search_results_json'}, 'type': 'function'}], 'refusal': None}, response_metadata={'token_usage': {'completion_tokens': 22, 'prompt_tokens': 152, 'total_tokens': 174, 'completion_tokens_details': {'accepted_prediction_tokens': 0, 'audio_tokens': 0, 'reasoning_tokens': 0, 'rejected_prediction_tokens': 0}, 'prompt_tokens_details': {'audio_tokens': 0, 'cached_tokens': 0}}, 'model_name': 'gpt-3.5-turbo-0125', 'system_fingerprint': None, 'finish_reason': 'tool_calls', 'logprobs': None}, id='run-b9e7ca4b-d426-4af3-b04d-daa3a397da0e-0', tool_calls=[{'name': 'tavily_search_results_json', 'args': {'query': 'weather in Los Angeles'}, 'id': 'call_b9LkuBuQYbv72W0ziZ4EgNOi', 'type': 'tool_call'}], usage_metadata={'input_tokens': 152, 'output_tokens': 22, 'total_tokens': 174, 'input_token_details': {'audio': 0, 'cache_read': 0}, 'output_token_details': {'audio': 0, 'reasoning': 0}})]}, next=('action',), config={'configurable': {'thread_id': '3', 'checkpoint_ns': '', 'checkpoint_id': '1f02e277-38a7-61f4-8001-fa13a99caf96'}}, metadata={'source': 'loop', 'writes': {'llm': {'messages': [AIMessage(content='', additional_kwargs={'tool_calls': [{'id': 'call_b9LkuBuQYbv72W0ziZ4EgNOi', 'function': {'arguments': '{\"query\":\"weather in Los Angeles\"}', 'name': 'tavily_search_results_json'}, 'type': 'function'}], 'refusal': None}, response_metadata={'token_usage': {'completion_tokens': 22, 'prompt_tokens': 152, 'total_tokens': 174, 'completion_tokens_details': {'accepted_prediction_tokens': 0, 'audio_tokens': 0, 'reasoning_tokens': 0, 'rejected_prediction_tokens': 0}, 'prompt_tokens_details': {'audio_tokens': 0, 'cached_tokens': 0}}, 'model_name': 'gpt-3.5-turbo-0125', 'system_fingerprint': None, 'finish_reason': 'tool_calls', 'logprobs': None}, id='run-b9e7ca4b-d426-4af3-b04d-daa3a397da0e-0', tool_calls=[{'name': 'tavily_search_results_json', 'args': {'query': 'weather in Los Angeles'}, 'id': 'call_b9LkuBuQYbv72W0ziZ4EgNOi', 'type': 'tool_call'}], usage_metadata={'input_tokens': 152, 'output_tokens': 22, 'total_tokens': 174, 'input_token_details': {'audio': 0, 'cache_read': 0}, 'output_token_details': {'audio': 0, 'reasoning': 0}})]}}, 'thread_id': '3', 'step': 1, 'parents': {}}, created_at='2025-05-11T05:19:02.554059+00:00', parent_config={'configurable': {'thread_id': '3', 'checkpoint_ns': '', 'checkpoint_id': '1f02e277-31c1-6100-8000-ac1fd30a1509'}}, tasks=(PregelTask(id='02b60dbe-e262-0c4c-9232-b259acf00aaa', name='action', path=('__pregel_pull', 'action'), error=None, interrupts=(), state=None, result=None),))"
            ]
          },
          "metadata": {},
          "execution_count": 34
        }
      ],
      "source": [
        "to_replay"
      ]
    },
    {
      "cell_type": "code",
      "execution_count": 35,
      "metadata": {
        "colab": {
          "base_uri": "https://localhost:8080/"
        },
        "id": "FC-5p_OLpa-U",
        "outputId": "853aacaa-53d7-4d38-8161-3d923c2de52b"
      },
      "outputs": [
        {
          "output_type": "stream",
          "name": "stdout",
          "text": [
            "Calling: {'name': 'tavily_search_results_json', 'args': {'query': 'weather in Los Angeles'}, 'id': 'call_b9LkuBuQYbv72W0ziZ4EgNOi', 'type': 'tool_call'}\n",
            "Back to the model!\n",
            "{'messages': [ToolMessage(content='[{\\'url\\': \\'https://weathershogun.com/weather/usa/ca/los-angeles/451/may/2025-05-11\\', \\'content\\': \\'Los Angeles, California Weather: Sunday, May 11, 2025. Cloudy weather, overcast skies with clouds. Day 77°. Night 59°. Precipitation 0 %.\\'}, {\\'url\\': \\'https://www.weatherapi.com/\\', \\'content\\': \"{\\'location\\': {\\'name\\': \\'Los Angeles\\', \\'region\\': \\'California\\', \\'country\\': \\'United States of America\\', \\'lat\\': 34.0522, \\'lon\\': -118.2428, \\'tz_id\\': \\'America/Los_Angeles\\', \\'localtime_epoch\\': 1746940311, \\'localtime\\': \\'2025-05-10 22:11\\'}, \\'current\\': {\\'last_updated_epoch\\': 1746939600, \\'last_updated\\': \\'2025-05-10 22:00\\', \\'temp_c\\': 28.9, \\'temp_f\\': 84.0, \\'is_day\\': 0, \\'condition\\': {\\'text\\': \\'Clear\\', \\'icon\\': \\'//cdn.weatherapi.com/weather/64x64/night/113.png\\', \\'code\\': 1000}, \\'wind_mph\\': 3.4, \\'wind_kph\\': 5.4, \\'wind_degree\\': 158, \\'wind_dir\\': \\'SSE\\', \\'pressure_mb\\': 1011.0, \\'pressure_in\\': 29.86, \\'precip_mm\\': 0.0, \\'precip_in\\': 0.0, \\'humidity\\': 23, \\'cloud\\': 0, \\'feelslike_c\\': 29.4, \\'feelslike_f\\': 85.0, \\'windchill_c\\': 26.6, \\'windchill_f\\': 80.0, \\'heatindex_c\\': 27.1, \\'heatindex_f\\': 80.7, \\'dewpoint_c\\': 13.9, \\'dewpoint_f\\': 56.9, \\'vis_km\\': 16.0, \\'vis_miles\\': 9.0, \\'uv\\': 0.0, \\'gust_mph\\': 6.6, \\'gust_kph\\': 10.5}}\"}]', name='tavily_search_results_json', id='d9787a4f-f752-49e9-a693-2750aa27c824', tool_call_id='call_b9LkuBuQYbv72W0ziZ4EgNOi')]}\n",
            "{'messages': [HumanMessage(content='Whats the weather in LA?', additional_kwargs={}, response_metadata={}, id='c5e06892-6c69-4bb6-b4a4-0b16199dbb23'), AIMessage(content='', additional_kwargs={'tool_calls': [{'id': 'call_b9LkuBuQYbv72W0ziZ4EgNOi', 'function': {'arguments': '{\"query\":\"weather in Los Angeles\"}', 'name': 'tavily_search_results_json'}, 'type': 'function'}], 'refusal': None}, response_metadata={'token_usage': {'completion_tokens': 22, 'prompt_tokens': 152, 'total_tokens': 174, 'completion_tokens_details': {'accepted_prediction_tokens': 0, 'audio_tokens': 0, 'reasoning_tokens': 0, 'rejected_prediction_tokens': 0}, 'prompt_tokens_details': {'audio_tokens': 0, 'cached_tokens': 0}}, 'model_name': 'gpt-3.5-turbo-0125', 'system_fingerprint': None, 'finish_reason': 'tool_calls', 'logprobs': None}, id='run-b9e7ca4b-d426-4af3-b04d-daa3a397da0e-0', tool_calls=[{'name': 'tavily_search_results_json', 'args': {'query': 'weather in Los Angeles'}, 'id': 'call_b9LkuBuQYbv72W0ziZ4EgNOi', 'type': 'tool_call'}], usage_metadata={'input_tokens': 152, 'output_tokens': 22, 'total_tokens': 174, 'input_token_details': {'audio': 0, 'cache_read': 0}, 'output_token_details': {'audio': 0, 'reasoning': 0}}), ToolMessage(content='[{\\'url\\': \\'https://weathershogun.com/weather/usa/ca/los-angeles/451/may/2025-05-11\\', \\'content\\': \\'Los Angeles, California Weather: Sunday, May 11, 2025. Cloudy weather, overcast skies with clouds. Day 77°. Night 59°. Precipitation 0 %.\\'}, {\\'url\\': \\'https://www.weatherapi.com/\\', \\'content\\': \"{\\'location\\': {\\'name\\': \\'Los Angeles\\', \\'region\\': \\'California\\', \\'country\\': \\'United States of America\\', \\'lat\\': 34.0522, \\'lon\\': -118.2428, \\'tz_id\\': \\'America/Los_Angeles\\', \\'localtime_epoch\\': 1746940311, \\'localtime\\': \\'2025-05-10 22:11\\'}, \\'current\\': {\\'last_updated_epoch\\': 1746939600, \\'last_updated\\': \\'2025-05-10 22:00\\', \\'temp_c\\': 28.9, \\'temp_f\\': 84.0, \\'is_day\\': 0, \\'condition\\': {\\'text\\': \\'Clear\\', \\'icon\\': \\'//cdn.weatherapi.com/weather/64x64/night/113.png\\', \\'code\\': 1000}, \\'wind_mph\\': 3.4, \\'wind_kph\\': 5.4, \\'wind_degree\\': 158, \\'wind_dir\\': \\'SSE\\', \\'pressure_mb\\': 1011.0, \\'pressure_in\\': 29.86, \\'precip_mm\\': 0.0, \\'precip_in\\': 0.0, \\'humidity\\': 23, \\'cloud\\': 0, \\'feelslike_c\\': 29.4, \\'feelslike_f\\': 85.0, \\'windchill_c\\': 26.6, \\'windchill_f\\': 80.0, \\'heatindex_c\\': 27.1, \\'heatindex_f\\': 80.7, \\'dewpoint_c\\': 13.9, \\'dewpoint_f\\': 56.9, \\'vis_km\\': 16.0, \\'vis_miles\\': 9.0, \\'uv\\': 0.0, \\'gust_mph\\': 6.6, \\'gust_kph\\': 10.5}}\"}]', name='tavily_search_results_json', id='d9787a4f-f752-49e9-a693-2750aa27c824', tool_call_id='call_b9LkuBuQYbv72W0ziZ4EgNOi'), AIMessage(content='The current weather in Los Angeles is clear with a temperature of 84°F. The humidity is 23%, and there is no precipitation. The wind speed is 5.4 kph coming from the SSE direction.', additional_kwargs={'refusal': None}, response_metadata={'token_usage': {'completion_tokens': 46, 'prompt_tokens': 676, 'total_tokens': 722, 'completion_tokens_details': {'accepted_prediction_tokens': 0, 'audio_tokens': 0, 'reasoning_tokens': 0, 'rejected_prediction_tokens': 0}, 'prompt_tokens_details': {'audio_tokens': 0, 'cached_tokens': 0}}, 'model_name': 'gpt-3.5-turbo-0125', 'system_fingerprint': None, 'finish_reason': 'stop', 'logprobs': None}, id='run-601c5208-ebfb-494c-8085-de57f5e57d09-0', usage_metadata={'input_tokens': 676, 'output_tokens': 46, 'total_tokens': 722, 'input_token_details': {'audio': 0, 'cache_read': 0}, 'output_token_details': {'audio': 0, 'reasoning': 0}})]}\n",
            "{'messages': [AIMessage(content='The current weather in Los Angeles is clear with a temperature of 84°F. The humidity is 23%, and there is no precipitation. The wind speed is 5.4 kph coming from the SSE direction.', additional_kwargs={'refusal': None}, response_metadata={'token_usage': {'completion_tokens': 46, 'prompt_tokens': 676, 'total_tokens': 722, 'completion_tokens_details': {'accepted_prediction_tokens': 0, 'audio_tokens': 0, 'reasoning_tokens': 0, 'rejected_prediction_tokens': 0}, 'prompt_tokens_details': {'audio_tokens': 0, 'cached_tokens': 0}}, 'model_name': 'gpt-3.5-turbo-0125', 'system_fingerprint': None, 'finish_reason': 'stop', 'logprobs': None}, id='run-601c5208-ebfb-494c-8085-de57f5e57d09-0', usage_metadata={'input_tokens': 676, 'output_tokens': 46, 'total_tokens': 722, 'input_token_details': {'audio': 0, 'cache_read': 0}, 'output_token_details': {'audio': 0, 'reasoning': 0}})]}\n"
          ]
        }
      ],
      "source": [
        "for event in abot.graph.stream(None, to_replay.config):\n",
        "    for k, v in event.items():\n",
        "        print(v)"
      ],
      "id": "FC-5p_OLpa-U"
    },
    {
      "cell_type": "markdown",
      "id": "b2189f88",
      "metadata": {
        "id": "b2189f88"
      },
      "source": [
        "## Go back in time and edit"
      ]
    },
    {
      "cell_type": "code",
      "execution_count": 36,
      "metadata": {
        "colab": {
          "base_uri": "https://localhost:8080/"
        },
        "id": "1I5tvzIppa-W",
        "outputId": "89c943b7-95f4-4e59-e74b-093ec456b7a7"
      },
      "outputs": [
        {
          "output_type": "execute_result",
          "data": {
            "text/plain": [
              "StateSnapshot(values={'messages': [HumanMessage(content='Whats the weather in LA?', additional_kwargs={}, response_metadata={}, id='c5e06892-6c69-4bb6-b4a4-0b16199dbb23'), AIMessage(content='', additional_kwargs={'tool_calls': [{'id': 'call_b9LkuBuQYbv72W0ziZ4EgNOi', 'function': {'arguments': '{\"query\":\"weather in Los Angeles\"}', 'name': 'tavily_search_results_json'}, 'type': 'function'}], 'refusal': None}, response_metadata={'token_usage': {'completion_tokens': 22, 'prompt_tokens': 152, 'total_tokens': 174, 'completion_tokens_details': {'accepted_prediction_tokens': 0, 'audio_tokens': 0, 'reasoning_tokens': 0, 'rejected_prediction_tokens': 0}, 'prompt_tokens_details': {'audio_tokens': 0, 'cached_tokens': 0}}, 'model_name': 'gpt-3.5-turbo-0125', 'system_fingerprint': None, 'finish_reason': 'tool_calls', 'logprobs': None}, id='run-b9e7ca4b-d426-4af3-b04d-daa3a397da0e-0', tool_calls=[{'name': 'tavily_search_results_json', 'args': {'query': 'weather in Los Angeles'}, 'id': 'call_b9LkuBuQYbv72W0ziZ4EgNOi', 'type': 'tool_call'}], usage_metadata={'input_tokens': 152, 'output_tokens': 22, 'total_tokens': 174, 'input_token_details': {'audio': 0, 'cache_read': 0}, 'output_token_details': {'audio': 0, 'reasoning': 0}})]}, next=('action',), config={'configurable': {'thread_id': '3', 'checkpoint_ns': '', 'checkpoint_id': '1f02e277-38a7-61f4-8001-fa13a99caf96'}}, metadata={'source': 'loop', 'writes': {'llm': {'messages': [AIMessage(content='', additional_kwargs={'tool_calls': [{'id': 'call_b9LkuBuQYbv72W0ziZ4EgNOi', 'function': {'arguments': '{\"query\":\"weather in Los Angeles\"}', 'name': 'tavily_search_results_json'}, 'type': 'function'}], 'refusal': None}, response_metadata={'token_usage': {'completion_tokens': 22, 'prompt_tokens': 152, 'total_tokens': 174, 'completion_tokens_details': {'accepted_prediction_tokens': 0, 'audio_tokens': 0, 'reasoning_tokens': 0, 'rejected_prediction_tokens': 0}, 'prompt_tokens_details': {'audio_tokens': 0, 'cached_tokens': 0}}, 'model_name': 'gpt-3.5-turbo-0125', 'system_fingerprint': None, 'finish_reason': 'tool_calls', 'logprobs': None}, id='run-b9e7ca4b-d426-4af3-b04d-daa3a397da0e-0', tool_calls=[{'name': 'tavily_search_results_json', 'args': {'query': 'weather in Los Angeles'}, 'id': 'call_b9LkuBuQYbv72W0ziZ4EgNOi', 'type': 'tool_call'}], usage_metadata={'input_tokens': 152, 'output_tokens': 22, 'total_tokens': 174, 'input_token_details': {'audio': 0, 'cache_read': 0}, 'output_token_details': {'audio': 0, 'reasoning': 0}})]}}, 'thread_id': '3', 'step': 1, 'parents': {}}, created_at='2025-05-11T05:19:02.554059+00:00', parent_config={'configurable': {'thread_id': '3', 'checkpoint_ns': '', 'checkpoint_id': '1f02e277-31c1-6100-8000-ac1fd30a1509'}}, tasks=(PregelTask(id='02b60dbe-e262-0c4c-9232-b259acf00aaa', name='action', path=('__pregel_pull', 'action'), error=None, interrupts=(), state=None, result=None),))"
            ]
          },
          "metadata": {},
          "execution_count": 36
        }
      ],
      "source": [
        "to_replay"
      ],
      "id": "1I5tvzIppa-W"
    },
    {
      "cell_type": "code",
      "execution_count": 37,
      "id": "10b9f2e1",
      "metadata": {
        "id": "10b9f2e1"
      },
      "outputs": [],
      "source": [
        "_id = to_replay.values['messages'][-1].tool_calls[0]['id']\n",
        "to_replay.values['messages'][-1].tool_calls = [{'name': 'tavily_search_results_json',\n",
        "  'args': {'query': 'current weather in LA, accuweather'},\n",
        "  'id': _id}]"
      ]
    },
    {
      "cell_type": "code",
      "execution_count": 38,
      "metadata": {
        "colab": {
          "base_uri": "https://localhost:8080/"
        },
        "id": "QQWT4oXDpa-Y",
        "outputId": "d42803fc-8d3c-43ca-87a0-5153397f592a"
      },
      "outputs": [
        {
          "output_type": "stream",
          "name": "stdout",
          "text": [
            "{'messages': [HumanMessage(content='Whats the weather in LA?', additional_kwargs={}, response_metadata={}, id='c5e06892-6c69-4bb6-b4a4-0b16199dbb23'), AIMessage(content='', additional_kwargs={'tool_calls': [{'id': 'call_b9LkuBuQYbv72W0ziZ4EgNOi', 'function': {'arguments': '{\"query\":\"weather in Los Angeles\"}', 'name': 'tavily_search_results_json'}, 'type': 'function'}], 'refusal': None}, response_metadata={'token_usage': {'completion_tokens': 22, 'prompt_tokens': 152, 'total_tokens': 174, 'completion_tokens_details': {'accepted_prediction_tokens': 0, 'audio_tokens': 0, 'reasoning_tokens': 0, 'rejected_prediction_tokens': 0}, 'prompt_tokens_details': {'audio_tokens': 0, 'cached_tokens': 0}}, 'model_name': 'gpt-3.5-turbo-0125', 'system_fingerprint': None, 'finish_reason': 'tool_calls', 'logprobs': None}, id='run-b9e7ca4b-d426-4af3-b04d-daa3a397da0e-0', tool_calls=[{'name': 'tavily_search_results_json', 'args': {'query': 'current weather in LA, accuweather'}, 'id': 'call_b9LkuBuQYbv72W0ziZ4EgNOi'}], usage_metadata={'input_tokens': 152, 'output_tokens': 22, 'total_tokens': 174, 'input_token_details': {'audio': 0, 'cache_read': 0}, 'output_token_details': {'audio': 0, 'reasoning': 0}})]}\n"
          ]
        }
      ],
      "source": [
        "branch_state = abot.graph.update_state(to_replay.config, to_replay.values)"
      ],
      "id": "QQWT4oXDpa-Y"
    },
    {
      "cell_type": "code",
      "execution_count": 39,
      "id": "3d0ae2df",
      "metadata": {
        "colab": {
          "base_uri": "https://localhost:8080/"
        },
        "id": "3d0ae2df",
        "outputId": "68bec81a-3e4f-4814-db50-89d840544df4"
      },
      "outputs": [
        {
          "output_type": "stream",
          "name": "stdout",
          "text": [
            "Calling: {'name': 'tavily_search_results_json', 'args': {'query': 'current weather in LA, accuweather'}, 'id': 'call_b9LkuBuQYbv72W0ziZ4EgNOi', 'type': 'tool_call'}\n",
            "Back to the model!\n",
            "{'messages': [ToolMessage(content=\"[{'url': 'https://www.accuweather.com/en/us/los-angeles-ca/90012/current-weather/347625?lang=en-us&partner=web_scorebook_adc', 'content': 'Los Angeles, CA · Current Weather. 1:27 PM. 88°F. Sunny. RealFeel® 97°. Hot. RealFeel Guide. Hot. 90° to 100°. Caution advised.'}, {'url': 'https://www.accuweather.com/en/us/los-angeles-ca/90012/current-weather/37866_pc?lang=en-us&partner=web_stacksports_adc', 'content': 'Los Angeles, CA · Current Weather. 12:03 PM. 77°F. Sunny. RealFeel® 88°. Very Warm. RealFeel Guide. Very Warm. 82° to 89°. Older'}]\", name='tavily_search_results_json', id='416446be-a731-4cf0-a347-35bae9bd7056', tool_call_id='call_b9LkuBuQYbv72W0ziZ4EgNOi')]}\n",
            "{'messages': [HumanMessage(content='Whats the weather in LA?', additional_kwargs={}, response_metadata={}, id='c5e06892-6c69-4bb6-b4a4-0b16199dbb23'), AIMessage(content='', additional_kwargs={'tool_calls': [{'id': 'call_b9LkuBuQYbv72W0ziZ4EgNOi', 'function': {'arguments': '{\"query\":\"weather in Los Angeles\"}', 'name': 'tavily_search_results_json'}, 'type': 'function'}], 'refusal': None}, response_metadata={'token_usage': {'completion_tokens': 22, 'prompt_tokens': 152, 'total_tokens': 174, 'completion_tokens_details': {'accepted_prediction_tokens': 0, 'audio_tokens': 0, 'reasoning_tokens': 0, 'rejected_prediction_tokens': 0}, 'prompt_tokens_details': {'audio_tokens': 0, 'cached_tokens': 0}}, 'model_name': 'gpt-3.5-turbo-0125', 'system_fingerprint': None, 'finish_reason': 'tool_calls', 'logprobs': None}, id='run-b9e7ca4b-d426-4af3-b04d-daa3a397da0e-0', tool_calls=[{'name': 'tavily_search_results_json', 'args': {'query': 'current weather in LA, accuweather'}, 'id': 'call_b9LkuBuQYbv72W0ziZ4EgNOi', 'type': 'tool_call'}], usage_metadata={'input_tokens': 152, 'output_tokens': 22, 'total_tokens': 174, 'input_token_details': {'audio': 0, 'cache_read': 0}, 'output_token_details': {'audio': 0, 'reasoning': 0}}), ToolMessage(content=\"[{'url': 'https://www.accuweather.com/en/us/los-angeles-ca/90012/current-weather/347625?lang=en-us&partner=web_scorebook_adc', 'content': 'Los Angeles, CA · Current Weather. 1:27 PM. 88°F. Sunny. RealFeel® 97°. Hot. RealFeel Guide. Hot. 90° to 100°. Caution advised.'}, {'url': 'https://www.accuweather.com/en/us/los-angeles-ca/90012/current-weather/37866_pc?lang=en-us&partner=web_stacksports_adc', 'content': 'Los Angeles, CA · Current Weather. 12:03 PM. 77°F. Sunny. RealFeel® 88°. Very Warm. RealFeel Guide. Very Warm. 82° to 89°. Older'}]\", name='tavily_search_results_json', id='416446be-a731-4cf0-a347-35bae9bd7056', tool_call_id='call_b9LkuBuQYbv72W0ziZ4EgNOi'), AIMessage(content=\"The current weather in Los Angeles is 88°F with sunny conditions. It feels like 97°F, so it's quite hot.\", additional_kwargs={'refusal': None}, response_metadata={'token_usage': {'completion_tokens': 29, 'prompt_tokens': 376, 'total_tokens': 405, 'completion_tokens_details': {'accepted_prediction_tokens': 0, 'audio_tokens': 0, 'reasoning_tokens': 0, 'rejected_prediction_tokens': 0}, 'prompt_tokens_details': {'audio_tokens': 0, 'cached_tokens': 0}}, 'model_name': 'gpt-3.5-turbo-0125', 'system_fingerprint': None, 'finish_reason': 'stop', 'logprobs': None}, id='run-0e4c1553-69aa-456e-ab80-4b4f161b6396-0', usage_metadata={'input_tokens': 376, 'output_tokens': 29, 'total_tokens': 405, 'input_token_details': {'audio': 0, 'cache_read': 0}, 'output_token_details': {'audio': 0, 'reasoning': 0}})]}\n",
            "{'messages': [AIMessage(content=\"The current weather in Los Angeles is 88°F with sunny conditions. It feels like 97°F, so it's quite hot.\", additional_kwargs={'refusal': None}, response_metadata={'token_usage': {'completion_tokens': 29, 'prompt_tokens': 376, 'total_tokens': 405, 'completion_tokens_details': {'accepted_prediction_tokens': 0, 'audio_tokens': 0, 'reasoning_tokens': 0, 'rejected_prediction_tokens': 0}, 'prompt_tokens_details': {'audio_tokens': 0, 'cached_tokens': 0}}, 'model_name': 'gpt-3.5-turbo-0125', 'system_fingerprint': None, 'finish_reason': 'stop', 'logprobs': None}, id='run-0e4c1553-69aa-456e-ab80-4b4f161b6396-0', usage_metadata={'input_tokens': 376, 'output_tokens': 29, 'total_tokens': 405, 'input_token_details': {'audio': 0, 'cache_read': 0}, 'output_token_details': {'audio': 0, 'reasoning': 0}})]}\n"
          ]
        }
      ],
      "source": [
        "for event in abot.graph.stream(None, branch_state):\n",
        "    for k, v in event.items():\n",
        "        if k != \"__end__\":\n",
        "            print(v)"
      ]
    },
    {
      "cell_type": "markdown",
      "id": "81d2f55c",
      "metadata": {
        "id": "81d2f55c"
      },
      "source": [
        "## Add message to a state at a given time"
      ]
    },
    {
      "cell_type": "code",
      "execution_count": 40,
      "id": "8221b174",
      "metadata": {
        "colab": {
          "base_uri": "https://localhost:8080/"
        },
        "id": "8221b174",
        "outputId": "70bd3b3b-d0f9-46d5-bd5d-d655e6d886df"
      },
      "outputs": [
        {
          "output_type": "execute_result",
          "data": {
            "text/plain": [
              "StateSnapshot(values={'messages': [HumanMessage(content='Whats the weather in LA?', additional_kwargs={}, response_metadata={}, id='c5e06892-6c69-4bb6-b4a4-0b16199dbb23'), AIMessage(content='', additional_kwargs={'tool_calls': [{'id': 'call_b9LkuBuQYbv72W0ziZ4EgNOi', 'function': {'arguments': '{\"query\":\"weather in Los Angeles\"}', 'name': 'tavily_search_results_json'}, 'type': 'function'}], 'refusal': None}, response_metadata={'token_usage': {'completion_tokens': 22, 'prompt_tokens': 152, 'total_tokens': 174, 'completion_tokens_details': {'accepted_prediction_tokens': 0, 'audio_tokens': 0, 'reasoning_tokens': 0, 'rejected_prediction_tokens': 0}, 'prompt_tokens_details': {'audio_tokens': 0, 'cached_tokens': 0}}, 'model_name': 'gpt-3.5-turbo-0125', 'system_fingerprint': None, 'finish_reason': 'tool_calls', 'logprobs': None}, id='run-b9e7ca4b-d426-4af3-b04d-daa3a397da0e-0', tool_calls=[{'name': 'tavily_search_results_json', 'args': {'query': 'current weather in LA, accuweather'}, 'id': 'call_b9LkuBuQYbv72W0ziZ4EgNOi'}], usage_metadata={'input_tokens': 152, 'output_tokens': 22, 'total_tokens': 174, 'input_token_details': {'audio': 0, 'cache_read': 0}, 'output_token_details': {'audio': 0, 'reasoning': 0}})]}, next=('action',), config={'configurable': {'thread_id': '3', 'checkpoint_ns': '', 'checkpoint_id': '1f02e277-38a7-61f4-8001-fa13a99caf96'}}, metadata={'source': 'loop', 'writes': {'llm': {'messages': [AIMessage(content='', additional_kwargs={'tool_calls': [{'id': 'call_b9LkuBuQYbv72W0ziZ4EgNOi', 'function': {'arguments': '{\"query\":\"weather in Los Angeles\"}', 'name': 'tavily_search_results_json'}, 'type': 'function'}], 'refusal': None}, response_metadata={'token_usage': {'completion_tokens': 22, 'prompt_tokens': 152, 'total_tokens': 174, 'completion_tokens_details': {'accepted_prediction_tokens': 0, 'audio_tokens': 0, 'reasoning_tokens': 0, 'rejected_prediction_tokens': 0}, 'prompt_tokens_details': {'audio_tokens': 0, 'cached_tokens': 0}}, 'model_name': 'gpt-3.5-turbo-0125', 'system_fingerprint': None, 'finish_reason': 'tool_calls', 'logprobs': None}, id='run-b9e7ca4b-d426-4af3-b04d-daa3a397da0e-0', tool_calls=[{'name': 'tavily_search_results_json', 'args': {'query': 'weather in Los Angeles'}, 'id': 'call_b9LkuBuQYbv72W0ziZ4EgNOi', 'type': 'tool_call'}], usage_metadata={'input_tokens': 152, 'output_tokens': 22, 'total_tokens': 174, 'input_token_details': {'audio': 0, 'cache_read': 0}, 'output_token_details': {'audio': 0, 'reasoning': 0}})]}}, 'thread_id': '3', 'step': 1, 'parents': {}}, created_at='2025-05-11T05:19:02.554059+00:00', parent_config={'configurable': {'thread_id': '3', 'checkpoint_ns': '', 'checkpoint_id': '1f02e277-31c1-6100-8000-ac1fd30a1509'}}, tasks=(PregelTask(id='02b60dbe-e262-0c4c-9232-b259acf00aaa', name='action', path=('__pregel_pull', 'action'), error=None, interrupts=(), state=None, result=None),))"
            ]
          },
          "metadata": {},
          "execution_count": 40
        }
      ],
      "source": [
        "to_replay"
      ]
    },
    {
      "cell_type": "code",
      "execution_count": 41,
      "metadata": {
        "id": "gj5z6sHLpa-b"
      },
      "outputs": [],
      "source": [
        "_id = to_replay.values['messages'][-1].tool_calls[0]['id']"
      ],
      "id": "gj5z6sHLpa-b"
    },
    {
      "cell_type": "code",
      "execution_count": 42,
      "metadata": {
        "id": "OHIoJiybpa-c"
      },
      "outputs": [],
      "source": [
        "state_update = {\"messages\": [ToolMessage(\n",
        "    tool_call_id=_id,\n",
        "    name=\"tavily_search_results_json\",\n",
        "    content=\"54 degree celcius\",\n",
        ")]}"
      ],
      "id": "OHIoJiybpa-c"
    },
    {
      "cell_type": "code",
      "execution_count": 43,
      "id": "3cbe8195",
      "metadata": {
        "id": "3cbe8195"
      },
      "outputs": [],
      "source": [
        "branch_and_add = abot.graph.update_state(\n",
        "    to_replay.config,\n",
        "    state_update,\n",
        "    as_node=\"action\")"
      ]
    },
    {
      "cell_type": "code",
      "execution_count": 44,
      "metadata": {
        "colab": {
          "base_uri": "https://localhost:8080/"
        },
        "id": "W-SSJUXVpa-d",
        "outputId": "cbe5498e-ec65-4e83-9df8-817af13d65a3"
      },
      "outputs": [
        {
          "output_type": "stream",
          "name": "stdout",
          "text": [
            "{'messages': [HumanMessage(content='Whats the weather in LA?', additional_kwargs={}, response_metadata={}, id='c5e06892-6c69-4bb6-b4a4-0b16199dbb23'), AIMessage(content='', additional_kwargs={'tool_calls': [{'id': 'call_b9LkuBuQYbv72W0ziZ4EgNOi', 'function': {'arguments': '{\"query\":\"weather in Los Angeles\"}', 'name': 'tavily_search_results_json'}, 'type': 'function'}], 'refusal': None}, response_metadata={'token_usage': {'completion_tokens': 22, 'prompt_tokens': 152, 'total_tokens': 174, 'completion_tokens_details': {'accepted_prediction_tokens': 0, 'audio_tokens': 0, 'reasoning_tokens': 0, 'rejected_prediction_tokens': 0}, 'prompt_tokens_details': {'audio_tokens': 0, 'cached_tokens': 0}}, 'model_name': 'gpt-3.5-turbo-0125', 'system_fingerprint': None, 'finish_reason': 'tool_calls', 'logprobs': None}, id='run-b9e7ca4b-d426-4af3-b04d-daa3a397da0e-0', tool_calls=[{'name': 'tavily_search_results_json', 'args': {'query': 'weather in Los Angeles'}, 'id': 'call_b9LkuBuQYbv72W0ziZ4EgNOi', 'type': 'tool_call'}], usage_metadata={'input_tokens': 152, 'output_tokens': 22, 'total_tokens': 174, 'input_token_details': {'audio': 0, 'cache_read': 0}, 'output_token_details': {'audio': 0, 'reasoning': 0}}), ToolMessage(content='54 degree celcius', name='tavily_search_results_json', id='cbeb5c39-8515-4a05-b44b-4d7678ed029b', tool_call_id='call_b9LkuBuQYbv72W0ziZ4EgNOi'), AIMessage(content='The current temperature in Los Angeles is 54 degrees Celsius.', additional_kwargs={'refusal': None}, response_metadata={'token_usage': {'completion_tokens': 14, 'prompt_tokens': 190, 'total_tokens': 204, 'completion_tokens_details': {'accepted_prediction_tokens': 0, 'audio_tokens': 0, 'reasoning_tokens': 0, 'rejected_prediction_tokens': 0}, 'prompt_tokens_details': {'audio_tokens': 0, 'cached_tokens': 0}}, 'model_name': 'gpt-3.5-turbo-0125', 'system_fingerprint': None, 'finish_reason': 'stop', 'logprobs': None}, id='run-407dbc18-8696-40f2-8fe0-0bad3603c0f4-0', usage_metadata={'input_tokens': 190, 'output_tokens': 14, 'total_tokens': 204, 'input_token_details': {'audio': 0, 'cache_read': 0}, 'output_token_details': {'audio': 0, 'reasoning': 0}})]}\n",
            "{'messages': [AIMessage(content='The current temperature in Los Angeles is 54 degrees Celsius.', additional_kwargs={'refusal': None}, response_metadata={'token_usage': {'completion_tokens': 14, 'prompt_tokens': 190, 'total_tokens': 204, 'completion_tokens_details': {'accepted_prediction_tokens': 0, 'audio_tokens': 0, 'reasoning_tokens': 0, 'rejected_prediction_tokens': 0}, 'prompt_tokens_details': {'audio_tokens': 0, 'cached_tokens': 0}}, 'model_name': 'gpt-3.5-turbo-0125', 'system_fingerprint': None, 'finish_reason': 'stop', 'logprobs': None}, id='run-407dbc18-8696-40f2-8fe0-0bad3603c0f4-0', usage_metadata={'input_tokens': 190, 'output_tokens': 14, 'total_tokens': 204, 'input_token_details': {'audio': 0, 'cache_read': 0}, 'output_token_details': {'audio': 0, 'reasoning': 0}})]}\n"
          ]
        }
      ],
      "source": [
        "for event in abot.graph.stream(None, branch_and_add):\n",
        "    for k, v in event.items():\n",
        "        print(v)"
      ],
      "id": "W-SSJUXVpa-d"
    },
    {
      "cell_type": "markdown",
      "id": "de88e640",
      "metadata": {
        "id": "de88e640"
      },
      "source": [
        "# Extra Practice"
      ]
    },
    {
      "cell_type": "markdown",
      "id": "9db763ab",
      "metadata": {
        "id": "9db763ab"
      },
      "source": [
        "## Build a small graph\n",
        "This is a small simple graph you can tinker with if you want more insight into controlling state memory."
      ]
    },
    {
      "cell_type": "code",
      "execution_count": 45,
      "id": "14f6ea30",
      "metadata": {
        "id": "14f6ea30"
      },
      "outputs": [],
      "source": [
        "from langgraph.graph import StateGraph, END\n",
        "from typing import TypedDict, Annotated\n",
        "import operator\n",
        "from langgraph.checkpoint.sqlite import SqliteSaver"
      ]
    },
    {
      "cell_type": "markdown",
      "id": "19ccfe67",
      "metadata": {
        "id": "19ccfe67"
      },
      "source": [
        "Define a simple 2 node graph with the following state:\n",
        "-`lnode`: last node\n",
        "-`scratch`: a scratchpad location\n",
        "-`count` : a counter that is incremented each step"
      ]
    },
    {
      "cell_type": "code",
      "execution_count": 46,
      "id": "745fb9c3",
      "metadata": {
        "id": "745fb9c3"
      },
      "outputs": [],
      "source": [
        "class AgentState(TypedDict):\n",
        "    lnode: str\n",
        "    scratch: str\n",
        "    count: Annotated[int, operator.add]"
      ]
    },
    {
      "cell_type": "code",
      "execution_count": 47,
      "id": "126f37d2",
      "metadata": {
        "id": "126f37d2"
      },
      "outputs": [],
      "source": [
        "def node1(state: AgentState):\n",
        "    print(f\"node1, count:{state['count']}\")\n",
        "    return {\"lnode\": \"node_1\",\n",
        "            \"count\": 1,\n",
        "           }\n",
        "def node2(state: AgentState):\n",
        "    print(f\"node2, count:{state['count']}\")\n",
        "    return {\"lnode\": \"node_2\",\n",
        "            \"count\": 1,\n",
        "           }"
      ]
    },
    {
      "cell_type": "markdown",
      "id": "7d2bb023",
      "metadata": {
        "id": "7d2bb023"
      },
      "source": [
        "The graph goes N1->N2->N1... but breaks after count reaches 3."
      ]
    },
    {
      "cell_type": "code",
      "execution_count": 48,
      "id": "3117d06e",
      "metadata": {
        "id": "3117d06e"
      },
      "outputs": [],
      "source": [
        "def should_continue(state):\n",
        "    return state[\"count\"] < 3"
      ]
    },
    {
      "cell_type": "code",
      "execution_count": 55,
      "id": "794c086f",
      "metadata": {
        "id": "794c086f"
      },
      "outputs": [],
      "source": [
        "builder = StateGraph(AgentState)\n",
        "builder.add_node(\"Node1\", node1)\n",
        "builder.add_node(\"Node2\", node2)\n",
        "\n",
        "builder.add_edge(\"Node1\", \"Node2\")\n",
        "builder.add_conditional_edges(\"Node2\",\n",
        "                              should_continue,\n",
        "                              {True: \"Node1\", False: END})\n",
        "builder.set_entry_point(\"Node1\")\n",
        "graph = builder.compile(checkpointer=memory) # assign the compiled graph to the variable 'graph'\n"
      ]
    },
    {
      "cell_type": "markdown",
      "id": "441e395d",
      "metadata": {
        "id": "441e395d"
      },
      "source": [
        "### Run it!\n",
        "Now, set the thread and run!"
      ]
    },
    {
      "cell_type": "code",
      "execution_count": 56,
      "id": "13423b00",
      "metadata": {
        "colab": {
          "base_uri": "https://localhost:8080/"
        },
        "id": "13423b00",
        "outputId": "d21ec0d4-b01b-499e-e97a-0121e44f42a6"
      },
      "outputs": [
        {
          "output_type": "stream",
          "name": "stdout",
          "text": [
            "node1, count:0\n",
            "node2, count:1\n",
            "node1, count:2\n",
            "node2, count:3\n"
          ]
        },
        {
          "output_type": "execute_result",
          "data": {
            "text/plain": [
              "{'lnode': 'node_2', 'scratch': 'hi', 'count': 4}"
            ]
          },
          "metadata": {},
          "execution_count": 56
        }
      ],
      "source": [
        "thread = {\"configurable\": {\"thread_id\": str(1)}}\n",
        "graph.invoke({\"count\":0, \"scratch\":\"hi\"},thread)"
      ]
    },
    {
      "cell_type": "markdown",
      "id": "90f64a35",
      "metadata": {
        "id": "90f64a35"
      },
      "source": [
        "### Look at current state"
      ]
    },
    {
      "cell_type": "markdown",
      "id": "1383212d",
      "metadata": {
        "id": "1383212d"
      },
      "source": [
        "Get the current state. Note the `values` which are the AgentState. Note the `config` and the `thread_ts`. You will be using those to refer to snapshots below."
      ]
    },
    {
      "cell_type": "code",
      "execution_count": 57,
      "id": "d723b745",
      "metadata": {
        "colab": {
          "base_uri": "https://localhost:8080/"
        },
        "id": "d723b745",
        "outputId": "82c1b989-b7a9-4d23-f9ef-c6393c0882d8"
      },
      "outputs": [
        {
          "output_type": "execute_result",
          "data": {
            "text/plain": [
              "StateSnapshot(values={'lnode': 'node_2', 'scratch': 'hi', 'count': 4}, next=(), config={'configurable': {'thread_id': '1', 'checkpoint_ns': '', 'checkpoint_id': '1f02e27b-7b9a-6e64-8009-5d80d7fb1f89'}}, metadata={'source': 'loop', 'writes': {'Node2': {'lnode': 'node_2', 'count': 1}}, 'thread_id': '1', 'step': 9, 'parents': {}}, created_at='2025-05-11T05:20:56.948694+00:00', parent_config={'configurable': {'thread_id': '1', 'checkpoint_ns': '', 'checkpoint_id': '1f02e27b-7b8c-6243-8008-d64d8fc64426'}}, tasks=())"
            ]
          },
          "metadata": {},
          "execution_count": 57
        }
      ],
      "source": [
        "graph.get_state(thread)"
      ]
    },
    {
      "cell_type": "markdown",
      "id": "ec73efab",
      "metadata": {
        "id": "ec73efab"
      },
      "source": [
        "View all the statesnapshots in memory. You can use the displayed `count` agentstate variable to help track what you see. Notice the most recent snapshots are returned by the iterator first. Also note that there is a handy `step` variable in the metadata that counts the number of steps in the graph execution. This is a bit detailed - but you can also notice that the *parent_config* is the *config* of the previous node. At initial startup, additional states are inserted into memory to create a parent. This is something to check when you branch or *time travel* below."
      ]
    },
    {
      "cell_type": "markdown",
      "id": "87f9301d",
      "metadata": {
        "id": "87f9301d"
      },
      "source": [
        "### Look at state history"
      ]
    },
    {
      "cell_type": "code",
      "execution_count": 58,
      "id": "0711ad19",
      "metadata": {
        "colab": {
          "base_uri": "https://localhost:8080/"
        },
        "id": "0711ad19",
        "outputId": "74c852de-6a27-4ad7-8b92-75068d0818b1"
      },
      "outputs": [
        {
          "output_type": "stream",
          "name": "stdout",
          "text": [
            "StateSnapshot(values={'lnode': 'node_2', 'scratch': 'hi', 'count': 4}, next=(), config={'configurable': {'thread_id': '1', 'checkpoint_ns': '', 'checkpoint_id': '1f02e27b-7b9a-6e64-8009-5d80d7fb1f89'}}, metadata={'source': 'loop', 'writes': {'Node2': {'lnode': 'node_2', 'count': 1}}, 'thread_id': '1', 'step': 9, 'parents': {}}, created_at='2025-05-11T05:20:56.948694+00:00', parent_config={'configurable': {'thread_id': '1', 'checkpoint_ns': '', 'checkpoint_id': '1f02e27b-7b8c-6243-8008-d64d8fc64426'}}, tasks=()) \n",
            "\n",
            "StateSnapshot(values={'lnode': 'node_1', 'scratch': 'hi', 'count': 3}, next=('Node2',), config={'configurable': {'thread_id': '1', 'checkpoint_ns': '', 'checkpoint_id': '1f02e27b-7b8c-6243-8008-d64d8fc64426'}}, metadata={'source': 'loop', 'writes': {'Node1': {'lnode': 'node_1', 'count': 1}}, 'thread_id': '1', 'step': 8, 'parents': {}}, created_at='2025-05-11T05:20:56.942649+00:00', parent_config={'configurable': {'thread_id': '1', 'checkpoint_ns': '', 'checkpoint_id': '1f02e27b-7b87-6346-8007-675043b27afb'}}, tasks=(PregelTask(id='9c26f751-23a3-fb4f-5ccf-b95ad581913e', name='Node2', path=('__pregel_pull', 'Node2'), error=None, interrupts=(), state=None, result={'lnode': 'node_2', 'count': 1}),)) \n",
            "\n",
            "StateSnapshot(values={'lnode': 'node_2', 'scratch': 'hi', 'count': 2}, next=('Node1',), config={'configurable': {'thread_id': '1', 'checkpoint_ns': '', 'checkpoint_id': '1f02e27b-7b87-6346-8007-675043b27afb'}}, metadata={'source': 'loop', 'writes': {'Node2': {'lnode': 'node_2', 'count': 1}}, 'thread_id': '1', 'step': 7, 'parents': {}}, created_at='2025-05-11T05:20:56.940627+00:00', parent_config={'configurable': {'thread_id': '1', 'checkpoint_ns': '', 'checkpoint_id': '1f02e27b-7b73-617b-8006-09bdff3d31a7'}}, tasks=(PregelTask(id='c6f2ab88-c5aa-a7f5-5ba7-230caa41ff5d', name='Node1', path=('__pregel_pull', 'Node1'), error=None, interrupts=(), state=None, result={'lnode': 'node_1', 'count': 1}),)) \n",
            "\n",
            "StateSnapshot(values={'lnode': 'node_1', 'scratch': 'hi', 'count': 1}, next=('Node2',), config={'configurable': {'thread_id': '1', 'checkpoint_ns': '', 'checkpoint_id': '1f02e27b-7b73-617b-8006-09bdff3d31a7'}}, metadata={'source': 'loop', 'writes': {'Node1': {'lnode': 'node_1', 'count': 1}}, 'thread_id': '1', 'step': 6, 'parents': {}}, created_at='2025-05-11T05:20:56.932389+00:00', parent_config={'configurable': {'thread_id': '1', 'checkpoint_ns': '', 'checkpoint_id': '1f02e27b-7b66-6f41-8005-76796bf016fa'}}, tasks=(PregelTask(id='50c13842-9382-e39c-c406-65066f9dbe34', name='Node2', path=('__pregel_pull', 'Node2'), error=None, interrupts=(), state=None, result={'lnode': 'node_2', 'count': 1}),)) \n",
            "\n",
            "StateSnapshot(values={'scratch': 'hi', 'count': 0}, next=('Node1',), config={'configurable': {'thread_id': '1', 'checkpoint_ns': '', 'checkpoint_id': '1f02e27b-7b66-6f41-8005-76796bf016fa'}}, metadata={'source': 'loop', 'writes': None, 'thread_id': '1', 'step': 5, 'parents': {}}, created_at='2025-05-11T05:20:56.927417+00:00', parent_config={'configurable': {'thread_id': '1', 'checkpoint_ns': '', 'checkpoint_id': '1f02e27b-7b4b-665d-8004-9fa2b1c59d02'}}, tasks=(PregelTask(id='ff091bbd-1547-27d4-ffc1-153b6d670180', name='Node1', path=('__pregel_pull', 'Node1'), error=None, interrupts=(), state=None, result={'lnode': 'node_1', 'count': 1}),)) \n",
            "\n",
            "StateSnapshot(values={'count': 0}, next=('__start__',), config={'configurable': {'thread_id': '1', 'checkpoint_ns': '', 'checkpoint_id': '1f02e27b-7b4b-665d-8004-9fa2b1c59d02'}}, metadata={'source': 'input', 'writes': {'__start__': {'count': 0, 'scratch': 'hi'}}, 'thread_id': '1', 'step': 4, 'parents': {}}, created_at='2025-05-11T05:20:56.915245+00:00', parent_config={'configurable': {'thread_id': '1', 'checkpoint_ns': '', 'checkpoint_id': '1f02e276-e68a-619e-8003-d0e955d0842d'}}, tasks=(PregelTask(id='44b1f72b-6cd5-07d1-9e5c-c43dce2f7108', name='__start__', path=('__pregel_pull', '__start__'), error=None, interrupts=(), state=None, result={'count': 0, 'scratch': 'hi'}),)) \n",
            "\n",
            "StateSnapshot(values={'count': 0}, next=(), config={'configurable': {'thread_id': '1', 'checkpoint_ns': '', 'checkpoint_id': '1f02e276-e68a-619e-8003-d0e955d0842d'}}, metadata={'source': 'loop', 'writes': {'llm': {'messages': [AIMessage(content='The current weather in San Francisco is partly cloudy with a temperature of 57.0°F. The wind speed is 14.8 km/h coming from the west. The humidity is at 67% with a visibility of 9.0 miles.', additional_kwargs={'refusal': None}, response_metadata={'token_usage': {'completion_tokens': 53, 'prompt_tokens': 1024, 'total_tokens': 1077, 'completion_tokens_details': {'accepted_prediction_tokens': 0, 'audio_tokens': 0, 'reasoning_tokens': 0, 'rejected_prediction_tokens': 0}, 'prompt_tokens_details': {'audio_tokens': 0, 'cached_tokens': 0}}, 'model_name': 'gpt-3.5-turbo-0125', 'system_fingerprint': None, 'finish_reason': 'stop', 'logprobs': None}, id='run-56ca98a5-70a9-4236-b234-c6dbe4fe9f4c-0', usage_metadata={'input_tokens': 1024, 'output_tokens': 53, 'total_tokens': 1077, 'input_token_details': {'audio': 0, 'cache_read': 0}, 'output_token_details': {'audio': 0, 'reasoning': 0}})]}}, 'thread_id': '1', 'step': 3, 'parents': {}}, created_at='2025-05-11T05:18:53.943849+00:00', parent_config={'configurable': {'thread_id': '1', 'checkpoint_ns': '', 'checkpoint_id': '1f02e276-d608-6e0e-8002-9901352c2d56'}}, tasks=()) \n",
            "\n",
            "StateSnapshot(values={'count': 0}, next=(), config={'configurable': {'thread_id': '1', 'checkpoint_ns': '', 'checkpoint_id': '1f02e276-d608-6e0e-8002-9901352c2d56'}}, metadata={'source': 'loop', 'writes': {'action': {'messages': [ToolMessage(content='[{\\'url\\': \\'https://world-weather.info/forecast/usa/san_francisco/may-2025/\\', \\'content\\': \"Weather in San Francisco in May 2025\\\\n\\\\nSan Francisco Weather Forecast for May 2025 is based on long term prognosis and previous years\\' statistical data.\\\\n\\\\nMay\\\\n\\\\n+52°\\\\n\\\\n+52°\\\\n\\\\n+52°\\\\n\\\\n+50°\\\\n\\\\n+57°\\\\n\\\\n+55°\\\\n\\\\n+54°\\\\n\\\\n+50°\\\\n\\\\n+52°\\\\n\\\\n+54°\\\\n\\\\n+52°\\\\n\\\\n+54°\\\\n\\\\n+52°\\\\n\\\\n+50°\\\\n\\\\n+50°\\\\n\\\\n+52°\\\\n\\\\n+52°\\\\n\\\\n+50°\\\\n\\\\n+50°\\\\n\\\\n+52°\\\\n\\\\n+54°\\\\n\\\\n+55°\\\\n\\\\n+54°\\\\n\\\\n+54°\\\\n\\\\n+57°\\\\n\\\\n+55°\\\\n\\\\n+55°\\\\n\\\\n+57°\\\\n\\\\n+55°\\\\n\\\\n+55°\\\\n\\\\n+55°\\\\n\\\\nExtended weather forecast in San Francisco\\\\n\\\\nWeather in large and nearby cities\\\\n\\\\nWeather in Washington, D.C.+59°\\\\n\\\\nSacramento+72°\\\\n\\\\nPleasanton+61° [...] Redwood City+59°\\\\n\\\\nSan Leandro+57°\\\\n\\\\nSan Mateo+59°\\\\n\\\\nSan Rafael+59°\\\\n\\\\nSan Ramon+57°\\\\n\\\\nSouth San Francisco+55°\\\\n\\\\nVallejo+61°\\\\n\\\\nPalo Alto+63°\\\\n\\\\nPacifica+52°\\\\n\\\\nBerkeley+57°\\\\n\\\\nCastro Valley+57°\\\\n\\\\nConcord+68°\\\\n\\\\nDaly City+54°\\\\n\\\\nEscalle+59°\\\\n\\\\nSunshine Gardens+55°\"}, {\\'url\\': \\'https://www.weatherapi.com/\\', \\'content\\': \"{\\'location\\': {\\'name\\': \\'San Francisco\\', \\'region\\': \\'California\\', \\'country\\': \\'United States of America\\', \\'lat\\': 37.775, \\'lon\\': -122.4183, \\'tz_id\\': \\'America/Los_Angeles\\', \\'localtime_epoch\\': 1746940726, \\'localtime\\': \\'2025-05-10 22:18\\'}, \\'current\\': {\\'last_updated_epoch\\': 1746940500, \\'last_updated\\': \\'2025-05-10 22:15\\', \\'temp_c\\': 13.9, \\'temp_f\\': 57.0, \\'is_day\\': 0, \\'condition\\': {\\'text\\': \\'Partly Cloudy\\', \\'icon\\': \\'//cdn.weatherapi.com/weather/64x64/night/116.png\\', \\'code\\': 1003}, \\'wind_mph\\': 9.2, \\'wind_kph\\': 14.8, \\'wind_degree\\': 264, \\'wind_dir\\': \\'W\\', \\'pressure_mb\\': 1015.0, \\'pressure_in\\': 29.97, \\'precip_mm\\': 0.0, \\'precip_in\\': 0.0, \\'humidity\\': 67, \\'cloud\\': 25, \\'feelslike_c\\': 12.8, \\'feelslike_f\\': 55.0, \\'windchill_c\\': 9.8, \\'windchill_f\\': 49.6, \\'heatindex_c\\': 11.4, \\'heatindex_f\\': 52.5, \\'dewpoint_c\\': 9.7, \\'dewpoint_f\\': 49.5, \\'vis_km\\': 16.0, \\'vis_miles\\': 9.0, \\'uv\\': 0.0, \\'gust_mph\\': 15.6, \\'gust_kph\\': 25.1}}\"}]', name='tavily_search_results_json', id='e168004b-3f8f-4d47-9313-8915f09f9f85', tool_call_id='call_OtUJChDDhTdaZNupJSoebBcz')]}}, 'thread_id': '1', 'step': 2, 'parents': {}}, created_at='2025-05-11T05:18:52.213198+00:00', parent_config={'configurable': {'thread_id': '1', 'checkpoint_ns': '', 'checkpoint_id': '1f02e276-8808-63bd-8001-2967f4702b9e'}}, tasks=()) \n",
            "\n",
            "StateSnapshot(values={'count': 0}, next=(), config={'configurable': {'thread_id': '1', 'checkpoint_ns': '', 'checkpoint_id': '1f02e276-8808-63bd-8001-2967f4702b9e'}}, metadata={'source': 'loop', 'writes': {'llm': {'messages': [AIMessage(content='', additional_kwargs={'tool_calls': [{'id': 'call_OtUJChDDhTdaZNupJSoebBcz', 'function': {'arguments': '{\"query\":\"current weather in San Francisco\"}', 'name': 'tavily_search_results_json'}, 'type': 'function'}], 'refusal': None}, response_metadata={'token_usage': {'completion_tokens': 23, 'prompt_tokens': 152, 'total_tokens': 175, 'completion_tokens_details': {'accepted_prediction_tokens': 0, 'audio_tokens': 0, 'reasoning_tokens': 0, 'rejected_prediction_tokens': 0}, 'prompt_tokens_details': {'audio_tokens': 0, 'cached_tokens': 0}}, 'model_name': 'gpt-3.5-turbo-0125', 'system_fingerprint': None, 'finish_reason': 'tool_calls', 'logprobs': None}, id='run-f0cce6cf-6b50-4cfc-adfc-0c86e82710ae-0', tool_calls=[{'name': 'tavily_search_results_json', 'args': {'query': 'current weather in San Francisco'}, 'id': 'call_OtUJChDDhTdaZNupJSoebBcz', 'type': 'tool_call'}], usage_metadata={'input_tokens': 152, 'output_tokens': 23, 'total_tokens': 175, 'input_token_details': {'audio': 0, 'cache_read': 0}, 'output_token_details': {'audio': 0, 'reasoning': 0}})]}}, 'thread_id': '1', 'step': 1, 'parents': {}}, created_at='2025-05-11T05:18:44.034041+00:00', parent_config={'configurable': {'thread_id': '1', 'checkpoint_ns': '', 'checkpoint_id': '1f02e276-7805-66fc-8000-a17a4461b4a4'}}, tasks=()) \n",
            "\n",
            "StateSnapshot(values={'count': 0}, next=(), config={'configurable': {'thread_id': '1', 'checkpoint_ns': '', 'checkpoint_id': '1f02e276-7805-66fc-8000-a17a4461b4a4'}}, metadata={'source': 'loop', 'writes': None, 'thread_id': '1', 'step': 0, 'parents': {}}, created_at='2025-05-11T05:18:42.355174+00:00', parent_config={'configurable': {'thread_id': '1', 'checkpoint_ns': '', 'checkpoint_id': '1f02e276-77f1-6293-bfff-4319eabf5d2e'}}, tasks=()) \n",
            "\n",
            "StateSnapshot(values={'count': 0}, next=('__start__',), config={'configurable': {'thread_id': '1', 'checkpoint_ns': '', 'checkpoint_id': '1f02e276-77f1-6293-bfff-4319eabf5d2e'}}, metadata={'source': 'input', 'writes': {'__start__': {'messages': [HumanMessage(content='Whats the weather in SF?', additional_kwargs={}, response_metadata={})]}}, 'thread_id': '1', 'step': -1, 'parents': {}}, created_at='2025-05-11T05:18:42.346869+00:00', parent_config=None, tasks=(PregelTask(id='8a973422-d4e2-8a1d-42f2-7af3d32f6306', name='__start__', path=('__pregel_pull', '__start__'), error=None, interrupts=(), state=None, result={}),)) \n",
            "\n"
          ]
        }
      ],
      "source": [
        "for state in graph.get_state_history(thread):\n",
        "    print(state, \"\\n\")"
      ]
    },
    {
      "cell_type": "markdown",
      "id": "9a972fb8",
      "metadata": {
        "id": "9a972fb8"
      },
      "source": [
        "Store just the `config` into an list. Note the sequence of counts on the right. `get_state_history` returns the most recent snapshots first."
      ]
    },
    {
      "cell_type": "code",
      "execution_count": 59,
      "id": "a74ec7de",
      "metadata": {
        "colab": {
          "base_uri": "https://localhost:8080/"
        },
        "id": "a74ec7de",
        "outputId": "8fcb740c-8244-48ab-a56a-37e1f50fc7ff"
      },
      "outputs": [
        {
          "output_type": "stream",
          "name": "stdout",
          "text": [
            "{'configurable': {'thread_id': '1', 'checkpoint_ns': '', 'checkpoint_id': '1f02e27b-7b9a-6e64-8009-5d80d7fb1f89'}} 4\n",
            "{'configurable': {'thread_id': '1', 'checkpoint_ns': '', 'checkpoint_id': '1f02e27b-7b8c-6243-8008-d64d8fc64426'}} 3\n",
            "{'configurable': {'thread_id': '1', 'checkpoint_ns': '', 'checkpoint_id': '1f02e27b-7b87-6346-8007-675043b27afb'}} 2\n",
            "{'configurable': {'thread_id': '1', 'checkpoint_ns': '', 'checkpoint_id': '1f02e27b-7b73-617b-8006-09bdff3d31a7'}} 1\n",
            "{'configurable': {'thread_id': '1', 'checkpoint_ns': '', 'checkpoint_id': '1f02e27b-7b66-6f41-8005-76796bf016fa'}} 0\n",
            "{'configurable': {'thread_id': '1', 'checkpoint_ns': '', 'checkpoint_id': '1f02e27b-7b4b-665d-8004-9fa2b1c59d02'}} 0\n",
            "{'configurable': {'thread_id': '1', 'checkpoint_ns': '', 'checkpoint_id': '1f02e276-e68a-619e-8003-d0e955d0842d'}} 0\n",
            "{'configurable': {'thread_id': '1', 'checkpoint_ns': '', 'checkpoint_id': '1f02e276-d608-6e0e-8002-9901352c2d56'}} 0\n",
            "{'configurable': {'thread_id': '1', 'checkpoint_ns': '', 'checkpoint_id': '1f02e276-8808-63bd-8001-2967f4702b9e'}} 0\n",
            "{'configurable': {'thread_id': '1', 'checkpoint_ns': '', 'checkpoint_id': '1f02e276-7805-66fc-8000-a17a4461b4a4'}} 0\n",
            "{'configurable': {'thread_id': '1', 'checkpoint_ns': '', 'checkpoint_id': '1f02e276-77f1-6293-bfff-4319eabf5d2e'}} 0\n"
          ]
        }
      ],
      "source": [
        "states = []\n",
        "for state in graph.get_state_history(thread):\n",
        "    states.append(state.config)\n",
        "    print(state.config, state.values['count'])"
      ]
    },
    {
      "cell_type": "markdown",
      "id": "1749da71",
      "metadata": {
        "id": "1749da71"
      },
      "source": [
        "Grab an early state."
      ]
    },
    {
      "cell_type": "code",
      "execution_count": 60,
      "id": "d6618bcc",
      "metadata": {
        "colab": {
          "base_uri": "https://localhost:8080/"
        },
        "id": "d6618bcc",
        "outputId": "63845a87-c3b9-4c97-e246-e21bfd1b1e2f"
      },
      "outputs": [
        {
          "output_type": "execute_result",
          "data": {
            "text/plain": [
              "{'configurable': {'thread_id': '1',\n",
              "  'checkpoint_ns': '',\n",
              "  'checkpoint_id': '1f02e276-8808-63bd-8001-2967f4702b9e'}}"
            ]
          },
          "metadata": {},
          "execution_count": 60
        }
      ],
      "source": [
        "states[-3]"
      ]
    },
    {
      "cell_type": "markdown",
      "id": "2102db5d",
      "metadata": {
        "id": "2102db5d"
      },
      "source": [
        "This is the state after Node1 completed for the first time. Note `next` is `Node2`and `count` is 1."
      ]
    },
    {
      "cell_type": "code",
      "execution_count": 61,
      "id": "6581c5bb",
      "metadata": {
        "colab": {
          "base_uri": "https://localhost:8080/"
        },
        "id": "6581c5bb",
        "outputId": "72eec1a5-5c41-4a1e-ce5d-94c880906908"
      },
      "outputs": [
        {
          "output_type": "execute_result",
          "data": {
            "text/plain": [
              "StateSnapshot(values={'count': 0}, next=(), config={'configurable': {'thread_id': '1', 'checkpoint_ns': '', 'checkpoint_id': '1f02e276-8808-63bd-8001-2967f4702b9e'}}, metadata={'source': 'loop', 'writes': {'llm': {'messages': [AIMessage(content='', additional_kwargs={'tool_calls': [{'id': 'call_OtUJChDDhTdaZNupJSoebBcz', 'function': {'arguments': '{\"query\":\"current weather in San Francisco\"}', 'name': 'tavily_search_results_json'}, 'type': 'function'}], 'refusal': None}, response_metadata={'token_usage': {'completion_tokens': 23, 'prompt_tokens': 152, 'total_tokens': 175, 'completion_tokens_details': {'accepted_prediction_tokens': 0, 'audio_tokens': 0, 'reasoning_tokens': 0, 'rejected_prediction_tokens': 0}, 'prompt_tokens_details': {'audio_tokens': 0, 'cached_tokens': 0}}, 'model_name': 'gpt-3.5-turbo-0125', 'system_fingerprint': None, 'finish_reason': 'tool_calls', 'logprobs': None}, id='run-f0cce6cf-6b50-4cfc-adfc-0c86e82710ae-0', tool_calls=[{'name': 'tavily_search_results_json', 'args': {'query': 'current weather in San Francisco'}, 'id': 'call_OtUJChDDhTdaZNupJSoebBcz', 'type': 'tool_call'}], usage_metadata={'input_tokens': 152, 'output_tokens': 23, 'total_tokens': 175, 'input_token_details': {'audio': 0, 'cache_read': 0}, 'output_token_details': {'audio': 0, 'reasoning': 0}})]}}, 'thread_id': '1', 'step': 1, 'parents': {}}, created_at='2025-05-11T05:18:44.034041+00:00', parent_config={'configurable': {'thread_id': '1', 'checkpoint_ns': '', 'checkpoint_id': '1f02e276-7805-66fc-8000-a17a4461b4a4'}}, tasks=())"
            ]
          },
          "metadata": {},
          "execution_count": 61
        }
      ],
      "source": [
        "graph.get_state(states[-3])"
      ]
    },
    {
      "cell_type": "markdown",
      "id": "2fb64b8d",
      "metadata": {
        "id": "2fb64b8d"
      },
      "source": [
        "### Go Back in Time\n",
        "Use that state in `invoke` to go back in time. Notice it uses states[-3] as *current_state* and continues to node2,"
      ]
    },
    {
      "cell_type": "code",
      "execution_count": 62,
      "id": "b26f1ddd",
      "metadata": {
        "colab": {
          "base_uri": "https://localhost:8080/"
        },
        "id": "b26f1ddd",
        "outputId": "1b8a4f74-e288-4647-cb4e-afee437b83f9"
      },
      "outputs": [
        {
          "output_type": "execute_result",
          "data": {
            "text/plain": [
              "{'count': 0}"
            ]
          },
          "metadata": {},
          "execution_count": 62
        }
      ],
      "source": [
        "graph.invoke(None, states[-3])"
      ]
    },
    {
      "cell_type": "markdown",
      "id": "0381a4b9",
      "metadata": {
        "id": "0381a4b9"
      },
      "source": [
        "Notice the new states are now in state history. Notice the counts on the far right."
      ]
    },
    {
      "cell_type": "code",
      "execution_count": 63,
      "id": "d17eae2f",
      "metadata": {
        "colab": {
          "base_uri": "https://localhost:8080/"
        },
        "id": "d17eae2f",
        "outputId": "e5bacadf-3ddf-4d0a-86cf-394ff85a1ee5"
      },
      "outputs": [
        {
          "output_type": "stream",
          "name": "stdout",
          "text": [
            "{'configurable': {'thread_id': '1', 'checkpoint_ns': '', 'checkpoint_id': '1f02e27b-7b9a-6e64-8009-5d80d7fb1f89'}} 4\n",
            "{'configurable': {'thread_id': '1', 'checkpoint_ns': '', 'checkpoint_id': '1f02e27b-7b8c-6243-8008-d64d8fc64426'}} 3\n",
            "{'configurable': {'thread_id': '1', 'checkpoint_ns': '', 'checkpoint_id': '1f02e27b-7b87-6346-8007-675043b27afb'}} 2\n",
            "{'configurable': {'thread_id': '1', 'checkpoint_ns': '', 'checkpoint_id': '1f02e27b-7b73-617b-8006-09bdff3d31a7'}} 1\n",
            "{'configurable': {'thread_id': '1', 'checkpoint_ns': '', 'checkpoint_id': '1f02e27b-7b66-6f41-8005-76796bf016fa'}} 0\n",
            "{'configurable': {'thread_id': '1', 'checkpoint_ns': '', 'checkpoint_id': '1f02e27b-7b4b-665d-8004-9fa2b1c59d02'}} 0\n",
            "{'configurable': {'thread_id': '1', 'checkpoint_ns': '', 'checkpoint_id': '1f02e276-e68a-619e-8003-d0e955d0842d'}} 0\n",
            "{'configurable': {'thread_id': '1', 'checkpoint_ns': '', 'checkpoint_id': '1f02e276-d608-6e0e-8002-9901352c2d56'}} 0\n",
            "{'configurable': {'thread_id': '1', 'checkpoint_ns': '', 'checkpoint_id': '1f02e276-8808-63bd-8001-2967f4702b9e'}} 0\n",
            "{'configurable': {'thread_id': '1', 'checkpoint_ns': '', 'checkpoint_id': '1f02e276-7805-66fc-8000-a17a4461b4a4'}} 0\n",
            "{'configurable': {'thread_id': '1', 'checkpoint_ns': '', 'checkpoint_id': '1f02e276-77f1-6293-bfff-4319eabf5d2e'}} 0\n"
          ]
        }
      ],
      "source": [
        "thread = {\"configurable\": {\"thread_id\": str(1)}}\n",
        "for state in graph.get_state_history(thread):\n",
        "    print(state.config, state.values['count'])"
      ]
    },
    {
      "cell_type": "markdown",
      "id": "2f2f9148",
      "metadata": {
        "id": "2f2f9148"
      },
      "source": [
        "You can see the details below. Lots of text, but try to find the node that start the new branch. Notice the parent *config* is not the previous entry in the stack, but is the entry from state[-3]."
      ]
    },
    {
      "cell_type": "code",
      "execution_count": 64,
      "id": "c7bb2142",
      "metadata": {
        "colab": {
          "base_uri": "https://localhost:8080/"
        },
        "id": "c7bb2142",
        "outputId": "8f5c07bf-71ca-4d2d-eb58-1d33f27167c2"
      },
      "outputs": [
        {
          "output_type": "stream",
          "name": "stdout",
          "text": [
            "StateSnapshot(values={'lnode': 'node_2', 'scratch': 'hi', 'count': 4}, next=(), config={'configurable': {'thread_id': '1', 'checkpoint_ns': '', 'checkpoint_id': '1f02e27b-7b9a-6e64-8009-5d80d7fb1f89'}}, metadata={'source': 'loop', 'writes': {'Node2': {'lnode': 'node_2', 'count': 1}}, 'thread_id': '1', 'step': 9, 'parents': {}}, created_at='2025-05-11T05:20:56.948694+00:00', parent_config={'configurable': {'thread_id': '1', 'checkpoint_ns': '', 'checkpoint_id': '1f02e27b-7b8c-6243-8008-d64d8fc64426'}}, tasks=()) \n",
            "\n",
            "StateSnapshot(values={'lnode': 'node_1', 'scratch': 'hi', 'count': 3}, next=('Node2',), config={'configurable': {'thread_id': '1', 'checkpoint_ns': '', 'checkpoint_id': '1f02e27b-7b8c-6243-8008-d64d8fc64426'}}, metadata={'source': 'loop', 'writes': {'Node1': {'lnode': 'node_1', 'count': 1}}, 'thread_id': '1', 'step': 8, 'parents': {}}, created_at='2025-05-11T05:20:56.942649+00:00', parent_config={'configurable': {'thread_id': '1', 'checkpoint_ns': '', 'checkpoint_id': '1f02e27b-7b87-6346-8007-675043b27afb'}}, tasks=(PregelTask(id='9c26f751-23a3-fb4f-5ccf-b95ad581913e', name='Node2', path=('__pregel_pull', 'Node2'), error=None, interrupts=(), state=None, result={'lnode': 'node_2', 'count': 1}),)) \n",
            "\n",
            "StateSnapshot(values={'lnode': 'node_2', 'scratch': 'hi', 'count': 2}, next=('Node1',), config={'configurable': {'thread_id': '1', 'checkpoint_ns': '', 'checkpoint_id': '1f02e27b-7b87-6346-8007-675043b27afb'}}, metadata={'source': 'loop', 'writes': {'Node2': {'lnode': 'node_2', 'count': 1}}, 'thread_id': '1', 'step': 7, 'parents': {}}, created_at='2025-05-11T05:20:56.940627+00:00', parent_config={'configurable': {'thread_id': '1', 'checkpoint_ns': '', 'checkpoint_id': '1f02e27b-7b73-617b-8006-09bdff3d31a7'}}, tasks=(PregelTask(id='c6f2ab88-c5aa-a7f5-5ba7-230caa41ff5d', name='Node1', path=('__pregel_pull', 'Node1'), error=None, interrupts=(), state=None, result={'lnode': 'node_1', 'count': 1}),)) \n",
            "\n",
            "StateSnapshot(values={'lnode': 'node_1', 'scratch': 'hi', 'count': 1}, next=('Node2',), config={'configurable': {'thread_id': '1', 'checkpoint_ns': '', 'checkpoint_id': '1f02e27b-7b73-617b-8006-09bdff3d31a7'}}, metadata={'source': 'loop', 'writes': {'Node1': {'lnode': 'node_1', 'count': 1}}, 'thread_id': '1', 'step': 6, 'parents': {}}, created_at='2025-05-11T05:20:56.932389+00:00', parent_config={'configurable': {'thread_id': '1', 'checkpoint_ns': '', 'checkpoint_id': '1f02e27b-7b66-6f41-8005-76796bf016fa'}}, tasks=(PregelTask(id='50c13842-9382-e39c-c406-65066f9dbe34', name='Node2', path=('__pregel_pull', 'Node2'), error=None, interrupts=(), state=None, result={'lnode': 'node_2', 'count': 1}),)) \n",
            "\n",
            "StateSnapshot(values={'scratch': 'hi', 'count': 0}, next=('Node1',), config={'configurable': {'thread_id': '1', 'checkpoint_ns': '', 'checkpoint_id': '1f02e27b-7b66-6f41-8005-76796bf016fa'}}, metadata={'source': 'loop', 'writes': None, 'thread_id': '1', 'step': 5, 'parents': {}}, created_at='2025-05-11T05:20:56.927417+00:00', parent_config={'configurable': {'thread_id': '1', 'checkpoint_ns': '', 'checkpoint_id': '1f02e27b-7b4b-665d-8004-9fa2b1c59d02'}}, tasks=(PregelTask(id='ff091bbd-1547-27d4-ffc1-153b6d670180', name='Node1', path=('__pregel_pull', 'Node1'), error=None, interrupts=(), state=None, result={'lnode': 'node_1', 'count': 1}),)) \n",
            "\n",
            "StateSnapshot(values={'count': 0}, next=('__start__',), config={'configurable': {'thread_id': '1', 'checkpoint_ns': '', 'checkpoint_id': '1f02e27b-7b4b-665d-8004-9fa2b1c59d02'}}, metadata={'source': 'input', 'writes': {'__start__': {'count': 0, 'scratch': 'hi'}}, 'thread_id': '1', 'step': 4, 'parents': {}}, created_at='2025-05-11T05:20:56.915245+00:00', parent_config={'configurable': {'thread_id': '1', 'checkpoint_ns': '', 'checkpoint_id': '1f02e276-e68a-619e-8003-d0e955d0842d'}}, tasks=(PregelTask(id='44b1f72b-6cd5-07d1-9e5c-c43dce2f7108', name='__start__', path=('__pregel_pull', '__start__'), error=None, interrupts=(), state=None, result={'count': 0, 'scratch': 'hi'}),)) \n",
            "\n",
            "StateSnapshot(values={'count': 0}, next=(), config={'configurable': {'thread_id': '1', 'checkpoint_ns': '', 'checkpoint_id': '1f02e276-e68a-619e-8003-d0e955d0842d'}}, metadata={'source': 'loop', 'writes': {'llm': {'messages': [AIMessage(content='The current weather in San Francisco is partly cloudy with a temperature of 57.0°F. The wind speed is 14.8 km/h coming from the west. The humidity is at 67% with a visibility of 9.0 miles.', additional_kwargs={'refusal': None}, response_metadata={'token_usage': {'completion_tokens': 53, 'prompt_tokens': 1024, 'total_tokens': 1077, 'completion_tokens_details': {'accepted_prediction_tokens': 0, 'audio_tokens': 0, 'reasoning_tokens': 0, 'rejected_prediction_tokens': 0}, 'prompt_tokens_details': {'audio_tokens': 0, 'cached_tokens': 0}}, 'model_name': 'gpt-3.5-turbo-0125', 'system_fingerprint': None, 'finish_reason': 'stop', 'logprobs': None}, id='run-56ca98a5-70a9-4236-b234-c6dbe4fe9f4c-0', usage_metadata={'input_tokens': 1024, 'output_tokens': 53, 'total_tokens': 1077, 'input_token_details': {'audio': 0, 'cache_read': 0}, 'output_token_details': {'audio': 0, 'reasoning': 0}})]}}, 'thread_id': '1', 'step': 3, 'parents': {}}, created_at='2025-05-11T05:18:53.943849+00:00', parent_config={'configurable': {'thread_id': '1', 'checkpoint_ns': '', 'checkpoint_id': '1f02e276-d608-6e0e-8002-9901352c2d56'}}, tasks=()) \n",
            "\n",
            "StateSnapshot(values={'count': 0}, next=(), config={'configurable': {'thread_id': '1', 'checkpoint_ns': '', 'checkpoint_id': '1f02e276-d608-6e0e-8002-9901352c2d56'}}, metadata={'source': 'loop', 'writes': {'action': {'messages': [ToolMessage(content='[{\\'url\\': \\'https://world-weather.info/forecast/usa/san_francisco/may-2025/\\', \\'content\\': \"Weather in San Francisco in May 2025\\\\n\\\\nSan Francisco Weather Forecast for May 2025 is based on long term prognosis and previous years\\' statistical data.\\\\n\\\\nMay\\\\n\\\\n+52°\\\\n\\\\n+52°\\\\n\\\\n+52°\\\\n\\\\n+50°\\\\n\\\\n+57°\\\\n\\\\n+55°\\\\n\\\\n+54°\\\\n\\\\n+50°\\\\n\\\\n+52°\\\\n\\\\n+54°\\\\n\\\\n+52°\\\\n\\\\n+54°\\\\n\\\\n+52°\\\\n\\\\n+50°\\\\n\\\\n+50°\\\\n\\\\n+52°\\\\n\\\\n+52°\\\\n\\\\n+50°\\\\n\\\\n+50°\\\\n\\\\n+52°\\\\n\\\\n+54°\\\\n\\\\n+55°\\\\n\\\\n+54°\\\\n\\\\n+54°\\\\n\\\\n+57°\\\\n\\\\n+55°\\\\n\\\\n+55°\\\\n\\\\n+57°\\\\n\\\\n+55°\\\\n\\\\n+55°\\\\n\\\\n+55°\\\\n\\\\nExtended weather forecast in San Francisco\\\\n\\\\nWeather in large and nearby cities\\\\n\\\\nWeather in Washington, D.C.+59°\\\\n\\\\nSacramento+72°\\\\n\\\\nPleasanton+61° [...] Redwood City+59°\\\\n\\\\nSan Leandro+57°\\\\n\\\\nSan Mateo+59°\\\\n\\\\nSan Rafael+59°\\\\n\\\\nSan Ramon+57°\\\\n\\\\nSouth San Francisco+55°\\\\n\\\\nVallejo+61°\\\\n\\\\nPalo Alto+63°\\\\n\\\\nPacifica+52°\\\\n\\\\nBerkeley+57°\\\\n\\\\nCastro Valley+57°\\\\n\\\\nConcord+68°\\\\n\\\\nDaly City+54°\\\\n\\\\nEscalle+59°\\\\n\\\\nSunshine Gardens+55°\"}, {\\'url\\': \\'https://www.weatherapi.com/\\', \\'content\\': \"{\\'location\\': {\\'name\\': \\'San Francisco\\', \\'region\\': \\'California\\', \\'country\\': \\'United States of America\\', \\'lat\\': 37.775, \\'lon\\': -122.4183, \\'tz_id\\': \\'America/Los_Angeles\\', \\'localtime_epoch\\': 1746940726, \\'localtime\\': \\'2025-05-10 22:18\\'}, \\'current\\': {\\'last_updated_epoch\\': 1746940500, \\'last_updated\\': \\'2025-05-10 22:15\\', \\'temp_c\\': 13.9, \\'temp_f\\': 57.0, \\'is_day\\': 0, \\'condition\\': {\\'text\\': \\'Partly Cloudy\\', \\'icon\\': \\'//cdn.weatherapi.com/weather/64x64/night/116.png\\', \\'code\\': 1003}, \\'wind_mph\\': 9.2, \\'wind_kph\\': 14.8, \\'wind_degree\\': 264, \\'wind_dir\\': \\'W\\', \\'pressure_mb\\': 1015.0, \\'pressure_in\\': 29.97, \\'precip_mm\\': 0.0, \\'precip_in\\': 0.0, \\'humidity\\': 67, \\'cloud\\': 25, \\'feelslike_c\\': 12.8, \\'feelslike_f\\': 55.0, \\'windchill_c\\': 9.8, \\'windchill_f\\': 49.6, \\'heatindex_c\\': 11.4, \\'heatindex_f\\': 52.5, \\'dewpoint_c\\': 9.7, \\'dewpoint_f\\': 49.5, \\'vis_km\\': 16.0, \\'vis_miles\\': 9.0, \\'uv\\': 0.0, \\'gust_mph\\': 15.6, \\'gust_kph\\': 25.1}}\"}]', name='tavily_search_results_json', id='e168004b-3f8f-4d47-9313-8915f09f9f85', tool_call_id='call_OtUJChDDhTdaZNupJSoebBcz')]}}, 'thread_id': '1', 'step': 2, 'parents': {}}, created_at='2025-05-11T05:18:52.213198+00:00', parent_config={'configurable': {'thread_id': '1', 'checkpoint_ns': '', 'checkpoint_id': '1f02e276-8808-63bd-8001-2967f4702b9e'}}, tasks=()) \n",
            "\n",
            "StateSnapshot(values={'count': 0}, next=(), config={'configurable': {'thread_id': '1', 'checkpoint_ns': '', 'checkpoint_id': '1f02e276-8808-63bd-8001-2967f4702b9e'}}, metadata={'source': 'loop', 'writes': {'llm': {'messages': [AIMessage(content='', additional_kwargs={'tool_calls': [{'id': 'call_OtUJChDDhTdaZNupJSoebBcz', 'function': {'arguments': '{\"query\":\"current weather in San Francisco\"}', 'name': 'tavily_search_results_json'}, 'type': 'function'}], 'refusal': None}, response_metadata={'token_usage': {'completion_tokens': 23, 'prompt_tokens': 152, 'total_tokens': 175, 'completion_tokens_details': {'accepted_prediction_tokens': 0, 'audio_tokens': 0, 'reasoning_tokens': 0, 'rejected_prediction_tokens': 0}, 'prompt_tokens_details': {'audio_tokens': 0, 'cached_tokens': 0}}, 'model_name': 'gpt-3.5-turbo-0125', 'system_fingerprint': None, 'finish_reason': 'tool_calls', 'logprobs': None}, id='run-f0cce6cf-6b50-4cfc-adfc-0c86e82710ae-0', tool_calls=[{'name': 'tavily_search_results_json', 'args': {'query': 'current weather in San Francisco'}, 'id': 'call_OtUJChDDhTdaZNupJSoebBcz', 'type': 'tool_call'}], usage_metadata={'input_tokens': 152, 'output_tokens': 23, 'total_tokens': 175, 'input_token_details': {'audio': 0, 'cache_read': 0}, 'output_token_details': {'audio': 0, 'reasoning': 0}})]}}, 'thread_id': '1', 'step': 1, 'parents': {}}, created_at='2025-05-11T05:18:44.034041+00:00', parent_config={'configurable': {'thread_id': '1', 'checkpoint_ns': '', 'checkpoint_id': '1f02e276-7805-66fc-8000-a17a4461b4a4'}}, tasks=()) \n",
            "\n",
            "StateSnapshot(values={'count': 0}, next=(), config={'configurable': {'thread_id': '1', 'checkpoint_ns': '', 'checkpoint_id': '1f02e276-7805-66fc-8000-a17a4461b4a4'}}, metadata={'source': 'loop', 'writes': None, 'thread_id': '1', 'step': 0, 'parents': {}}, created_at='2025-05-11T05:18:42.355174+00:00', parent_config={'configurable': {'thread_id': '1', 'checkpoint_ns': '', 'checkpoint_id': '1f02e276-77f1-6293-bfff-4319eabf5d2e'}}, tasks=()) \n",
            "\n",
            "StateSnapshot(values={'count': 0}, next=('__start__',), config={'configurable': {'thread_id': '1', 'checkpoint_ns': '', 'checkpoint_id': '1f02e276-77f1-6293-bfff-4319eabf5d2e'}}, metadata={'source': 'input', 'writes': {'__start__': {'messages': [HumanMessage(content='Whats the weather in SF?', additional_kwargs={}, response_metadata={})]}}, 'thread_id': '1', 'step': -1, 'parents': {}}, created_at='2025-05-11T05:18:42.346869+00:00', parent_config=None, tasks=(PregelTask(id='8a973422-d4e2-8a1d-42f2-7af3d32f6306', name='__start__', path=('__pregel_pull', '__start__'), error=None, interrupts=(), state=None, result={}),)) \n",
            "\n"
          ]
        }
      ],
      "source": [
        "thread = {\"configurable\": {\"thread_id\": str(1)}}\n",
        "for state in graph.get_state_history(thread):\n",
        "    print(state,\"\\n\")"
      ]
    },
    {
      "cell_type": "markdown",
      "id": "ae22255e",
      "metadata": {
        "id": "ae22255e"
      },
      "source": [
        "### Modify State\n",
        "Let's start by starting a fresh thread and running to clean out history."
      ]
    },
    {
      "cell_type": "code",
      "execution_count": 65,
      "id": "bbb09f4e",
      "metadata": {
        "colab": {
          "base_uri": "https://localhost:8080/"
        },
        "id": "bbb09f4e",
        "outputId": "97e83efa-6187-4a49-99fc-f7292bd5b67b"
      },
      "outputs": [
        {
          "output_type": "stream",
          "name": "stdout",
          "text": [
            "node1, count:0\n",
            "node2, count:1\n",
            "node1, count:2\n",
            "node2, count:3\n"
          ]
        },
        {
          "output_type": "execute_result",
          "data": {
            "text/plain": [
              "{'lnode': 'node_2', 'scratch': 'hi', 'count': 4}"
            ]
          },
          "metadata": {},
          "execution_count": 65
        }
      ],
      "source": [
        "thread2 = {\"configurable\": {\"thread_id\": str(2)}}\n",
        "graph.invoke({\"count\":0, \"scratch\":\"hi\"},thread2)"
      ]
    },
    {
      "cell_type": "code",
      "execution_count": 106,
      "id": "7dee6a41",
      "metadata": {
        "colab": {
          "base_uri": "https://localhost:8080/",
          "height": 563
        },
        "id": "7dee6a41",
        "outputId": "c5acca56-3160-4d27-c406-b7b87b071870"
      },
      "outputs": [
        {
          "output_type": "display_data",
          "data": {
            "image/png": "[encoded data removed]",
            "text/plain": [
              "<IPython.core.display.Image object>"
            ]
          },
          "metadata": {}
        }
      ],
      "source": [
        "from IPython.display import Image, display\n",
        "from langchain_core.runnables.graph import CurveStyle, MermaidDrawMethod, NodeStyles\n",
        "\n",
        "image_bytes = graph.get_graph().draw_mermaid_png(draw_method=MermaidDrawMethod.API)\n",
        "\n",
        "display(Image(data=image_bytes))"
      ]
    },
    {
      "cell_type": "code",
      "execution_count": 70,
      "id": "2246049d",
      "metadata": {
        "colab": {
          "base_uri": "https://localhost:8080/"
        },
        "id": "2246049d",
        "outputId": "93966b96-8a17-4d30-f76d-e2709a175eec"
      },
      "outputs": [
        {
          "output_type": "stream",
          "name": "stdout",
          "text": [
            "{'configurable': {'thread_id': '2', 'checkpoint_ns': '', 'checkpoint_id': '1f02e27b-dd34-6fdd-8009-08071579a946'}} 4\n",
            "{'configurable': {'thread_id': '2', 'checkpoint_ns': '', 'checkpoint_id': '1f02e27b-dd26-6dcd-8008-8f278bdf469f'}} 3\n",
            "{'configurable': {'thread_id': '2', 'checkpoint_ns': '', 'checkpoint_id': '1f02e27b-dd12-6d8e-8007-d59cc90c22f7'}} 2\n",
            "{'configurable': {'thread_id': '2', 'checkpoint_ns': '', 'checkpoint_id': '1f02e27b-dd12-6d8d-8006-37902f5b4508'}} 1\n",
            "{'configurable': {'thread_id': '2', 'checkpoint_ns': '', 'checkpoint_id': '1f02e27b-dcff-63a4-8005-134532d7f3f2'}} 0\n",
            "{'configurable': {'thread_id': '2', 'checkpoint_ns': '', 'checkpoint_id': '1f02e27b-dcea-6a19-8004-c2b06af4e91e'}} 0\n",
            "{'configurable': {'thread_id': '2', 'checkpoint_ns': '', 'checkpoint_id': '1f02e277-3182-63fa-8003-8fd48bfe8308'}} 0\n",
            "{'configurable': {'thread_id': '2', 'checkpoint_ns': '', 'checkpoint_id': '1f02e277-2306-6c99-8002-6b746aa92453'}} 0\n",
            "{'configurable': {'thread_id': '2', 'checkpoint_ns': '', 'checkpoint_id': '1f02e276-ee69-6618-8001-207dedc38fc1'}} 0\n",
            "{'configurable': {'thread_id': '2', 'checkpoint_ns': '', 'checkpoint_id': '1f02e276-e731-653a-8000-d812462375f3'}} 0\n",
            "{'configurable': {'thread_id': '2', 'checkpoint_ns': '', 'checkpoint_id': '1f02e276-e713-6223-bfff-4d74d4bacc92'}} 0\n"
          ]
        }
      ],
      "source": [
        "states2 = []\n",
        "for state in graph.get_state_history(thread2):\n",
        "    states2.append(state.config)\n",
        "    print(state.config, state.values['count'])"
      ]
    },
    {
      "cell_type": "markdown",
      "id": "8bf5f168",
      "metadata": {
        "id": "8bf5f168"
      },
      "source": [
        "Start by grabbing a state."
      ]
    },
    {
      "cell_type": "code",
      "execution_count": 71,
      "id": "9d57e7fa",
      "metadata": {
        "colab": {
          "base_uri": "https://localhost:8080/"
        },
        "id": "9d57e7fa",
        "outputId": "be459883-2533-442e-ffc1-90cb75a72554"
      },
      "outputs": [
        {
          "output_type": "execute_result",
          "data": {
            "text/plain": [
              "StateSnapshot(values={'count': 0}, next=(), config={'configurable': {'thread_id': '2', 'checkpoint_ns': '', 'checkpoint_id': '1f02e276-ee69-6618-8001-207dedc38fc1'}}, metadata={'source': 'loop', 'writes': {'llm': {'messages': [AIMessage(content='', additional_kwargs={'tool_calls': [{'id': 'call_KWpTSFBOqT4mH0UCLmn2TeyO', 'function': {'arguments': '{\"query\":\"weather in Los Angeles\"}', 'name': 'tavily_search_results_json'}, 'type': 'function'}], 'refusal': None}, response_metadata={'token_usage': {'completion_tokens': 22, 'prompt_tokens': 152, 'total_tokens': 174, 'completion_tokens_details': {'accepted_prediction_tokens': 0, 'audio_tokens': 0, 'reasoning_tokens': 0, 'rejected_prediction_tokens': 0}, 'prompt_tokens_details': {'audio_tokens': 0, 'cached_tokens': 0}}, 'model_name': 'gpt-3.5-turbo-0125', 'system_fingerprint': None, 'finish_reason': 'tool_calls', 'logprobs': None}, id='run-5ed7edad-1b87-4f7c-9fbc-1cbbe26f06be-0', tool_calls=[{'name': 'tavily_search_results_json', 'args': {'query': 'weather in Los Angeles'}, 'id': 'call_KWpTSFBOqT4mH0UCLmn2TeyO', 'type': 'tool_call'}], usage_metadata={'input_tokens': 152, 'output_tokens': 22, 'total_tokens': 174, 'input_token_details': {'audio': 0, 'cache_read': 0}, 'output_token_details': {'audio': 0, 'reasoning': 0}})]}}, 'thread_id': '2', 'step': 1, 'parents': {}}, created_at='2025-05-11T05:18:54.769308+00:00', parent_config={'configurable': {'thread_id': '2', 'checkpoint_ns': '', 'checkpoint_id': '1f02e276-e731-653a-8000-d812462375f3'}}, tasks=())"
            ]
          },
          "metadata": {},
          "execution_count": 71
        }
      ],
      "source": [
        "save_state = graph.get_state(states2[-3])\n",
        "save_state"
      ]
    },
    {
      "cell_type": "markdown",
      "id": "5343084f",
      "metadata": {
        "id": "5343084f"
      },
      "source": [
        "Now modify the values. One subtle item to note: Recall when agent state was defined, `count` used `operator.add` to indicate that values are *added* to the current value. Here, `-3` will be added to the current count value rather than replace it."
      ]
    },
    {
      "cell_type": "code",
      "execution_count": 72,
      "id": "28a709dd",
      "metadata": {
        "colab": {
          "base_uri": "https://localhost:8080/"
        },
        "id": "28a709dd",
        "outputId": "cd7340dc-b231-4a2d-f7f4-1d8546ac446c"
      },
      "outputs": [
        {
          "output_type": "execute_result",
          "data": {
            "text/plain": [
              "StateSnapshot(values={'count': -3, 'scratch': 'hello'}, next=(), config={'configurable': {'thread_id': '2', 'checkpoint_ns': '', 'checkpoint_id': '1f02e276-ee69-6618-8001-207dedc38fc1'}}, metadata={'source': 'loop', 'writes': {'llm': {'messages': [AIMessage(content='', additional_kwargs={'tool_calls': [{'id': 'call_KWpTSFBOqT4mH0UCLmn2TeyO', 'function': {'arguments': '{\"query\":\"weather in Los Angeles\"}', 'name': 'tavily_search_results_json'}, 'type': 'function'}], 'refusal': None}, response_metadata={'token_usage': {'completion_tokens': 22, 'prompt_tokens': 152, 'total_tokens': 174, 'completion_tokens_details': {'accepted_prediction_tokens': 0, 'audio_tokens': 0, 'reasoning_tokens': 0, 'rejected_prediction_tokens': 0}, 'prompt_tokens_details': {'audio_tokens': 0, 'cached_tokens': 0}}, 'model_name': 'gpt-3.5-turbo-0125', 'system_fingerprint': None, 'finish_reason': 'tool_calls', 'logprobs': None}, id='run-5ed7edad-1b87-4f7c-9fbc-1cbbe26f06be-0', tool_calls=[{'name': 'tavily_search_results_json', 'args': {'query': 'weather in Los Angeles'}, 'id': 'call_KWpTSFBOqT4mH0UCLmn2TeyO', 'type': 'tool_call'}], usage_metadata={'input_tokens': 152, 'output_tokens': 22, 'total_tokens': 174, 'input_token_details': {'audio': 0, 'cache_read': 0}, 'output_token_details': {'audio': 0, 'reasoning': 0}})]}}, 'thread_id': '2', 'step': 1, 'parents': {}}, created_at='2025-05-11T05:18:54.769308+00:00', parent_config={'configurable': {'thread_id': '2', 'checkpoint_ns': '', 'checkpoint_id': '1f02e276-e731-653a-8000-d812462375f3'}}, tasks=())"
            ]
          },
          "metadata": {},
          "execution_count": 72
        }
      ],
      "source": [
        "save_state.values[\"count\"] = -3\n",
        "save_state.values[\"scratch\"] = \"hello\"\n",
        "save_state"
      ]
    },
    {
      "cell_type": "markdown",
      "id": "705500da",
      "metadata": {
        "id": "705500da"
      },
      "source": [
        "Now update the state. This creates a new entry at the *top*, or *latest* entry in memory. This will become the current state."
      ]
    },
    {
      "cell_type": "code",
      "execution_count": 73,
      "id": "3919773f",
      "metadata": {
        "colab": {
          "base_uri": "https://localhost:8080/"
        },
        "id": "3919773f",
        "outputId": "9ad965f8-01de-4458-d33c-d2cd108ef8d9"
      },
      "outputs": [
        {
          "output_type": "execute_result",
          "data": {
            "text/plain": [
              "{'configurable': {'thread_id': '2',\n",
              "  'checkpoint_ns': '',\n",
              "  'checkpoint_id': '1f02e27d-0df3-6af4-800a-023b2037e06f'}}"
            ]
          },
          "metadata": {},
          "execution_count": 73
        }
      ],
      "source": [
        "graph.update_state(thread2,save_state.values)"
      ]
    },
    {
      "cell_type": "markdown",
      "id": "20a9b563",
      "metadata": {
        "id": "20a9b563"
      },
      "source": [
        "Current state is at the top. You can match the `thread_ts`.\n",
        "Notice the `parent_config`, `thread_ts` of the new node - it is the previous node."
      ]
    },
    {
      "cell_type": "code",
      "execution_count": 74,
      "id": "0c5ba00b",
      "metadata": {
        "colab": {
          "base_uri": "https://localhost:8080/"
        },
        "id": "0c5ba00b",
        "outputId": "b8f70e29-3e1e-45f7-9499-02b130286d80"
      },
      "outputs": [
        {
          "output_type": "stream",
          "name": "stdout",
          "text": [
            "StateSnapshot(values={'lnode': 'node_2', 'scratch': 'hello', 'count': 1}, next=('Node1',), config={'configurable': {'thread_id': '2', 'checkpoint_ns': '', 'checkpoint_id': '1f02e27d-0df3-6af4-800a-023b2037e06f'}}, metadata={'source': 'update', 'writes': {'Node2': {'count': -3, 'scratch': 'hello'}}, 'thread_id': '2', 'step': 10, 'parents': {}}, created_at='2025-05-11T05:21:39.137816+00:00', parent_config={'configurable': {'thread_id': '2', 'checkpoint_ns': '', 'checkpoint_id': '1f02e27b-dd34-6fdd-8009-08071579a946'}}, tasks=(PregelTask(id='07613e70-5e75-085d-c5e4-59a2c578b658', name='Node1', path=('__pregel_pull', 'Node1'), error=None, interrupts=(), state=None, result=None),)) \n",
            "\n",
            "StateSnapshot(values={'lnode': 'node_2', 'scratch': 'hi', 'count': 4}, next=(), config={'configurable': {'thread_id': '2', 'checkpoint_ns': '', 'checkpoint_id': '1f02e27b-dd34-6fdd-8009-08071579a946'}}, metadata={'source': 'loop', 'writes': {'Node2': {'lnode': 'node_2', 'count': 1}}, 'thread_id': '2', 'step': 9, 'parents': {}}, created_at='2025-05-11T05:21:07.182998+00:00', parent_config={'configurable': {'thread_id': '2', 'checkpoint_ns': '', 'checkpoint_id': '1f02e27b-dd26-6dcd-8008-8f278bdf469f'}}, tasks=()) \n",
            "\n",
            "StateSnapshot(values={'lnode': 'node_1', 'scratch': 'hi', 'count': 3}, next=('Node2',), config={'configurable': {'thread_id': '2', 'checkpoint_ns': '', 'checkpoint_id': '1f02e27b-dd26-6dcd-8008-8f278bdf469f'}}, metadata={'source': 'loop', 'writes': {'Node1': {'lnode': 'node_1', 'count': 1}}, 'thread_id': '2', 'step': 8, 'parents': {}}, created_at='2025-05-11T05:21:07.177210+00:00', parent_config={'configurable': {'thread_id': '2', 'checkpoint_ns': '', 'checkpoint_id': '1f02e27b-dd12-6d8e-8007-d59cc90c22f7'}}, tasks=(PregelTask(id='7c5c21ed-db5c-0e11-d41c-b70e3df5dd77', name='Node2', path=('__pregel_pull', 'Node2'), error=None, interrupts=(), state=None, result={'lnode': 'node_2', 'count': 1}),)) \n",
            "\n"
          ]
        }
      ],
      "source": [
        "for i, state in enumerate(graph.get_state_history(thread2)):\n",
        "    if i >= 3:  #print latest 3\n",
        "        break\n",
        "    print(state, '\\n')"
      ]
    },
    {
      "cell_type": "markdown",
      "id": "51601fc7",
      "metadata": {
        "id": "51601fc7"
      },
      "source": [
        "### Try again with `as_node`\n",
        "When writing using `update_state()`, you want to define to the graph logic which node should be assumed as the writer. What this does is allow th graph logic to find the node on the graph. After writing the values, the `next()` value is computed by travesing the graph using the new state. In this case, the state we have was written by `Node1`. The graph can then compute the next state as being `Node2`. Note that in some graphs, this may involve going through conditional edges!  Let's try this out."
      ]
    },
    {
      "cell_type": "code",
      "execution_count": 75,
      "id": "1cf64fbb",
      "metadata": {
        "colab": {
          "base_uri": "https://localhost:8080/"
        },
        "id": "1cf64fbb",
        "outputId": "fa23b0c1-dc9f-480a-8d6d-9b03959d25b2"
      },
      "outputs": [
        {
          "output_type": "execute_result",
          "data": {
            "text/plain": [
              "{'configurable': {'thread_id': '2',\n",
              "  'checkpoint_ns': '',\n",
              "  'checkpoint_id': '1f02e27d-21a7-64ad-800b-c16da1fdc932'}}"
            ]
          },
          "metadata": {},
          "execution_count": 75
        }
      ],
      "source": [
        "graph.update_state(thread2,save_state.values, as_node=\"Node1\")"
      ]
    },
    {
      "cell_type": "code",
      "execution_count": 76,
      "id": "ff53497b",
      "metadata": {
        "colab": {
          "base_uri": "https://localhost:8080/"
        },
        "id": "ff53497b",
        "outputId": "d94942ff-08cf-46a0-b23d-d5d3317532bb"
      },
      "outputs": [
        {
          "output_type": "stream",
          "name": "stdout",
          "text": [
            "StateSnapshot(values={'lnode': 'node_2', 'scratch': 'hello', 'count': -2}, next=('Node2',), config={'configurable': {'thread_id': '2', 'checkpoint_ns': '', 'checkpoint_id': '1f02e27d-21a7-64ad-800b-c16da1fdc932'}}, metadata={'source': 'update', 'writes': {'Node1': {'count': -3, 'scratch': 'hello'}}, 'thread_id': '2', 'step': 11, 'parents': {}}, created_at='2025-05-11T05:21:41.203678+00:00', parent_config={'configurable': {'thread_id': '2', 'checkpoint_ns': '', 'checkpoint_id': '1f02e27d-0df3-6af4-800a-023b2037e06f'}}, tasks=(PregelTask(id='772621d7-5c2f-af7e-459f-a5e64d57711d', name='Node2', path=('__pregel_pull', 'Node2'), error=None, interrupts=(), state=None, result=None),)) \n",
            "\n",
            "StateSnapshot(values={'lnode': 'node_2', 'scratch': 'hello', 'count': 1}, next=('Node1',), config={'configurable': {'thread_id': '2', 'checkpoint_ns': '', 'checkpoint_id': '1f02e27d-0df3-6af4-800a-023b2037e06f'}}, metadata={'source': 'update', 'writes': {'Node2': {'count': -3, 'scratch': 'hello'}}, 'thread_id': '2', 'step': 10, 'parents': {}}, created_at='2025-05-11T05:21:39.137816+00:00', parent_config={'configurable': {'thread_id': '2', 'checkpoint_ns': '', 'checkpoint_id': '1f02e27b-dd34-6fdd-8009-08071579a946'}}, tasks=(PregelTask(id='07613e70-5e75-085d-c5e4-59a2c578b658', name='Node1', path=('__pregel_pull', 'Node1'), error=None, interrupts=(), state=None, result=None),)) \n",
            "\n",
            "StateSnapshot(values={'lnode': 'node_2', 'scratch': 'hi', 'count': 4}, next=(), config={'configurable': {'thread_id': '2', 'checkpoint_ns': '', 'checkpoint_id': '1f02e27b-dd34-6fdd-8009-08071579a946'}}, metadata={'source': 'loop', 'writes': {'Node2': {'lnode': 'node_2', 'count': 1}}, 'thread_id': '2', 'step': 9, 'parents': {}}, created_at='2025-05-11T05:21:07.182998+00:00', parent_config={'configurable': {'thread_id': '2', 'checkpoint_ns': '', 'checkpoint_id': '1f02e27b-dd26-6dcd-8008-8f278bdf469f'}}, tasks=()) \n",
            "\n"
          ]
        }
      ],
      "source": [
        "for i, state in enumerate(graph.get_state_history(thread2)):\n",
        "    if i >= 3:  #print latest 3\n",
        "        break\n",
        "    print(state, '\\n')"
      ]
    },
    {
      "cell_type": "markdown",
      "id": "a32ae234",
      "metadata": {
        "id": "a32ae234"
      },
      "source": [
        "`invoke` will run from the current state if not given a particular `thread_ts`. This is now the entry that was just added."
      ]
    },
    {
      "cell_type": "code",
      "execution_count": 77,
      "id": "80b4932b",
      "metadata": {
        "colab": {
          "base_uri": "https://localhost:8080/"
        },
        "id": "80b4932b",
        "outputId": "f95b9e27-d17b-49fa-9ec0-bf919a13efb0"
      },
      "outputs": [
        {
          "output_type": "stream",
          "name": "stdout",
          "text": [
            "node2, count:-2\n",
            "node1, count:-1\n",
            "node2, count:0\n",
            "node1, count:1\n",
            "node2, count:2\n"
          ]
        },
        {
          "output_type": "execute_result",
          "data": {
            "text/plain": [
              "{'lnode': 'node_2', 'scratch': 'hello', 'count': 3}"
            ]
          },
          "metadata": {},
          "execution_count": 77
        }
      ],
      "source": [
        "graph.invoke(None,thread2)"
      ]
    },
    {
      "cell_type": "markdown",
      "id": "c9f73d3e",
      "metadata": {
        "id": "c9f73d3e"
      },
      "source": [
        "Print out the state history, notice the `scratch` value change on the latest entries."
      ]
    },
    {
      "cell_type": "code",
      "execution_count": 78,
      "id": "935a7e8e",
      "metadata": {
        "colab": {
          "base_uri": "https://localhost:8080/"
        },
        "id": "935a7e8e",
        "outputId": "dceddf62-610f-4d5f-c743-4dbff5d62fca"
      },
      "outputs": [
        {
          "output_type": "stream",
          "name": "stdout",
          "text": [
            "StateSnapshot(values={'lnode': 'node_2', 'scratch': 'hello', 'count': 3}, next=(), config={'configurable': {'thread_id': '2', 'checkpoint_ns': '', 'checkpoint_id': '1f02e27d-3b1f-6c84-8010-ded4f8886537'}}, metadata={'source': 'loop', 'writes': {'Node2': {'lnode': 'node_2', 'count': 1}}, 'thread_id': '2', 'step': 16, 'parents': {}}, created_at='2025-05-11T05:21:43.874470+00:00', parent_config={'configurable': {'thread_id': '2', 'checkpoint_ns': '', 'checkpoint_id': '1f02e27d-3af8-61a9-800f-18d9f87d790c'}}, tasks=()) \n",
            "\n",
            "StateSnapshot(values={'lnode': 'node_1', 'scratch': 'hello', 'count': 2}, next=('Node2',), config={'configurable': {'thread_id': '2', 'checkpoint_ns': '', 'checkpoint_id': '1f02e27d-3af8-61a9-800f-18d9f87d790c'}}, metadata={'source': 'loop', 'writes': {'Node1': {'lnode': 'node_1', 'count': 1}}, 'thread_id': '2', 'step': 15, 'parents': {}}, created_at='2025-05-11T05:21:43.858218+00:00', parent_config={'configurable': {'thread_id': '2', 'checkpoint_ns': '', 'checkpoint_id': '1f02e27d-3af8-61a8-800e-0a98b5f3c85d'}}, tasks=(PregelTask(id='d5705edd-57ea-8b91-1b06-2fec087e31df', name='Node2', path=('__pregel_pull', 'Node2'), error=None, interrupts=(), state=None, result={'lnode': 'node_2', 'count': 1}),)) \n",
            "\n",
            "StateSnapshot(values={'lnode': 'node_2', 'scratch': 'hello', 'count': 1}, next=('Node1',), config={'configurable': {'thread_id': '2', 'checkpoint_ns': '', 'checkpoint_id': '1f02e27d-3af8-61a8-800e-0a98b5f3c85d'}}, metadata={'source': 'loop', 'writes': {'Node2': {'lnode': 'node_2', 'count': 1}}, 'thread_id': '2', 'step': 14, 'parents': {}}, created_at='2025-05-11T05:21:43.858218+00:00', parent_config={'configurable': {'thread_id': '2', 'checkpoint_ns': '', 'checkpoint_id': '1f02e27d-3ae3-6b78-800d-7f02bb52884a'}}, tasks=(PregelTask(id='3aa20963-1a89-3c1a-3de5-1e84d3a276f9', name='Node1', path=('__pregel_pull', 'Node1'), error=None, interrupts=(), state=None, result={'lnode': 'node_1', 'count': 1}),)) \n",
            "\n",
            "StateSnapshot(values={'lnode': 'node_1', 'scratch': 'hello', 'count': 0}, next=('Node2',), config={'configurable': {'thread_id': '2', 'checkpoint_ns': '', 'checkpoint_id': '1f02e27d-3ae3-6b78-800d-7f02bb52884a'}}, metadata={'source': 'loop', 'writes': {'Node1': {'lnode': 'node_1', 'count': 1}}, 'thread_id': '2', 'step': 13, 'parents': {}}, created_at='2025-05-11T05:21:43.849868+00:00', parent_config={'configurable': {'thread_id': '2', 'checkpoint_ns': '', 'checkpoint_id': '1f02e27d-3ad5-6e6a-800c-5c4b127234cc'}}, tasks=(PregelTask(id='2f4ac700-15b2-c8e1-ddd9-e0a279187200', name='Node2', path=('__pregel_pull', 'Node2'), error=None, interrupts=(), state=None, result={'lnode': 'node_2', 'count': 1}),)) \n",
            "\n",
            "StateSnapshot(values={'lnode': 'node_2', 'scratch': 'hello', 'count': -1}, next=('Node1',), config={'configurable': {'thread_id': '2', 'checkpoint_ns': '', 'checkpoint_id': '1f02e27d-3ad5-6e6a-800c-5c4b127234cc'}}, metadata={'source': 'loop', 'writes': {'Node2': {'lnode': 'node_2', 'count': 1}}, 'thread_id': '2', 'step': 12, 'parents': {}}, created_at='2025-05-11T05:21:43.844209+00:00', parent_config={'configurable': {'thread_id': '2', 'checkpoint_ns': '', 'checkpoint_id': '1f02e27d-21a7-64ad-800b-c16da1fdc932'}}, tasks=(PregelTask(id='37afe4fa-1491-af70-765e-c56d5127c915', name='Node1', path=('__pregel_pull', 'Node1'), error=None, interrupts=(), state=None, result={'lnode': 'node_1', 'count': 1}),)) \n",
            "\n",
            "StateSnapshot(values={'lnode': 'node_2', 'scratch': 'hello', 'count': -2}, next=('Node2',), config={'configurable': {'thread_id': '2', 'checkpoint_ns': '', 'checkpoint_id': '1f02e27d-21a7-64ad-800b-c16da1fdc932'}}, metadata={'source': 'update', 'writes': {'Node1': {'count': -3, 'scratch': 'hello'}}, 'thread_id': '2', 'step': 11, 'parents': {}}, created_at='2025-05-11T05:21:41.203678+00:00', parent_config={'configurable': {'thread_id': '2', 'checkpoint_ns': '', 'checkpoint_id': '1f02e27d-0df3-6af4-800a-023b2037e06f'}}, tasks=(PregelTask(id='772621d7-5c2f-af7e-459f-a5e64d57711d', name='Node2', path=('__pregel_pull', 'Node2'), error=None, interrupts=(), state=None, result={'lnode': 'node_2', 'count': 1}),)) \n",
            "\n",
            "StateSnapshot(values={'lnode': 'node_2', 'scratch': 'hello', 'count': 1}, next=('Node1',), config={'configurable': {'thread_id': '2', 'checkpoint_ns': '', 'checkpoint_id': '1f02e27d-0df3-6af4-800a-023b2037e06f'}}, metadata={'source': 'update', 'writes': {'Node2': {'count': -3, 'scratch': 'hello'}}, 'thread_id': '2', 'step': 10, 'parents': {}}, created_at='2025-05-11T05:21:39.137816+00:00', parent_config={'configurable': {'thread_id': '2', 'checkpoint_ns': '', 'checkpoint_id': '1f02e27b-dd34-6fdd-8009-08071579a946'}}, tasks=(PregelTask(id='07613e70-5e75-085d-c5e4-59a2c578b658', name='Node1', path=('__pregel_pull', 'Node1'), error=None, interrupts=(), state=None, result=None),)) \n",
            "\n",
            "StateSnapshot(values={'lnode': 'node_2', 'scratch': 'hi', 'count': 4}, next=(), config={'configurable': {'thread_id': '2', 'checkpoint_ns': '', 'checkpoint_id': '1f02e27b-dd34-6fdd-8009-08071579a946'}}, metadata={'source': 'loop', 'writes': {'Node2': {'lnode': 'node_2', 'count': 1}}, 'thread_id': '2', 'step': 9, 'parents': {}}, created_at='2025-05-11T05:21:07.182998+00:00', parent_config={'configurable': {'thread_id': '2', 'checkpoint_ns': '', 'checkpoint_id': '1f02e27b-dd26-6dcd-8008-8f278bdf469f'}}, tasks=()) \n",
            "\n",
            "StateSnapshot(values={'lnode': 'node_1', 'scratch': 'hi', 'count': 3}, next=('Node2',), config={'configurable': {'thread_id': '2', 'checkpoint_ns': '', 'checkpoint_id': '1f02e27b-dd26-6dcd-8008-8f278bdf469f'}}, metadata={'source': 'loop', 'writes': {'Node1': {'lnode': 'node_1', 'count': 1}}, 'thread_id': '2', 'step': 8, 'parents': {}}, created_at='2025-05-11T05:21:07.177210+00:00', parent_config={'configurable': {'thread_id': '2', 'checkpoint_ns': '', 'checkpoint_id': '1f02e27b-dd12-6d8e-8007-d59cc90c22f7'}}, tasks=(PregelTask(id='7c5c21ed-db5c-0e11-d41c-b70e3df5dd77', name='Node2', path=('__pregel_pull', 'Node2'), error=None, interrupts=(), state=None, result={'lnode': 'node_2', 'count': 1}),)) \n",
            "\n",
            "StateSnapshot(values={'lnode': 'node_2', 'scratch': 'hi', 'count': 2}, next=('Node1',), config={'configurable': {'thread_id': '2', 'checkpoint_ns': '', 'checkpoint_id': '1f02e27b-dd12-6d8e-8007-d59cc90c22f7'}}, metadata={'source': 'loop', 'writes': {'Node2': {'lnode': 'node_2', 'count': 1}}, 'thread_id': '2', 'step': 7, 'parents': {}}, created_at='2025-05-11T05:21:07.169012+00:00', parent_config={'configurable': {'thread_id': '2', 'checkpoint_ns': '', 'checkpoint_id': '1f02e27b-dd12-6d8d-8006-37902f5b4508'}}, tasks=(PregelTask(id='1151aa02-cf5d-1e96-4e38-eb52b9699ca8', name='Node1', path=('__pregel_pull', 'Node1'), error=None, interrupts=(), state=None, result={'lnode': 'node_1', 'count': 1}),)) \n",
            "\n",
            "StateSnapshot(values={'lnode': 'node_1', 'scratch': 'hi', 'count': 1}, next=('Node2',), config={'configurable': {'thread_id': '2', 'checkpoint_ns': '', 'checkpoint_id': '1f02e27b-dd12-6d8d-8006-37902f5b4508'}}, metadata={'source': 'loop', 'writes': {'Node1': {'lnode': 'node_1', 'count': 1}}, 'thread_id': '2', 'step': 6, 'parents': {}}, created_at='2025-05-11T05:21:07.169012+00:00', parent_config={'configurable': {'thread_id': '2', 'checkpoint_ns': '', 'checkpoint_id': '1f02e27b-dcff-63a4-8005-134532d7f3f2'}}, tasks=(PregelTask(id='1a029ed7-e414-ebbe-2ec2-1659fcf546f3', name='Node2', path=('__pregel_pull', 'Node2'), error=None, interrupts=(), state=None, result={'lnode': 'node_2', 'count': 1}),)) \n",
            "\n",
            "StateSnapshot(values={'scratch': 'hi', 'count': 0}, next=('Node1',), config={'configurable': {'thread_id': '2', 'checkpoint_ns': '', 'checkpoint_id': '1f02e27b-dcff-63a4-8005-134532d7f3f2'}}, metadata={'source': 'loop', 'writes': None, 'thread_id': '2', 'step': 5, 'parents': {}}, created_at='2025-05-11T05:21:07.160976+00:00', parent_config={'configurable': {'thread_id': '2', 'checkpoint_ns': '', 'checkpoint_id': '1f02e27b-dcea-6a19-8004-c2b06af4e91e'}}, tasks=(PregelTask(id='c58da9de-c468-7a18-3a23-aa1fdac1779a', name='Node1', path=('__pregel_pull', 'Node1'), error=None, interrupts=(), state=None, result={'lnode': 'node_1', 'count': 1}),)) \n",
            "\n",
            "StateSnapshot(values={'count': 0}, next=('__start__',), config={'configurable': {'thread_id': '2', 'checkpoint_ns': '', 'checkpoint_id': '1f02e27b-dcea-6a19-8004-c2b06af4e91e'}}, metadata={'source': 'input', 'writes': {'__start__': {'count': 0, 'scratch': 'hi'}}, 'thread_id': '2', 'step': 4, 'parents': {}}, created_at='2025-05-11T05:21:07.152540+00:00', parent_config={'configurable': {'thread_id': '2', 'checkpoint_ns': '', 'checkpoint_id': '1f02e277-3182-63fa-8003-8fd48bfe8308'}}, tasks=(PregelTask(id='206d7a6a-fee0-d820-0c8f-9529f4e151fb', name='__start__', path=('__pregel_pull', '__start__'), error=None, interrupts=(), state=None, result={'count': 0, 'scratch': 'hi'}),)) \n",
            "\n",
            "StateSnapshot(values={'count': 0}, next=(), config={'configurable': {'thread_id': '2', 'checkpoint_ns': '', 'checkpoint_id': '1f02e277-3182-63fa-8003-8fd48bfe8308'}}, metadata={'source': 'loop', 'writes': {'llm': {'messages': [AIMessage(content='The current weather in Los Angeles is clear with a temperature of 84.0°F (29°C). The wind is blowing at 5.4 km/h from SSE direction. The humidity is 23% and there is no precipitation. If you want more detailed information, you can visit [here](https://www.weatherapi.com/).', additional_kwargs={'refusal': None}, response_metadata={'token_usage': {'completion_tokens': 71, 'prompt_tokens': 676, 'total_tokens': 747, 'completion_tokens_details': {'accepted_prediction_tokens': 0, 'audio_tokens': 0, 'reasoning_tokens': 0, 'rejected_prediction_tokens': 0}, 'prompt_tokens_details': {'audio_tokens': 0, 'cached_tokens': 0}}, 'model_name': 'gpt-3.5-turbo-0125', 'system_fingerprint': None, 'finish_reason': 'stop', 'logprobs': None}, id='run-785a3bb5-13d8-44bb-9dd9-9cbfff9220d1-0', usage_metadata={'input_tokens': 676, 'output_tokens': 71, 'total_tokens': 747, 'input_token_details': {'audio': 0, 'cache_read': 0}, 'output_token_details': {'audio': 0, 'reasoning': 0}})]}}, 'thread_id': '2', 'step': 3, 'parents': {}}, created_at='2025-05-11T05:19:01.804953+00:00', parent_config={'configurable': {'thread_id': '2', 'checkpoint_ns': '', 'checkpoint_id': '1f02e277-2306-6c99-8002-6b746aa92453'}}, tasks=()) \n",
            "\n",
            "StateSnapshot(values={'count': 0}, next=(), config={'configurable': {'thread_id': '2', 'checkpoint_ns': '', 'checkpoint_id': '1f02e277-2306-6c99-8002-6b746aa92453'}}, metadata={'source': 'loop', 'writes': {'action': {'messages': [ToolMessage(content='[{\\'url\\': \\'https://weathershogun.com/weather/usa/ca/los-angeles/451/may/2025-05-11\\', \\'content\\': \\'Los Angeles, California Weather: Sunday, May 11, 2025. Cloudy weather, overcast skies with clouds. Day 77°. Night 59°. Precipitation 0 %.\\'}, {\\'url\\': \\'https://www.weatherapi.com/\\', \\'content\\': \"{\\'location\\': {\\'name\\': \\'Los Angeles\\', \\'region\\': \\'California\\', \\'country\\': \\'United States of America\\', \\'lat\\': 34.0522, \\'lon\\': -118.2428, \\'tz_id\\': \\'America/Los_Angeles\\', \\'localtime_epoch\\': 1746940311, \\'localtime\\': \\'2025-05-10 22:11\\'}, \\'current\\': {\\'last_updated_epoch\\': 1746939600, \\'last_updated\\': \\'2025-05-10 22:00\\', \\'temp_c\\': 28.9, \\'temp_f\\': 84.0, \\'is_day\\': 0, \\'condition\\': {\\'text\\': \\'Clear\\', \\'icon\\': \\'//cdn.weatherapi.com/weather/64x64/night/113.png\\', \\'code\\': 1000}, \\'wind_mph\\': 3.4, \\'wind_kph\\': 5.4, \\'wind_degree\\': 158, \\'wind_dir\\': \\'SSE\\', \\'pressure_mb\\': 1011.0, \\'pressure_in\\': 29.86, \\'precip_mm\\': 0.0, \\'precip_in\\': 0.0, \\'humidity\\': 23, \\'cloud\\': 0, \\'feelslike_c\\': 29.4, \\'feelslike_f\\': 85.0, \\'windchill_c\\': 26.6, \\'windchill_f\\': 80.0, \\'heatindex_c\\': 27.1, \\'heatindex_f\\': 80.7, \\'dewpoint_c\\': 13.9, \\'dewpoint_f\\': 56.9, \\'vis_km\\': 16.0, \\'vis_miles\\': 9.0, \\'uv\\': 0.0, \\'gust_mph\\': 6.6, \\'gust_kph\\': 10.5}}\"}]', name='tavily_search_results_json', id='773eb98e-fe7f-4971-aeb9-d75f87aba33c', tool_call_id='call_KWpTSFBOqT4mH0UCLmn2TeyO')]}}, 'thread_id': '2', 'step': 2, 'parents': {}}, created_at='2025-05-11T05:19:00.286376+00:00', parent_config={'configurable': {'thread_id': '2', 'checkpoint_ns': '', 'checkpoint_id': '1f02e276-ee69-6618-8001-207dedc38fc1'}}, tasks=()) \n",
            "\n",
            "StateSnapshot(values={'count': 0}, next=(), config={'configurable': {'thread_id': '2', 'checkpoint_ns': '', 'checkpoint_id': '1f02e276-ee69-6618-8001-207dedc38fc1'}}, metadata={'source': 'loop', 'writes': {'llm': {'messages': [AIMessage(content='', additional_kwargs={'tool_calls': [{'id': 'call_KWpTSFBOqT4mH0UCLmn2TeyO', 'function': {'arguments': '{\"query\":\"weather in Los Angeles\"}', 'name': 'tavily_search_results_json'}, 'type': 'function'}], 'refusal': None}, response_metadata={'token_usage': {'completion_tokens': 22, 'prompt_tokens': 152, 'total_tokens': 174, 'completion_tokens_details': {'accepted_prediction_tokens': 0, 'audio_tokens': 0, 'reasoning_tokens': 0, 'rejected_prediction_tokens': 0}, 'prompt_tokens_details': {'audio_tokens': 0, 'cached_tokens': 0}}, 'model_name': 'gpt-3.5-turbo-0125', 'system_fingerprint': None, 'finish_reason': 'tool_calls', 'logprobs': None}, id='run-5ed7edad-1b87-4f7c-9fbc-1cbbe26f06be-0', tool_calls=[{'name': 'tavily_search_results_json', 'args': {'query': 'weather in Los Angeles'}, 'id': 'call_KWpTSFBOqT4mH0UCLmn2TeyO', 'type': 'tool_call'}], usage_metadata={'input_tokens': 152, 'output_tokens': 22, 'total_tokens': 174, 'input_token_details': {'audio': 0, 'cache_read': 0}, 'output_token_details': {'audio': 0, 'reasoning': 0}})]}}, 'thread_id': '2', 'step': 1, 'parents': {}}, created_at='2025-05-11T05:18:54.769308+00:00', parent_config={'configurable': {'thread_id': '2', 'checkpoint_ns': '', 'checkpoint_id': '1f02e276-e731-653a-8000-d812462375f3'}}, tasks=()) \n",
            "\n",
            "StateSnapshot(values={'count': 0}, next=(), config={'configurable': {'thread_id': '2', 'checkpoint_ns': '', 'checkpoint_id': '1f02e276-e731-653a-8000-d812462375f3'}}, metadata={'source': 'loop', 'writes': None, 'thread_id': '2', 'step': 0, 'parents': {}}, created_at='2025-05-11T05:18:54.012345+00:00', parent_config={'configurable': {'thread_id': '2', 'checkpoint_ns': '', 'checkpoint_id': '1f02e276-e713-6223-bfff-4d74d4bacc92'}}, tasks=()) \n",
            "\n",
            "StateSnapshot(values={'count': 0}, next=('__start__',), config={'configurable': {'thread_id': '2', 'checkpoint_ns': '', 'checkpoint_id': '1f02e276-e713-6223-bfff-4d74d4bacc92'}}, metadata={'source': 'input', 'writes': {'__start__': {'messages': [HumanMessage(content='Whats the weather in LA?', additional_kwargs={}, response_metadata={})]}}, 'thread_id': '2', 'step': -1, 'parents': {}}, created_at='2025-05-11T05:18:53.999977+00:00', parent_config=None, tasks=(PregelTask(id='5826659c-0384-c249-92cb-b141194fe3e5', name='__start__', path=('__pregel_pull', '__start__'), error=None, interrupts=(), state=None, result={}),)) \n",
            "\n"
          ]
        }
      ],
      "source": [
        "for state in graph.get_state_history(thread2):\n",
        "    print(state,\"\\n\")"
      ]
    },
    {
      "cell_type": "markdown",
      "id": "9233b380",
      "metadata": {
        "id": "9233b380"
      },
      "source": [
        "# Essay Project"
      ]
    },
    {
      "cell_type": "markdown",
      "id": "0fd1e839",
      "metadata": {
        "id": "0fd1e839"
      },
      "source": [
        "## Create helper function"
      ]
    },
    {
      "cell_type": "code",
      "execution_count": 80,
      "metadata": {
        "colab": {
          "base_uri": "https://localhost:8080/"
        },
        "id": "HSUc1rygpa_M",
        "outputId": "d9e7bd9c-622c-46bf-9bd6-6d378eaf61db"
      },
      "outputs": [
        {
          "output_type": "stream",
          "name": "stdout",
          "text": [
            "Overwriting helper.py\n"
          ]
        }
      ],
      "source": [
        "%%writefile helper.py\n",
        "import warnings\n",
        "warnings.filterwarnings(\"ignore\", message=\".*TqdmWarning.*\")\n",
        "from dotenv import load_dotenv\n",
        "\n",
        "from langgraph.graph import StateGraph, END\n",
        "from typing import TypedDict, Annotated, List\n",
        "import operator\n",
        "from langgraph.checkpoint.sqlite import SqliteSaver\n",
        "from langchain_core.messages import AnyMessage, SystemMessage, HumanMessage, AIMessage, ChatMessage\n",
        "from langchain_openai import ChatOpenAI\n",
        "from langchain_core.pydantic_v1 import BaseModel\n",
        "from tavily import TavilyClient\n",
        "import os\n",
        "import sqlite3\n",
        "from langgraph.checkpoint.sqlite import SqliteSaver\n",
        "import sqlite3\n",
        "\n",
        "class AgentState(TypedDict):\n",
        "    task: str\n",
        "    lnode: str\n",
        "    plan: str\n",
        "    draft: str\n",
        "    critique: str\n",
        "    content: List[str]\n",
        "    queries: List[str]\n",
        "    revision_number: int\n",
        "    max_revisions: int\n",
        "    count: Annotated[int, operator.add]\n",
        "\n",
        "\n",
        "class Queries(BaseModel):\n",
        "    queries: List[str]\n",
        "\n",
        "class ewriter():\n",
        "    def __init__(self):\n",
        "        self.model = ChatOpenAI(model=\"gpt-3.5-turbo\", temperature=0)\n",
        "        self.PLAN_PROMPT = (\"You are an expert writer tasked with writing a high level outline of a short 3 paragraph essay. \"\n",
        "                            \"Write such an outline for the user provided topic. Give the three main headers of an outline of \"\n",
        "                             \"the essay along with any relevant notes or instructions for the sections. \")\n",
        "        self.WRITER_PROMPT = (\"You are an essay assistant tasked with writing excellent 3 paragraph essays. \"\n",
        "                              \"Generate the best essay possible for the user's request and the initial outline. \"\n",
        "                              \"If the user provides critique, respond with a revised version of your previous attempts. \"\n",
        "                              \"Utilize all the information below as needed: \\n\"\n",
        "                              \"------\\n\"\n",
        "                              \"{content}\")\n",
        "        self.RESEARCH_PLAN_PROMPT = (\"You are a researcher charged with providing information that can \"\n",
        "                                     \"be used when writing the following essay. Generate a list of search \"\n",
        "                                     \"queries that will gather \"\n",
        "                                     \"any relevant information. Only generate 3 queries max.\")\n",
        "        self.REFLECTION_PROMPT = (\"You are a teacher grading an 3 paragraph essay submission. \"\n",
        "                                  \"Generate critique and recommendations for the user's submission. \"\n",
        "                                  \"Provide detailed recommendations, including requests for length, depth, style, etc.\")\n",
        "        self.RESEARCH_CRITIQUE_PROMPT = (\"You are a researcher charged with providing information that can \"\n",
        "                                         \"be used when making any requested revisions (as outlined below). \"\n",
        "                                         \"Generate a list of search queries that will gather any relevant information. \"\n",
        "                                         \"Only generate 2 queries max.\")\n",
        "        self.tavily = TavilyClient(api_key=os.environ[\"TAVILY_API_KEY\"])\n",
        "        builder = StateGraph(AgentState)\n",
        "        builder.add_node(\"planner\", self.plan_node)\n",
        "        builder.add_node(\"research_plan\", self.research_plan_node)\n",
        "        builder.add_node(\"generate\", self.generation_node)\n",
        "        builder.add_node(\"reflect\", self.reflection_node)\n",
        "        builder.add_node(\"research_critique\", self.research_critique_node)\n",
        "        builder.set_entry_point(\"planner\")\n",
        "        builder.add_conditional_edges(\n",
        "            \"generate\",\n",
        "            self.should_continue,\n",
        "            {END: END, \"reflect\": \"reflect\"}\n",
        "        )\n",
        "        builder.add_edge(\"planner\", \"research_plan\")\n",
        "        builder.add_edge(\"research_plan\", \"generate\")\n",
        "        builder.add_edge(\"reflect\", \"research_critique\")\n",
        "        builder.add_edge(\"research_critique\", \"generate\")\n",
        "\n",
        "        conn = sqlite3.connect(\":memory:\", check_same_thread=False)\n",
        "        memory  = SqliteSaver(conn=conn) # Pass connection to saver\n",
        "        self.graph = builder.compile(\n",
        "            checkpointer=memory,\n",
        "            interrupt_after=['planner', 'generate', 'reflect', 'research_plan', 'research_critique']\n",
        "        )\n",
        "\n",
        "\n",
        "    def plan_node(self, state: AgentState):\n",
        "        messages = [\n",
        "            SystemMessage(content=self.PLAN_PROMPT),\n",
        "            HumanMessage(content=state['task'])\n",
        "        ]\n",
        "        response = self.model.invoke(messages)\n",
        "        return {\"plan\": response.content,\n",
        "               \"lnode\": \"planner\",\n",
        "                \"count\": 1,\n",
        "               }\n",
        "    def research_plan_node(self, state: AgentState):\n",
        "        queries = self.model.with_structured_output(Queries).invoke([\n",
        "            SystemMessage(content=self.RESEARCH_PLAN_PROMPT),\n",
        "            HumanMessage(content=state['task'])\n",
        "        ])\n",
        "        content = state['content'] or []  # add to content\n",
        "        for q in queries.queries:\n",
        "            response = self.tavily.search(query=q, max_results=2)\n",
        "            for r in response['results']:\n",
        "                content.append(r['content'])\n",
        "        return {\"content\": content,\n",
        "                \"queries\": queries.queries,\n",
        "               \"lnode\": \"research_plan\",\n",
        "                \"count\": 1,\n",
        "               }\n",
        "    def generation_node(self, state: AgentState):\n",
        "        content = \"\\n\\n\".join(state['content'] or [])\n",
        "        user_message = HumanMessage(\n",
        "            content=f\"{state['task']}\\n\\nHere is my plan:\\n\\n{state['plan']}\")\n",
        "        messages = [\n",
        "            SystemMessage(\n",
        "                content=self.WRITER_PROMPT.format(content=content)\n",
        "            ),\n",
        "            user_message\n",
        "            ]\n",
        "        response = self.model.invoke(messages)\n",
        "        return {\n",
        "            \"draft\": response.content,\n",
        "            \"revision_number\": state.get(\"revision_number\", 1) + 1,\n",
        "            \"lnode\": \"generate\",\n",
        "            \"count\": 1,\n",
        "        }\n",
        "    def reflection_node(self, state: AgentState):\n",
        "        messages = [\n",
        "            SystemMessage(content=self.REFLECTION_PROMPT),\n",
        "            HumanMessage(content=state['draft'])\n",
        "        ]\n",
        "        response = self.model.invoke(messages)\n",
        "        return {\"critique\": response.content,\n",
        "               \"lnode\": \"reflect\",\n",
        "                \"count\": 1,\n",
        "        }\n",
        "    def research_critique_node(self, state: AgentState):\n",
        "        queries = self.model.with_structured_output(Queries).invoke([\n",
        "            SystemMessage(content=self.RESEARCH_CRITIQUE_PROMPT),\n",
        "            HumanMessage(content=state['critique'])\n",
        "        ])\n",
        "        content = state['content'] or []\n",
        "        for q in queries.queries:\n",
        "            response = self.tavily.search(query=q, max_results=2)\n",
        "            for r in response['results']:\n",
        "                content.append(r['content'])\n",
        "        return {\"content\": content,\n",
        "               \"lnode\": \"research_critique\",\n",
        "                \"count\": 1,\n",
        "        }\n",
        "    def should_continue(self, state):\n",
        "        if state[\"revision_number\"] > state[\"max_revisions\"]:\n",
        "            return END\n",
        "        return \"reflect\"\n",
        "\n",
        "import gradio as gr\n",
        "import time\n",
        "\n",
        "class writer_gui( ):\n",
        "    def __init__(self, graph, share=False):\n",
        "        self.graph = graph\n",
        "        self.share = share\n",
        "        self.partial_message = \"\"\n",
        "        self.response = {}\n",
        "        self.max_iterations = 10\n",
        "        self.iterations = []\n",
        "        self.threads = []\n",
        "        self.thread_id = -1\n",
        "        self.thread = {\"configurable\": {\"thread_id\": str(self.thread_id)}}\n",
        "        #self.sdisps = {} #global\n",
        "        self.demo = self.create_interface()\n",
        "\n",
        "    def run_agent(self, start,topic,stop_after):\n",
        "        #global partial_message, thread_id,thread\n",
        "        #global response, max_iterations, iterations, threads\n",
        "        if start:\n",
        "            self.iterations.append(0)\n",
        "            config = {'task': topic,\"max_revisions\": 2,\"revision_number\": 0,\n",
        "                      'lnode': \"\", 'planner': \"no plan\", 'draft': \"no draft\", 'critique': \"no critique\",\n",
        "                      'content': [\"no content\",], 'queries': \"no queries\", 'count':0}\n",
        "            self.thread_id += 1  # new agent, new thread\n",
        "            self.threads.append(self.thread_id)\n",
        "        else:\n",
        "            config = None\n",
        "        self.thread = {\"configurable\": {\"thread_id\": str(self.thread_id)}}\n",
        "        while self.iterations[self.thread_id] < self.max_iterations:\n",
        "            self.response = self.graph.invoke(config, self.thread)\n",
        "            self.iterations[self.thread_id] += 1\n",
        "            self.partial_message += str(self.response)\n",
        "            self.partial_message += f\"\\n------------------\\n\\n\"\n",
        "            ## fix\n",
        "            lnode,nnode,_,rev,acount = self.get_disp_state()\n",
        "            yield self.partial_message,lnode,nnode,self.thread_id,rev,acount\n",
        "            config = None #need\n",
        "            #print(f\"run_agent:{lnode}\")\n",
        "            if not nnode:\n",
        "                #print(\"Hit the end\")\n",
        "                return\n",
        "            if lnode in stop_after:\n",
        "                #print(f\"stopping due to stop_after {lnode}\")\n",
        "                return\n",
        "            else:\n",
        "                #print(f\"Not stopping on lnode {lnode}\")\n",
        "                pass\n",
        "        return\n",
        "\n",
        "    def get_disp_state(self,):\n",
        "        current_state = self.graph.get_state(self.thread)\n",
        "        lnode = current_state.values[\"lnode\"]\n",
        "        acount = current_state.values[\"count\"]\n",
        "        rev = current_state.values[\"revision_number\"]\n",
        "        nnode = current_state.next\n",
        "        #print  (lnode,nnode,self.thread_id,rev,acount)\n",
        "        return lnode,nnode,self.thread_id,rev,acount\n",
        "\n",
        "    def get_state(self,key):\n",
        "        current_values = self.graph.get_state(self.thread)\n",
        "        if key in current_values.values:\n",
        "            lnode,nnode,self.thread_id,rev,astep = self.get_disp_state()\n",
        "            new_label = f\"last_node: {lnode}, thread_id: {self.thread_id}, rev: {rev}, step: {astep}\"\n",
        "            return gr.update(label=new_label, value=current_values.values[key])\n",
        "        else:\n",
        "            return \"\"\n",
        "\n",
        "    def get_content(self,):\n",
        "        current_values = self.graph.get_state(self.thread)\n",
        "        if \"content\" in current_values.values:\n",
        "            content = current_values.values[\"content\"]\n",
        "            lnode,nnode,thread_id,rev,astep = self.get_disp_state()\n",
        "            new_label = f\"last_node: {lnode}, thread_id: {self.thread_id}, rev: {rev}, step: {astep}\"\n",
        "            return gr.update(label=new_label, value=\"\\n\\n\".join(item for item in content) + \"\\n\\n\")\n",
        "        else:\n",
        "            return \"\"\n",
        "\n",
        "    def update_hist_pd(self,):\n",
        "        #print(\"update_hist_pd\")\n",
        "        hist = []\n",
        "        # curiously, this generator returns the latest first\n",
        "        for state in self.graph.get_state_history(self.thread):\n",
        "            if state.metadata['step'] < 1:\n",
        "                continue\n",
        "            thread_ts = state.config['configurable']['thread_ts']\n",
        "            tid = state.config['configurable']['thread_id']\n",
        "            count = state.values['count']\n",
        "            lnode = state.values['lnode']\n",
        "            rev = state.values['revision_number']\n",
        "            nnode = state.next\n",
        "            st = f\"{tid}:{count}:{lnode}:{nnode}:{rev}:{thread_ts}\"\n",
        "            hist.append(st)\n",
        "        return gr.Dropdown(label=\"update_state from: thread:count:last_node:next_node:rev:thread_ts\",\n",
        "                           choices=hist, value=hist[0],interactive=True)\n",
        "\n",
        "    def find_config(self,thread_ts):\n",
        "        for state in self.graph.get_state_history(self.thread):\n",
        "            config = state.config\n",
        "            if config['configurable']['thread_ts'] == thread_ts:\n",
        "                return config\n",
        "        return(None)\n",
        "\n",
        "    def copy_state(self,hist_str):\n",
        "        ''' result of selecting an old state from the step pulldown. Note does not change thread.\n",
        "             This copies an old state to a new current state.\n",
        "        '''\n",
        "        thread_ts = hist_str.split(\":\")[-1]\n",
        "        #print(f\"copy_state from {thread_ts}\")\n",
        "        config = self.find_config(thread_ts)\n",
        "        #print(config)\n",
        "        state = self.graph.get_state(config)\n",
        "        self.graph.update_state(self.thread, state.values, as_node=state.values['lnode'])\n",
        "        new_state = self.graph.get_state(self.thread)  #should now match\n",
        "        new_thread_ts = new_state.config['configurable']['thread_ts']\n",
        "        tid = new_state.config['configurable']['thread_id']\n",
        "        count = new_state.values['count']\n",
        "        lnode = new_state.values['lnode']\n",
        "        rev = new_state.values['revision_number']\n",
        "        nnode = new_state.next\n",
        "        return lnode,nnode,new_thread_ts,rev,count\n",
        "\n",
        "    def update_thread_pd(self,):\n",
        "        #print(\"update_thread_pd\")\n",
        "        return gr.Dropdown(label=\"choose thread\", choices=threads, value=self.thread_id,interactive=True)\n",
        "\n",
        "    def switch_thread(self,new_thread_id):\n",
        "        #print(f\"switch_thread{new_thread_id}\")\n",
        "        self.thread = {\"configurable\": {\"thread_id\": str(new_thread_id)}}\n",
        "        self.thread_id = new_thread_id\n",
        "        return\n",
        "\n",
        "    def modify_state(self,key,asnode,new_state):\n",
        "        ''' gets the current state, modifes a single value in the state identified by key, and updates state with it.\n",
        "        note that this will create a new 'current state' node. If you do this multiple times with different keys, it will create\n",
        "        one for each update. Note also that it doesn't resume after the update\n",
        "        '''\n",
        "        current_values = self.graph.get_state(self.thread)\n",
        "        current_values.values[key] = new_state\n",
        "        self.graph.update_state(self.thread, current_values.values,as_node=asnode)\n",
        "        return\n",
        "\n",
        "\n",
        "    def create_interface(self):\n",
        "        with gr.Blocks(theme=gr.themes.Default(spacing_size='sm',text_size=\"sm\")) as demo:\n",
        "\n",
        "            def updt_disp():\n",
        "                ''' general update display on state change '''\n",
        "                current_state = self.graph.get_state(self.thread)\n",
        "                hist = []\n",
        "                # curiously, this generator returns the latest first\n",
        "                for state in self.graph.get_state_history(self.thread):\n",
        "                    if state.metadata['step'] < 1:  #ignore early states\n",
        "                        continue\n",
        "                    s_thread_ts = state.config['configurable']['thread_ts']\n",
        "                    s_tid = state.config['configurable']['thread_id']\n",
        "                    s_count = state.values['count']\n",
        "                    s_lnode = state.values['lnode']\n",
        "                    s_rev = state.values['revision_number']\n",
        "                    s_nnode = state.next\n",
        "                    st = f\"{s_tid}:{s_count}:{s_lnode}:{s_nnode}:{s_rev}:{s_thread_ts}\"\n",
        "                    hist.append(st)\n",
        "                if not current_state.metadata: #handle init call\n",
        "                    return{}\n",
        "                else:\n",
        "                    return {\n",
        "                        topic_bx : current_state.values[\"task\"],\n",
        "                        lnode_bx : current_state.values[\"lnode\"],\n",
        "                        count_bx : current_state.values[\"count\"],\n",
        "                        revision_bx : current_state.values[\"revision_number\"],\n",
        "                        nnode_bx : current_state.next,\n",
        "                        threadid_bx : self.thread_id,\n",
        "                        thread_pd : gr.Dropdown(label=\"choose thread\", choices=self.threads, value=self.thread_id,interactive=True),\n",
        "                        step_pd : gr.Dropdown(label=\"update_state from: thread:count:last_node:next_node:rev:thread_ts\",\n",
        "                               choices=hist, value=hist[0],interactive=True),\n",
        "                    }\n",
        "            def get_snapshots():\n",
        "                new_label = f\"thread_id: {self.thread_id}, Summary of snapshots\"\n",
        "                sstate = \"\"\n",
        "                for state in self.graph.get_state_history(self.thread):\n",
        "                    for key in ['plan', 'draft', 'critique']:\n",
        "                        if key in state.values:\n",
        "                            state.values[key] = state.values[key][:80] + \"...\"\n",
        "                    if 'content' in state.values:\n",
        "                        for i in range(len(state.values['content'])):\n",
        "                            state.values['content'][i] = state.values['content'][i][:20] + '...'\n",
        "                    if 'writes' in state.metadata:\n",
        "                        state.metadata['writes'] = \"not shown\"\n",
        "                    sstate += str(state) + \"\\n\\n\"\n",
        "                return gr.update(label=new_label, value=sstate)\n",
        "\n",
        "            def vary_btn(stat):\n",
        "                #print(f\"vary_btn{stat}\")\n",
        "                return(gr.update(variant=stat))\n",
        "\n",
        "            with gr.Tab(\"Agent\"):\n",
        "                with gr.Row():\n",
        "                    topic_bx = gr.Textbox(label=\"Essay Topic\", value=\"Pizza Shop\")\n",
        "                    gen_btn = gr.Button(\"Generate Essay\", scale=0,min_width=80, variant='primary')\n",
        "                    cont_btn = gr.Button(\"Continue Essay\", scale=0,min_width=80)\n",
        "                with gr.Row():\n",
        "                    lnode_bx = gr.Textbox(label=\"last node\", min_width=100)\n",
        "                    nnode_bx = gr.Textbox(label=\"next node\", min_width=100)\n",
        "                    threadid_bx = gr.Textbox(label=\"Thread\", scale=0, min_width=80)\n",
        "                    revision_bx = gr.Textbox(label=\"Draft Rev\", scale=0, min_width=80)\n",
        "                    count_bx = gr.Textbox(label=\"count\", scale=0, min_width=80)\n",
        "                with gr.Accordion(\"Manage Agent\", open=False):\n",
        "                    checks = list(self.graph.nodes.keys())\n",
        "                    checks.remove('__start__')\n",
        "                    stop_after = gr.CheckboxGroup(checks,label=\"Interrupt After State\", value=checks, scale=0, min_width=400)\n",
        "                    with gr.Row():\n",
        "                        thread_pd = gr.Dropdown(choices=self.threads,interactive=True, label=\"select thread\", min_width=120, scale=0)\n",
        "                        step_pd = gr.Dropdown(choices=['N/A'],interactive=True, label=\"select step\", min_width=160, scale=1)\n",
        "                live = gr.Textbox(label=\"Live Agent Output\", lines=5, max_lines=5)\n",
        "\n",
        "                # actions\n",
        "                sdisps =[topic_bx,lnode_bx,nnode_bx,threadid_bx,revision_bx,count_bx,step_pd,thread_pd]\n",
        "                thread_pd.input(self.switch_thread, [thread_pd], None).then(\n",
        "                                fn=updt_disp, inputs=None, outputs=sdisps)\n",
        "                step_pd.input(self.copy_state,[step_pd],None).then(\n",
        "                              fn=updt_disp, inputs=None, outputs=sdisps)\n",
        "                gen_btn.click(vary_btn,gr.Number(\"secondary\", visible=False), gen_btn).then(\n",
        "                              fn=self.run_agent, inputs=[gr.Number(True, visible=False),topic_bx,stop_after], outputs=[live],show_progress=True).then(\n",
        "                              fn=updt_disp, inputs=None, outputs=sdisps).then(\n",
        "                              vary_btn,gr.Number(\"primary\", visible=False), gen_btn).then(\n",
        "                              vary_btn,gr.Number(\"primary\", visible=False), cont_btn)\n",
        "                cont_btn.click(vary_btn,gr.Number(\"secondary\", visible=False), cont_btn).then(\n",
        "                               fn=self.run_agent, inputs=[gr.Number(False, visible=False),topic_bx,stop_after],\n",
        "                               outputs=[live]).then(\n",
        "                               fn=updt_disp, inputs=None, outputs=sdisps).then(\n",
        "                               vary_btn,gr.Number(\"primary\", visible=False), cont_btn)\n",
        "\n",
        "            with gr.Tab(\"Plan\"):\n",
        "                with gr.Row():\n",
        "                    refresh_btn = gr.Button(\"Refresh\")\n",
        "                    modify_btn = gr.Button(\"Modify\")\n",
        "                plan = gr.Textbox(label=\"Plan\", lines=10, interactive=True)\n",
        "                refresh_btn.click(fn=self.get_state, inputs=gr.Number(\"plan\", visible=False), outputs=plan)\n",
        "                modify_btn.click(fn=self.modify_state, inputs=[gr.Number(\"plan\", visible=False),\n",
        "                                                          gr.Number(\"planner\", visible=False), plan],outputs=None).then(\n",
        "                                 fn=updt_disp, inputs=None, outputs=sdisps)\n",
        "            with gr.Tab(\"Research Content\"):\n",
        "                refresh_btn = gr.Button(\"Refresh\")\n",
        "                content_bx = gr.Textbox(label=\"content\", lines=10)\n",
        "                refresh_btn.click(fn=self.get_content, inputs=None, outputs=content_bx)\n",
        "            with gr.Tab(\"Draft\"):\n",
        "                with gr.Row():\n",
        "                    refresh_btn = gr.Button(\"Refresh\")\n",
        "                    modify_btn = gr.Button(\"Modify\")\n",
        "                draft_bx = gr.Textbox(label=\"draft\", lines=10, interactive=True)\n",
        "                refresh_btn.click(fn=self.get_state, inputs=gr.Number(\"draft\", visible=False), outputs=draft_bx)\n",
        "                modify_btn.click(fn=self.modify_state, inputs=[gr.Number(\"draft\", visible=False),\n",
        "                                                          gr.Number(\"generate\", visible=False), draft_bx], outputs=None).then(\n",
        "                                fn=updt_disp, inputs=None, outputs=sdisps)\n",
        "            with gr.Tab(\"Critique\"):\n",
        "                with gr.Row():\n",
        "                    refresh_btn = gr.Button(\"Refresh\")\n",
        "                    modify_btn = gr.Button(\"Modify\")\n",
        "                critique_bx = gr.Textbox(label=\"Critique\", lines=10, interactive=True)\n",
        "                refresh_btn.click(fn=self.get_state, inputs=gr.Number(\"critique\", visible=False), outputs=critique_bx)\n",
        "                modify_btn.click(fn=self.modify_state, inputs=[gr.Number(\"critique\", visible=False),\n",
        "                                                          gr.Number(\"reflect\", visible=False),\n",
        "                                                          critique_bx], outputs=None).then(\n",
        "                                fn=updt_disp, inputs=None, outputs=sdisps)\n",
        "            with gr.Tab(\"StateSnapShots\"):\n",
        "                with gr.Row():\n",
        "                    refresh_btn = gr.Button(\"Refresh\")\n",
        "                snapshots = gr.Textbox(label=\"State Snapshots Summaries\")\n",
        "                refresh_btn.click(fn=get_snapshots, inputs=None, outputs=snapshots)\n",
        "        return demo\n",
        "\n",
        "    def launch(self, share=None):\n",
        "        if port := os.getenv(\"PORT1\"):\n",
        "            self.demo.launch(share=True, server_port=int(port), server_name=\"0.0.0.0\")\n",
        "        else:\n",
        "            self.demo.launch(share=self.share)"
      ],
      "id": "HSUc1rygpa_M"
    },
    {
      "cell_type": "markdown",
      "id": "35a4ac2c",
      "metadata": {
        "id": "35a4ac2c"
      },
      "source": [
        "## Start Project"
      ]
    },
    {
      "cell_type": "code",
      "execution_count": 81,
      "id": "5302cab0",
      "metadata": {
        "id": "5302cab0"
      },
      "outputs": [],
      "source": [
        "from langgraph.graph import StateGraph, END\n",
        "from typing import TypedDict, Annotated, List\n",
        "import operator\n",
        "from langgraph.checkpoint.sqlite import SqliteSaver\n",
        "from langchain_core.messages import AnyMessage, SystemMessage, HumanMessage, AIMessage, ChatMessage\n",
        "\n",
        "from langgraph.checkpoint.sqlite import SqliteSaver\n",
        "import sqlite3\n"
      ]
    },
    {
      "cell_type": "code",
      "execution_count": 82,
      "id": "8c7988b2",
      "metadata": {
        "id": "8c7988b2"
      },
      "outputs": [],
      "source": [
        "class AgentState(TypedDict):\n",
        "    task: str\n",
        "    plan: str\n",
        "    draft: str\n",
        "    critique: str\n",
        "    content: List[str]\n",
        "    revision_number: int\n",
        "    max_revisions: int"
      ]
    },
    {
      "cell_type": "code",
      "execution_count": 83,
      "id": "b648c892",
      "metadata": {
        "id": "b648c892"
      },
      "outputs": [],
      "source": [
        "from langchain_openai import ChatOpenAI\n",
        "model = ChatOpenAI(model=\"gpt-3.5-turbo\", temperature=0)"
      ]
    },
    {
      "cell_type": "code",
      "execution_count": 84,
      "id": "40f13bcf",
      "metadata": {
        "id": "40f13bcf"
      },
      "outputs": [],
      "source": [
        "PLAN_PROMPT = \"\"\"You are an expert writer tasked with writing a high level outline of an essay. \\\n",
        "Write such an outline for the user provided topic. Give an outline of the essay along with any relevant notes \\\n",
        "or instructions for the sections.\"\"\""
      ]
    },
    {
      "cell_type": "code",
      "execution_count": 85,
      "id": "741504b2",
      "metadata": {
        "id": "741504b2"
      },
      "outputs": [],
      "source": [
        "WRITER_PROMPT = \"\"\"You are an essay assistant tasked with writing excellent 5-paragraph essays.\\\n",
        "Generate the best essay possible for the user's request and the initial outline. \\\n",
        "If the user provides critique, respond with a revised version of your previous attempts. \\\n",
        "Utilize all the information below as needed:\n",
        "\n",
        "------\n",
        "\n",
        "{content}\"\"\""
      ]
    },
    {
      "cell_type": "code",
      "execution_count": 86,
      "id": "2a729a98",
      "metadata": {
        "id": "2a729a98"
      },
      "outputs": [],
      "source": [
        "REFLECTION_PROMPT = \"\"\"You are a teacher grading an essay submission. \\\n",
        "Generate critique and recommendations for the user's submission. \\\n",
        "Provide detailed recommendations, including requests for length, depth, style, etc.\"\"\""
      ]
    },
    {
      "cell_type": "code",
      "execution_count": 87,
      "id": "2e43be4b",
      "metadata": {
        "id": "2e43be4b"
      },
      "outputs": [],
      "source": [
        "RESEARCH_PLAN_PROMPT = \"\"\"You are a researcher charged with providing information that can \\\n",
        "be used when writing the following essay. Generate a list of search queries that will gather \\\n",
        "any relevant information. Only generate 3 queries max.\"\"\"\n"
      ]
    },
    {
      "cell_type": "code",
      "execution_count": 88,
      "id": "c429be7d",
      "metadata": {
        "id": "c429be7d"
      },
      "outputs": [],
      "source": [
        "RESEARCH_CRITIQUE_PROMPT = \"\"\"You are a researcher charged with providing information that can \\\n",
        "be used when making any requested revisions (as outlined below). \\\n",
        "Generate a list of search queries that will gather any relevant information. Only generate 3 queries max.\"\"\"\n"
      ]
    },
    {
      "cell_type": "code",
      "execution_count": 89,
      "id": "e69effc5",
      "metadata": {
        "colab": {
          "base_uri": "https://localhost:8080/"
        },
        "id": "e69effc5",
        "outputId": "1794cf02-8d30-48a3-d205-956c0c024ef3"
      },
      "outputs": [
        {
          "output_type": "stream",
          "name": "stderr",
          "text": [
            "C:\\Users\\Smith\\anaconda3\\envs\\langenv\\Lib\\site-packages\\IPython\\core\\interactiveshell.py:3553: LangChainDeprecationWarning: As of langchain-core 0.3.0, LangChain uses pydantic v2 internally. The langchain_core.pydantic_v1 module was a compatibility shim for pydantic v1, and should no longer be used. Please update the code to import from Pydantic directly.\n",
            "\n",
            "For example, replace imports like: `from langchain_core.pydantic_v1 import BaseModel`\n",
            "with: `from pydantic import BaseModel`\n",
            "or the v1 compatibility namespace if you are working in a code base that has not been fully upgraded to pydantic 2 yet. \tfrom pydantic.v1 import BaseModel\n",
            "\n",
            "  exec(code_obj, self.user_global_ns, self.user_ns)\n"
          ]
        }
      ],
      "source": [
        "from langchain_core.pydantic_v1 import BaseModel\n",
        "\n",
        "class Queries(BaseModel):\n",
        "    queries: List[str]"
      ]
    },
    {
      "cell_type": "code",
      "execution_count": 90,
      "id": "c0e14f14",
      "metadata": {
        "id": "c0e14f14"
      },
      "outputs": [],
      "source": [
        "from tavily import TavilyClient\n",
        "import os\n",
        "tavily = TavilyClient(api_key=os.environ[\"TAVILY_API_KEY\"])"
      ]
    },
    {
      "cell_type": "code",
      "execution_count": 91,
      "id": "c3cb0e54",
      "metadata": {
        "id": "c3cb0e54"
      },
      "outputs": [],
      "source": [
        "def plan_node(state: AgentState):\n",
        "    messages = [\n",
        "        SystemMessage(content=PLAN_PROMPT),\n",
        "        HumanMessage(content=state['task'])\n",
        "    ]\n",
        "    response = model.invoke(messages)\n",
        "    return {\"plan\": response.content}"
      ]
    },
    {
      "cell_type": "code",
      "execution_count": 92,
      "id": "2bc2249d",
      "metadata": {
        "id": "2bc2249d"
      },
      "outputs": [],
      "source": [
        "def research_plan_node(state: AgentState):\n",
        "    queries = model.with_structured_output(Queries).invoke([\n",
        "        SystemMessage(content=RESEARCH_PLAN_PROMPT),\n",
        "        HumanMessage(content=state['task'])\n",
        "    ])\n",
        "    content = state['content'] or []\n",
        "    for q in queries.queries:\n",
        "        response = tavily.search(query=q, max_results=2)\n",
        "        for r in response['results']:\n",
        "            content.append(r['content'])\n",
        "    return {\"content\": content}"
      ]
    },
    {
      "cell_type": "code",
      "execution_count": 93,
      "id": "6d4d885d",
      "metadata": {
        "id": "6d4d885d"
      },
      "outputs": [],
      "source": [
        "def generation_node(state: AgentState):\n",
        "    content = \"\\n\\n\".join(state['content'] or [])\n",
        "    user_message = HumanMessage(\n",
        "        content=f\"{state['task']}\\n\\nHere is my plan:\\n\\n{state['plan']}\")\n",
        "    messages = [\n",
        "        SystemMessage(\n",
        "            content=WRITER_PROMPT.format(content=content)\n",
        "        ),\n",
        "        user_message\n",
        "        ]\n",
        "    response = model.invoke(messages)\n",
        "    return {\n",
        "        \"draft\": response.content,\n",
        "        \"revision_number\": state.get(\"revision_number\", 1) + 1\n",
        "    }\n"
      ]
    },
    {
      "cell_type": "code",
      "execution_count": 94,
      "id": "260b0862",
      "metadata": {
        "id": "260b0862"
      },
      "outputs": [],
      "source": [
        "def reflection_node(state: AgentState):\n",
        "    messages = [\n",
        "        SystemMessage(content=REFLECTION_PROMPT),\n",
        "        HumanMessage(content=state['draft'])\n",
        "    ]\n",
        "    response = model.invoke(messages)\n",
        "    return {\"critique\": response.content}"
      ]
    },
    {
      "cell_type": "code",
      "execution_count": 95,
      "id": "d5781d85",
      "metadata": {
        "id": "d5781d85"
      },
      "outputs": [],
      "source": [
        "def research_critique_node(state: AgentState):\n",
        "    queries = model.with_structured_output(Queries).invoke([\n",
        "        SystemMessage(content=RESEARCH_CRITIQUE_PROMPT),\n",
        "        HumanMessage(content=state['critique'])\n",
        "    ])\n",
        "    content = state['content'] or []\n",
        "    for q in queries.queries:\n",
        "        response = tavily.search(query=q, max_results=2)\n",
        "        for r in response['results']:\n",
        "            content.append(r['content'])\n",
        "    return {\"content\": content}"
      ]
    },
    {
      "cell_type": "code",
      "execution_count": 96,
      "id": "215c6430",
      "metadata": {
        "id": "215c6430"
      },
      "outputs": [],
      "source": [
        "def should_continue(state):\n",
        "    if state[\"revision_number\"] > state[\"max_revisions\"]:\n",
        "        return END\n",
        "    return \"reflect\""
      ]
    },
    {
      "cell_type": "code",
      "execution_count": 97,
      "id": "b284b45a",
      "metadata": {
        "id": "b284b45a"
      },
      "outputs": [],
      "source": [
        "builder = StateGraph(AgentState)"
      ]
    },
    {
      "cell_type": "code",
      "execution_count": 98,
      "id": "85e84c60",
      "metadata": {
        "colab": {
          "base_uri": "https://localhost:8080/"
        },
        "id": "85e84c60",
        "outputId": "594488d5-f310-44a7-bddf-e530c728c4f0"
      },
      "outputs": [
        {
          "output_type": "execute_result",
          "data": {
            "text/plain": [
              "<langgraph.graph.state.StateGraph at 0x161bdace690>"
            ]
          },
          "metadata": {},
          "execution_count": 98
        }
      ],
      "source": [
        "builder.add_node(\"planner\", plan_node)\n",
        "builder.add_node(\"generate\", generation_node)\n",
        "builder.add_node(\"reflect\", reflection_node)\n",
        "builder.add_node(\"research_plan\", research_plan_node)\n",
        "builder.add_node(\"research_critique\", research_critique_node)"
      ]
    },
    {
      "cell_type": "code",
      "execution_count": 99,
      "id": "d87b25c7",
      "metadata": {
        "colab": {
          "base_uri": "https://localhost:8080/"
        },
        "id": "d87b25c7",
        "outputId": "79650d39-bfbb-41f1-f9bb-f78f3cde409e"
      },
      "outputs": [
        {
          "output_type": "execute_result",
          "data": {
            "text/plain": [
              "<langgraph.graph.state.StateGraph at 0x161bdace690>"
            ]
          },
          "metadata": {},
          "execution_count": 99
        }
      ],
      "source": [
        "builder.set_entry_point(\"planner\")"
      ]
    },
    {
      "cell_type": "code",
      "execution_count": 100,
      "id": "c7d1a3cb",
      "metadata": {
        "colab": {
          "base_uri": "https://localhost:8080/"
        },
        "id": "c7d1a3cb",
        "outputId": "50fbaebb-bcb4-446c-9257-95d953ad46db"
      },
      "outputs": [
        {
          "output_type": "execute_result",
          "data": {
            "text/plain": [
              "<langgraph.graph.state.StateGraph at 0x161bdace690>"
            ]
          },
          "metadata": {},
          "execution_count": 100
        }
      ],
      "source": [
        "builder.add_conditional_edges(\n",
        "    \"generate\",\n",
        "    should_continue,\n",
        "    {END: END, \"reflect\": \"reflect\"}\n",
        ")\n"
      ]
    },
    {
      "cell_type": "code",
      "execution_count": 101,
      "id": "a427dc42",
      "metadata": {
        "colab": {
          "base_uri": "https://localhost:8080/"
        },
        "id": "a427dc42",
        "outputId": "b06c5f65-5dbf-4992-862e-cda0f584e8f5"
      },
      "outputs": [
        {
          "output_type": "execute_result",
          "data": {
            "text/plain": [
              "<langgraph.graph.state.StateGraph at 0x161bdace690>"
            ]
          },
          "metadata": {},
          "execution_count": 101
        }
      ],
      "source": [
        "builder.add_edge(\"planner\", \"research_plan\")\n",
        "builder.add_edge(\"research_plan\", \"generate\")\n",
        "\n",
        "builder.add_edge(\"reflect\", \"research_critique\")\n",
        "builder.add_edge(\"research_critique\", \"generate\")"
      ]
    },
    {
      "cell_type": "code",
      "execution_count": 102,
      "id": "0a5b5a9b",
      "metadata": {
        "id": "0a5b5a9b"
      },
      "outputs": [],
      "source": [
        "graph = builder.compile(checkpointer=memory)"
      ]
    },
    {
      "cell_type": "code",
      "execution_count": 105,
      "id": "177b213d",
      "metadata": {
        "colab": {
          "base_uri": "https://localhost:8080/",
          "height": 563
        },
        "id": "177b213d",
        "outputId": "e0cc36f4-bfa4-4ab3-cef4-06680c60bde6"
      },
      "outputs": [
        {
          "output_type": "display_data",
          "data": {
            "image/png": "[encoded data removed]",
            "text/plain": [
              "<IPython.core.display.Image object>"
            ]
          },
          "metadata": {}
        }
      ],
      "source": [
        "from IPython.display import Image, display\n",
        "from langchain_core.runnables.graph import CurveStyle, MermaidDrawMethod, NodeStyles\n",
        "\n",
        "image_bytes = graph.get_graph().draw_mermaid_png(draw_method=MermaidDrawMethod.API)\n",
        "\n",
        "display(Image(data=image_bytes))"
      ]
    },
    {
      "cell_type": "code",
      "execution_count": 108,
      "id": "948c6ec2",
      "metadata": {
        "colab": {
          "base_uri": "https://localhost:8080/"
        },
        "id": "948c6ec2",
        "outputId": "9ffc86f8-3921-46a0-a6d3-f11e3fe34b7f"
      },
      "outputs": [
        {
          "output_type": "stream",
          "name": "stdout",
          "text": [
            "{'planner': {'plan': 'I. Introduction\\n    A. Brief overview of Langchain and Langsmith\\n    B. Thesis statement: Exploring the differences between Langchain and Langsmith\\n\\nII. Langchain\\n    A. Definition and explanation\\n    B. Key features and characteristics\\n    C. Use cases and applications\\n    D. Advantages and disadvantages\\n\\nIII. Langsmith\\n    A. Definition and explanation\\n    B. Key features and characteristics\\n    C. Use cases and applications\\n    D. Advantages and disadvantages\\n\\nIV. Comparison between Langchain and Langsmith\\n    A. Technology stack\\n    B. Scalability\\n    C. Security\\n    D. Interoperability\\n    E. Performance\\n\\nV. Conclusion\\n    A. Recap of main differences between Langchain and Langsmith\\n    B. Future outlook and potential developments in the field\\n\\nNotes:\\n- Ensure to provide clear definitions and explanations of both Langchain and Langsmith.\\n- Include specific examples of use cases and applications for each technology.\\n- Use comparative analysis to highlight the distinctions between Langchain and Langsmith.\\n- Conclude with insights on the significance and implications of these differences in the context of blockchain technology.'}}\n",
            "{'research_plan': {'content': [\"What's the difference between Langchain and LangSmith? Langchain is a prototyping tool designed to help you quickly build applications with language models. On the other hand, LangSmith is geared towards production, offering features for version control, experimenting, and deploying language model applications at scale.\", 'LangChain vs LangGraph vs LangFlow vs LangSmith: A Detailed Comparison In the rapidly evolving world of AI, building applications powered by advanced language models like GPT-4 or Llama 3 has become more accessible, thanks to frameworks like LangChain, LangGraph, LangFlow, and LangSmith. While these tools share some similarities, they cater to different aspects of AI application development. LangChain is an open-source framework designed to streamline the development of applications leveraging language models. LangFlow simplifies the prototyping process by providing a visual, drag-and-drop interface to design and test workflows. LangSmith is a monitoring and testing tool for LLM applications in production. By leveraging these tools effectively, you can streamline your AI development process and focus on delivering impactful solutions.', 'LangChain vs LangGraph vs LangFlow vs LangSmith: A Detailed Comparison In the rapidly evolving world of AI, building applications powered by advanced language models like GPT-4 or Llama 3 has become more accessible, thanks to frameworks like LangChain, LangGraph, LangFlow, and LangSmith. While these tools share some similarities, they cater to different aspects of AI application development. LangChain is an open-source framework designed to streamline the development of applications leveraging language models. LangFlow simplifies the prototyping process by providing a visual, drag-and-drop interface to design and test workflows. LangSmith is a monitoring and testing tool for LLM applications in production. By leveraging these tools effectively, you can streamline your AI development process and focus on delivering impactful solutions.', 'But when it’s time to troubleshoot or improve your workflows, LangSmith steps in with tools to analyze, debug, and optimize. When it comes to practical application, I always say: “Show, don’t tell.” I’ve used both LangChain and LangSmith extensively, and I’ve found that they complement each other beautifully when you’re building and fine-tuning LLM-based workflows. Having spent countless hours building and debugging LLM-based systems, I’ve learned that using LangChain and LangSmith effectively requires a few smart strategies. I often use LangChain to build my pipelines and LangSmith to monitor and debug them. Start with LangChain to build your pipeline, and then bring in LangSmith to ensure it performs as expected.', 'Compare LangChain, LangSmith, and Orq.ai to discover the best LLM development tools for building, deploying, and optimizing scalable AI applications. As a comprehensive platform for LLM product development, LangChain equips software teams with the tools needed to build, test, and deploy LLM-powered solutions at scale. While LangChain focuses on the flexibility and modularity required for building LLM-powered applications, LangSmith steps in to offer essential tools for deployment, monitoring, and optimization throughout the production process. Orq.ai offers several advantages over LangChain and LangSmith, providing a more integrated and efficient solution for LLM development. By offering an integrated solution that supports the entire LLM development lifecycle, Orq.ai enables teams to seamlessly build, deploy, and optimize LLM applications at scale, without needing to juggle multiple specialized tools.', 'LangChain vs LangGraph vs LangFlow vs LangSmith: A Detailed Comparison In the rapidly evolving world of AI, building applications powered by advanced language models like GPT-4 or Llama 3 has become more accessible, thanks to frameworks like LangChain, LangGraph, LangFlow, and LangSmith. While these tools share some similarities, they cater to different aspects of AI application development. LangChain is an open-source framework designed to streamline the development of applications leveraging language models. LangFlow simplifies the prototyping process by providing a visual, drag-and-drop interface to design and test workflows. LangSmith is a monitoring and testing tool for LLM applications in production. By leveraging these tools effectively, you can streamline your AI development process and focus on delivering impactful solutions.']}}\n",
            "{'generate': {'draft': \"In the realm of AI application development, Langchain and Langsmith stand out as two distinct tools with unique functionalities and purposes. \\n\\nLangchain is a prototyping tool tailored to expedite the creation of applications utilizing language models. It serves as a platform for swiftly building applications that leverage advanced language models like GPT-4 or Llama 3. Langchain focuses on the initial stages of application development, providing a user-friendly interface for rapid prototyping and testing of ideas. This tool is ideal for developers looking to quickly iterate and experiment with different concepts before moving to production.\\n\\nOn the other hand, Langsmith is designed for production-level use, offering a suite of features geared towards version control, experimentation, and deploying language model applications at scale. Langsmith steps in when it's time to troubleshoot, analyze, debug, and optimize workflows. It ensures that applications built using language models are robust, efficient, and perform as expected in real-world scenarios. Langsmith's focus on monitoring and testing makes it an essential tool for maintaining the quality and reliability of language model applications in production environments.\\n\\nWhen comparing Langchain and Langsmith, it becomes evident that Langchain excels in the prototyping phase, enabling developers to quickly bring their ideas to life and test different approaches. On the other hand, Langsmith shines in the production phase, providing the necessary tools for monitoring, analyzing, and optimizing applications built with language models. While Langchain focuses on speed and agility in development, Langsmith prioritizes stability and performance in production environments.\\n\\nIn conclusion, the distinction between Langchain and Langsmith lies in their respective focuses on prototyping and production. By understanding the unique strengths of each tool and leveraging them effectively in different stages of the development lifecycle, developers can streamline their AI application development process and deliver impactful solutions efficiently.\", 'revision_number': 2}}\n",
            "{'reflect': {'critique': \"Overall, your essay provides a clear overview of the differences between Langchain and Langsmith in the context of AI application development. You effectively highlight the unique functionalities and purposes of each tool, emphasizing their roles in prototyping and production stages.\\n\\nTo enhance your essay, consider the following recommendations:\\n\\n1. **Provide Examples**: Incorporating specific examples of how Langchain and Langsmith have been used in real-world scenarios can help illustrate their functionalities and benefits more vividly. This can make your essay more engaging and provide practical insights for readers.\\n\\n2. **Expand on Features**: While you touch upon the features of Langchain and Langsmith, consider delving deeper into specific capabilities that set them apart. Provide more detailed explanations of the tools' functionalities, such as version control mechanisms, debugging processes, or optimization techniques.\\n\\n3. **Include Case Studies**: Introducing case studies or use cases where Langchain and Langsmith have been successfully applied can add depth to your analysis. By showcasing how these tools have contributed to the development of AI applications in different contexts, you can strengthen your argument about their effectiveness.\\n\\n4. **Discuss Limitations**: It would be beneficial to address any limitations or challenges associated with using Langchain and Langsmith. Acknowledging potential drawbacks can offer a more balanced perspective and help readers understand the considerations involved in selecting the appropriate tool for a given project.\\n\\n5. **Conclusion**: While your conclusion summarizes the key points effectively, consider reinforcing the significance of utilizing both Langchain and Langsmith in conjunction throughout the development lifecycle. Emphasize the synergies between prototyping and production phases and how leveraging both tools can lead to comprehensive AI application development.\\n\\n6. **Length and Depth**: To enhance the depth of your analysis, consider expanding on the technical aspects of Langchain and Langsmith, such as their integration with different language models, compatibility with various programming languages, or scalability features. Providing a more detailed exploration of these aspects can enrich your essay.\\n\\nBy incorporating these recommendations, you can enrich your essay with more detailed insights, practical examples, and a comprehensive analysis of Langchain and Langsmith in the context of AI application development. Keep refining your writing by incorporating specific details and real-world applications to strengthen your arguments further.\"}}\n",
            "{'research_critique': {'content': [\"What's the difference between Langchain and LangSmith? Langchain is a prototyping tool designed to help you quickly build applications with language models. On the other hand, LangSmith is geared towards production, offering features for version control, experimenting, and deploying language model applications at scale.\", 'LangChain vs LangGraph vs LangFlow vs LangSmith: A Detailed Comparison In the rapidly evolving world of AI, building applications powered by advanced language models like GPT-4 or Llama 3 has become more accessible, thanks to frameworks like LangChain, LangGraph, LangFlow, and LangSmith. While these tools share some similarities, they cater to different aspects of AI application development. LangChain is an open-source framework designed to streamline the development of applications leveraging language models. LangFlow simplifies the prototyping process by providing a visual, drag-and-drop interface to design and test workflows. LangSmith is a monitoring and testing tool for LLM applications in production. By leveraging these tools effectively, you can streamline your AI development process and focus on delivering impactful solutions.', 'LangChain vs LangGraph vs LangFlow vs LangSmith: A Detailed Comparison In the rapidly evolving world of AI, building applications powered by advanced language models like GPT-4 or Llama 3 has become more accessible, thanks to frameworks like LangChain, LangGraph, LangFlow, and LangSmith. While these tools share some similarities, they cater to different aspects of AI application development. LangChain is an open-source framework designed to streamline the development of applications leveraging language models. LangFlow simplifies the prototyping process by providing a visual, drag-and-drop interface to design and test workflows. LangSmith is a monitoring and testing tool for LLM applications in production. By leveraging these tools effectively, you can streamline your AI development process and focus on delivering impactful solutions.', 'But when it’s time to troubleshoot or improve your workflows, LangSmith steps in with tools to analyze, debug, and optimize. When it comes to practical application, I always say: “Show, don’t tell.” I’ve used both LangChain and LangSmith extensively, and I’ve found that they complement each other beautifully when you’re building and fine-tuning LLM-based workflows. Having spent countless hours building and debugging LLM-based systems, I’ve learned that using LangChain and LangSmith effectively requires a few smart strategies. I often use LangChain to build my pipelines and LangSmith to monitor and debug them. Start with LangChain to build your pipeline, and then bring in LangSmith to ensure it performs as expected.', 'Compare LangChain, LangSmith, and Orq.ai to discover the best LLM development tools for building, deploying, and optimizing scalable AI applications. As a comprehensive platform for LLM product development, LangChain equips software teams with the tools needed to build, test, and deploy LLM-powered solutions at scale. While LangChain focuses on the flexibility and modularity required for building LLM-powered applications, LangSmith steps in to offer essential tools for deployment, monitoring, and optimization throughout the production process. Orq.ai offers several advantages over LangChain and LangSmith, providing a more integrated and efficient solution for LLM development. By offering an integrated solution that supports the entire LLM development lifecycle, Orq.ai enables teams to seamlessly build, deploy, and optimize LLM applications at scale, without needing to juggle multiple specialized tools.', 'LangChain vs LangGraph vs LangFlow vs LangSmith: A Detailed Comparison In the rapidly evolving world of AI, building applications powered by advanced language models like GPT-4 or Llama 3 has become more accessible, thanks to frameworks like LangChain, LangGraph, LangFlow, and LangSmith. While these tools share some similarities, they cater to different aspects of AI application development. LangChain is an open-source framework designed to streamline the development of applications leveraging language models. LangFlow simplifies the prototyping process by providing a visual, drag-and-drop interface to design and test workflows. LangSmith is a monitoring and testing tool for LLM applications in production. By leveraging these tools effectively, you can streamline your AI development process and focus on delivering impactful solutions.', 'LangChain is a powerful framework designed to simplify the process of building applications powered by LLMs. It provides a modular, flexible, and extensible platform that abstracts away many of the complexities involved in interacting with LLMs, allowing developers to focus on the core logic of their applications. Unlike linear chains, LangGraph enables complex branching, looping, and conditional logic, making it ideal for building sophisticated AI agents that require memory and can make dynamic decisions based on the current state. Debugging: Allows developers to inspect prompts, LLM responses, and tool interactions within the application workflow. From building foundational LLM applications with LangChain to modeling intricate stateful agents with LangGraph and ensuring reliability with LangSmith, these tools are indispensable in the modern landscape of AI development.', 'But when it’s time to troubleshoot or improve your workflows, LangSmith steps in with tools to analyze, debug, and optimize. When it comes to practical application, I always say: “Show, don’t tell.” I’ve used both LangChain and LangSmith extensively, and I’ve found that they complement each other beautifully when you’re building and fine-tuning LLM-based workflows. Having spent countless hours building and debugging LLM-based systems, I’ve learned that using LangChain and LangSmith effectively requires a few smart strategies. I often use LangChain to build my pipelines and LangSmith to monitor and debug them. Start with LangChain to build your pipeline, and then bring in LangSmith to ensure it performs as expected.', 'But when it’s time to troubleshoot or improve your workflows, LangSmith steps in with tools to analyze, debug, and optimize. When it comes to practical application, I always say: “Show, don’t tell.” I’ve used both LangChain and LangSmith extensively, and I’ve found that they complement each other beautifully when you’re building and fine-tuning LLM-based workflows. Having spent countless hours building and debugging LLM-based systems, I’ve learned that using LangChain and LangSmith effectively requires a few smart strategies. I often use LangChain to build my pipelines and LangSmith to monitor and debug them. Start with LangChain to build your pipeline, and then bring in LangSmith to ensure it performs as expected.', 'While our standard documentation covers the basics, this repository delves into common patterns and some real-world use-cases, empowering you to optimize your LLM applications further. As a tool, LangSmith empowers you to debug, evaluate, test, and improve your LLM applications continuously. These recipes present real-world scenarios for you to adapt and implement. Tracing your code Tracing allows for seamless debugging and improvement of your LLM applications.', \"Thousands of companies build AI apps better with LangChain products. ### Rakuten Group builds with LangChain and LangSmith to deliver premium products for its business clients ### How Dun & Bradstreet's ChatD&B™ uses LangChain and LangSmith to deliver trusted, data-driven AI insights ### Vodafone transforms data operations with AI using LangChain and LangGraph The Robocorp team conceived an AI-powered developer assistant named ReMark powered by LangChain. “Working with LangChain and LangSmith on the Elastic AI Assistant had a significant positive impact on the overall pace and quality of the development and shipping experience. We couldn’t have achieved \\xa0the product experience delivered to our customers without LangChain, and we couldn’t have done it at the same pace without LangSmith.”\", 'How Outshift by Cisco achieved a 10x productivity boost with their Agentic AI Platform Engineer How DocentPro Built a Multi-Agent Travel Companion with LangGraph See how DocentPro built a multi-agent system in LangGraph and traces and monitors interactions with LangSmith for their AI search itinerary agent See how cybersecurity company Trellix used LangGraph Studio to visualize and debug agent interactions, plus LangSmith for agent evaluations TAMM AI Assistant: Transforming Government Services in Abu Dhabi with LangChain and LangGraph\" See how the Abu Dhabi Government powers their government services platform with LangGraph and LangChain to achieve efficiency and precision. Why Definely chose LangGraph for building their multi-agent AI system Vodafone transforms data operations with AI using LangChain and LangGraph How Inconvo is improving customer-facing analytics with conversational AI built on LangGraph']}}\n",
            "{'generate': {'draft': \"**Title: Exploring the Contrasts Between LangChain and LangSmith in AI Development**\\n\\nI. Introduction\\nIn the realm of AI development, LangChain and LangSmith stand out as essential tools with distinct purposes. LangChain is a prototyping tool aimed at accelerating application development using language models, while LangSmith is tailored for production, offering features for version control, experimentation, and deploying language model applications at scale.\\n\\nII. LangChain\\nLangChain serves as an open-source framework designed to streamline the creation of applications utilizing language models. Its key features include modularity, flexibility, and extensibility, abstracting complexities to focus on core application logic. Use cases range from foundational LLM applications to intricate stateful agents, making it ideal for various AI projects. While LangChain simplifies the development process, it may lack the advanced monitoring and testing capabilities required for production environments.\\n\\nIII. LangSmith\\nOn the other hand, LangSmith is a monitoring and testing tool specifically tailored for LLM applications in production. It steps in to analyze, debug, and optimize workflows, ensuring applications perform as expected. LangSmith's focus on deployment, monitoring, and optimization throughout the production process makes it indispensable for maintaining and enhancing LLM applications in real-world scenarios.\\n\\nIV. Comparison between LangChain and LangSmith\\n- **Technology Stack:** LangChain emphasizes streamlining development, while LangSmith focuses on monitoring and testing in production.\\n- **Scalability:** LangChain aids in building scalable LLM-powered solutions, whereas LangSmith ensures the scalability and reliability of applications in production.\\n- **Security:** LangChain and LangSmith may have different security features tailored to their respective development and production environments.\\n- **Interoperability:** LangChain and LangSmith may have varying levels of compatibility with other tools and frameworks in the AI ecosystem.\\n- **Performance:** LangChain optimizes development efficiency, while LangSmith enhances application performance and reliability in production settings.\\n\\nV. Conclusion\\nIn conclusion, the differences between LangChain and LangSmith are crucial for AI developers to understand. While LangChain streamlines development and prototyping, LangSmith focuses on production-level monitoring and testing. By leveraging the strengths of both tools effectively, developers can enhance their AI development processes and deliver impactful solutions. As AI technology continues to evolve, the unique roles of LangChain and LangSmith will play a vital part in shaping the future of AI application development.\", 'revision_number': 3}}\n"
          ]
        }
      ],
      "source": [
        "thread = {\"configurable\": {\"thread_id\": \"1\"}}\n",
        "for s in graph.stream({\n",
        "    'task': \"what is the difference between langchain and langsmith\",\n",
        "    \"max_revisions\": 2,\n",
        "    \"revision_number\": 1,\n",
        "    \"content\": [],  # Add the 'content' key with an empty list as the initial value\n",
        "}, thread):\n",
        "    print(s)\n"
      ]
    },
    {
      "cell_type": "markdown",
      "id": "ddba9f53",
      "metadata": {
        "id": "ddba9f53"
      },
      "source": [
        "## Essay Writer Interface"
      ]
    },
    {
      "cell_type": "code",
      "execution_count": 109,
      "id": "1d80eb81",
      "metadata": {
        "id": "1d80eb81"
      },
      "outputs": [],
      "source": [
        "import warnings\n",
        "warnings.filterwarnings(\"ignore\")\n",
        "\n",
        "from helper import ewriter, writer_gui"
      ]
    },
    {
      "cell_type": "code",
      "execution_count": 110,
      "id": "800956df",
      "metadata": {
        "colab": {
          "base_uri": "https://localhost:8080/",
          "height": 573
        },
        "id": "800956df",
        "outputId": "1f37cb1a-841d-4be6-e3ec-109fd9b93e3a"
      },
      "outputs": [
        {
          "output_type": "stream",
          "name": "stdout",
          "text": [
            "* Running on local URL:  http://127.0.0.1:7860\n",
            "\n",
            "To create a public link, set `share=True` in `launch()`.\n"
          ]
        },
        {
          "output_type": "display_data",
          "data": {
            "text/plain": [
              "<IPython.core.display.HTML object>"
            ],
            "text/html": [
              "<div><iframe src=\"http://127.0.0.1:7860/\" width=\"100%\" height=\"500\" allow=\"autoplay; camera; microphone; clipboard-read; clipboard-write;\" frameborder=\"0\" allowfullscreen></iframe></div>"
            ]
          },
          "metadata": {}
        }
      ],
      "source": [
        "MultiAgent = ewriter()\n",
        "app = writer_gui(MultiAgent.graph)\n",
        "app.launch()"
      ]
    },
    {
      "cell_type": "code",
      "execution_count": null,
      "id": "45c9f63a",
      "metadata": {
        "id": "45c9f63a"
      },
      "outputs": [],
      "source": []
    }
  ],
  "metadata": {
    "kernelspec": {
      "display_name": "langenv",
      "language": "python",
      "name": "python3"
    },
    "language_info": {
      "codemirror_mode": {
        "name": "ipython",
        "version": 3
      },
      "file_extension": ".py",
      "mimetype": "text/x-python",
      "name": "python",
      "nbconvert_exporter": "python",
      "pygments_lexer": "ipython3",
      "version": "3.11.11"
    },
    "colab": {
      "provenance": []
    }
  },
  "nbformat": 4,
  "nbformat_minor": 5
}