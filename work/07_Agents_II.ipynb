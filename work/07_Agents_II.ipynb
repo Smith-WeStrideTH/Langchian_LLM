{
  "cells": [
    {
      "cell_type": "code",
      "execution_count": null,
      "metadata": {
        "id": "C1H62LJqni4p"
      },
      "outputs": [],
      "source": [
        "import warnings\n",
        "from pprint import pprint\n",
        "warnings.filterwarnings('ignore')"
      ]
    },
    {
      "cell_type": "code",
      "execution_count": null,
      "metadata": {
        "colab": {
          "base_uri": "https://localhost:8080/"
        },
        "id": "sQC0wQMvnjQJ",
        "outputId": "f7337a2b-c726-4468-e531-f7bbc68b38ad"
      },
      "outputs": [
        {
          "name": "stdout",
          "output_type": "stream",
          "text": [
            "API Key loaded successfully.\n"
          ]
        }
      ],
      "source": [
        "import os\n",
        "from dotenv import load_dotenv\n",
        "\n",
        "# Load environment variables from .env file\n",
        "load_dotenv('./credential/cred.env')\n",
        "\n",
        "# Get the API key from the environment variables\n",
        "api_key = os.environ.get(\"API_KEY\")\n",
        "\n",
        "# Check if the API key was found\n",
        "if api_key:\n",
        "  print(\"API Key loaded successfully.\")\n",
        "else:\n",
        "  print(\"API Key not found in the environment variables.\")\n",
        "os.environ[\"OPENAI_API_KEY\"] = api_key"
      ]
    },
    {
      "cell_type": "markdown",
      "metadata": {
        "id": "iMNPRphfmOIO"
      },
      "source": [
        "# Chapter 7. Agents II\n",
        "\n",
        "บทที่ 6 ได้แนะนำสถาปัตยกรรมตัวแทน ซึ่งเป็นสถาปัตยกรรม LLM ที่ทรงพลังที่สุดที่เราได้เห็นจนถึงขณะนี้ เป็นการยากที่จะพูดเกินจริงถึงศักยภาพของการผสมผสานนี้ของการเขียนพรอมต์แบบ chain-of-thought การใช้เครื่องมือ และการวนซ้ำ\n",
        "\n",
        "**บทนี้กล่าวถึงส่วนขยายสองส่วนของสถาปัตยกรรมตัวแทนที่ปรับปรุงประสิทธิภาพสำหรับกรณีการใช้งานบางอย่าง:**\n",
        "\n",
        "- **Reflection (การสะท้อนกลับ)**\n",
        "การนำอีกหน้าหนึ่งจากคลังเก็บรูปแบบการคิดของมนุษย์ สิ่งนี้เกี่ยวกับการให้โอกาสแอปพลิเคชัน LLM ของคุณในการวิเคราะห์ผลลัพธ์และตัวเลือกในอดีต พร้อมกับความสามารถในการจดจำการสะท้อนกลับจากการวนซ้ำในอดีต\n",
        "\n",
        "- **Multi-agent (หลายตัวแทน)**\n",
        "เช่นเดียวกับที่ทีมสามารถบรรลุเป้าหมายได้มากกว่าบุคคลคนเดียว มีปัญหาบางอย่างที่สามารถแก้ไขได้ดีที่สุดโดยทีมของตัวแทน LLM\n",
        "\n",
        "มาเริ่มต้นด้วยการสะท้อนกลับกัน"
      ]
    },
    {
      "cell_type": "markdown",
      "metadata": {
        "id": "pBcObMl5mmXe"
      },
      "source": [
        "# Reflection\n",
        "**การสะท้อนกลับ**\n",
        "\n",
        "เทคนิคการเขียนพรอมต์อย่างหนึ่งที่เรายังไม่ได้กล่าวถึงคือ การสะท้อนกลับ (หรือที่เรียกว่าการวิจารณ์ตนเอง) การสะท้อนกลับคือการสร้างลูประหว่างพรอมต์ผู้สร้างและพรอมต์ผู้แก้ไข สิ่งนี้สะท้อนกระบวนการสร้างสรรค์สำหรับสิ่งประดิษฐ์ที่สร้างโดยมนุษย์หลายอย่าง เช่น บทนี้ที่คุณกำลังอ่านอยู่ ซึ่งเป็นผลมาจากการโต้ตอบระหว่างผู้เขียน ผู้ตรวจทาน และบรรณาธิการจนกว่าทุกคนจะพอใจกับผลิตภัณฑ์ขั้นสุดท้าย\n",
        "\n",
        "เช่นเดียวกับเทคนิคการเขียนพรอมต์หลายอย่างที่เราได้เห็นมาจนถึงตอนนี้ การสะท้อนกลับสามารถรวมกับเทคนิคอื่นๆ เช่น chain-of-thought และการเรียกใช้งานเครื่องมือได้ ในส่วนนี้ เราจะดูการสะท้อนกลับแบบแยกส่วน เพื่อความชัดเจน\n",
        "\n",
        "สามารถเปรียบเทียบได้กับโหมดการคิดของมนุษย์ที่เรียกว่า ระบบ 1 (ตอบสนองหรือสัญชาตญาณ) และระบบ 2 (มีระเบียบวิธีและมีการสะท้อนกลับ) ซึ่ง Daniel Kahneman ได้แนะนำครั้งแรกในหนังสือ Thinking, Fast and Slow (Farrar, Straus and Giroux, 2011) เมื่อนำไปใช้ถูกต้อง การวิจารณ์ตนเองสามารถช่วยให้แอปพลิเคชัน LLM เข้าใกล้สิ่งที่คล้ายคลึงกับพฤติกรรมของระบบ 2 ได้มากขึ้น ดังรูป\n",
        "\n",
        "---\n",
        "\n",
        "<img align=\"top\" src=\"./pics/Figure7-1.png\"     style=\" width:380px; padding: 10px; \" >\n",
        "\n",
        "---\n",
        "\n"
      ]
    },
    {
      "cell_type": "markdown",
      "metadata": {
        "id": "M4jlYb9znRtb"
      },
      "source": [
        "เราจะนำการสะท้อนกลับไปใช้เป็นกราฟที่มีสองโหนด: `generate` และ `reflect` กราฟนี้จะมีภารกิจในการเขียนเรียงความสามย่อหน้า โดยโหนด generate เขียนหรือแก้ไขร่างของเรียงความ และ `reflect` เขียนคำวิจารณ์เพื่อแจ้งการแก้ไขครั้งถัดไป เราจะเรียกใช้ลูปจำนวนครั้งคงที่ แต่รูปแบบที่แตกต่างกันของเทคนิคนี้คือการให้โหนด `reflect` ตัดสินใจว่าจะเสร็จสิ้นเมื่อใด\n",
        "\n",
        "มาดูกันว่ามันมีลักษณะอย่างไร:"
      ]
    },
    {
      "cell_type": "code",
      "execution_count": null,
      "metadata": {
        "id": "vLZxxTQXmMMy"
      },
      "outputs": [],
      "source": [
        "from typing import Annotated, TypedDict\n",
        "\n",
        "from langchain_core.messages import (\n",
        "    AIMessage,\n",
        "    BaseMessage,\n",
        "    HumanMessage,\n",
        "    SystemMessage,\n",
        ")\n",
        "from langchain_openai import ChatOpenAI\n",
        "\n",
        "from langgraph.graph import END, START, StateGraph\n",
        "from langgraph.graph.message import add_messages\n",
        "\n",
        "model = ChatOpenAI()\n",
        "\n",
        "class State(TypedDict):\n",
        "    messages: Annotated[list[BaseMessage], add_messages]\n",
        "\n",
        "generate_prompt = SystemMessage(\n",
        "    \"You are an essay assistant tasked with writing excellent 3-paragraph essays.\"\n",
        "    \" Generate the best essay possible for the user's request.\"\n",
        "    \" If the user provides critique, respond with a revised version of your previous attempts.\"\n",
        ")\n",
        "\n",
        "def generate(state: State) -> State:\n",
        "    answer = model.invoke([generate_prompt] + state[\"messages\"])\n",
        "    return {\"messages\": [answer]}\n",
        "\n",
        "reflection_prompt = SystemMessage(\n",
        "    \"\"\"You are a teacher grading an essay submission. Generate critique and\n",
        "        recommendations for the user's submission.\"\"\"\n",
        "    \"\"\" Provide detailed recommendations, including requests for length, depth,\n",
        "        style, etc.\"\"\"\n",
        ")\n",
        "\n",
        "def reflect(state: State) -> State:\n",
        "    # Invert the messages to get the LLM to reflect on its own output\n",
        "    cls_map = {AIMessage: HumanMessage, HumanMessage: AIMessage}\n",
        "    # First message is the original user request. We hold it the same for all nodes\n",
        "    translated = [reflection_prompt, state[\"messages\"][0]] + [\n",
        "        cls_map[msg.__class__](content=msg.content) for msg in state[\"messages\"][1:]\n",
        "    ]\n",
        "    answer = model.invoke(translated)\n",
        "    # We treat the output of this as human feedback for the generator\n",
        "    return {\"messages\": [HumanMessage(content=answer.content)]}\n",
        "\n",
        "def should_continue(state: State):\n",
        "    if len(state[\"messages\"]) > 6:\n",
        "        # End after 3 iterations, each with 2 messages\n",
        "        return END\n",
        "    else:\n",
        "        return \"reflect\"\n",
        "\n",
        "builder = StateGraph(State)\n",
        "builder.add_node(\"generate\", generate)\n",
        "builder.add_node(\"reflect\", reflect)\n",
        "builder.add_edge(START, \"generate\")\n",
        "builder.add_conditional_edges(\"generate\", should_continue)\n",
        "builder.add_edge(\"reflect\", \"generate\")\n",
        "\n",
        "graph = builder.compile()"
      ]
    },
    {
      "cell_type": "code",
      "execution_count": null,
      "metadata": {
        "colab": {
          "base_uri": "https://localhost:8080/",
          "height": 266
        },
        "id": "DHytQeWZnldm",
        "outputId": "a7837ab9-eea6-4352-e55a-4a75380b507c"
      },
      "outputs": [
        {
          "data": {
            "image/png": "[encoded data removed]",
            "text/plain": [
              "<IPython.core.display.Image object>"
            ]
          },
          "metadata": {},
          "output_type": "display_data"
        }
      ],
      "source": [
        "from IPython.display import Image, display\n",
        "from langchain_core.runnables.graph import CurveStyle, MermaidDrawMethod, NodeStyles\n",
        "\n",
        "image_bytes = graph.get_graph().draw_mermaid_png(draw_method=MermaidDrawMethod.API)\n",
        "\n",
        "display(Image(data=image_bytes))"
      ]
    },
    {
      "cell_type": "markdown",
      "metadata": {
        "id": "XrGaUzXioAK9"
      },
      "source": [
        "สังเกตว่าโหนด `reflect` หลอกให้ LLM คิดว่ากำลังวิจารณ์เรียงความที่เขียนโดยผู้ใช้ และในเวลาเดียวกัน โหนด `generate` ถูกทำให้คิดว่าคำวิจารณ์มาจากผู้ใช้\n",
        "- การลวงนี้จำเป็นเนื่องจาก LLM ที่ได้รับการปรับแต่งด้วยการสนทนาได้รับการฝึกอบรมบนคู่ของข้อความระหว่างมนุษย์กับ AI ดังนั้น ลำดับของข้อความจำนวนมากจากผู้เข้าร่วมรายเดียวกันจะส่งผลให้ประสิทธิภาพการทำงานต่ำ\n",
        "\n",
        "**อีกสิ่งหนึ่งที่ควรทราบ:**คุณอาจคาดหวังว่าจุดสิ้นสุดจะเกิดขึ้นหลังจากขั้นตอนการแก้ไข แต่ในสถาปัตยกรรมนี้เรามี**จำนวน**การวนซ้ำของลูป `generate-reflect` ที่กำหนดไว้ ดังนั้นเราจึงสิ้นสุดหลังจาก generate (เพื่อให้ชุดการแก้ไขล่าสุดที่ร้องขอได้รับการจัดการ) รูปแบบหนึ่งของสถาปัตยกรรมนี้จะแทนที่ให้ขั้นตอนการสะท้อนกลับตัดสินใจสิ้นสุดกระบวนการ (เมื่อไม่มีความคิดเห็นเพิ่มเติม)"
      ]
    },
    {
      "cell_type": "markdown",
      "metadata": {
        "id": "uSeX-RDlo7uj"
      },
      "source": [
        "มาดูกันว่าหนึ่งในคำวิจารณ์มีลักษณะอย่างไร:\n",
        "\n",
        "```\n",
        "{\n",
        "    'messages': [\n",
        "        HumanMessage(content='Your essay on the topicality of \"The Little Prince\"\n",
        "            and its message in modern life is well-written and insightful. You\n",
        "            have effectively highlighted the enduring relevance of the book\\'s\n",
        "            themes and its importance in today\\'s society. However, there are a\n",
        "            few areas where you could enhance your essay:\\n\\n1. **Depth**:\n",
        "            While you touch upon the themes of cherishing simple joys,\n",
        "            nurturing connections, and understanding human relationships,\n",
        "            consider delving deeper into each of these themes. Provide specific\n",
        "            examples from the book to support your points and explore how these\n",
        "            themes manifest in contemporary life.\\n\\n2. **Analysis**: Consider\n",
        "            analyzing how the book\\'s messages can be applied to current\n",
        "            societal issues or personal experiences. For instance, you could\n",
        "            discuss how the Little Prince\\'s perspective on materialism relates\n",
        "            to consumer culture or explore how his approach to relationships\n",
        "            can inform interpersonal dynamics in the digital age.\\n\\n3.\n",
        "            **Length**: Expand on your ideas by adding more examples,\n",
        "            discussing counterarguments, or exploring the cultural impact of\n",
        "            \"The Little Prince\" in different parts of the world. This will\n",
        "            enrich the depth of your analysis and provide a more comprehensive\n",
        "            understanding of the book\\'s relevance.\\n\\n4. **Style**: Your essay\n",
        "            is clear and well-structured. To enhance the engagement of your\n",
        "            readers, consider incorporating quotes from the book to illustrate\n",
        "            key points or including anecdotes to personalize your analysis.\n",
        "            \\n\\n5. **Conclusion**: Conclude your essay by summarizing the\n",
        "            enduring significance of \"The Little Prince\" and how its messages\n",
        "            can inspire positive change in modern society. Reflect on the\n",
        "            broader implications of the book\\'s themes and leave the reader\n",
        "            with a lasting impression.\\n\\nBy expanding on your analysis,\n",
        "            incorporating more examples, and deepening your exploration of the\n",
        "            book\\'s messages, you can create a more comprehensive and\n",
        "            compelling essay on the topicality of \"The Little Prince\" in modern\n",
        "            life. Well done on your thoughtful analysis, and keep up the good\n",
        "            work!', id='70c22b1d-ec96-4dc3-9fd0-d2c6463f9e2c'),\n",
        "    ],\n",
        "}\n",
        "```"
      ]
    },
    {
      "cell_type": "markdown",
      "metadata": {
        "id": "0Irg0pk5pKbX"
      },
      "source": [
        "และผลลัพธ์สุดท้าย:\n",
        "```\n",
        "{\n",
        "    'messages': [\n",
        "        AIMessage(content='\"The Little Prince\" by Antoine de Saint-Exupéry stands\n",
        "            as a timeless masterpiece that continues to offer profound insights\n",
        "            into human relationships and values, resonating with readers across\n",
        "            generations. The narrative of the Little Prince\\'s travels and\n",
        "            encounters with a myriad of characters serves as a rich tapestry of\n",
        "            allegorical representations, inviting readers to delve deeper into\n",
        "            the complexities of interpersonal connections and the essence of\n",
        "            existence. Through critical analysis of the Prince\\'s interactions\n",
        "            with characters like the Fox and the Rose, readers can glean\n",
        "            valuable lessons on empathy, understanding, and the significance of\n",
        "            genuine human connections. By examining these encounters through a\n",
        "            critical lens and drawing parallels to real-life scenarios, the\n",
        "            book\\'s messages come to life with renewed relevance and depth.\n",
        "            \\n\\nIn today\\'s fast-paced and interconnected world, the themes\n",
        "            explored in \"The Little Prince\" offer poignant reflections on the\n",
        "            challenges and opportunities of modern society. By integrating\n",
        "            contemporary examples and case studies that illustrate how the\n",
        "            book\\'s principles manifest in current societal trends and\n",
        "            interpersonal dynamics, readers can better appreciate the enduring\n",
        "            relevance of the Prince\\'s timeless wisdom. Through a comparative\n",
        "            analysis that juxtaposes the struggles faced by the characters in\n",
        "            the book with the complexities of today\\'s world, readers can gain\n",
        "            a deeper understanding of how the book\\'s messages transcend time\n",
        "            and offer universal truths that guide individuals in navigating the\n",
        "            intricacies of human relationships and societal dynamics.\n",
        "            \\n\\nMoreover, the global impact of \"The Little Prince\" underscores\n",
        "            its universal resonance and cultural significance. By exploring how\n",
        "            the book\\'s themes have resonated with audiences worldwide and how\n",
        "            cultural interpretations shape the understanding of its messages,\n",
        "            readers can appreciate the depth and breadth of Saint-Exupéry\\'s\n",
        "            work. As readers reflect on the book\\'s enduring relevance and the\n",
        "            lessons it imparts, they are encouraged to actively apply these\n",
        "            insights in their daily lives, fostering a more empathetic and\n",
        "            compassionate society. By offering a call to action that prompts\n",
        "            readers to embrace the book\\'s teachings and integrate them into\n",
        "            their interactions and relationships, the essay aims to inspire\n",
        "            individuals to embody the spirit of the Little Prince and cultivate\n",
        "            meaningful connections that transcend boundaries and enrich lives\n",
        "            in a rapidly changing world.', response_metadata={'token_usage':\n",
        "            {'completion_tokens': 420, 'prompt_tokens': 2501, 'total_tokens':\n",
        "            2921}, 'model_name': 'gpt-3.5-turbo', 'system_fingerprint': None,\n",
        "            'finish_reason': 'stop', 'logprobs': None},\n",
        "            id='run-2e8f9f13-f625-4820-9c8b-b64e1c23daa2-0', usage_metadata=\n",
        "            {'input_tokens': 2501, 'output_tokens': 420, 'total_tokens': 2921}),\n",
        "    ],\n",
        "}\n",
        "```"
      ]
    },
    {
      "cell_type": "code",
      "execution_count": null,
      "metadata": {},
      "outputs": [],
      "source": [
        "user_prompt = HumanMessage(content=\"Write a 3-paragraph essay about the importance of kindness. (make sure your output is thai language)\")\n",
        "result = graph.invoke({\"messages\": [user_prompt]})\n",
        "result\n"
      ]
    },
    {
      "cell_type": "markdown",
      "metadata": {
        "id": "CvUpUfPBpZPa"
      },
      "source": [
        "การสะท้อนกลับประเภทง่ายๆ นี้อาจช่วยปรับปรุงประสิทธิภาพได้บางครั้ง โดยการให้ LLM มีโอกาสปรับปรุงผลลัพธ์หลายครั้ง และโดยการให้โหนด `reflect` รับบทบาทที่แตกต่างออกไปขณะวิจารณ์ผลลัพธ์\n",
        "\n",
        "มีรูปแบบที่เป็นไปได้หลายอย่างของสถาปัตยกรรมนี้ สำหรับหนึ่งในนั้น เราสามารถรวมขั้นตอนการสะท้อนกลับเข้ากับสถาปัตยกรรมตัวแทนของ บทที่ 6\n",
        "- โดยเพิ่มเป็นโหนดสุดท้ายก่อนส่งเอาต์พุตไปยังผู้ใช้ สิ่งนี้จะทำให้คำวิจารณ์ปรากฏว่ามาจากผู้ใช้ (ดังที่กล่าวไว้ข้างต้น)\n",
        "- และให้โอกาสแอปพลิเคชันในการปรับปรุงผลลัพธ์ขั้นสุดท้ายโดยไม่ต้องมีการแทรกแซงโดยตรงจากผู้ใช้ เห็นได้ชัดว่าวิธีนี้อาจส่งผลให้เกิดเวลาแฝงที่สูงขึ้น\n",
        "\n",
        "ในบางกรณีการใช้งาน อาจเป็นประโยชน์ในการอ้างอิงคำวิจารณ์ด้วยข้อมูลภายนอก ตัวอย่างเช่น หากคุณกำลังเขียนตัวแทนการสร้างโค้ด คุณอาจมีขั้นตอนก่อน `reflect` ที่จะเรียกใช้โค้ดผ่าน `linter` หรือคอมไพล์เลอร์ และรายงานข้อผิดพลาดใดๆ เป็นอินพุตไปยัง `reflect`\n",
        "\n"
      ]
    },
    {
      "cell_type": "markdown",
      "metadata": {
        "id": "guTlT58dp0vM"
      },
      "source": [
        "**เคล็ดลับ** : เมื่อใดก็ตามที่วิธีนี้เป็นไปได้ เราขอแนะนำให้ลองใช้ เนื่องจากมีแนวโน้มที่จะเพิ่มคุณภาพของผลลัพธ์ขั้นสุดท้าย"
      ]
    },
    {
      "cell_type": "markdown",
      "metadata": {
        "id": "kJHtnXlOqC-L"
      },
      "source": [
        "# Subgraphs in LangGraph\n",
        "\n",
        "\n",
        "ก่อนที่เราจะเจาะลึกรายละเอียดสถาปัตยกรรมหลายตัวแทน มาดูแนวคิดทางเทคนิคที่สำคัญใน LangGraph ที่ช่วยให้สามารถทำได้ Subgraphs คือ**กราฟที่ใช้เป็นส่วนหนึ่งของกราฟอื่นๆ** ต่อไปนี้คือกรณีการใช้งานบางอย่างสำหรับ subgraphs:\n",
        "\n",
        "- การสร้างระบบหลายตัวแทน (กล่าวถึงในหัวข้อถัดไป)\n",
        "\n",
        "- เมื่อคุณต้องการนำชุดโหนดกลับมาใช้ใหม่ในหลายกราฟ คุณสามารถกำหนดโหนดเหล่านั้นเพียงครั้งเดียวใน subgraph จากนั้นจึงใช้ในกราฟหลักหลายตัว\n",
        "\n",
        "- เมื่อคุณต้องการให้ทีมต่างๆ ทำงานในส่วนต่างๆ ของกราฟอย่างอิสระ คุณสามารถกำหนดแต่ละส่วนเป็น subgraph และตราบใดที่อินเทอร์เฟซ subgraph (รูปแบบอินพุตและเอาต์พุต) เป็นไปตามที่กำหนด กราฟหลักสามารถสร้างได้โดยไม่ทราบรายละเอียดใดๆ ของ subgraph\n",
        "\n",
        "**มีสองวิธีในการเพิ่มโหนด subgraph ลงในกราฟหลัก:**\n",
        "\n",
        "- **เพิ่มโหนดที่เรียกใช้งาน subgraph โดยตรง**\n",
        "วิธีนี้มีประโยชน์เมื่อกราฟหลักและ subgraph ใช้คีย์สถานะร่วมกัน และคุณไม่จำเป็นต้องแปลงสถานะในระหว่างทางเข้าหรือออก\n",
        "\n",
        "- **เพิ่มโหนดที่มีฟังก์ชันที่เรียกใช้งาน subgraph**\n",
        "วิธีนี้มีประโยชน์เมื่อกราฟหลักและ subgraph มีรูปแบบสถานะที่แตกต่างกัน และคุณจำเป็นต้องแปลงสถานะก่อนหรือหลังการเรียกใช้งาน subgraph\n",
        "\n",
        "มาดูกันทีละวิธี"
      ]
    },
    {
      "cell_type": "markdown",
      "metadata": {
        "id": "JOeqPw8nqg54"
      },
      "source": [
        "## Calling a Subgraph Directly\n",
        "\n",
        "\n",
        "**วิธีที่ง่ายที่สุดในการสร้างโหนด subgraph คือการแนบ subgraph โดยตรงเป็นโหนด**\n",
        "- เมื่อทำเช่นนั้น สิ่งสำคัญคือกราฟหลักและ subgraph ต้องใช้คีย์สถานะร่วมกัน เนื่องจากคีย์ที่ใช้ร่วมกันเหล่านั้นคือสิ่งที่พวกเขาสามารถใช้เพื่อสื่อสาร (หากกราฟและ subgraph ของคุณไม่มีคีย์ใดๆ ที่ใช้ร่วมกัน ให้ดูส่วนถัดไป)\n",
        "\n",
        "**หมายเหตุ:**\n",
        "- หากคุณส่งผ่านคีย์พิเศษไปยังโหนด subgraph (นั่นคือ นอกเหนือจากคีย์ที่ใช้ร่วมกัน) คีย์พิเศษเหล่านั้นจะถูกโหนด subgraph ละเว้น\n",
        "- ในทำนองเดียวกัน หากคุณส่งคืนคีย์พิเศษจาก subgraph คีย์พิเศษเหล่านั้นจะถูกกราฟหลักละเว้น\n",
        "\n",
        "มาดูกันว่ามันทำงานอย่างไรในทางปฏิบัติ:"
      ]
    },
    {
      "cell_type": "code",
      "execution_count": null,
      "metadata": {
        "id": "PL51PcqFnyEG"
      },
      "outputs": [],
      "source": [
        "from langgraph.graph import START, StateGraph, END\n",
        "from typing import TypedDict\n",
        "\n",
        "class State(TypedDict):\n",
        "    foo: str # this key is shared with the subgraph\n",
        "\n",
        "class SubgraphState(TypedDict):\n",
        "    foo: str # this key is shared with the parent graph\n",
        "    bar: str\n",
        "\n",
        "# Define subgraph\n",
        "def subgraph_node(state: SubgraphState):\n",
        "    # note that this subgraph node can communicate with the parent graph via the shared \"foo\" key\n",
        "    return {\"foo\": state[\"foo\"] + \"bar\"}\n",
        "\n",
        "subgraph_builder = StateGraph(SubgraphState)\n",
        "subgraph_builder.add_node(subgraph_node)\n",
        "# Add an edge to connect START to subgraph_node to initiate the workflow\n",
        "subgraph_builder.add_edge(START, \"subgraph_node\")\n",
        "subgraph = subgraph_builder.compile()\n",
        "\n",
        "# Define parent graph\n",
        "builder = StateGraph(State)\n",
        "# Instead of adding the subgraph directly, add a node that calls the subgraph's invoke method\n",
        "builder.add_node(\"subgraph_caller\", lambda state: subgraph.invoke(state)) \n",
        "builder.add_edge(START, \"subgraph_caller\")\n",
        "graph = builder.compile()"
      ]
    },
    {
      "cell_type": "code",
      "execution_count": null,
      "metadata": {
        "id": "fxgzdXf_w2pu"
      },
      "outputs": [],
      "source": [
        "# prompt: display graph\n",
        "\n",
        "image_bytes = graph.get_graph().draw_mermaid_png(draw_method=MermaidDrawMethod.API)\n",
        "\n",
        "display(Image(data=image_bytes))\n"
      ]
    },
    {
      "cell_type": "markdown",
      "metadata": {
        "id": "TzBQihqyyUio"
      },
      "source": [
        "## Calling a Subgraph with a Function\n",
        "\n",
        "\n",
        "คุณอาจต้องการกำหนด subgraph ที่มีรูปแบบแผนผังที่แตกต่างออกไปอย่างสิ้นเชิง\n",
        "\n",
        "1.ในกรณีนั้น คุณสามารถสร้างโหนดที่มีฟังก์ชันที่เรียกใช้งาน `subgraph` ฟังก์ชันนี้จะต้องแปลงอินพุต (สถานะหลัก) เป็นสถานะ `subgraph` ก่อนเรียกใช้งาน `subgraph` และแปลงผลลัพธ์กลับเป็นสถานะหลักก่อนส่งคืนการอัปเดตสถานะจากโหนด\n",
        "\n",
        "มาดูกันว่ามันทำงานอย่างไร:\n",
        "\n"
      ]
    },
    {
      "cell_type": "code",
      "execution_count": null,
      "metadata": {
        "id": "_ZPlYGPVx3vH"
      },
      "outputs": [],
      "source": [
        "from langgraph.graph import START, StateGraph, END\n",
        "from typing import TypedDict\n",
        "\n",
        "class State(TypedDict):\n",
        "    foo: str\n",
        "\n",
        "class SubgraphState(TypedDict):\n",
        "    # none of these keys are shared with the parent graph state\n",
        "    bar: str\n",
        "    baz: str\n",
        "\n",
        "# Define subgraph\n",
        "def subgraph_node(state: SubgraphState):\n",
        "    return {\"bar\": state[\"bar\"] + \"baz\"}\n",
        "\n",
        "subgraph_builder = StateGraph(SubgraphState)\n",
        "subgraph_builder.add_node(subgraph_node)\n",
        "subgraph_builder.add_edge(START, \"subgraph_node\")\n",
        "subgraph = subgraph_builder.compile()\n",
        "\n",
        "# Define parent graph\n",
        "def node(state: State):\n",
        "    # transform the state to the subgraph state\n",
        "    response = subgraph.invoke({\"bar\": state[\"foo\"]})\n",
        "    # transform response back to the parent state\n",
        "    return {\"foo\": response[\"bar\"]}\n",
        "\n",
        "builder = StateGraph(State)\n",
        "# note that we are using `node` function instead of a compiled subgraph\n",
        "builder.add_node(node)\n",
        "builder.add_edge(START, \"node\")\n",
        "graph = builder.compile()"
      ]
    },
    {
      "cell_type": "markdown",
      "metadata": {
        "id": "_NpEiZ1j-lC0"
      },
      "source": [
        "ตอนนี้ที่เรารู้วิธีการใช้ subgraphs แล้ว มาดูหนึ่งในกรณีการใช้งานที่สำคัญสำหรับ subgraphs: สถาปัตยกรรมหลายตัวแทน\n",
        "\n"
      ]
    },
    {
      "cell_type": "markdown",
      "metadata": {
        "id": "ib-W-aRi_QIa"
      },
      "source": [
        "# Multi-Agent Architectures\n",
        "\n",
        "**สถาปัตยกรรมหลายตัวแทน**\n",
        "\n",
        "เมื่อตัวแทน LLM เติบโตขึ้นในขนาด ขอบเขต หรือความซับซ้อน ปัญหาหลายอย่างอาจปรากฏขึ้นและส่งผลกระทบต่อประสิทธิภาพ เช่นต่อไปนี้:\n",
        "\n",
        "- ตัวแทนได้รับเครื่องมือมากเกินไปในการเลือก และตัดสินใจไม่ดีว่าจะเรียกใช้เครื่องมือใดต่อไป (บทที่ 6 กล่าวถึงแนวทางในการแก้ปัญหานี้บางประการ)\n",
        "- บริบทซับซ้อนเกินไปสำหรับตัวแทนตัวเดียวที่จะติดตาม กล่าวคือ ขนาดของพรอมต์และจำนวนสิ่งที่กล่าวถึงเกินขีดความสามารถของโมเดลที่คุณใช้อยู่\n",
        "- คุณต้องการใช้ระบบย่อยเฉพาะสำหรับพื้นที่เฉพาะ เช่น การวางแผน การวิจัย การแก้ปัญหาทางคณิตศาสตร์ เป็นต้น\n",
        "ในการแก้ไขปัญหาดังกล่าว\n",
        "\n",
        "คุณอาจพิจารณาแบ่งแอปพลิเคชันของคุณออกเป็นตัวแทนขนาดเล็กหลายตัวที่เป็นอิสระ และประกอบเข้าด้วยกันเป็นระบบหลายตัวแทน ตัวแทนอิสระเหล่านี้สามารถง่ายได้เช่น พรอมต์และการเรียกใช้งาน LLM หรือซับซ้อนเช่น ตัวแทน ReAct (แนะนำใน บทที่ 6)\n",
        "\n",
        "ดังรูปนี้ แสดงวิธีต่างๆ ในการเชื่อมต่อตัวแทนในระบบหลายตัวแทน\n",
        "\n",
        "---\n",
        "\n",
        "<img align=\"top\" src=\"./pics/Figure7-3.png\"     style=\" width:380px; padding: 10px; \" >\n",
        "\n",
        "---"
      ]
    },
    {
      "cell_type": "markdown",
      "metadata": {
        "id": "3xKCc4IhA8eV"
      },
      "source": [
        "มาดูรูป ละเอียดยิ่งขึ้น:\n",
        "\n",
        "- **เครือข่าย (Network):**\n",
        "\n",
        "ตัวแทนแต่ละตัวสามารถสื่อสารกับตัวแทนอื่นๆ ได้ทุกตัว\n",
        "ตัวแทนใดๆ ก็ตามสามารถตัดสินใจได้ว่าควรเรียกใช้ตัวแทนอื่นใดต่อไป\n",
        "- **ผู้ควบคุม (Supervisor):**\n",
        "\n",
        "ตัวแทนแต่ละตัวสื่อสารกับตัวแทนตัวเดียวที่เรียกว่า ผู้ควบคุม\n",
        "ตัวแทนผู้ควบคุมตัดสินใจว่าควรเรียกใช้ตัวแทนใด (หรือตัวแทนใดบ้าง) ต่อไป\n",
        "กรณีพิเศษของสถาปัตยกรรมนี้ใช้การเรียกใช้งาน LLM พร้อมกับเครื่องมือเป็นตัวแทนผู้ควบคุม ตามที่กล่าวถึงใน บทที่ 6\n",
        "- **ลำดับชั้น (Hierarchical):**\n",
        "\n",
        "คุณสามารถกำหนดระบบหลายตัวแทนที่มีผู้ควบคุมระดับสูง\n",
        "นี่คือลักษณะทั่วไปของสถาปัตยกรรมผู้ควบคุมและช่วยให้สามารถควบคุมโฟลว์ที่ซับซ้อนยิ่งขึ้น\n",
        "- **เวิร์กโฟลว์หลายตัวแทนแบบกำหนดเอง (Custom multi-agent workflow):**\n",
        "\n",
        "ตัวแทนแต่ละตัวสื่อสารกับเฉพาะชุดย่อยของตัวแทน\n",
        "ส่วนต่างๆ ของโฟลว์มีความแน่นอน และมีเพียงตัวแทนบางตัวเท่านั้นที่สามารถตัดสินใจได้ว่าจะเรียกใช้ตัวแทนอื่นใดต่อไป\n",
        "\n",
        "**ส่วนถัดไปจะเจาะลึกรายละเอียดเพิ่มเติมเกี่ยวกับสถาปัตยกรรมผู้ควบคุม ซึ่งเราคิดว่ามีความสมดุลที่ดีระหว่างความสามารถและความง่ายในการใช้งาน**"
      ]
    },
    {
      "cell_type": "markdown",
      "metadata": {
        "id": "OLZaqEW5D-ef"
      },
      "source": [
        "## Supervisor Architecture\n",
        "\n",
        "\n",
        "**สถาปัตยกรรมผู้ควบคุม**\n",
        "\n",
        "ในสถาปัตยกรรมนี้ เราเพิ่มตัวแทนแต่ละตัวลงในกราฟเป็นโหนด และเพิ่มโหนดผู้ควบคุม ซึ่งจะตัดสินใจว่าควรเรียกใช้ตัวแทนใดต่อไป เราใช้ขอบที่มีเงื่อนไขเพื่อกำหนดเส้นทางการดำเนินการไปยังโหนดตัวแทนที่เหมาะสมตามการตัดสินใจของผู้ควบคุม อ้างอิงกลับไปที่ บทที่ 5 สำหรับบทนำสู่ LangGraph ซึ่งกล่าวถึงแนวคิดของโหนด ขอบ และอื่นๆ\n",
        "\n",
        "มาดูกันก่อนว่าโหนดผู้ควบคุมมีลักษณะอย่างไร:"
      ]
    },
    {
      "cell_type": "code",
      "execution_count": null,
      "metadata": {
        "id": "2XJ0rjrs8Uin"
      },
      "outputs": [],
      "source": [
        "from typing import Literal\n",
        "from langchain_openai import ChatOpenAI\n",
        "from pydantic import BaseModel\n",
        "\n",
        "class SupervisorDecision(BaseModel):\n",
        "    next: Literal[\"researcher\", \"coder\", \"FINISH\"]\n",
        "\n",
        "model = ChatOpenAI(model=\"gpt-4o\", temperature=0)\n",
        "model = model.with_structured_output(SupervisorDecision)\n",
        "\n",
        "agents = [\"researcher\", \"coder\"]\n",
        "\n",
        "system_prompt_part_1 = f\"\"\"\n",
        "You are a supervisor tasked with managing a conversation between the\n",
        "following workers: {agents}. Given the following user request,\n",
        "respond with the worker to act next. Each worker will perform a\n",
        "task and respond with their results and status. When finished,\n",
        "respond with FINISH.\"\"\"\n",
        "\n",
        "system_prompt_part_2 = f\"\"\"\n",
        "Given the conversation above, who should act next?\n",
        "Or should we FINISH? Select one of: {', '.join(agents)}, FINISH\"\"\"\n",
        "\n",
        "def supervisor(state):\n",
        "    messages = [\n",
        "        (\"system\", system_prompt_part_1),\n",
        "        *state[\"messages\"],\n",
        "        (\"system\", \tsystem_prompt_part_2)\n",
        "    ]\n",
        "    return model.invoke(messages)"
      ]
    },
    {
      "cell_type": "code",
      "execution_count": null,
      "metadata": {},
      "outputs": [],
      "source": [
        "import os\n",
        "from typing import Literal\n",
        "from langchain_openai import ChatOpenAI\n",
        "from pydantic import BaseModel, Field\n",
        "\n",
        "# --- Your Provided Code ---\n",
        "class SupervisorDecision(BaseModel):\n",
        "    \"\"\"The decision on the next step.\"\"\"\n",
        "    next: Literal[\"researcher\", \"coder\", \"FINISH\"] = Field(description=\"The next worker to call, or FINISH.\")\n",
        "\n",
        "# --- MOCK MODEL FOR DEMONSTRATION ---\n",
        "# In a real scenario, you'd use your ChatOpenAI setup.\n",
        "# For this example, let's mock the behavior.\n",
        "class MockChatModel:\n",
        "    def invoke(self, messages):\n",
        "        # Simple logic for demo: if 'research' is mentioned, call researcher,\n",
        "        # if 'code' or 'script' is mentioned AND researcher mentioned, call coder,\n",
        "        # otherwise assume finish (or default to researcher if unsure).\n",
        "        last_message_content = messages[-2][1] # Get the last actual message before the system prompt\n",
        "        if \"research\" in last_message_content.lower():\n",
        "             # If the user request contains research, start there\n",
        "             if len(messages) <= 3: # System1, User, System2 -> initial request\n",
        "                print(\"Mock Supervisor: Deciding 'researcher' based on initial request.\")\n",
        "                return SupervisorDecision(next=\"researcher\")\n",
        "             else: # Check if researcher already ran\n",
        "                 researcher_ran = any(\"[Researcher Output]\" in msg[1] for msg in messages if msg[0] == 'assistant')\n",
        "                 if researcher_ran and (\"code\" in last_message_content.lower() or \"script\" in last_message_content.lower()):\n",
        "                     print(\"Mock Supervisor: Deciding 'coder' after researcher.\")\n",
        "                     return SupervisorDecision(next=\"coder\")\n",
        "                 elif researcher_ran: # Researcher ran, but no coding requested or done\n",
        "                     print(\"Mock Supervisor: Deciding 'FINISH' after researcher (no coding needed/done).\")\n",
        "                     return SupervisorDecision(next=\"FINISH\")\n",
        "                 else: # Should have run researcher first\n",
        "                     print(\"Mock Supervisor: Deciding 'researcher' (should have run already?).\")\n",
        "                     return SupervisorDecision(next=\"researcher\")\n",
        "\n",
        "        elif \"code\" in last_message_content.lower() or \"script\" in last_message_content.lower():\n",
        "            coder_ran = any(\"[Coder Output]\" in msg[1] for msg in messages if msg[0] == 'assistant')\n",
        "            if coder_ran:\n",
        "                print(\"Mock Supervisor: Deciding 'FINISH' after coder.\")\n",
        "                return SupervisorDecision(next=\"FINISH\")\n",
        "            else:\n",
        "                 print(\"Mock Supervisor: Deciding 'coder' based on request.\")\n",
        "                 return SupervisorDecision(next=\"coder\") # Assume research not needed or done\n",
        "        else:\n",
        "            print(\"Mock Supervisor: Deciding 'FINISH' (default/unclear request).\")\n",
        "            return SupervisorDecision(next=\"FINISH\")\n",
        "\n",
        "model = MockChatModel() # Use the mock model for this example\n",
        "# model = ChatOpenAI(model=\"gpt-4o\", temperature=0) # Your original model\n",
        "# model = model.with_structured_output(SupervisorDecision) # Your original structuring\n",
        "\n",
        "agents = [\"researcher\", \"coder\"]\n",
        "\n",
        "system_prompt_part_1 = f\"\"\"\n",
        "You are a supervisor tasked with managing a conversation between the\n",
        "following workers: {agents}. Given the following user request,\n",
        "respond with the worker to act next. Each worker will perform a\n",
        "task and respond with their results and status. When finished,\n",
        "respond with FINISH.\"\"\"\n",
        "\n",
        "system_prompt_part_2 = f\"\"\"\n",
        "Given the conversation above, who should act next?\n",
        "Or should we FINISH? Select one of: {', '.join(agents)}, FINISH\"\"\"\n",
        "\n",
        "def supervisor(state):\n",
        "    print(\"\\n--- Supervisor Called ---\")\n",
        "    print(\"Current State Messages:\")\n",
        "    for msg_type, msg_content in state[\"messages\"]:\n",
        "        print(f\"- {msg_type}: {msg_content[:100]}...\") # Print truncated messages\n",
        "    messages = [\n",
        "        (\"system\", system_prompt_part_1),\n",
        "        *state[\"messages\"],\n",
        "        (\"system\",  system_prompt_part_2)\n",
        "    ]\n",
        "    # In a real scenario, ensure your OPENAI_API_KEY is set if using ChatOpenAI\n",
        "    # os.environ[\"OPENAI_API_KEY\"] = \"your-api-key\"\n",
        "    decision = model.invoke(messages)\n",
        "    print(f\"Supervisor Decision: {decision.next}\")\n",
        "    print(\"--- Supervisor Finished ---\")\n",
        "    return {\"next_action\": decision} # Often you return the decision structured for the graph\n",
        "\n",
        "# --- Example Usage ---\n",
        "\n",
        "# 1. Initial call\n",
        "initial_state = {\n",
        "    \"messages\": [(\"user\", \"Please research the company 'FutureTech Inc.' and then write a python script to print its founding year.\")]\n",
        "}\n",
        "supervisor_decision_1 = supervisor(initial_state)\n",
        "# Expected Mock Output (based on simple logic): Supervisor decides 'researcher'\n",
        "\n",
        "# 2. Simulate Researcher's response and call supervisor again\n",
        "state_after_researcher = {\n",
        "    \"messages\": [\n",
        "        (\"user\", \"Please research the company 'FutureTech Inc.' and then write a python script to print its founding year.\"),\n",
        "        (\"assistant\", \"[Researcher Output]: FutureTech Inc. was founded in 2010 according to public records.\") # Researcher adds its result\n",
        "    ]\n",
        "}\n",
        "supervisor_decision_2 = supervisor(state_after_researcher)\n",
        "# Expected Mock Output: Supervisor sees research done, decides 'coder'\n",
        "\n",
        "# 3. Simulate Coder's response and call supervisor again\n",
        "state_after_coder = {\n",
        "     \"messages\": [\n",
        "        (\"user\", \"Please research the company 'FutureTech Inc.' and then write a python script to print its founding year.\"),\n",
        "        (\"assistant\", \"[Researcher Output]: FutureTech Inc. was founded in 2010 according to public records.\"),\n",
        "        (\"assistant\", \"[Coder Output]: ```python\\nprint('FutureTech Inc. Founding Year: 2010')\\n```\") # Coder adds its result\n",
        "    ]\n",
        "}\n",
        "supervisor_decision_3 = supervisor(state_after_coder)\n",
        "# Expected Mock Output: Supervisor sees coding done, decides 'FINISH'"
      ]
    },
    {
      "cell_type": "markdown",
      "metadata": {
        "id": "tZegu8PfE-vI"
      },
      "source": [
        "**หมายเหตุ :**\n",
        "\n",
        "โค้ดในพรอมต์ต้องการให้ชื่อของตัวแทนย่อยมีความอธิบายและแตกต่างกันอย่างชัดเจน ตัวอย่างเช่น หากเรียกว่า `agent_1` และ `agent_2` อย่างง่ายๆ LLM จะไม่มีข้อมูลในการตัดสินใจว่าตัวใดเหมาะสมสำหรับงานแต่ละอย่าง หากจำเป็น คุณสามารถปรับเปลี่ยนพรอมต์เพื่อเพิ่มคำอธิบายของตัวแทนแต่ละตัว ซึ่งจะช่วยให้ LLM ในการเลือกตัวแทนสำหรับแต่ละคิวรี\n",
        "\n"
      ]
    },
    {
      "cell_type": "markdown",
      "metadata": {
        "id": "ketqHs5jFFaa"
      },
      "source": [
        "ตอนนี้มาดูวิธีการรวมโหนดผู้ควบคุมนี้เข้ากับกราฟที่ใหญ่กว่าซึ่งรวมถึงตัวแทนย่อยอื่นๆ สองตัว ซึ่งเราจะเรียกว่า `researcher` และ `coder` เป้าหมายโดยรวมของเรากับกราฟนี้คือการจัดการคิวรีที่สามารถตอบกลับได้ทั้งโดย `researcher` เอง หรือ `coder` เอง หรือแม้กระทั่งทั้งคู่ตามลำดับ ตัวอย่างนี้ไม่รวมถึงการใช้งานสำหรับ `researcher` หรือ `coder` แนวคิดหลักคือพวกเขาอาจเป็นกราฟหรือโหนด LangGraph อื่นๆ"
      ]
    },
    {
      "cell_type": "code",
      "execution_count": null,
      "metadata": {
        "id": "z2NdBZAuETd4"
      },
      "outputs": [],
      "source": [
        "from typing import Literal\n",
        "from langchain_openai import ChatOpenAI\n",
        "from langgraph.graph import StateGraph, MessagesState, START\n",
        "\n",
        "model = ChatOpenAI()\n",
        "\n",
        "class AgentState(BaseModel):\n",
        "    next: Literal[\"researcher\", \"coder\", \"FINISH\"]\n",
        "\n",
        "def researcher(state: AgentState):\n",
        "    response = model.invoke(...)\n",
        "    return {\"messages\": [response]}\n",
        "\n",
        "def coder(state: AgentState):\n",
        "    response = model.invoke(...)\n",
        "    return {\"messages\": [response]}\n",
        "\n",
        "builder = StateGraph(AgentState)\n",
        "builder.add_node(supervisor)\n",
        "builder.add_node(researcher)\n",
        "builder.add_node(coder)\n",
        "\n",
        "builder.add_edge(START, \"supervisor\")\n",
        "# route to one of the agents or exit based on the supervisor's decision\n",
        "builder.add_conditional_edges(\"supervisor\", lambda state: state[\"next\"])\n",
        "builder.add_edge(\"researcher\", \"supervisor\")\n",
        "builder.add_edge(\"coder\", \"supervisor\")\n",
        "\n",
        "supervisor = builder.compile()"
      ]
    },
    {
      "cell_type": "code",
      "execution_count": null,
      "metadata": {
        "colab": {
          "base_uri": "https://localhost:8080/",
          "height": 266
        },
        "id": "Jn3Wn_lVFfeN",
        "outputId": "2cf206e1-1b6b-47bd-b29e-afa72dd27ea1"
      },
      "outputs": [
        {
          "data": {
            "image/png": "[encoded data removed]",
            "text/plain": [
              "<IPython.core.display.Image object>"
            ]
          },
          "metadata": {},
          "output_type": "display_data"
        }
      ],
      "source": [
        "from IPython.display import Image, display\n",
        "from langchain_core.runnables.graph import CurveStyle, MermaidDrawMethod, NodeStyles\n",
        "\n",
        "image_bytes = supervisor.get_graph().draw_mermaid_png(draw_method=MermaidDrawMethod.API)\n",
        "\n",
        "display(Image(data=image_bytes))"
      ]
    },
    {
      "cell_type": "markdown",
      "metadata": {
        "id": "FIw3gzNMFuUr"
      },
      "source": [
        "**สิ่งที่ควรสังเกต:** ในตัวอย่างนี้ ตัวแทนย่อยทั้งสอง (researcher และ coder) สามารถเห็นงานของกันและกันได้ เนื่องจากความคืบหน้าทั้งหมดถูกบันทึกไว้ในรายการข้อความ สิ่งนี้ไม่ใช่วิธีเดียวในการจัดระเบียบนี้ ตัวแทนย่อยแต่ละตัวอาจมีความซับซ้อนมากขึ้น ตัวอย่างเช่น ตัวแทนย่อยอาจเป็นกราฟของตัวเองที่รักษาสถานะภายในและส่งออกเฉพาะสรุปของงานที่ทำเท่านั้น\n",
        "\n",
        "หลังจากที่ตัวแทนแต่ละตัวดำเนินการ เราจะกำหนดเส้นทางกลับไปยังโหนดผู้ควบคุม ซึ่งจะตัดสินใจว่ามีงานเพิ่มเติมที่ต้องทำหรือไม่ และควรมอบหมายงานนั้นให้กับตัวแทนใด หากเป็นเช่นนั้น การกำหนดเส้นทางนี้ไม่ใช่ข้อกำหนดที่ยากสำหรับสถาปัตยกรรมนี้ เราสามารถให้ตัวแทนย่อยแต่ละตัวตัดสินใจว่าควรส่งออกผลลัพธ์โดยตรงไปยังผู้ใช้หรือไม่ ในการทำเช่นนั้น เราจะแทนที่ขอบคงที่ระหว่าง ตัวอย่างเช่น researcher และ supervisor ด้วยขอบที่มีเงื่อนไข (ซึ่งจะอ่านคีย์สถานะบางอย่างที่อัปเดตโดย researcher)"
      ]
    },
    {
      "cell_type": "markdown",
      "metadata": {},
      "source": [
        "# Hierarchical Architecture"
      ]
    },
    {
      "cell_type": "code",
      "execution_count": null,
      "metadata": {},
      "outputs": [],
      "source": [
        "import operator\n",
        "from typing import TypedDict, Annotated, Literal, Sequence\n",
        "\n",
        "# Langchain/Langgraph imports (ensure you have langchain and langgraph installed)\n",
        "# pip install langchain langchain_openai langgraph tavily-python\n",
        "from langchain_core.messages import BaseMessage, HumanMessage\n",
        "from langchain_openai import ChatOpenAI\n",
        "from langgraph.graph import StateGraph, END\n",
        "\n",
        "# Optional: For real LLM decision making (replace simple logic if needed)\n",
        "# from langchain_core.pydantic_v1 import BaseModel\n",
        "\n",
        "# --- Define the State ---\n",
        "# This dictionary holds the information passed between nodes.\n",
        "class HierarchicalAgentState(TypedDict):\n",
        "    query: str              # The initial user request\n",
        "    supervisor_decision: Literal[\"route_to_a\", \"route_to_b\", \"error\"] # Decision from top supervisor\n",
        "    result_a: str | None    # Result from MidLevelAgentA\n",
        "    result_b: str | None    # Result from MidLevelAgentB\n",
        "    final_result: str       # The final aggregated result\n",
        "\n",
        "# --- Define Nodes (as functions) ---\n",
        "\n",
        "# 1. Top Supervisor Node\n",
        "#    (Using simple logic here; could be an LLM call with structured output)\n",
        "def top_supervisor_node(state: HierarchicalAgentState) -> HierarchicalAgentState:\n",
        "    \"\"\"Decides which mid-level agent to route the query to.\"\"\"\n",
        "    print(\"--- Top Supervisor ---\")\n",
        "    query = state['query']\n",
        "    print(f\"Query: {query}\")\n",
        "    decision: Literal[\"route_to_a\", \"route_to_b\", \"error\"]\n",
        "    if \"alpha\" in query.lower():\n",
        "        print(\"Decision: Route to Mid-Level Agent A\")\n",
        "        decision = \"route_to_a\"\n",
        "    elif \"beta\" in query.lower():\n",
        "        print(\"Decision: Route to Mid-Level Agent B\")\n",
        "        decision = \"route_to_b\"\n",
        "    else:\n",
        "        print(\"Decision: Cannot determine route\")\n",
        "        decision = \"error\" # Or handle error appropriately\n",
        "\n",
        "    return {\"supervisor_decision\": decision, \"result_a\": None, \"result_b\": None} # Reset results\n",
        "\n",
        "# 2. Mid-Level Agent A Node (Simulated work)\n",
        "def mid_level_agent_a_node(state: HierarchicalAgentState) -> HierarchicalAgentState:\n",
        "    \"\"\"Performs Task A.\"\"\"\n",
        "    print(\"--- Mid-Level Agent A ---\")\n",
        "    query = state['query']\n",
        "    # Simulate processing related to \"alpha\"\n",
        "    result = f\"Processed query '{query}' using ALPHA protocol.\"\n",
        "    print(f\"Result: {result}\")\n",
        "    return {\"result_a\": result}\n",
        "\n",
        "# 3. Mid-Level Agent B Node (Simulated work)\n",
        "def mid_level_agent_b_node(state: HierarchicalAgentState) -> HierarchicalAgentState:\n",
        "    \"\"\"Performs Task B.\"\"\"\n",
        "    print(\"--- Mid-Level Agent B ---\")\n",
        "    query = state['query']\n",
        "    # Simulate processing related to \"beta\"\n",
        "    result = f\"Processed query '{query}' using BETA framework.\"\n",
        "    print(f\"Result: {result}\")\n",
        "    return {\"result_b\": result}\n",
        "\n",
        "# 4. Aggregator Node\n",
        "def aggregator_node(state: HierarchicalAgentState) -> HierarchicalAgentState:\n",
        "    \"\"\"Collects results and prepares the final output.\"\"\"\n",
        "    print(\"--- Aggregator ---\")\n",
        "    final_result = \"No result generated.\"\n",
        "    if state.get(\"result_a\"):\n",
        "        final_result = f\"Final Output from A: {state['result_a']}\"\n",
        "    elif state.get(\"result_b\"):\n",
        "        final_result = f\"Final Output from B: {state['result_b']}\"\n",
        "    elif state['supervisor_decision'] == \"error\":\n",
        "         final_result = \"Error: Could not determine appropriate processing path.\"\n",
        "\n",
        "    print(f\"Final Result: {final_result}\")\n",
        "    return {\"final_result\": final_result}\n",
        "\n",
        "# --- Define Conditional Edges ---\n",
        "def route_based_on_decision(state: HierarchicalAgentState) -> Literal[\"mid_level_agent_a\", \"mid_level_agent_b\", \"aggregator\"]:\n",
        "    \"\"\"Determines the next node based on the supervisor's decision.\"\"\"\n",
        "    print(\"--- Routing ---\")\n",
        "    decision = state['supervisor_decision']\n",
        "    if decision == \"route_to_a\":\n",
        "        print(\"Routing to Agent A\")\n",
        "        return \"mid_level_agent_a\"\n",
        "    elif decision == \"route_to_b\":\n",
        "        print(\"Routing to Agent B\")\n",
        "        return \"mid_level_agent_b\"\n",
        "    else: # Handle error or unexpected cases\n",
        "        print(\"Routing directly to Aggregator (Error case)\")\n",
        "        return \"aggregator\" # Go directly to aggregator to report the error\n",
        "\n",
        "# --- Build the Graph ---\n",
        "workflow = StateGraph(HierarchicalAgentState)\n",
        "\n",
        "# Add nodes\n",
        "workflow.add_node(\"top_supervisor\", top_supervisor_node)\n",
        "workflow.add_node(\"mid_level_agent_a\", mid_level_agent_a_node)\n",
        "workflow.add_node(\"mid_level_agent_b\", mid_level_agent_b_node)\n",
        "workflow.add_node(\"aggregator\", aggregator_node)\n",
        "\n",
        "# Define edges\n",
        "workflow.set_entry_point(\"top_supervisor\")\n",
        "\n",
        "# Conditional edge from supervisor to mid-level agents or aggregator\n",
        "workflow.add_conditional_edges(\n",
        "    \"top_supervisor\",\n",
        "    route_based_on_decision,\n",
        "    {\n",
        "        \"mid_level_agent_a\": \"mid_level_agent_a\",\n",
        "        \"mid_level_agent_b\": \"mid_level_agent_b\",\n",
        "        \"aggregator\": \"aggregator\", # Route directly if decision was error\n",
        "    }\n",
        ")\n",
        "\n",
        "# Edges from mid-level agents to the aggregator\n",
        "workflow.add_edge(\"mid_level_agent_a\", \"aggregator\")\n",
        "workflow.add_edge(\"mid_level_agent_b\", \"aggregator\")\n",
        "\n",
        "# The aggregator node leads to the end\n",
        "workflow.add_edge(\"aggregator\", END)\n",
        "\n",
        "# Compile the graph\n",
        "app = workflow.compile()\n",
        "\n",
        "# --- Run the Graph ---\n",
        "\n",
        "print(\"\\n--- Running Graph with 'alpha' query ---\")\n",
        "inputs_a = {\"query\": \"Please process the request for alpha team.\"}\n",
        "result_a_run = app.invoke(inputs_a)\n",
        "print(\"\\nFinal State (A):\", result_a_run)\n",
        "\n",
        "\n",
        "print(\"\\n\\n--- Running Graph with 'beta' query ---\")\n",
        "inputs_b = {\"query\": \"Need to execute the beta workflow.\"}\n",
        "result_b_run = app.invoke(inputs_b)\n",
        "print(\"\\nFinal State (B):\", result_b_run)\n",
        "\n",
        "\n",
        "print(\"\\n\\n--- Running Graph with 'unknown' query ---\")\n",
        "inputs_c = {\"query\": \"What is the weather today?\"}\n",
        "result_c_run = app.invoke(inputs_c)\n",
        "print(\"\\nFinal State (C):\", result_c_run)\n"
      ]
    },
    {
      "cell_type": "code",
      "execution_count": null,
      "metadata": {},
      "outputs": [],
      "source": [
        "from IPython.display import Image, display\n",
        "from langchain_core.runnables.graph import CurveStyle, MermaidDrawMethod, NodeStyles\n",
        "\n",
        "image_bytes = app.get_graph().draw_mermaid_png(draw_method=MermaidDrawMethod.API)\n",
        "\n",
        "display(Image(data=image_bytes))"
      ]
    },
    {
      "cell_type": "markdown",
      "metadata": {
        "id": "uMotv8DwGJ6b"
      },
      "source": [
        "# Summary\n",
        "**สรุป**\n",
        "\n",
        "บทนี้กล่าวถึงส่วนขยายที่สำคัญสองส่วนของสถาปัตยกรรมตัวแทน: การสะท้อนกลับ (Reflection) และสถาปัตยกรรมหลายตัวแทน (Multi-agent Architectures) บทนี้ยังได้กล่าวถึงวิธีการทำงานกับ subgraphs ใน LangGraph ซึ่งเป็นส่วนประกอบหลักสำหรับระบบหลายตัวแทน\n",
        "\n",
        "ส่วนขยายเหล่านี้เพิ่มพลังให้กับสถาปัตยกรรมตัวแทน LLM มากขึ้น แต่ไม่ควรเป็นสิ่งแรกที่คุณคว้ามาเมื่อสร้างตัวแทนใหม่ สถานที่ที่ดีที่สุดในการเริ่มต้นมักจะเป็นสถาปัตยกรรมตรงไปตรงมาที่เราได้กล่าวถึงใน บทที่ 6\n",
        "\n",
        "บทที่ 8 กลับมาที่การแลกเปลี่ยนระหว่างความน่าเชื่อถือ (Reliability) และความเป็นอิสระ (Agency) ซึ่งเป็นการตัดสินใจออกแบบที่สำคัญเมื่อสร้างแอปพลิเคชัน LLM ในปัจจุบัน สิ่งนี้มีความสำคัญอย่างยิ่งเมื่อใช้สถาปัตยกรรมตัวแทนหรือหลายตัวแทน เนื่องจากพลังของสถาปัตยกรรมเหล่านี้มาพร้อมกับค่าใช้จ่ายของความน่าเชื่อถือหากปล่อยทิ้งไว้โดยไม่ได้รับการตรวจสอบ หลังจากเจาะลึกลงไปว่าเหตุใดการแลกเปลี่ยนนี้จึงมีอยู่\n",
        "\n",
        "**บทที่ 8 จะกล่าวถึงเทคนิคที่สำคัญที่สุดที่มีให้คุณเพื่อนำทางการตัดสินใจนั้น และในที่สุดก็ปรับปรุงแอปพลิเคชันและตัวแทน LLM ของคุณ**\n",
        "\n"
      ]
    }
  ],
  "metadata": {
    "colab": {
      "provenance": []
    },
    "kernelspec": {
      "display_name": "Python 3",
      "name": "python3"
    },
    "language_info": {
      "name": "python"
    }
  },
  "nbformat": 4,
  "nbformat_minor": 0
}
