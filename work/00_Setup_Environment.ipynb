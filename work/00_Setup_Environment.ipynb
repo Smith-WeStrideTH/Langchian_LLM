{
  "cells": [
    {
      "cell_type": "markdown",
      "metadata": {
        "id": "magdxgFXtBJT"
      },
      "source": [
        "# Set up python (3.11.11)\n",
        "\n",
        "https://www.python.org/downloads/"
      ]
    },
    {
      "cell_type": "markdown",
      "metadata": {
        "id": "WnJwV2Mxtggb"
      },
      "source": [
        "# Set up Anaconda\n",
        "https://www.anaconda.com/download"
      ]
    },
    {
      "cell_type": "markdown",
      "metadata": {
        "id": "sv-gyZVtuCOa"
      },
      "source": [
        "# Set up Docker\n",
        "https://www.docker.com/products/docker-desktop/"
      ]
    },
    {
      "cell_type": "markdown",
      "metadata": {
        "id": "rMio5RbouOeg"
      },
      "source": [
        "# Anaconda Enviroment - Activation and Deactivation\n",
        "1. clone github :\n",
        "2. create python env (in Anaconda Prompt) [ตัวอย่าง](https://medium.com/@uraibeef/anaconda-%E0%B8%81%E0%B8%B2%E0%B8%A3%E0%B8%AA%E0%B8%A3%E0%B9%89%E0%B8%B2%E0%B8%87-environment-d3142988caab): `conda create -n langenv python=3.11.11`\n",
        "\n",
        "3. activate : `conda activate langenv`"
      ]
    },
    {
      "cell_type": "markdown",
      "metadata": {
        "id": "Y16_l6WvwH4Q"
      },
      "source": [
        "# Anaconda Enviroment - Install Requirements Libaries\n",
        "1. install libaries ที่เกี่ยวข้องเพื่อเริ่มต้น jupyter notenook [ตัวอย่าง](https://medium.com/@WamiqRaza/how-to-create-virtual-environment-jupyter-kernel-python-6836b50f4bf4)\n",
        "\n",
        "  - 1.1 `pip install jupyter`\n",
        "  - 2.2 `pip install ipython`\n",
        "  - 2.3 `pip install ipykernel`\n",
        "  - 2.4 `ipython kernel install --user --name=langenv`\n",
        "  - 2.5 `python -m ipykernel install --user --name=langenv`\n"
      ]
    },
    {
      "cell_type": "markdown",
      "metadata": {
        "id": "Jb1dTMdkw6G4"
      },
      "source": [
        "# Anaconda Enviroment - Google Colab Locally\n",
        "1. เปิด Anaconda Prompt และเข้าไปใน workstation\n",
        "2. activate : conda activate langenv\n",
        "3. พิมพ์ `jupyter notebook`\n",
        "4. copy link host ตัวอย่างเช่น `http://localhost:8888/tree?token=04fadd6969bb25a97bab62f41f0c79ba837ffff16a38e3b2` เข้าสู่ google colab"
      ]
    },
    {
      "cell_type": "markdown",
      "metadata": {
        "id": "jSlLGnYsylQi"
      },
      "source": [
        "# OpenAI API Key\n",
        "https://openai.com/index/openai-api/"
      ]
    },
    {
      "cell_type": "markdown",
      "metadata": {
        "id": "EpCQbrZ-yUDL"
      },
      "source": [
        "# Requirements.txt\n"
      ]
    }
  ],
  "metadata": {
    "colab": {
      "provenance": [],
      "toc_visible": true
    },
    "kernelspec": {
      "display_name": "Python 3",
      "name": "python3"
    },
    "language_info": {
      "name": "python"
    }
  },
  "nbformat": 4,
  "nbformat_minor": 0
}
