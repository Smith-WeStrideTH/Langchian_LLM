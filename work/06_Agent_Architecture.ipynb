{
  "cells": [
    {
      "cell_type": "code",
      "execution_count": null,
      "metadata": {
        "id": "6q6HiPDzY070"
      },
      "outputs": [],
      "source": [
        "import warnings\n",
        "from pprint import pprint\n",
        "warnings.filterwarnings('ignore')"
      ]
    },
    {
      "cell_type": "code",
      "execution_count": null,
      "metadata": {
        "colab": {
          "base_uri": "https://localhost:8080/"
        },
        "id": "CVw4EL_mY2UY",
        "outputId": "ee9b1426-f770-406d-a2a2-28b3ea75bbdd"
      },
      "outputs": [
        {
          "name": "stdout",
          "output_type": "stream",
          "text": [
            "API Key loaded successfully.\n"
          ]
        }
      ],
      "source": [
        "import os\n",
        "from dotenv import load_dotenv\n",
        "\n",
        "# Load environment variables from .env file\n",
        "load_dotenv('./credential/cred.env')\n",
        "\n",
        "# Get the API key from the environment variables\n",
        "api_key = os.environ.get(\"API_KEY\")\n",
        "\n",
        "# Check if the API key was found\n",
        "if api_key:\n",
        "  print(\"API Key loaded successfully.\")\n",
        "else:\n",
        "  print(\"API Key not found in the environment variables.\")\n",
        "os.environ[\"OPENAI_API_KEY\"] = api_key"
      ]
    },
    {
      "cell_type": "markdown",
      "metadata": {
        "id": "sTKs0L4pUqM5"
      },
      "source": [
        "\n",
        "# Chapter 6. Agent Architecture\n",
        "\n",
        "โดยอาศัยสถาปัตยกรรมที่อธิบายไว้ในบทที่ 5 บทนี้จะกล่าวถึงสิ่งที่อาจเป็นสถาปัตยกรรม LLM ที่สำคัญที่สุดในปัจจุบัน นั่นคือ สถาปัตยกรรมตัวแทน ก่อนอื่น เราจะแนะนำสิ่งที่ทำให้ตัวแทน LLM มีความโดดเด่น จากนั้นเราจะแสดงวิธีการสร้างและขยายสำหรับกรณีการใช้งานทั่วไป\n",
        "\n",
        "ในสาขาปัญญาประดิษฐ์ มีประวัติศาสตร์อันยาวนานในการสร้างตัวแทน (อัจฉริยะ) ซึ่งสามารถกำหนดได้ง่ายที่สุดว่า \"สิ่งที่กระทำ\" ตามคำกล่าวของ Stuart Russell และ Peter Norvig ในตำรา Artificial Intelligence (Pearson, 2020) ของพวกเขา คำว่ากระทำนั้นจริง ๆ แล้วมีความหมายมากกว่าที่เห็น:\n",
        "\n",
        "- การกระทำต้องมีความสามารถในการตัดสินใจว่าจะทำอะไร\n",
        "\n",
        "- การตัดสินใจว่าจะทำอะไร หมายถึงการเข้าถึงแนวทางปฏิบัติที่เป็นไปได้มากกว่าหนึ่งวิธี หลังจากทั้งหมด การตัดสินใจโดยไม่มีทางเลือกก็ไม่ใช่การตัดสินใจเลย\n",
        "\n",
        "- เพื่อที่จะตัดสินใจ ตัวแทนยังต้องเข้าถึงข้อมูลเกี่ยวกับสภาพแวดล้อมภายนอก (ทุกสิ่งที่อยู่นอกตัวแทนเอง)\n",
        "\n"
      ]
    },
    {
      "cell_type": "markdown",
      "metadata": {
        "id": "BrQD4B9iU4v_"
      },
      "source": [
        "ดังนั้น แอปพลิเคชัน LLM ตัวแทนต้องเป็นแอปพลิเคชันที่ใช้ LLM เพื่อเลือกจากหนึ่งในหลาย ๆ แนวทางปฏิบัติที่เป็นไปได้ โดยพิจารณาจากบริบทบางอย่างเกี่ยวกับสถานะปัจจุบันของโลกหรือสถานะถัดไปที่ต้องการ แอตทริบิวต์เหล่านี้มักจะถูกนำไปใช้โดยการผสมผสานเทคนิคการเขียนพรอมต์สองอย่างที่เราพบครั้งแรกในคำนำ:\n",
        "\n",
        "- **Tool calling**\n",
        "รวมฟังก์ชันภายนอกในพรอมต์ที่ LLM สามารถใช้ประโยชน์ได้ (นั่นคือ การกระทำที่สามารถตัดสินใจดำเนินการได้) และคำแนะนำเกี่ยวกับวิธีการจัดรูปแบบตัวเลือกในเอาต์พุตที่สร้างขึ้น คุณจะได้เห็นในไม่ช้าว่าสิ่งนี้มีลักษณะอย่างไรในพรอมต์\n",
        "\n",
        "- **Chain-of-thought**\n",
        "นักวิจัยพบว่า LLM “ตัดสินใจได้ดีขึ้น” เมื่อได้รับคำแนะนำให้ใช้เหตุผลเกี่ยวกับปัญหาที่ซับซ้อนโดยการแบ่งย่อยเป็นขั้นตอนย่อยที่ต้องดำเนินการตามลำดับ ซึ่งโดยปกติจะทำได้โดยการเพิ่มคำแนะนำในลักษณะของ “คิดทีละขั้นตอน” หรือรวมตัวอย่างของคำถามและการแยกย่อยเป็นหลายขั้นตอน/การกระทำ\n",
        "\n",
        "นี่คือตัวอย่างพรอมต์ที่ใช้ทั้งการเรียกใช้งานเครื่องมือและ chain-of-thought:\n",
        "\n",
        "```\n",
        "Tools:\n",
        "search: this tool accepts a web search query and returns the top results.\n",
        "calculator: this tool accepts math expressions and returns their result.\n",
        "\n",
        "If you want to use tools to arrive at the answer, output the list of tools and\n",
        "inputs in CSV format, with the header row: tool,input.\n",
        "\n",
        "Think step by step; if you need to make multiple tool calls to arrive at the\n",
        "answer, return only the first one.\n",
        "\n",
        "How old was the 30th president of the United States when he died?\n",
        "\n",
        "tool,input\n",
        "```"
      ]
    },
    {
      "cell_type": "markdown",
      "metadata": {
        "id": "N-Mr_7cfVQ76"
      },
      "source": [
        "และเอาต์พุต เมื่อเรียกใช้กับ gpt-35-turbo-instruct ที่อุณหภูมิ 0 (เพื่อให้แน่ใจว่า LLM ทำตามรูปแบบเอาต์พุตที่ต้องการ CSV) และบรรทัดใหม่เป็นลำดับหยุด (ซึ่งสั่งให้ LLM หยุดการสร้างเอาต์พุตเมื่อถึงอักขระนี้) สิ่งนี้ทำให้ LLM สร้างการกระทำเดียว (ตามที่คาดไว้ ตามที่พรอมต์ขอ):\n",
        "```\n",
        "search,30th president of the United States\n",
        "```\n",
        "\n",
        "LLM และโมเดลแชทล่าสุดได้รับการปรับแต่งอย่างละเอียดเพื่อปรับปรุงประสิทธิภาพสำหรับการเรียกใช้งานเครื่องมือและแอปพลิเคชัน chain-of-thought ทำให้ไม่จำเป็นต้องเพิ่มคำแนะนำเฉพาะลงในพรอมต์ดังที่กล่าวไว้ข้างต้น:\n",
        "```\n",
        "add example prompt and output for tool-calling model\n",
        "```\n",
        "\n"
      ]
    },
    {
      "cell_type": "markdown",
      "metadata": {
        "id": "4AKfgYF4WFIE"
      },
      "source": [
        "# The Plan-Do Loop\n",
        "สิ่งที่ทำให้สถาปัตยกรรมตัวแทนแตกต่างจากสถาปัตยกรรมที่กล่าวถึงใน บทที่ 5 คือแนวคิดที่เรายังไม่ได้กล่าวถึง: **ลูปที่ขับเคลื่อนด้วย LLM**\n",
        "\n",
        "โปรแกรมเมอร์ทุกคนเคยพบกับลูปในโค้ดของตนมาก่อน โดยลูปหมายถึงการเรียกใช้โค้ดเดียวกันหลายครั้งจนกว่าจะถึงเงื่อนไขหยุด คีย์สำคัญของสถาปัตยกรรมตัวแทนคือการให้ LLM ควบคุมเงื่อนไขหยุด กล่าวคือ ตัดสินใจว่าจะหยุดการวนซ้ำเมื่อใด\n",
        "\n",
        "**สิ่งที่เราจะเรียกใช้ในลูปนี้จะเป็นบางส่วนของสิ่งต่อไปนี้:**\n",
        "\n",
        "1. วางแผนการกระทำหรือการกระทำ\n",
        "\n",
        "2. ดำเนินการกระทำดังกล่าว\n",
        "\n",
        "โดยอ้างอิงจากตัวอย่างในหัวข้อก่อนหน้า เราจะเรียกใช้เครื่องมือค้นหาด้วยอินพุต `30th president of the United States` ซึ่งจะสร้างเอาต์พุตนี้:\n",
        "```\n",
        "Calvin Coolidge (born John Calvin Coolidge Jr.; /ˈkuːlɪdʒ/; July 4, 1872 – January\n",
        "5, 1933) was an American attorney and politician who served as the 30th president\n",
        "of the United States from 1923 to 1929. John Calvin Coolidge Jr.\n",
        "```"
      ]
    },
    {
      "cell_type": "markdown",
      "metadata": {
        "id": "nUO_t6qvWun_"
      },
      "source": [
        "และจากนั้นเราจะเรียกใช้พรอมต์อีกครั้ง โดยมีการเพิ่มเล็กน้อย:\n",
        "```\n",
        "Tools:\n",
        "search: this tool accepts a web search query and returns the top results.\n",
        "calculator: this tool accepts math expressions and returns their result.\n",
        "output: this tool ends the interaction. Use it when you have the final answer.\n",
        "\n",
        "If you want to use tools to arrive at the answer, output the list of tools and\n",
        "inputs in CSV format, with this header row: tool,input\n",
        "\n",
        "Think step by step; if you need to make multiple tool calls to arrive at\n",
        "the answer, return only the first one.\n",
        "\n",
        "How old was the 30th president of the United States when he died?\n",
        "\n",
        "tool,input\n",
        "\n",
        "search,30th president of the United States\n",
        "\n",
        "search: Calvin Coolidge (born John Calvin Coolidge Jr.; /ˈkuːlɪdʒ/; July 4, 1872 –\n",
        "January 5, 1933) was an American attorney and politician who served as the 30th\n",
        "president of the United States from 1923 to 1929. John Calvin Coolidge Jr.\n",
        "\n",
        "tool,input\n",
        "```\n",
        "ผลลัพธ์คือ\n",
        "```\n",
        "calculator,1933 - 1872\n",
        "\n",
        "```"
      ]
    },
    {
      "cell_type": "markdown",
      "metadata": {
        "id": "DPHr4RwIW6sU"
      },
      "source": [
        "**สังเกตว่าเราได้เพิ่มสองสิ่ง:**\n",
        "\n",
        "- เครื่องมือ \"output\" ซึ่ง LLM ควรใช้เมื่อพบคำตอบขั้นสุดท้าย และซึ่งเราจะใช้เป็นสัญญาณในการหยุดลูป\n",
        "\n",
        "- ผลลัพธ์ของการเรียกใช้งานเครื่องมือจากการวนซ้ำก่อนหน้า โดยเพียงแค่ใช้ชื่อของเครื่องมือและเอาต์พุต (ข้อความ) ของเครื่องมือ สิ่งนี้เพื่อให้ LLM สามารถดำเนินการขั้นตอนถัดไปในการโต้ตอบ หรือกล่าวอีกนัยหนึ่ง เราบอกกับ LLM ว่า *เฮ้ เราได้รับผลลัพธ์ที่คุณขอแล้ว คุณต้องการทำอะไรต่อไป*\n",
        "\n",
        "มาต่อกันที่การวนซ้ำครั้งที่สาม:\n",
        "```\n",
        "Tools:\n",
        "search: this tool accepts a web search query and returns the top results.\n",
        "calculator: this tool accepts math expressions and returns their result.\n",
        "\n",
        "If you want to use tools to arrive at the answer, output the list of tools and\n",
        "inputs in CSV format, with this header row: tool,input.\n",
        "output: this tool ends the interaction. Use it when you have the final answer.\n",
        "\n",
        "Think step by step; if you need to make multiple tool calls to arrive at\n",
        "the answer, return only the first one.\n",
        "\n",
        "How old was the 30th president of the United States when he died?\n",
        "\n",
        "tool,input\n",
        "\n",
        "search,30th president of the United States\n",
        "\n",
        "search: Calvin Coolidge (born John Calvin Coolidge Jr.; /ˈkuːlɪdʒ/; July 4, 1872 –\n",
        "January 5, 1933) was an American attorney and politician who served as the 30th\n",
        "president of the United States from 1923 to 1929. John Calvin Coolidge Jr.\n",
        "tool,input\n",
        "\n",
        "calculator,1933-1872\n",
        "\n",
        "calculator: 61\n",
        "\n",
        "tool, input\n",
        "```\n",
        "ผลลัพธ์คือ\n",
        "```\n",
        "output, 61\n",
        "```"
      ]
    },
    {
      "cell_type": "markdown",
      "metadata": {
        "id": "6mrMATNHXeEk"
      },
      "source": [
        "ด้วยผลลัพธ์จากเครื่องมือ calculator LLM ตอนนี้มีข้อมูลเพียงพอที่จะให้คำตอบขั้นสุดท้าย ดังนั้นจึงเลือกเครื่องมือ output และเลือก “61” เป็นคำตอบขั้นสุดท้าย\n",
        "\n",
        "**นี่คือสิ่งที่ทำให้สถาปัตยกรรมตัวแทนมีประโยชน์มาก - LLM ได้รับสิทธิ์ในการตัดสินใจ ขั้นตอนต่อไปคือการหาคำตอบและตัดสินใจว่าจะใช้กี่ขั้นตอน กล่าวคือ เมื่อใดจะหยุด**\n",
        "\n",
        "**สถาปัตยกรรมนี้ เรียกว่า ReAct** ได้รับการเสนอครั้งแรกโดย Shunyu Yao และคณะ ส่วนที่เหลือของบทนี้จะสำรวจวิธีการปรับปรุงประสิทธิภาพของสถาปัตยกรรมตัวแทน โดยได้รับแรงบันดาลใจจากตัวอย่างผู้ช่วยอีเมลจาก บทที่ 5\n",
        "\n",
        "แต่ก่อนอื่น มาดูว่าการนำไปใช้สถาปัตยกรรมตัวแทนพื้นฐานโดยใช้โมเดลแชทและ LangGraph มีลักษณะอย่างไร"
      ]
    },
    {
      "cell_type": "markdown",
      "metadata": {
        "id": "1tQJ11CKYIR2"
      },
      "source": [
        "# Building a LangGraph Agent\n",
        "สำหรับตัวอย่างนี้ เราจำเป็นต้องติดตั้งการอ้างอิงเพิ่มเติมสำหรับเครื่องมือค้นหาที่เราเลือกใช้ DuckDuckGo ในการติดตั้งสำหรับ Python:\n",
        "\n",
        "`pip install duckduckgo-search`\n",
        "\n"
      ]
    },
    {
      "cell_type": "code",
      "execution_count": null,
      "metadata": {
        "id": "YMBNggq6Ycv0"
      },
      "outputs": [],
      "source": [
        "import ast\n",
        "from typing import Annotated, TypedDict\n",
        "\n",
        "from langchain_community.tools import DuckDuckGoSearchRun\n",
        "from langchain_core.tools import tool\n",
        "from langchain_openai import ChatOpenAI\n",
        "\n",
        "from langgraph.graph import START, StateGraph\n",
        "from langgraph.graph.message import add_messages\n",
        "from langgraph.prebuilt import ToolNode, tools_condition\n",
        "\n",
        "@tool\n",
        "def calculator(query: str) -> str:\n",
        "    \"\"\"A simple calculator tool. Input should be a mathematical expression.\"\"\"\n",
        "    return ast.literal_eval(query)\n",
        "\n",
        "search = DuckDuckGoSearchRun()\n",
        "tools = [search, calculator]\n",
        "model = ChatOpenAI(temperature=0.1).bind_tools(tools)\n",
        "\n",
        "class State(TypedDict):\n",
        "    messages: Annotated[list, add_messages]\n",
        "\n",
        "def model_node(state: State) -> State:\n",
        "    res = model.invoke(state[\"messages\"])\n",
        "    return {\"messages\": res}\n",
        "\n",
        "builder = StateGraph(State)\n",
        "builder.add_node(\"model\", model_node)\n",
        "builder.add_node(\"tools\", ToolNode(tools))\n",
        "builder.add_edge(START, \"model\")\n",
        "builder.add_conditional_edges(\"model\", tools_condition)\n",
        "builder.add_edge(\"tools\", \"model\")\n",
        "\n",
        "graph = builder.compile()"
      ]
    },
    {
      "cell_type": "code",
      "execution_count": null,
      "metadata": {
        "colab": {
          "base_uri": "https://localhost:8080/",
          "height": 266
        },
        "id": "3MPAUpHJT7m3",
        "outputId": "d2a76a2a-1639-4caa-a909-c187958f1e67"
      },
      "outputs": [
        {
          "data": {
            "image/png": "[encoded data removed]",
            "text/plain": [
              "<IPython.core.display.Image object>"
            ]
          },
          "metadata": {},
          "output_type": "display_data"
        }
      ],
      "source": [
        "from IPython.display import Image, display\n",
        "from langchain_core.runnables.graph import CurveStyle, MermaidDrawMethod, NodeStyles\n",
        "\n",
        "image_bytes = graph.get_graph().draw_mermaid_png(draw_method=MermaidDrawMethod.API)\n",
        "\n",
        "display(Image(data=image_bytes))"
      ]
    },
    {
      "cell_type": "markdown",
      "metadata": {
        "id": "Mksai2GIZJCE"
      },
      "source": [
        "**สิ่งที่ควรสังเกตที่นี่:**\n",
        "\n",
        "- เราใช้เครื่องมือสองอย่างในตัวอย่างนี้: เครื่องมือค้นหาและเครื่องมือคำนวณ แต่คุณสามารถเพิ่มหรือแทนที่เครื่องมือที่เราใช้ได้อย่างง่ายดาย ในตัวอย่าง Python คุณยังเห็นตัวอย่างการสร้างเครื่องมือแบบกำหนดเองด้วย\n",
        "\n",
        "- เราได้ใช้ฟังก์ชันความสะดวกสองอย่างที่มีมาพร้อมกับ LangGraph `ToolNode` ทำหน้าที่เป็นโหนดในกราฟของเราที่เรียกใช้การเรียกใช้งานเครื่องมือที่ร้องขอในข้อความ AI ล่าสุดที่พบในสถานะ และส่งคืน `ToolMessage` พร้อมผลลัพธ์ของแต่ละรายการ ToolNode ยังจัดการข้อยกเว้นที่ยกเว้นโดยเครื่องมือ โดยใช้ข้อความข้อผิดพลาดในการสร้าง `ToolMessage` ซึ่งจะถูกส่งต่อไปยัง LLM ซึ่งอาจตัดสินใจว่าจะทำอย่างไรกับข้อผิดพลาด\n",
        "\n",
        "- `tools_condition` ทำหน้าที่เป็นฟังก์ชันขอบที่มีเงื่อนไขที่ดูที่ข้อความ AI ล่าสุดในสถานะและเส้นทางไปยังโหนด `tools` หากมีเครื่องมือใดๆ ที่จะเรียกใช้ มิฉะนั้น จะสิ้นสุดกราฟ\n",
        "\n",
        "- สุดท้าย สังเกตว่ากราฟนี้วนซ้ำระหว่างโหนดโมเดลและโหนดเครื่องมือ นั่นคือ ตัวโมเดลเองที่รับผิดชอบในการตัดสินใจว่าจะหยุดการคำนวณเมื่อใด ซึ่งเป็นแอตทริบิวต์หลักของสถาปัตยกรรมตัวแทน เมื่อใดก็ตามที่เราเขียนลูปใน LangGraph เราอาจต้องการใช้ขอบที่มีเงื่อนไข เนื่องจากช่วยให้คุณสามารถกำหนดเงื่อนไขหยุดเมื่อกราฟควรออกจากลูปและหยุดการดำเนินการ\n",
        "\n"
      ]
    },
    {
      "cell_type": "markdown",
      "metadata": {
        "id": "yrqL3HgYZO_w"
      },
      "source": [
        "ตอนนี้มาดูกันว่ามันทำงานอย่างไรในตัวอย่างก่อนหน้านี้:"
      ]
    },
    {
      "cell_type": "code",
      "execution_count": null,
      "metadata": {
        "colab": {
          "base_uri": "https://localhost:8080/"
        },
        "id": "CN1O3ooaY7Vy",
        "outputId": "c2a52381-5839-4d87-a43c-8932a9c69a75"
      },
      "outputs": [
        {
          "name": "stdout",
          "output_type": "stream",
          "text": [
            "{'model': {'messages': AIMessage(content='', additional_kwargs={'tool_calls': [{'id': 'call_RfNzNplpHwxAlvkhjvwRDJR5', 'function': {'arguments': '{\"query\":\"30th president of the United States age at death\"}', 'name': 'duckduckgo_search'}, 'type': 'function'}], 'refusal': None}, response_metadata={'token_usage': {'completion_tokens': 27, 'prompt_tokens': 118, 'total_tokens': 145, 'completion_tokens_details': {'accepted_prediction_tokens': 0, 'audio_tokens': 0, 'reasoning_tokens': 0, 'rejected_prediction_tokens': 0}, 'prompt_tokens_details': {'audio_tokens': 0, 'cached_tokens': 0}}, 'model_name': 'gpt-3.5-turbo-0125', 'system_fingerprint': None, 'finish_reason': 'tool_calls', 'logprobs': None}, id='run-a64371fe-5066-44b9-a741-46f5005d1756-0', tool_calls=[{'name': 'duckduckgo_search', 'args': {'query': '30th president of the United States age at death'}, 'id': 'call_RfNzNplpHwxAlvkhjvwRDJR5', 'type': 'tool_call'}], usage_metadata={'input_tokens': 118, 'output_tokens': 27, 'total_tokens': 145, 'input_token_details': {'audio': 0, 'cache_read': 0}, 'output_token_details': {'audio': 0, 'reasoning': 0}})}}\n",
            "{'tools': {'messages': [ToolMessage(content=\"Calvin Coolidge (born John Calvin Coolidge Jr. [1] / ˈ k uː l ɪ dʒ / KOOL-ij; July 4, 1872 - January 5, 1933) was the 30th president of the United States, serving from 1923 to 1929.A Republican lawyer from Massachusetts, he previously served as the 29th vice president from 1921 to 1923 under President Warren G. Harding, and as the 48th governor of Massachusetts from 1919 to 1921. The White House, official residence of the president of the United States, in July 2008. The president of the United States is the head of state and head of government of the United States, [1] indirectly elected to a four-year term via the Electoral College. [2] The officeholder leads the executive branch of the federal government and is the commander-in-chief of the United States Armed ... Calvin Coolidge was the 30th president of the United States (1923-29). Coolidge acceded to the presidency after the death in office of Warren G. Harding, just as the Harding scandals were coming to light. He restored integrity to the executive branch while continuing Harding's conservative pro-business policies. The president who died at the youngest age was John F. Kennedy, ... PresidentsUSA.net, Length of life and cause of death of United States Presidents from 1799 to 2024 Statista, https://www ... Age of U.S. presidents when assuming office. Article Two of the United States Constitution provides that U.S. presidents must be at least 35 years old at the time they take office. The median age at inauguration of incoming U.S. presidents is 55 years. [1] [2] The youngest person to become U.S. president was Theodore Roosevelt, who, at age 42, succeeded to the office after the assassination of ...\", name='duckduckgo_search', id='4e71b3f1-3251-4d66-a796-96e648ffa485', tool_call_id='call_RfNzNplpHwxAlvkhjvwRDJR5')]}}\n",
            "{'model': {'messages': AIMessage(content='Calvin Coolidge, the 30th president of the United States, was born on July 4, 1872, and died on January 5, 1933. To calculate his age at the time of his death, we can subtract his birth year from his death year.\\n\\nAge at death = Death year - Birth year\\nAge at death = 1933 - 1872\\nAge at death = 61 years\\n\\nCalvin Coolidge was 61 years old when he died.', additional_kwargs={'refusal': None}, response_metadata={'token_usage': {'completion_tokens': 104, 'prompt_tokens': 553, 'total_tokens': 657, 'completion_tokens_details': {'accepted_prediction_tokens': 0, 'audio_tokens': 0, 'reasoning_tokens': 0, 'rejected_prediction_tokens': 0}, 'prompt_tokens_details': {'audio_tokens': 0, 'cached_tokens': 0}}, 'model_name': 'gpt-3.5-turbo-0125', 'system_fingerprint': None, 'finish_reason': 'stop', 'logprobs': None}, id='run-2389b57d-c37d-4e47-a0a5-8f278cae6251-0', usage_metadata={'input_tokens': 553, 'output_tokens': 104, 'total_tokens': 657, 'input_token_details': {'audio': 0, 'cache_read': 0}, 'output_token_details': {'audio': 0, 'reasoning': 0}})}}\n"
          ]
        }
      ],
      "source": [
        "from langchain.schema import HumanMessage\n",
        "\n",
        "input = {\n",
        "  \"messages\": [\n",
        "    HumanMessage(\"How old was the 30th president of the United States when he died?\")\n",
        "  ]\n",
        "}\n",
        "for c in graph.stream(input):\n",
        "    pprint(c)"
      ]
    },
    {
      "cell_type": "markdown",
      "metadata": {
        "id": "8mCc-ID_aWWo"
      },
      "source": [
        "**เดินผ่านเอาต์พุตนี้:**\n",
        "\n",
        "1. ครั้งแรก โหนด `model` ได้เรียกใช้และตัดสินใจเรียกใช้เครื่องมือ `duckduckgo_search` ซึ่งนำไปสู่ขอบที่มีเงื่อนไขเพื่อนำเราไปยังโหนด tools หลังจากนั้น\n",
        "\n",
        "2. โหนด tools ได้เรียกใช้เครื่องมือค้นหาและรับผลลัพธ์การค้นหาที่พิมพ์ไว้ข้างต้น ซึ่งจริง ๆ แล้วมีคำตอบ “Age and Year of Death . January 5, 1933 (aged 60)”\n",
        "\n",
        "3. เครื่องมือ `model` ได้รับการเรียกใช้ครั้งที่สอง คราวนี้มีผลลัพธ์การค้นหาเป็นข้อความล่าสุด และสร้างคำตอบขั้นสุดท้าย (และไม่มีการเรียกใช้งานเครื่องมือเพิ่มเติม) ดังนั้น ขอบที่มีเงื่อนไขจึงสิ้นสุดกราฟ\n",
        "\n",
        "**ต่อไป มาดูส่วนขยายที่มีประโยชน์บางอย่างของสถาปัตยกรรมตัวแทนพื้นฐานนี้ ซึ่งปรับแต่งทั้งการวางแผนและการเรียกใช้งานเครื่องมือ**"
      ]
    },
    {
      "cell_type": "markdown",
      "metadata": {
        "id": "cqnzPk5zbC2D"
      },
      "source": [
        "#  Always Calling a Tool First\n",
        "\n",
        "ในสถาปัตยกรรมตัวแทนมาตรฐาน LLM จะถูกเรียกใช้เสมอเพื่อตัดสินใจว่าจะเรียกใช้งานเครื่องมือใดต่อไป การจัดเรียงนี้มีข้อดีอย่างชัดเจน: มันให้ความยืดหยุ่นสูงสุดแก่ LLM ในการปรับพฤติกรรมของแอปพลิเคชันให้เหมาะสมกับแต่ละคิวรีของผู้ใช้ที่เข้ามา แต่ความยืดหยุ่นนี้มาพร้อมกับต้นทุน: การคาดเดาไม่ได้ ตัวอย่างเช่น หากคุณ ผู้พัฒนาแอปพลิเคชัน ทราบว่าควรเรียกใช้เครื่องมือค้นหาเสมอ นั่นอาจเป็นประโยชน์ต่อแอปพลิเคชันของคุณจริง ๆ:\n",
        "\n",
        "1. จะช่วยลดเวลาแฝงโดยรวม เนื่องจากจะข้ามการเรียกใช้งาน LLM ครั้งแรกที่จะสร้างคำขอเพื่อเรียกใช้เครื่องมือค้นหา\n",
        "\n",
        "2. จะป้องกันไม่ให้ LLM ตัดสินใจผิดพลาดว่าไม่จำเป็นต้องเรียกใช้เครื่องมือค้นหาสำหรับคิวรีของผู้ใช้บางรายการ\n",
        "\n",
        "ในทางกลับกัน หากแอปพลิเคชันของคุณไม่มีกฎที่ชัดเจนในลักษณะ **“คุณควรเรียกใช้เครื่องมือนี้เสมอ”** การนำข้อจำกัดนี้มาใช้จริง ๆ แล้วจะทำให้แอปพลิเคชันของคุณแย่ลง\n",
        "\n",
        "มาดูกันว่าสิ่งนี้มีลักษณะอย่างไร:"
      ]
    },
    {
      "cell_type": "code",
      "execution_count": null,
      "metadata": {
        "id": "I3-xpj6_Zjtr"
      },
      "outputs": [],
      "source": [
        "import ast\n",
        "from typing import Annotated, TypedDict\n",
        "from uuid import uuid4\n",
        "\n",
        "from langchain_community.tools import DuckDuckGoSearchRun\n",
        "from langchain_core.messages import AIMessage, HumanMessage, ToolCall\n",
        "from langchain_core.tools import tool\n",
        "from langchain_openai import ChatOpenAI\n",
        "\n",
        "from langgraph.graph import START, StateGraph\n",
        "from langgraph.graph.message import add_messages\n",
        "from langgraph.prebuilt import ToolNode, tools_condition\n",
        "\n",
        "@tool\n",
        "def calculator(query: str) -> str:\n",
        "    \"\"\"A simple calculator tool. Input should be a mathematical expression.\"\"\"\n",
        "    return ast.literal_eval(query)\n",
        "\n",
        "search = DuckDuckGoSearchRun()\n",
        "tools = [search, calculator]\n",
        "model = ChatOpenAI(temperature=0.1).bind_tools(tools)\n",
        "\n",
        "class State(TypedDict):\n",
        "    messages: Annotated[list, add_messages]\n",
        "\n",
        "def model_node(state: State) -> State:\n",
        "    res = model.invoke(state[\"messages\"])\n",
        "    return {\"messages\": res}\n",
        "\n",
        "def first_model(state: State) -> State:\n",
        "    query = state[\"messages\"][-1].content\n",
        "    search_tool_call = ToolCall(\n",
        "        name=\"duckduckgo_search\", args={\"query\": query}, id=uuid4().hex\n",
        "    )\n",
        "    return {\"messages\": AIMessage(content=\"\", tool_calls=[search_tool_call])}\n",
        "\n",
        "builder = StateGraph(State)\n",
        "builder.add_node(\"first_model\", first_model)\n",
        "builder.add_node(\"model\", model_node)\n",
        "builder.add_node(\"tools\", ToolNode(tools))\n",
        "builder.add_edge(START, \"first_model\")\n",
        "builder.add_edge(\"first_model\", \"tools\")\n",
        "builder.add_conditional_edges(\"model\", tools_condition)\n",
        "builder.add_edge(\"tools\", \"model\")\n",
        "\n",
        "graph = builder.compile()"
      ]
    },
    {
      "cell_type": "code",
      "execution_count": null,
      "metadata": {
        "colab": {
          "base_uri": "https://localhost:8080/",
          "height": 449
        },
        "id": "C1Hrj42Fbf3u",
        "outputId": "2cb5347f-0110-42cc-e68b-a591891f4fe0"
      },
      "outputs": [
        {
          "data": {
            "image/png": "[encoded data removed]",
            "text/plain": [
              "<IPython.core.display.Image object>"
            ]
          },
          "metadata": {},
          "output_type": "display_data"
        }
      ],
      "source": [
        "from IPython.display import Image, display\n",
        "from langchain_core.runnables.graph import CurveStyle, MermaidDrawMethod, NodeStyles\n",
        "\n",
        "image_bytes = graph.get_graph().draw_mermaid_png(draw_method=MermaidDrawMethod.API)\n",
        "\n",
        "display(Image(data=image_bytes))"
      ]
    },
    {
      "cell_type": "markdown",
      "metadata": {
        "id": "v018_ySwb094"
      },
      "source": [
        "**สังเกตความแตกต่างเมื่อเทียบกับหัวข้อก่อนหน้า**:\n",
        "\n",
        "- ตอนนี้เราเริ่มการเรียกใช้งานทั้งหมดโดยการเรียก `first_model` ซึ่งไม่ได้เรียกใช้งาน LLM เลย มันแค่สร้างการเรียกใช้งานเครื่องมือสำหรับเครื่องมือค้นหา โดยใช้ข้อความของผู้ใช้ตามตัวอักษรเป็นคิวรีการค้นหา สถาปัตยกรรมก่อนหน้านี้จะมี LLM สร้างการเรียกใช้งานเครื่องมือนี้ (หรือการตอบกลับอื่นๆ ที่ถือว่าดีกว่า)\n",
        "\n",
        "- หลังจากนั้น เราดำเนินการต่อที่ tools ซึ่งเหมือนกับตัวอย่างก่อนหน้า และจากที่นั่นเราดำเนินการต่อที่โหนด agent เช่นเดียวกับก่อนหน้านี้\n",
        "\n",
        "ตอนนี้มาดูตัวอย่างเอาต์พุตกัน สำหรับคิวรีเดียวกันกับก่อนหน้านี้:"
      ]
    },
    {
      "cell_type": "code",
      "execution_count": null,
      "metadata": {
        "colab": {
          "base_uri": "https://localhost:8080/"
        },
        "id": "0stv2BeObl9K",
        "outputId": "14960275-c4f7-474e-ee3d-1ad35cfadde1"
      },
      "outputs": [
        {
          "name": "stdout",
          "output_type": "stream",
          "text": [
            "{'first_model': {'messages': AIMessage(content='', additional_kwargs={}, response_metadata={}, id='48b46a1d-489c-41c4-80a3-496540ec16ae', tool_calls=[{'name': 'duckduckgo_search', 'args': {'query': 'How old was the 30th president of the United States when he died?'}, 'id': '3ef0cbecfbf646b598e53fff596144a9', 'type': 'tool_call'}])}}\n",
            "{'tools': {'messages': [ToolMessage(content='Calvin Coolidge (born John Calvin Coolidge Jr. [1] / ˈ k uː l ɪ dʒ / KOOL-ij; July 4, 1872 - January 5, 1933) was the 30th president of the United States, serving from 1923 to 1929.A Republican lawyer from Massachusetts, he previously served as the 29th vice president from 1921 to 1923 under President Warren G. Harding, and as the 48th governor of Massachusetts from 1919 to 1921. Cleveland is counted as the 22nd and 24th president of the United States, while Trump is counted as the 45th and 47th president. [7] [8] The presidency of William Henry Harrison, who died 31 days after taking office in 1841, was the shortest in American history. [9] Franklin D. Roosevelt served the longest, over twelve years, before dying early ... Calvin Coolidge was the 30th president of the United States (1923-29). Coolidge acceded to the presidency after the death in office of Warren G. Harding, just as the Harding scandals were coming to light. ... 1872, Plymouth, Vermont, U.S.—died January 5, 1933, Northampton, Massachusetts) was the 30th president of the United States (1923 ... John Calvin Coolidge, Jr. (July 4, 1872 - January 5, 1933) was the 30th President of the United States (1923-1929). A lawyer from Vermont, Coolidge worked his way up the ladder of Massachusetts state politics, eventually becoming governor of that state. Calvin Coolidge served as the 30th president of the United States from 1923 - 1929. Prior to the presidency, Coolidge was a lawyer and politician. He took over as president following the death of Warren Harding in 1923. Coolidge died in Northampton, MA in 1933.', name='duckduckgo_search', id='72053adc-c6cd-49b5-9de0-cca7ae9df808', tool_call_id='3ef0cbecfbf646b598e53fff596144a9')]}}\n",
            "{'model': {'messages': AIMessage(content='Calvin Coolidge, the 30th president of the United States, was born on July 4, 1872, and died on January 5, 1933. To calculate his age at the time of his death, we can subtract his birth year from his death year. \\n\\nAge at death = Death year - Birth year\\nAge at death = 1933 - 1872\\nAge at death = 61 years\\n\\nCalvin Coolidge was 61 years old when he died.', additional_kwargs={'refusal': None}, response_metadata={'token_usage': {'completion_tokens': 105, 'prompt_tokens': 585, 'total_tokens': 690, 'completion_tokens_details': {'accepted_prediction_tokens': 0, 'audio_tokens': 0, 'reasoning_tokens': 0, 'rejected_prediction_tokens': 0}, 'prompt_tokens_details': {'audio_tokens': 0, 'cached_tokens': 0}}, 'model_name': 'gpt-3.5-turbo-0125', 'system_fingerprint': None, 'finish_reason': 'stop', 'logprobs': None}, id='run-f41bb26d-27ec-497d-a39d-2ee82b429682-0', usage_metadata={'input_tokens': 585, 'output_tokens': 105, 'total_tokens': 690, 'input_token_details': {'audio': 0, 'cache_read': 0}, 'output_token_details': {'audio': 0, 'reasoning': 0}})}}\n"
          ]
        }
      ],
      "source": [
        "input = {\n",
        "  \"messages\": [\n",
        "    HumanMessage(\"How old was the 30th president of the United States when he died?\")\n",
        "  ]\n",
        "}\n",
        "for c in graph.stream(input):\n",
        "  pprint(c)"
      ]
    },
    {
      "cell_type": "markdown",
      "metadata": {
        "id": "SiO1l6Ech4HU"
      },
      "source": [
        "สิ่งที่เกิดขึ้นในครั้งนี้คือ เราข้ามการเรียกใช้งาน LLM ครั้งแรก เนื่องจากเราไปที่โหนด first_model ก่อน ซึ่งส่งคืนการเรียกใช้งานเครื่องมือสำหรับเครื่องมือค้นหาโดยตรง จากนั้นเราไปยังโฟลว์ก่อนหน้า กล่าวคือ เราได้เรียกใช้เครื่องมือค้นหาและสุดท้ายก็กลับไปที่โหนด model เพื่อสร้างคำตอบขั้นสุดท้าย\n",
        "\n",
        "**ต่อไป มาดูกันว่าคุณจะทำอย่างไรเมื่อคุณมีเครื่องมือมากมายที่คุณต้องการให้ LLM สามารถเข้าถึงได้**\n",
        "\n"
      ]
    },
    {
      "cell_type": "markdown",
      "metadata": {
        "id": "70yemLA_jaUy"
      },
      "source": [
        "# Dealing with Many Tools\n",
        "\n",
        "LLM ยังไม่สมบูรณ์แบบและปัจจุบันประสบปัญหามากขึ้นเมื่อได้รับตัวเลือกหรือข้อมูลเพิ่มเติมในพรอมต์ สิ่งนี้ยังขยายไปถึงการวางแผนการกระทำถัดไปที่จะดำเนินการด้วย เมื่อได้รับเครื่องมือจำนวนมาก (เช่น มากกว่า 10 เครื่องมือ) ประสิทธิภาพการวางแผน (นั่นคือ การเลือกเครื่องมือที่ถูกต้อง) เริ่มลดลง\n",
        "- วิธีแก้ปัญหานี้คือการลดจำนวนเครื่องมือที่ LLM สามารถเลือกได้ แต่จะเกิดอะไรขึ้นถ้าคุณมีเครื่องมือจำนวนมากที่คุณต้องการให้ใช้สำหรับคิวรีของผู้ใช้ที่แตกต่างกัน\n",
        "\n",
        "โซลูชันที่หรูหราคือการใช้ **ขั้นตอน RAG**\n",
        "\n",
        "- เพื่อเลือกเครื่องมือที่เกี่ยวข้องมากที่สุดสำหรับคิวรีปัจจุบันล่วงหน้า จากนั้นป้อนชุดย่อยของเครื่องมือนั้นให้กับ LLM แทนที่จะเป็นคลังแสงทั้งหมด\n",
        "\n",
        "- สิ่งนี้ยังสามารถช่วยลดต้นทุนของการเรียกใช้งาน LLM ได้อีกด้วย (LLM เชิงพาณิชย์มักจะเรียกเก็บเงินตามความยาวของพรอมต์และเอาต์พุต)\n",
        "\n",
        "**ในทางกลับกัน ขั้นตอน RAG นี้จะเพิ่มเวลาแฝงให้กับแอปพลิเคชันของคุณ ดังนั้นควรดำเนินการเมื่อคุณเห็นประสิทธิภาพลดลงหลังจากเพิ่มเครื่องมือเพิ่มเติม**\n",
        "\n",
        "มาดูวิธีการทำกัน:"
      ]
    },
    {
      "cell_type": "code",
      "execution_count": null,
      "metadata": {
        "id": "rW9xwzSXcSBq"
      },
      "outputs": [],
      "source": [
        "import ast\n",
        "from typing import Annotated, TypedDict\n",
        "\n",
        "from langchain_community.tools import DuckDuckGoSearchRun\n",
        "from langchain_core.documents import Document\n",
        "from langchain_core.messages import HumanMessage\n",
        "from langchain_core.tools import tool\n",
        "from langchain_core.vectorstores.in_memory import InMemoryVectorStore\n",
        "from langchain_openai import ChatOpenAI, OpenAIEmbeddings\n",
        "\n",
        "from langgraph.graph import START, StateGraph\n",
        "from langgraph.graph.message import add_messages\n",
        "from langgraph.prebuilt import ToolNode, tools_condition\n",
        "\n",
        "@tool\n",
        "def calculator(query: str) -> str:\n",
        "    \"\"\"A simple calculator tool. Input should be a mathematical expression.\"\"\"\n",
        "    return ast.literal_eval(query)\n",
        "\n",
        "search = DuckDuckGoSearchRun()\n",
        "tools = [search, calculator]\n",
        "\n",
        "embeddings = OpenAIEmbeddings()\n",
        "model = ChatOpenAI(temperature=0.1)\n",
        "\n",
        "tools_retriever = InMemoryVectorStore.from_documents(\n",
        "    [Document(tool.description, metadata={\"name\": tool.name}) for tool in tools],\n",
        "    embeddings,\n",
        ").as_retriever()\n",
        "\n",
        "class State(TypedDict):\n",
        "    messages: Annotated[list, add_messages]\n",
        "    selected_tools: list[str]\n",
        "\n",
        "def model_node(state: State) -> State:\n",
        "    selected_tools = [\n",
        "        tool for tool in tools if tool.name in state[\"selected_tools\"]\n",
        "    ]\n",
        "    res = model.bind_tools(selected_tools).invoke(state[\"messages\"])\n",
        "    return {\"messages\": res}\n",
        "\n",
        "def select_tools(state: State) -> State:\n",
        "    query = state[\"messages\"][-1].content\n",
        "    tool_docs = tools_retriever.invoke(query)\n",
        "    return {\"selected_tools\": [doc.metadata[\"name\"] for doc in tool_docs]}\n",
        "\n",
        "builder = StateGraph(State)\n",
        "builder.add_node(\"select_tools\", select_tools)\n",
        "builder.add_node(\"model\", model_node)\n",
        "builder.add_node(\"tools\", ToolNode(tools))\n",
        "builder.add_edge(START, \"select_tools\")\n",
        "builder.add_edge(\"select_tools\", \"model\")\n",
        "builder.add_conditional_edges(\"model\", tools_condition)\n",
        "builder.add_edge(\"tools\", \"model\")\n",
        "\n",
        "graph = builder.compile()"
      ]
    },
    {
      "cell_type": "code",
      "execution_count": null,
      "metadata": {
        "colab": {
          "base_uri": "https://localhost:8080/",
          "height": 365
        },
        "id": "vZxT_DQikPXv",
        "outputId": "958ab1fd-ee13-4402-e376-354879ed92dc"
      },
      "outputs": [
        {
          "data": {
            "image/png": "[encoded data removed]",
            "text/plain": [
              "<IPython.core.display.Image object>"
            ]
          },
          "metadata": {},
          "output_type": "display_data"
        }
      ],
      "source": [
        "from IPython.display import Image, display\n",
        "from langchain_core.runnables.graph import CurveStyle, MermaidDrawMethod, NodeStyles\n",
        "\n",
        "image_bytes = graph.get_graph().draw_mermaid_png(draw_method=MermaidDrawMethod.API)\n",
        "\n",
        "display(Image(data=image_bytes))"
      ]
    },
    {
      "cell_type": "markdown",
      "metadata": {
        "id": "BfmhDmIyka8H"
      },
      "source": [
        "**หมายเหตุ**\n",
        "\n",
        "สิ่งนี้คล้ายกับสถาปัตยกรรมตัวแทนทั่วไปมาก ความแตกต่างเพียงอย่างเดียวคือเราหยุดที่โหนด `select_tools` ก่อนเข้าสู่ลูปตัวแทนจริง หลังจากนั้น มันทำงานเหมือนกับสถาปัตยกรรมตัวแทนทั่วไปที่เราเคยเห็นมาก่อน\n",
        "\n",
        "ตอนนี้มาดูตัวอย่างเอาต์พุตกัน สำหรับคิวรีเดียวกันกับก่อนหน้านี้:"
      ]
    },
    {
      "cell_type": "code",
      "execution_count": null,
      "metadata": {
        "colab": {
          "base_uri": "https://localhost:8080/"
        },
        "id": "Zg2B0S6KkTSI",
        "outputId": "1108c6df-992c-4f25-f768-557288e87155"
      },
      "outputs": [
        {
          "name": "stdout",
          "output_type": "stream",
          "text": [
            "{'select_tools': {'selected_tools': ['duckduckgo_search', 'calculator']}}\n",
            "{'model': {'messages': AIMessage(content='', additional_kwargs={'tool_calls': [{'id': 'call_SfLElZ5hVlKMO1ZrFDq5MurW', 'function': {'arguments': '{\"query\":\"30th president of the United States age at death\"}', 'name': 'duckduckgo_search'}, 'type': 'function'}], 'refusal': None}, response_metadata={'token_usage': {'completion_tokens': 27, 'prompt_tokens': 118, 'total_tokens': 145, 'completion_tokens_details': {'accepted_prediction_tokens': 0, 'audio_tokens': 0, 'reasoning_tokens': 0, 'rejected_prediction_tokens': 0}, 'prompt_tokens_details': {'audio_tokens': 0, 'cached_tokens': 0}}, 'model_name': 'gpt-3.5-turbo-0125', 'system_fingerprint': None, 'finish_reason': 'tool_calls', 'logprobs': None}, id='run-7d40ff4d-178f-4036-9828-08e192f90698-0', tool_calls=[{'name': 'duckduckgo_search', 'args': {'query': '30th president of the United States age at death'}, 'id': 'call_SfLElZ5hVlKMO1ZrFDq5MurW', 'type': 'tool_call'}], usage_metadata={'input_tokens': 118, 'output_tokens': 27, 'total_tokens': 145, 'input_token_details': {'audio': 0, 'cache_read': 0}, 'output_token_details': {'audio': 0, 'reasoning': 0}})}}\n",
            "{'tools': {'messages': [ToolMessage(content=\"Calvin Coolidge (born John Calvin Coolidge Jr. [1] / ˈ k uː l ɪ dʒ / KOOL-ij; July 4, 1872 - January 5, 1933) was the 30th president of the United States, serving from 1923 to 1929.A Republican lawyer from Massachusetts, he previously served as the 29th vice president from 1921 to 1923 under President Warren G. Harding, and as the 48th governor of Massachusetts from 1919 to 1921. Calvin Coolidge was the 30th president of the United States (1923-29). Coolidge acceded to the presidency after the death in office of Warren G. Harding, just as the Harding scandals were coming to light. He restored integrity to the executive branch while continuing Harding's conservative pro-business policies. The White House, official residence of the president of the United States, in July 2008. The president of the United States is the head of state and head of government of the United States, [1] indirectly elected to a four-year term via the Electoral College. [2] The officeholder leads the executive branch of the federal government and is the commander-in-chief of the United States Armed ... The president who died at the youngest age was John F. Kennedy, ... PresidentsUSA.net, Length of life and cause of death of United States Presidents from 1799 to 2024 Statista, https://www ... The first table below charts the age of each president of the United States at the time of their presidential inauguration (first inauguration if elected to multiple and consecutive terms), upon leaving office, and at the time of death. Where the president is still living, their lifespan and post-presidency timespan are calculated through January 21, 2025.\", name='duckduckgo_search', id='b6ea6e5d-6d95-4d26-aad4-bd12503919c4', tool_call_id='call_SfLElZ5hVlKMO1ZrFDq5MurW')]}}\n",
            "{'model': {'messages': AIMessage(content='Calvin Coolidge, the 30th president of the United States, was born on July 4, 1872, and died on January 5, 1933. To calculate his age at the time of his death, we can subtract his birth year from his death year.\\n\\nAge at death = Death year - Birth year\\nAge at death = 1933 - 1872\\nAge at death = 61 years\\n\\nCalvin Coolidge was 61 years old when he died.', additional_kwargs={'refusal': None}, response_metadata={'token_usage': {'completion_tokens': 104, 'prompt_tokens': 533, 'total_tokens': 637, 'completion_tokens_details': {'accepted_prediction_tokens': 0, 'audio_tokens': 0, 'reasoning_tokens': 0, 'rejected_prediction_tokens': 0}, 'prompt_tokens_details': {'audio_tokens': 0, 'cached_tokens': 0}}, 'model_name': 'gpt-3.5-turbo-0125', 'system_fingerprint': None, 'finish_reason': 'stop', 'logprobs': None}, id='run-41921e92-3613-4b30-bbff-f18f5c227c2b-0', usage_metadata={'input_tokens': 533, 'output_tokens': 104, 'total_tokens': 637, 'input_token_details': {'audio': 0, 'cache_read': 0}, 'output_token_details': {'audio': 0, 'reasoning': 0}})}}\n"
          ]
        }
      ],
      "source": [
        "input = {\n",
        "  \"messages\": [HumanMessage(\"How old was the 30th president of the United States when he died?\")]\n",
        "}\n",
        "for c in graph.stream(input):\n",
        "  pprint(c)"
      ]
    },
    {
      "cell_type": "markdown",
      "metadata": {
        "id": "giOE7n7Gk_PP"
      },
      "source": [
        "สังเกตว่าสิ่งแรกที่เกิดขึ้นคือเราได้สอบถาม `retriever` เพื่อรับเครื่องมือที่เกี่ยวข้องมากที่สุดสำหรับคิวรีของผู้ใช้ปัจจุบัน จากนั้นเราดำเนินการต่อที่สถาปัตยกรรมตัวแทนทั่วไป"
      ]
    },
    {
      "cell_type": "markdown",
      "metadata": {
        "id": "s-fCMvnGlWzx"
      },
      "source": [
        "# Summary\n",
        "**สรุป**\n",
        "\n",
        "บทนี้ได้แนะนำแนวคิดของ ตัวแทน และกล่าวถึงสิ่งที่ต้องใช้ในการสร้างแอปพลิเคชัน LLM ตัวแทน: การให้ความสามารถแก่ LLM ในการตัดสินใจระหว่างตัวเลือกหลายตัว โดยใช้ข้อมูลภายนอก\n",
        "\n",
        "เราได้เดินผ่านสถาปัตยกรรมตัวแทนมาตรฐานที่สร้างขึ้นด้วย LangGraph และดูส่วนขยายที่มีประโยชน์สองอย่าง:\n",
        "- วิธีการเรียกใช้เครื่องมือเฉพาะก่อนเสมอ\n",
        "- และวิธีการจัดการกับเครื่องมือจำนวนมาก\n",
        "\n",
        "**บทที่ 7 จะกล่าวถึงส่วนขยายเพิ่มเติมของสถาปัตยกรรมตัวแทน**"
      ]
    }
  ],
  "metadata": {
    "colab": {
      "provenance": [],
      "toc_visible": true
    },
    "kernelspec": {
      "display_name": "Python 3",
      "name": "python3"
    },
    "language_info": {
      "name": "python"
    }
  },
  "nbformat": 4,
  "nbformat_minor": 0
}
